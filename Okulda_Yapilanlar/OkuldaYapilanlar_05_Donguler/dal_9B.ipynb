{
 "cells": [
  {
   "cell_type": "code",
   "execution_count": 5,
   "metadata": {},
   "outputs": [
    {
     "name": "stdout",
     "output_type": "stream",
     "text": [
      "Adım 1\n",
      "Adım 2\n",
      "Adım 3\n",
      "Adım 4\n",
      "Adım 5\n",
      "\n",
      "Program Sonlandırıldı\n"
     ]
    }
   ],
   "source": [
    "print('Adım',1)\n",
    "print('Adım',2)\n",
    "print('Adım',3)\n",
    "print('Adım',4)\n",
    "print('Adım',5)\n",
    "\n",
    "\n",
    "print('\\nProgram Sonlandırıldı')"
   ]
  },
  {
   "cell_type": "code",
   "execution_count": 11,
   "metadata": {},
   "outputs": [
    {
     "name": "stdout",
     "output_type": "stream",
     "text": [
      "Döngü İçeren Kod\n",
      "Adım 1\n",
      "Adım 2\n",
      "Adım 3\n",
      "Adım 4\n",
      "Adım 5\n",
      "Adım 6\n",
      "Adım 7\n",
      "Adım 8\n",
      "Adım 9\n",
      "Adım 10\n",
      "Döngü Sonlandı\n",
      "\n",
      "Program Sonlandı\n"
     ]
    }
   ],
   "source": [
    "print('Döngü İçeren Kod')\n",
    "\n",
    "sayaç = 0\n",
    "\n",
    "while sayaç < 10 :\n",
    "    sayaç = sayaç + 1\n",
    "    print('Adım',sayaç)\n",
    "\n",
    "print('Döngü Sonlandı')\n",
    "\n",
    "print('\\nProgram Sonlandı')\n"
   ]
  },
  {
   "cell_type": "code",
   "execution_count": 17,
   "metadata": {},
   "outputs": [
    {
     "name": "stdout",
     "output_type": "stream",
     "text": [
      "Döngü İçeren Kod\n",
      "Döngü Sonlandı Toplam Değer : 15\n",
      "\n",
      "Program Sonlandı\n"
     ]
    }
   ],
   "source": [
    "print('Döngü İçeren Kod')\n",
    "\n",
    "sayaç = 0\n",
    "toplam = 0\n",
    "\n",
    "while sayaç < 5 :\n",
    "    sayaç += 1 # döngü sayısını belirtir\n",
    "    toplam = sayaç + toplam\n",
    "    #print(\"Adım\",sayaç,'Toplam:',toplam)\n",
    "    \n",
    "\n",
    "print('Döngü Sonlandı Toplam Değer :',toplam)\n",
    "\n",
    "print('\\nProgram Sonlandı')"
   ]
  },
  {
   "cell_type": "code",
   "execution_count": 5,
   "metadata": {},
   "outputs": [
    {
     "name": "stdout",
     "output_type": "stream",
     "text": [
      "Çıkmak için 'ç' harfi girin\n",
      "Toplanacak Tam Sayı Değerini Girin :1\n",
      "Toplanacak Tam Sayı Değerini Girin :3\n",
      "Toplanacak Tam Sayı Değerini Girin :5\n",
      "Toplanacak Tam Sayı Değerini Girin :7\n",
      "Toplanacak Tam Sayı Değerini Girin :9\n",
      "Toplanacak Tam Sayı Değerini Girin :ç\n",
      "5 Adet Girilen Sayının Toplamı: 25\n",
      "\n",
      "Program Sonlandırıldı\n"
     ]
    }
   ],
   "source": [
    "print(\"Çıkmak için 'ç' harfi girin\")\n",
    "sayı = input(\"Toplanacak Tam Sayı Değerini Girin :\") # kullanıcıdan karakter değeri alınıyor\n",
    "toplam = 0\n",
    "sayaç = 0\n",
    "\n",
    "while sayı != 'ç' :\n",
    "    sayaç += 1\n",
    "    toplam = toplam + int(sayı) #sayı karakter değeri tam sayıya çevriliyor\n",
    "    sayı = input(\"Toplanacak Tam Sayı Değerini Girin :\")\n",
    "\n",
    "print('{} Adet Girilen Sayının Toplamı: {}'.format(sayaç,toplam))\n",
    "print('\\nProgram Sonlandırıldı')"
   ]
  },
  {
   "cell_type": "code",
   "execution_count": 12,
   "metadata": {},
   "outputs": [
    {
     "name": "stdout",
     "output_type": "stream",
     "text": [
      "0 1 1 2 3 5 8 13 21 34 55 89 "
     ]
    }
   ],
   "source": [
    "# 3 5 8 13 21 34 55 89\n",
    "#adm  1   2\n",
    "sy1 = 0 # 5 8  \n",
    "sy2 = 1 # 8 13\n",
    "\n",
    "while sy1 < 100 :\n",
    "    print(sy1,end=' ')\n",
    "    toplam = sy1 + sy2\n",
    "    sy1 = sy2\n",
    "    sy2 = toplam\n",
    "    \n",
    "    \n",
    "    \n",
    "    "
   ]
  },
  {
   "cell_type": "code",
   "execution_count": 11,
   "metadata": {},
   "outputs": [
    {
     "name": "stdout",
     "output_type": "stream",
     "text": [
      "0 1 1 2 3 5 8 13 21 34 55 89 "
     ]
    }
   ],
   "source": [
    "# 3 5 8 13 21 34 55 89\n",
    "#adm  1   2\n",
    "sy1 = 0 # 5 8  \n",
    "sy2 = 1 # 8 13\n",
    "\n",
    "while sy1 < 100 :\n",
    "    print(sy1,end=' ')\n",
    "    sy1 , sy2 = sy2 , sy1+sy2"
   ]
  },
  {
   "cell_type": "code",
   "execution_count": null,
   "metadata": {},
   "outputs": [],
   "source": []
  }
 ],
 "metadata": {
  "kernelspec": {
   "display_name": "Python 3",
   "language": "python",
   "name": "python3"
  },
  "language_info": {
   "codemirror_mode": {
    "name": "ipython",
    "version": 3
   },
   "file_extension": ".py",
   "mimetype": "text/x-python",
   "name": "python",
   "nbconvert_exporter": "python",
   "pygments_lexer": "ipython3",
   "version": "3.5.4"
  }
 },
 "nbformat": 4,
 "nbformat_minor": 2
}
