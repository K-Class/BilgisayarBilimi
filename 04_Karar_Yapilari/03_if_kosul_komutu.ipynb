{
 "cells": [
  {
   "cell_type": "markdown",
   "metadata": {},
   "source": [
    "# if Koşul Komutu"
   ]
  },
  {
   "cell_type": "markdown",
   "metadata": {},
   "source": [
    "if <Koşul> : şeklinde yazılan kod satırında if(eğer) kelimesi koşul belirtilir. <Koşul> içinde Karşılaştırma ve mantıksal operatörler ile program içindeki değerler karşılaştırılır. <Koşul> içinde yapılan işlem sonucu True çıkarsa \n",
    "if (koşul): kodundan sonra gelen blok içindeki kod çalıştırılır."
   ]
  },
  {
   "cell_type": "code",
   "execution_count": 3,
   "metadata": {},
   "outputs": [
    {
     "name": "stdout",
     "output_type": "stream",
     "text": [
      "Yaşınızı Giriniz: 21\n",
      "yaş >= 18 sonucu = True\n",
      "Ehliyet Alabilirsiniz\n"
     ]
    }
   ],
   "source": [
    "yaş = int(input('Yaşınızı Giriniz: '))\n",
    "print('yaş >= 18 sonucu =',yaş >= 18)\n",
    "\n",
    "if yaş >= 18 :\n",
    "    #2.Blok\n",
    "    print(\"Ehliyet Alabilirsiniz\")"
   ]
  },
  {
   "cell_type": "markdown",
   "metadata": {},
   "source": [
    "if yaş >= 18 : kodunda yaş >= 18 işleminin sonucu True çıkarsa \":\" operatöründen sonra gelen 2.Blok kodları işletilir."
   ]
  },
  {
   "cell_type": "code",
   "execution_count": 4,
   "metadata": {},
   "outputs": [
    {
     "name": "stdout",
     "output_type": "stream",
     "text": [
      "Yaşınızı Giriniz: 13\n",
      "yaş >= 18 sonucu = False\n",
      "Ehliyet Alamazsınız\n"
     ]
    }
   ],
   "source": [
    "yaş = int(input('Yaşınızı Giriniz: '))\n",
    "print('yaş >= 18 sonucu =',yaş >= 18)\n",
    "\n",
    "if yaş >= 18 :\n",
    "    #2.Blok\n",
    "    print(\"Ehliyet Alabilirsiniz\")\n",
    "else:\n",
    "    print(\"Ehliyet Alamazsınız\")"
   ]
  },
  {
   "cell_type": "markdown",
   "metadata": {},
   "source": [
    "if yaş >= 18 : kodunda yaş >= 18 işleminin sonucu False çıkarsa \"else:\" kodundan sonra gelen 2.Blok kodları işletilir. else değildir anlamına gelir."
   ]
  },
  {
   "cell_type": "code",
   "execution_count": 5,
   "metadata": {},
   "outputs": [
    {
     "name": "stdout",
     "output_type": "stream",
     "text": [
      "Dönem Sonu Not Ortalamanızı Giriniz: 97\n",
      "Takdir Alarak Geçtiniz\n"
     ]
    }
   ],
   "source": [
    "notOrt = float(input(\"Dönem Sonu Not Ortalamanızı Giriniz: \"))\n",
    "\n",
    "if notOrt < 45 :\n",
    "    print(\"Kaldınız\")\n",
    "elif notOrt >= 45 and notOrt < 70 :\n",
    "    print(\"Geçtiniz\")\n",
    "elif notOrt >= 70 and notOrt < 85 :\n",
    "    print(\"Teşekkür Alarak Geçtiniz\")\n",
    "elif notOrt >= 85 and notOrt <= 100:\n",
    "    print(\"Takdir Alarak Geçtiniz\")\n",
    "else:\n",
    "    print(\"Geçersiz Değer Girişi\")"
   ]
  },
  {
   "cell_type": "markdown",
   "metadata": {},
   "source": [
    "İkiden çok koşul durumuna ihtiyacınız varsa if-else arasındaki koşullar için elif koşul kelimesi kullanılır. elif eğer değilse anlamına gelmektedir. Üstteki kodda görüldüğü gibi 45-70, 70-85 ve 85-100 arasındaki not değerleri karşılaştırması elif komutu yardımıyla yapılır. else hiç bir koşula uymayan sayı değeri girilirse hata olduğunu belirtmek için kullanıldı."
   ]
  }
 ],
 "metadata": {
  "kernelspec": {
   "display_name": "Python 3",
   "language": "python",
   "name": "python3"
  },
  "language_info": {
   "codemirror_mode": {
    "name": "ipython",
    "version": 3
   },
   "file_extension": ".py",
   "mimetype": "text/x-python",
   "name": "python",
   "nbconvert_exporter": "python",
   "pygments_lexer": "ipython3",
   "version": "3.5.4"
  }
 },
 "nbformat": 4,
 "nbformat_minor": 2
}
