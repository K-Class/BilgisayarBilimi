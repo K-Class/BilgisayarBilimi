{
 "cells": [
  {
   "cell_type": "code",
   "execution_count": 6,
   "metadata": {},
   "outputs": [
    {
     "name": "stdout",
     "output_type": "stream",
     "text": [
      "Hatalı Değer Girişi Yapıldı\n",
      "0\n"
     ]
    }
   ],
   "source": [
    "sayı = -6\n",
    "i = toplam = 0\n",
    "\n",
    "while i < sayı :\n",
    "    i += 1\n",
    "    toplam += i\n",
    "else :\n",
    "    print(\"Hatalı Değer Girişi Yapıldı\")\n",
    "    \n",
    "print(toplam)\n",
    "    "
   ]
  }
 ],
 "metadata": {
  "kernelspec": {
   "display_name": "Python 3",
   "language": "python",
   "name": "python3"
  },
  "language_info": {
   "codemirror_mode": {
    "name": "ipython",
    "version": 3
   },
   "file_extension": ".py",
   "mimetype": "text/x-python",
   "name": "python",
   "nbconvert_exporter": "python",
   "pygments_lexer": "ipython3",
   "version": "3.5.4"
  }
 },
 "nbformat": 4,
 "nbformat_minor": 2
}
