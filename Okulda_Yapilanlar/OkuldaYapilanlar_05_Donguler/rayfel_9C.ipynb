{
 "cells": [
  {
   "cell_type": "code",
   "execution_count": 5,
   "metadata": {},
   "outputs": [
    {
     "name": "stdout",
     "output_type": "stream",
     "text": [
      "Adım 1\n",
      "Adım 2\n",
      "Adım 3\n",
      "Adım 4\n",
      "Adım 5\n",
      "Adım 6\n",
      "Adım 7\n",
      "Adım 8\n",
      "Adım 9\n",
      "Adım 10\n",
      "Program Sonlandırıldı\n"
     ]
    }
   ],
   "source": [
    "sayaç = 0\n",
    "\n",
    "while sayaç < 10 :\n",
    "    \n",
    "    sayaç += 1\n",
    "    print('Adım', sayaç)\n",
    "\n",
    "print('Program Sonlandırıldı')\n",
    "    "
   ]
  },
  {
   "cell_type": "code",
   "execution_count": 2,
   "metadata": {},
   "outputs": [
    {
     "ename": "NameError",
     "evalue": "name 'syç' is not defined",
     "output_type": "error",
     "traceback": [
      "\u001b[1;31m---------------------------------------------------------------------------\u001b[0m",
      "\u001b[1;31mNameError\u001b[0m                                 Traceback (most recent call last)",
      "\u001b[1;32m<ipython-input-2-73b6e6cbdb2f>\u001b[0m in \u001b[0;36m<module>\u001b[1;34m()\u001b[0m\n\u001b[0;32m      1\u001b[0m \u001b[1;33m\u001b[0m\u001b[0m\n\u001b[1;32m----> 2\u001b[1;33m \u001b[1;32mwhile\u001b[0m \u001b[0msyç\u001b[0m \u001b[1;33m<\u001b[0m \u001b[1;36m10\u001b[0m \u001b[1;33m:\u001b[0m\u001b[1;33m\u001b[0m\u001b[0m\n\u001b[0m\u001b[0;32m      3\u001b[0m \u001b[1;33m\u001b[0m\u001b[0m\n\u001b[0;32m      4\u001b[0m     \u001b[0msyç\u001b[0m \u001b[1;33m+=\u001b[0m \u001b[1;36m1\u001b[0m\u001b[1;33m\u001b[0m\u001b[0m\n\u001b[0;32m      5\u001b[0m     \u001b[0mprint\u001b[0m\u001b[1;33m(\u001b[0m\u001b[1;34m'Adım'\u001b[0m\u001b[1;33m,\u001b[0m\u001b[0msyç\u001b[0m\u001b[1;33m)\u001b[0m\u001b[1;33m\u001b[0m\u001b[0m\n",
      "\u001b[1;31mNameError\u001b[0m: name 'syç' is not defined"
     ]
    }
   ],
   "source": [
    "\n",
    "while syç < 10 :\n",
    "    \n",
    "    syç += 1\n",
    "    print('Adım',syç)\n",
    "\n",
    "print('Program Sonlandırıldı')"
   ]
  },
  {
   "cell_type": "code",
   "execution_count": 4,
   "metadata": {},
   "outputs": [
    {
     "name": "stdout",
     "output_type": "stream",
     "text": [
      "Adım 0 Adım 0 Adım 0 Adım 0 Adım 0 Adım 0 Adım 0 Adım 0 Adım 0 Adım 0 Adım 0 Adım 0 Adım 0 Adım 0 Adım 0 Adım 0 Adım 0 Adım 0 Adım 0 Adım 0 Adım 0 Adım 0 Adım 0 Adım 0 Adım 0 Adım 0 Adım 0 Adım 0 Adım 0 Adım 0 Adım 0 Adım 0 Adım 0 Adım 0 Adım 0 Adım 0 Adım 0 Adım 0 Adım 0 Adım 0 Adım 0 Adım 0 Adım 0 Adım 0 Adım 0 Adım 0 Adım 0 Adım 0 Adım 0 Adım 0 Adım 0 Adım 0 Adım 0 Adım 0 Adım 0 Adım 0 Adım 0 Adım 0 Adım 0 Adım 0 Adım 0 Adım 0 Adım 0 Adım 0 Adım 0 Adım 0 Adım 0 "
     ]
    },
    {
     "ename": "KeyboardInterrupt",
     "evalue": "",
     "output_type": "error",
     "traceback": [
      "\u001b[1;31m---------------------------------------------------------------------------\u001b[0m",
      "\u001b[1;31mKeyboardInterrupt\u001b[0m                         Traceback (most recent call last)",
      "\u001b[1;32m<ipython-input-4-d8f4d04811d8>\u001b[0m in \u001b[0;36m<module>\u001b[1;34m()\u001b[0m\n\u001b[0;32m      6\u001b[0m \u001b[1;32mwhile\u001b[0m \u001b[0msayaç\u001b[0m \u001b[1;33m<\u001b[0m \u001b[1;36m10\u001b[0m \u001b[1;33m:\u001b[0m\u001b[1;33m\u001b[0m\u001b[0m\n\u001b[0;32m      7\u001b[0m     \u001b[1;31m# syç değişkeninin değeri artırılmıyor\u001b[0m\u001b[1;33m\u001b[0m\u001b[1;33m\u001b[0m\u001b[0m\n\u001b[1;32m----> 8\u001b[1;33m     \u001b[0mtime\u001b[0m\u001b[1;33m.\u001b[0m\u001b[0msleep\u001b[0m\u001b[1;33m(\u001b[0m\u001b[1;36m0.5\u001b[0m\u001b[1;33m)\u001b[0m\u001b[1;33m\u001b[0m\u001b[0m\n\u001b[0m\u001b[0;32m      9\u001b[0m \u001b[1;33m\u001b[0m\u001b[0m\n\u001b[0;32m     10\u001b[0m     \u001b[0mprint\u001b[0m\u001b[1;33m(\u001b[0m\u001b[1;34m'Adım'\u001b[0m\u001b[1;33m,\u001b[0m\u001b[0msayaç\u001b[0m\u001b[1;33m,\u001b[0m \u001b[0mend\u001b[0m\u001b[1;33m=\u001b[0m\u001b[1;34m' '\u001b[0m\u001b[1;33m)\u001b[0m\u001b[1;33m\u001b[0m\u001b[0m\n",
      "\u001b[1;31mKeyboardInterrupt\u001b[0m: "
     ]
    }
   ],
   "source": [
    "# time(zaman) modülünü kodumuza ekliyoruz bu konu ileride görülecek\n",
    "import time\n",
    "\n",
    "sayaç = 0\n",
    "\n",
    "while sayaç < 10 :\n",
    "    # syç değişkeninin değeri artırılmıyor\n",
    "    time.sleep(0.5)\n",
    "    \n",
    "    print('Adım',sayaç, end=' ')\n",
    "\n",
    "print('Program Sonlandırıldı')"
   ]
  },
  {
   "cell_type": "code",
   "execution_count": 7,
   "metadata": {},
   "outputs": [
    {
     "name": "stdout",
     "output_type": "stream",
     "text": [
      "Adım 1 Ara Toplam: 1\n",
      "Adım 2 Ara Toplam: 3\n",
      "Adım 3 Ara Toplam: 6\n",
      "Adım 4 Ara Toplam: 10\n",
      "Adım 5 Ara Toplam: 15\n",
      "Adım 6 Ara Toplam: 21\n",
      "Adım 7 Ara Toplam: 28\n",
      "Adım 8 Ara Toplam: 36\n",
      "Adım 9 Ara Toplam: 45\n",
      "Adım 10 Ara Toplam: 55\n",
      "Toplam: 55\n",
      "Program Sonlandırıldı\n"
     ]
    }
   ],
   "source": [
    "sayaç = 0\n",
    "toplam = 0\n",
    "\n",
    "while sayaç < 10 :\n",
    "    \n",
    "    sayaç += 1\n",
    "    toplam = sayaç + toplam\n",
    "    print('Adım', sayaç, 'Ara Toplam:',toplam)\n",
    "\n",
    "print('Toplam:',toplam)\n",
    "print('Program Sonlandırıldı')"
   ]
  },
  {
   "cell_type": "code",
   "execution_count": 1,
   "metadata": {},
   "outputs": [],
   "source": [
    "# sürekli devam eden program  girelen sayıların toplamı"
   ]
  },
  {
   "cell_type": "code",
   "execution_count": 2,
   "metadata": {},
   "outputs": [
    {
     "name": "stdout",
     "output_type": "stream",
     "text": [
      "Çıkmak \"ç\", tekrar girmek için harhangi bir karakter girin: a\n",
      "Çıkmak \"ç\", tekrar girmek için harhangi bir karakter girin: b\n",
      "Çıkmak \"ç\", tekrar girmek için harhangi bir karakter girin: c\n",
      "Çıkmak \"ç\", tekrar girmek için harhangi bir karakter girin: ç\n",
      "\n",
      "Program Sonlandırıldı\n"
     ]
    }
   ],
   "source": [
    "devam = ''\n",
    "\n",
    "while devam != 'ç' :\n",
    "    \n",
    "    #  döngüde çalıştırılacak kodlar\n",
    "    \n",
    "    devam = input('Çıkmak \"ç\", tekrar girmek için harhangi bir karakter girin: ')\n",
    "\n",
    "print('\\nProgram Sonlandırıldı')\n"
   ]
  },
  {
   "cell_type": "code",
   "execution_count": 3,
   "metadata": {},
   "outputs": [
    {
     "name": "stdout",
     "output_type": "stream",
     "text": [
      "Tam Sayı Değer Girişi Yapın: 3\n",
      "Çıkmak \"ç\", tekrar girmek için harhangi bir karakter girin: h\n",
      "Tam Sayı Değer Girişi Yapın: 5\n",
      "Çıkmak \"ç\", tekrar girmek için harhangi bir karakter girin: h\n",
      "Tam Sayı Değer Girişi Yapın: 2\n",
      "Çıkmak \"ç\", tekrar girmek için harhangi bir karakter girin: h\n",
      "Tam Sayı Değer Girişi Yapın: 12\n",
      "Çıkmak \"ç\", tekrar girmek için harhangi bir karakter girin: ç\n",
      "Toplam Değer : 22\n",
      "\n",
      "Program Sonlandırıldı\n"
     ]
    }
   ],
   "source": [
    "devam = ''\n",
    "toplam = 0\n",
    "\n",
    "while devam != 'ç' :\n",
    "    \n",
    "    kullanıcı_değer = int(input('Tam Sayı Değer Girişi Yapın: '))\n",
    "    toplam = kullanıcı_değer + toplam\n",
    "    \n",
    "    devam = input('Çıkmak \"ç\", tekrar girmek için harhangi bir karakter girin: ')\n",
    "\n",
    "print('Toplam Değer :',toplam)\n",
    "print('\\nProgram Sonlandırıldı')\n"
   ]
  },
  {
   "cell_type": "code",
   "execution_count": null,
   "metadata": {},
   "outputs": [],
   "source": [
    "# bu örneği yaptır\n",
    "print('Çıkmak İçin \"ç\" Girin')\n",
    "sayı = input('Toplanacak Tam Sayı Girin:')\n",
    "toplam = 0\n",
    "i = 0\n",
    "\n",
    "while sayı != 'ç' :\n",
    "    i += 1\n",
    "    toplam += int(sayı) # toplam = sayı + toplam ile aynı ifade\n",
    "    sayı = input('Toplanacak Tam Sayı Girin:')\n",
    "\n",
    "print('Girilen {} Adet Sayının Toplamı = {}'.format(i,toplam))\n",
    "\n",
    "#print('Girilen ' + str(i) + ' Adet Sayının Toplamı = ' + str(toplam))"
   ]
  },
  {
   "cell_type": "code",
   "execution_count": 6,
   "metadata": {},
   "outputs": [
    {
     "name": "stdout",
     "output_type": "stream",
     "text": [
      "Çıkmak İçin \"ç\" Girin\n",
      "Toplanacak Tam Sayı Girin:1\n",
      "Toplanacak Tam Sayı Girin:3\n",
      "Toplanacak Tam Sayı Girin:5\n",
      "Toplanacak Tam Sayı Girin:7\n",
      "Toplanacak Tam Sayı Girin:9\n",
      "Toplanacak Tam Sayı Girin:11\n",
      "Toplanacak Tam Sayı Girin:ç\n",
      "6 Adet Sayının Toplamı : 36\n"
     ]
    }
   ],
   "source": [
    "print('Çıkmak İçin \"ç\" Girin')\n",
    "sayı = input('Toplanacak Tam Sayı Girin:')\n",
    "toplam = 0\n",
    "sayaç = 0\n",
    "\n",
    "while sayı != 'ç' :\n",
    "    sayaç += 1 \n",
    "    toplam += int(sayı) # toplam = toplam + int(sayı)\n",
    "    sayı = input('Toplanacak Tam Sayı Girin:')\n",
    "metin = '{} Adet Sayının Toplamı : {}'.format(sayaç,toplam)\n",
    "print(metin)"
   ]
  },
  {
   "cell_type": "code",
   "execution_count": 7,
   "metadata": {},
   "outputs": [
    {
     "data": {
      "text/plain": [
       "'3.14 2.718 1.1458'"
      ]
     },
     "execution_count": 7,
     "metadata": {},
     "output_type": "execute_result"
    }
   ],
   "source": [
    "\"{:.2f} {:.3f} {:.4f}\".format(3.14159,2.7182818,1.145793)"
   ]
  },
  {
   "cell_type": "code",
   "execution_count": 9,
   "metadata": {},
   "outputs": [
    {
     "name": "stdout",
     "output_type": "stream",
     "text": [
      "0 1 1 2 3 5 8 13 21 34 55 89 144 233 377 610 987 "
     ]
    }
   ],
   "source": [
    "say1 = 0\n",
    "say2 = 1\n",
    "\n",
    "while say1 < 1000 :\n",
    "    print(say1, end = \" \")\n",
    "    takas = say1\n",
    "    say1 = say2\n",
    "    say2 = takas + say1\n",
    "    "
   ]
  },
  {
   "cell_type": "code",
   "execution_count": 1,
   "metadata": {},
   "outputs": [
    {
     "name": "stdout",
     "output_type": "stream",
     "text": [
      "0 1 1 2 3 5 8 13 21 34 55 89 144 233 377 610 987 "
     ]
    }
   ],
   "source": [
    "sy1 = 0\n",
    "sy2 = 1\n",
    "\n",
    "while sy1 < 1000 :\n",
    "    print(sy1, end = \" \")\n",
    "    sy1 , sy2 = sy2 , sy1+sy2 \n",
    "    "
   ]
  },
  {
   "cell_type": "code",
   "execution_count": 4,
   "metadata": {},
   "outputs": [
    {
     "name": "stdout",
     "output_type": "stream",
     "text": [
      "1 x 1 = 1\n",
      "1 x 2 = 2\n",
      "1 x 3 = 3\n",
      "1 x 4 = 4\n",
      "1 x 5 = 5\n",
      "1 x 6 = 6\n",
      "1 x 7 = 7\n",
      "1 x 8 = 8\n",
      "1 x 9 = 9\n",
      "1 x 10 = 10\n",
      "************************\n",
      "2 x 1 = 2\n",
      "2 x 2 = 4\n",
      "2 x 3 = 6\n",
      "2 x 4 = 8\n",
      "2 x 5 = 10\n",
      "2 x 6 = 12\n",
      "2 x 7 = 14\n",
      "2 x 8 = 16\n",
      "2 x 9 = 18\n",
      "2 x 10 = 20\n",
      "************************\n",
      "3 x 1 = 3\n",
      "3 x 2 = 6\n",
      "3 x 3 = 9\n",
      "3 x 4 = 12\n",
      "3 x 5 = 15\n",
      "3 x 6 = 18\n",
      "3 x 7 = 21\n",
      "3 x 8 = 24\n",
      "3 x 9 = 27\n",
      "3 x 10 = 30\n",
      "************************\n",
      "4 x 1 = 4\n",
      "4 x 2 = 8\n",
      "4 x 3 = 12\n",
      "4 x 4 = 16\n",
      "4 x 5 = 20\n",
      "4 x 6 = 24\n",
      "4 x 7 = 28\n",
      "4 x 8 = 32\n",
      "4 x 9 = 36\n",
      "4 x 10 = 40\n",
      "************************\n",
      "5 x 1 = 5\n",
      "5 x 2 = 10\n",
      "5 x 3 = 15\n",
      "5 x 4 = 20\n",
      "5 x 5 = 25\n",
      "5 x 6 = 30\n",
      "5 x 7 = 35\n",
      "5 x 8 = 40\n",
      "5 x 9 = 45\n",
      "5 x 10 = 50\n",
      "************************\n",
      "6 x 1 = 6\n",
      "6 x 2 = 12\n",
      "6 x 3 = 18\n",
      "6 x 4 = 24\n",
      "6 x 5 = 30\n",
      "6 x 6 = 36\n",
      "6 x 7 = 42\n",
      "6 x 8 = 48\n",
      "6 x 9 = 54\n",
      "6 x 10 = 60\n",
      "************************\n",
      "7 x 1 = 7\n",
      "7 x 2 = 14\n",
      "7 x 3 = 21\n",
      "7 x 4 = 28\n",
      "7 x 5 = 35\n",
      "7 x 6 = 42\n",
      "7 x 7 = 49\n",
      "7 x 8 = 56\n",
      "7 x 9 = 63\n",
      "7 x 10 = 70\n",
      "************************\n",
      "8 x 1 = 8\n",
      "8 x 2 = 16\n",
      "8 x 3 = 24\n",
      "8 x 4 = 32\n",
      "8 x 5 = 40\n",
      "8 x 6 = 48\n",
      "8 x 7 = 56\n",
      "8 x 8 = 64\n",
      "8 x 9 = 72\n",
      "8 x 10 = 80\n",
      "************************\n",
      "9 x 1 = 9\n",
      "9 x 2 = 18\n",
      "9 x 3 = 27\n",
      "9 x 4 = 36\n",
      "9 x 5 = 45\n",
      "9 x 6 = 54\n",
      "9 x 7 = 63\n",
      "9 x 8 = 72\n",
      "9 x 9 = 81\n",
      "9 x 10 = 90\n",
      "************************\n",
      "10 x 1 = 10\n",
      "10 x 2 = 20\n",
      "10 x 3 = 30\n",
      "10 x 4 = 40\n",
      "10 x 5 = 50\n",
      "10 x 6 = 60\n",
      "10 x 7 = 70\n",
      "10 x 8 = 80\n",
      "10 x 9 = 90\n",
      "10 x 10 = 100\n",
      "************************\n"
     ]
    }
   ],
   "source": [
    "i = 0\n",
    "j = 0\n",
    "\n",
    "while i < 10 :\n",
    "    i+=1\n",
    "    while j < 10:\n",
    "        j+=1\n",
    "        print(\"{} x {} = {}\".format(i,j,i*j))\n",
    "    j = 0\n",
    "    print(\"************************\")"
   ]
  },
  {
   "cell_type": "code",
   "execution_count": 1,
   "metadata": {},
   "outputs": [],
   "source": [
    "veriler = [3,5,7,1.44,-3.14,\"Tuna\",\"Emel\",[1,3,5],14]"
   ]
  },
  {
   "cell_type": "code",
   "execution_count": 2,
   "metadata": {},
   "outputs": [
    {
     "data": {
      "text/plain": [
       "[3, 5, 7, 1.44, -3.14, 'Tuna', 'Emel', [1, 3, 5], 14]"
      ]
     },
     "execution_count": 2,
     "metadata": {},
     "output_type": "execute_result"
    }
   ],
   "source": [
    "veriler"
   ]
  },
  {
   "cell_type": "code",
   "execution_count": 3,
   "metadata": {},
   "outputs": [
    {
     "data": {
      "text/plain": [
       "3"
      ]
     },
     "execution_count": 3,
     "metadata": {},
     "output_type": "execute_result"
    }
   ],
   "source": [
    "veriler[0]"
   ]
  },
  {
   "cell_type": "code",
   "execution_count": 4,
   "metadata": {},
   "outputs": [
    {
     "data": {
      "text/plain": [
       "'Tuna'"
      ]
     },
     "execution_count": 4,
     "metadata": {},
     "output_type": "execute_result"
    }
   ],
   "source": [
    "veriler[5]"
   ]
  },
  {
   "cell_type": "code",
   "execution_count": 5,
   "metadata": {},
   "outputs": [
    {
     "data": {
      "text/plain": [
       "9"
      ]
     },
     "execution_count": 5,
     "metadata": {},
     "output_type": "execute_result"
    }
   ],
   "source": [
    "len(veriler)"
   ]
  },
  {
   "cell_type": "code",
   "execution_count": 6,
   "metadata": {},
   "outputs": [
    {
     "data": {
      "text/plain": [
       "14"
      ]
     },
     "execution_count": 6,
     "metadata": {},
     "output_type": "execute_result"
    }
   ],
   "source": [
    "veriler[8]"
   ]
  },
  {
   "cell_type": "code",
   "execution_count": 7,
   "metadata": {},
   "outputs": [
    {
     "data": {
      "text/plain": [
       "14"
      ]
     },
     "execution_count": 7,
     "metadata": {},
     "output_type": "execute_result"
    }
   ],
   "source": [
    "veriler[len(veriler)-1]"
   ]
  },
  {
   "cell_type": "code",
   "execution_count": 8,
   "metadata": {},
   "outputs": [
    {
     "data": {
      "text/plain": [
       "14"
      ]
     },
     "execution_count": 8,
     "metadata": {},
     "output_type": "execute_result"
    }
   ],
   "source": [
    "veriler[-1]"
   ]
  },
  {
   "cell_type": "code",
   "execution_count": 9,
   "metadata": {},
   "outputs": [
    {
     "data": {
      "text/plain": [
       "6"
      ]
     },
     "execution_count": 9,
     "metadata": {},
     "output_type": "execute_result"
    }
   ],
   "source": [
    "veriler.index(\"Emel\")"
   ]
  },
  {
   "cell_type": "code",
   "execution_count": 10,
   "metadata": {},
   "outputs": [
    {
     "data": {
      "text/plain": [
       "'Emel'"
      ]
     },
     "execution_count": 10,
     "metadata": {},
     "output_type": "execute_result"
    }
   ],
   "source": [
    "veriler[6]"
   ]
  },
  {
   "cell_type": "code",
   "execution_count": 11,
   "metadata": {},
   "outputs": [
    {
     "data": {
      "text/plain": [
       "1.44"
      ]
     },
     "execution_count": 11,
     "metadata": {},
     "output_type": "execute_result"
    }
   ],
   "source": [
    "veriler[3]"
   ]
  },
  {
   "cell_type": "code",
   "execution_count": 12,
   "metadata": {},
   "outputs": [],
   "source": [
    "veriler[3]= -7"
   ]
  },
  {
   "cell_type": "code",
   "execution_count": 13,
   "metadata": {},
   "outputs": [
    {
     "data": {
      "text/plain": [
       "[3, 5, 7, -7, -3.14, 'Tuna', 'Emel', [1, 3, 5], 14]"
      ]
     },
     "execution_count": 13,
     "metadata": {},
     "output_type": "execute_result"
    }
   ],
   "source": [
    "veriler"
   ]
  },
  {
   "cell_type": "code",
   "execution_count": 15,
   "metadata": {},
   "outputs": [
    {
     "name": "stdout",
     "output_type": "stream",
     "text": [
      "1\n",
      "3\n",
      "5\n",
      "7\n",
      "9\n",
      "11\n",
      "13\n",
      "15\n",
      "\n",
      "Program Sonlandı\n"
     ]
    }
   ],
   "source": [
    "veriler = [1,3,5,7,9,11,13,15]\n",
    "\n",
    "i = 0\n",
    "\n",
    "while i < len(veriler):\n",
    "    print(veriler[i])\n",
    "    i+=1\n",
    "\n",
    "print(\"\\nProgram Sonlandı\")"
   ]
  },
  {
   "cell_type": "code",
   "execution_count": 17,
   "metadata": {},
   "outputs": [
    {
     "name": "stdout",
     "output_type": "stream",
     "text": [
      "1\n",
      "3\n",
      "5\n",
      "7\n",
      "9\n",
      "11\n",
      "13\n",
      "15\n",
      "\n",
      "Program Sonlandı\n"
     ]
    }
   ],
   "source": [
    "veriler = [1,3,5,7,9,11,13,15]\n",
    "\n",
    "for i in veriler:\n",
    "    print(i)\n",
    "\n",
    "print(\"\\nProgram Sonlandı\")"
   ]
  },
  {
   "cell_type": "code",
   "execution_count": 18,
   "metadata": {},
   "outputs": [
    {
     "data": {
      "text/plain": [
       "True"
      ]
     },
     "execution_count": 18,
     "metadata": {},
     "output_type": "execute_result"
    }
   ],
   "source": [
    "3 in veriler"
   ]
  },
  {
   "cell_type": "code",
   "execution_count": 19,
   "metadata": {},
   "outputs": [
    {
     "data": {
      "text/plain": [
       "False"
      ]
     },
     "execution_count": 19,
     "metadata": {},
     "output_type": "execute_result"
    }
   ],
   "source": [
    "4 in veriler"
   ]
  },
  {
   "cell_type": "code",
   "execution_count": 26,
   "metadata": {},
   "outputs": [
    {
     "name": "stdout",
     "output_type": "stream",
     "text": [
      "[1, 11, 21, 31, 41, 51, 61, 71, 81, 91, 101, 111, 121, 131, 141, 151, 161, 171, 181, 191, 201, 211, 221, 231, 241, 251, 261, 271, 281, 291, 301, 311, 321, 331, 341, 351, 361, 371, 381, 391, 401, 411, 421, 431, 441, 451, 461, 471, 481, 491, 501, 511, 521, 531, 541, 551, 561, 571, 581, 591, 601, 611, 621, 631, 641, 651, 661, 671, 681, 691, 701, 711, 721, 731, 741, 751, 761, 771, 781, 791, 801, 811, 821, 831, 841, 851, 861, 871, 881, 891, 901, 911, 921, 931, 941, 951, 961, 971, 981, 991, 1001, 1011, 1021, 1031, 1041, 1051, 1061, 1071, 1081, 1091, 1101, 1111, 1121, 1131, 1141, 1151, 1161, 1171, 1181, 1191, 1201, 1211, 1221, 1231, 1241, 1251, 1261, 1271, 1281, 1291, 1301, 1311, 1321, 1331, 1341, 1351, 1361, 1371, 1381, 1391, 1401, 1411, 1421, 1431, 1441, 1451, 1461, 1471, 1481, 1491, 1501, 1511, 1521, 1531, 1541, 1551, 1561, 1571, 1581, 1591, 1601, 1611, 1621, 1631, 1641, 1651, 1661, 1671, 1681, 1691, 1701, 1711, 1721, 1731, 1741, 1751, 1761, 1771, 1781, 1791, 1801, 1811, 1821, 1831, 1841, 1851, 1861, 1871, 1881, 1891, 1901, 1911, 1921, 1931, 1941, 1951, 1961, 1971, 1981, 1991, 2001, 2011, 2021, 2031, 2041, 2051, 2061, 2071, 2081, 2091, 2101, 2111, 2121, 2131, 2141, 2151, 2161, 2171, 2181, 2191, 2201, 2211, 2221, 2231, 2241, 2251, 2261, 2271, 2281, 2291, 2301, 2311, 2321, 2331, 2341, 2351, 2361, 2371, 2381, 2391, 2401, 2411, 2421, 2431, 2441, 2451, 2461, 2471, 2481, 2491, 2501, 2511, 2521, 2531, 2541, 2551, 2561, 2571, 2581, 2591, 2601, 2611, 2621, 2631, 2641, 2651, 2661, 2671, 2681, 2691, 2701, 2711, 2721, 2731, 2741, 2751, 2761, 2771, 2781, 2791, 2801, 2811, 2821, 2831, 2841, 2851, 2861, 2871, 2881, 2891, 2901, 2911, 2921, 2931, 2941, 2951, 2961, 2971, 2981, 2991, 3001, 3011, 3021, 3031, 3041, 3051, 3061, 3071, 3081, 3091, 3101, 3111, 3121, 3131, 3141, 3151, 3161, 3171, 3181, 3191, 3201, 3211, 3221, 3231, 3241, 3251, 3261, 3271, 3281, 3291, 3301, 3311, 3321, 3331, 3341, 3351, 3361, 3371, 3381, 3391, 3401, 3411, 3421, 3431, 3441, 3451, 3461, 3471, 3481, 3491, 3501, 3511, 3521, 3531, 3541, 3551, 3561, 3571, 3581, 3591, 3601, 3611, 3621, 3631, 3641, 3651, 3661, 3671, 3681, 3691, 3701, 3711, 3721, 3731, 3741, 3751, 3761, 3771, 3781, 3791, 3801, 3811, 3821, 3831, 3841, 3851, 3861, 3871, 3881, 3891, 3901, 3911, 3921, 3931, 3941, 3951, 3961, 3971, 3981, 3991, 4001, 4011, 4021, 4031, 4041, 4051, 4061, 4071, 4081, 4091, 4101, 4111, 4121, 4131, 4141, 4151, 4161, 4171, 4181, 4191, 4201, 4211, 4221, 4231, 4241, 4251, 4261, 4271, 4281, 4291, 4301, 4311, 4321, 4331, 4341, 4351, 4361, 4371, 4381, 4391, 4401, 4411, 4421, 4431, 4441, 4451, 4461, 4471, 4481, 4491, 4501, 4511, 4521, 4531, 4541, 4551, 4561, 4571, 4581, 4591, 4601, 4611, 4621, 4631, 4641, 4651, 4661, 4671, 4681, 4691, 4701, 4711, 4721, 4731, 4741, 4751, 4761, 4771, 4781, 4791, 4801, 4811, 4821, 4831, 4841, 4851, 4861, 4871, 4881, 4891, 4901, 4911, 4921, 4931, 4941, 4951, 4961, 4971, 4981, 4991, 5001, 5011, 5021, 5031, 5041, 5051, 5061, 5071, 5081, 5091, 5101, 5111, 5121, 5131, 5141, 5151, 5161, 5171, 5181, 5191, 5201, 5211, 5221, 5231, 5241, 5251, 5261, 5271, 5281, 5291, 5301, 5311, 5321, 5331, 5341, 5351, 5361, 5371, 5381, 5391, 5401, 5411, 5421, 5431, 5441, 5451, 5461, 5471, 5481, 5491, 5501, 5511, 5521, 5531, 5541, 5551, 5561, 5571, 5581, 5591, 5601, 5611, 5621, 5631, 5641, 5651, 5661, 5671, 5681, 5691, 5701, 5711, 5721, 5731, 5741, 5751, 5761, 5771, 5781, 5791, 5801, 5811, 5821, 5831, 5841, 5851, 5861, 5871, 5881, 5891, 5901, 5911, 5921, 5931, 5941, 5951, 5961, 5971, 5981, 5991, 6001, 6011, 6021, 6031, 6041, 6051, 6061, 6071, 6081, 6091, 6101, 6111, 6121, 6131, 6141, 6151, 6161, 6171, 6181, 6191, 6201, 6211, 6221, 6231, 6241, 6251, 6261, 6271, 6281, 6291, 6301, 6311, 6321, 6331, 6341, 6351, 6361, 6371, 6381, 6391, 6401, 6411, 6421, 6431, 6441, 6451, 6461, 6471, 6481, 6491, 6501, 6511, 6521, 6531, 6541, 6551, 6561, 6571, 6581, 6591, 6601, 6611, 6621, 6631, 6641, 6651, 6661, 6671, 6681, 6691, 6701, 6711, 6721, 6731, 6741, 6751, 6761, 6771, 6781, 6791, 6801, 6811, 6821, 6831, 6841, 6851, 6861, 6871, 6881, 6891, 6901, 6911, 6921, 6931, 6941, 6951, 6961, 6971, 6981, 6991, 7001, 7011, 7021, 7031, 7041, 7051, 7061, 7071, 7081, 7091, 7101, 7111, 7121, 7131, 7141, 7151, 7161, 7171, 7181, 7191, 7201, 7211, 7221, 7231, 7241, 7251, 7261, 7271, 7281, 7291, 7301, 7311, 7321, 7331, 7341, 7351, 7361, 7371, 7381, 7391, 7401, 7411, 7421, 7431, 7441, 7451, 7461, 7471, 7481, 7491, 7501, 7511, 7521, 7531, 7541, 7551, 7561, 7571, 7581, 7591, 7601, 7611, 7621, 7631, 7641, 7651, 7661, 7671, 7681, 7691, 7701, 7711, 7721, 7731, 7741, 7751, 7761, 7771, 7781, 7791, 7801, 7811, 7821, 7831, 7841, 7851, 7861, 7871, 7881, 7891, 7901, 7911, 7921, 7931, 7941, 7951, 7961, 7971, 7981, 7991, 8001, 8011, 8021, 8031, 8041, 8051, 8061, 8071, 8081, 8091, 8101, 8111, 8121, 8131, 8141, 8151, 8161, 8171, 8181, 8191, 8201, 8211, 8221, 8231, 8241, 8251, 8261, 8271, 8281, 8291, 8301, 8311, 8321, 8331, 8341, 8351, 8361, 8371, 8381, 8391, 8401, 8411, 8421, 8431, 8441, 8451, 8461, 8471, 8481, 8491, 8501, 8511, 8521, 8531, 8541, 8551, 8561, 8571, 8581, 8591, 8601, 8611, 8621, 8631, 8641, 8651, 8661, 8671, 8681, 8691, 8701, 8711, 8721, 8731, 8741, 8751, 8761, 8771, 8781, 8791, 8801, 8811, 8821, 8831, 8841, 8851, 8861, 8871, 8881, 8891, 8901, 8911, 8921, 8931, 8941, 8951, 8961, 8971, 8981, 8991, 9001, 9011, 9021, 9031, 9041, 9051, 9061, 9071, 9081, 9091, 9101, 9111, 9121, 9131, 9141, 9151, 9161, 9171, 9181, 9191, 9201, 9211, 9221, 9231, 9241, 9251, 9261, 9271, 9281, 9291, 9301, 9311, 9321, 9331, 9341, 9351, 9361, 9371, 9381, 9391, 9401, 9411, 9421, 9431, 9441, 9451, 9461, 9471, 9481, 9491, 9501, 9511, 9521, 9531, 9541, 9551, 9561, 9571, 9581, 9591, 9601, 9611, 9621, 9631, 9641, 9651, 9661, 9671, 9681, 9691, 9701, 9711, 9721, 9731, 9741, 9751, 9761, 9771, 9781, 9791, 9801, 9811, 9821, 9831, 9841, 9851, 9861, 9871, 9881, 9891, 9901, 9911, 9921, 9931, 9941, 9951, 9961, 9971, 9981, 9991, 10001]\n"
     ]
    }
   ],
   "source": [
    "sıla_veriler = []\n",
    "\n",
    "i = 1\n",
    "\n",
    "while i < 10010:\n",
    "    sıla_veriler.append(i)\n",
    "    i+=10\n",
    "\n",
    "print(sıla_veriler)"
   ]
  },
  {
   "cell_type": "code",
   "execution_count": 1,
   "metadata": {},
   "outputs": [
    {
     "data": {
      "text/plain": [
       "10"
      ]
     },
     "execution_count": 1,
     "metadata": {},
     "output_type": "execute_result"
    }
   ],
   "source": [
    "veriler = [1,3,5,7,9,11,13,15,17,19]\n",
    "len(veriler)"
   ]
  },
  {
   "cell_type": "code",
   "execution_count": 2,
   "metadata": {},
   "outputs": [
    {
     "data": {
      "text/plain": [
       "True"
      ]
     },
     "execution_count": 2,
     "metadata": {},
     "output_type": "execute_result"
    }
   ],
   "source": [
    "3 in veriler"
   ]
  },
  {
   "cell_type": "code",
   "execution_count": 3,
   "metadata": {},
   "outputs": [
    {
     "data": {
      "text/plain": [
       "False"
      ]
     },
     "execution_count": 3,
     "metadata": {},
     "output_type": "execute_result"
    }
   ],
   "source": [
    "4 in veriler"
   ]
  },
  {
   "cell_type": "code",
   "execution_count": 4,
   "metadata": {},
   "outputs": [
    {
     "data": {
      "text/plain": [
       "False"
      ]
     },
     "execution_count": 4,
     "metadata": {},
     "output_type": "execute_result"
    }
   ],
   "source": [
    "\"ü\" in \"Ahmet Tuna POTUR\""
   ]
  },
  {
   "cell_type": "code",
   "execution_count": 5,
   "metadata": {},
   "outputs": [
    {
     "data": {
      "text/plain": [
       "True"
      ]
     },
     "execution_count": 5,
     "metadata": {},
     "output_type": "execute_result"
    }
   ],
   "source": [
    "\"h\" in \"Ahmet Tuna POTUR\""
   ]
  },
  {
   "cell_type": "code",
   "execution_count": 6,
   "metadata": {},
   "outputs": [
    {
     "name": "stdout",
     "output_type": "stream",
     "text": [
      "0. Elemanın Değeri: 1 Karesi: 1\n",
      "1. Elemanın Değeri: 3 Karesi: 9\n",
      "2. Elemanın Değeri: 5 Karesi: 25\n",
      "3. Elemanın Değeri: 7 Karesi: 49\n",
      "4. Elemanın Değeri: 9 Karesi: 81\n",
      "5. Elemanın Değeri: 11 Karesi: 121\n",
      "6. Elemanın Değeri: 13 Karesi: 169\n",
      "7. Elemanın Değeri: 15 Karesi: 225\n",
      "8. Elemanın Değeri: 17 Karesi: 289\n",
      "9. Elemanın Değeri: 19 Karesi: 361\n",
      "\n",
      " Program Sonlandı\n"
     ]
    }
   ],
   "source": [
    "veriler = [1,3,5,7,9,11,13,15,17,19]\n",
    "\n",
    "for i in veriler:\n",
    "    print(\"{}. Elemanın Değeri: {} Karesi: {}\".format(veriler.index(i),i,i**2))\n",
    "\n",
    "print(\"\\n Program Sonlandı\")"
   ]
  },
  {
   "cell_type": "code",
   "execution_count": 7,
   "metadata": {},
   "outputs": [
    {
     "data": {
      "text/plain": [
       "range(1, 20, 2)"
      ]
     },
     "execution_count": 7,
     "metadata": {},
     "output_type": "execute_result"
    }
   ],
   "source": [
    "range(1,20,2)"
   ]
  },
  {
   "cell_type": "code",
   "execution_count": 9,
   "metadata": {},
   "outputs": [
    {
     "name": "stdout",
     "output_type": "stream",
     "text": [
      "[1, 3, 5, 7, 9, 11, 13, 15, 17, 19]\n"
     ]
    }
   ],
   "source": [
    "veriler = list(range(1,20,2))\n",
    "print(veriler)"
   ]
  },
  {
   "cell_type": "code",
   "execution_count": 10,
   "metadata": {},
   "outputs": [
    {
     "data": {
      "text/plain": [
       "[0, 1, 2, 3, 4, 5, 6, 7, 8, 9, 10, 11, 12]"
      ]
     },
     "execution_count": 10,
     "metadata": {},
     "output_type": "execute_result"
    }
   ],
   "source": [
    "list(range(13))"
   ]
  },
  {
   "cell_type": "code",
   "execution_count": 11,
   "metadata": {},
   "outputs": [
    {
     "data": {
      "text/plain": [
       "[5, 8, 11, 14, 17, 20, 23, 26]"
      ]
     },
     "execution_count": 11,
     "metadata": {},
     "output_type": "execute_result"
    }
   ],
   "source": [
    "list(range(5,28,3))"
   ]
  },
  {
   "cell_type": "code",
   "execution_count": 14,
   "metadata": {},
   "outputs": [
    {
     "data": {
      "text/plain": [
       "[5, 6, 7, 8, 9, 10, 11, 12, 13, 14, 15, 16, 17]"
      ]
     },
     "execution_count": 14,
     "metadata": {},
     "output_type": "execute_result"
    }
   ],
   "source": [
    "list(range(5,18))"
   ]
  },
  {
   "cell_type": "code",
   "execution_count": 17,
   "metadata": {},
   "outputs": [
    {
     "data": {
      "text/plain": [
       "[20, 19, 18, 17, 16, 15, 14, 13, 12, 11, 10, 9, 8, 7, 6, 5, 4, 3, 2, 1]"
      ]
     },
     "execution_count": 17,
     "metadata": {},
     "output_type": "execute_result"
    }
   ],
   "source": [
    "list(range(20,0,-1))"
   ]
  },
  {
   "cell_type": "code",
   "execution_count": 19,
   "metadata": {},
   "outputs": [
    {
     "name": "stdout",
     "output_type": "stream",
     "text": [
      "1 Sayısının Karesi: 1\n",
      "3 Sayısının Karesi: 9\n",
      "5 Sayısının Karesi: 25\n",
      "7 Sayısının Karesi: 49\n",
      "9 Sayısının Karesi: 81\n",
      "11 Sayısının Karesi: 121\n",
      "13 Sayısının Karesi: 169\n",
      "15 Sayısının Karesi: 225\n",
      "17 Sayısının Karesi: 289\n",
      "19 Sayısının Karesi: 361\n",
      "21 Sayısının Karesi: 441\n",
      "23 Sayısının Karesi: 529\n",
      "25 Sayısının Karesi: 625\n",
      "27 Sayısının Karesi: 729\n",
      "29 Sayısının Karesi: 841\n",
      "31 Sayısının Karesi: 961\n",
      "33 Sayısının Karesi: 1089\n",
      "35 Sayısının Karesi: 1225\n",
      "37 Sayısının Karesi: 1369\n",
      "39 Sayısının Karesi: 1521\n",
      "41 Sayısının Karesi: 1681\n",
      "43 Sayısının Karesi: 1849\n",
      "45 Sayısının Karesi: 2025\n",
      "47 Sayısının Karesi: 2209\n",
      "49 Sayısının Karesi: 2401\n",
      "51 Sayısının Karesi: 2601\n",
      "53 Sayısının Karesi: 2809\n",
      "55 Sayısının Karesi: 3025\n",
      "57 Sayısının Karesi: 3249\n",
      "59 Sayısının Karesi: 3481\n",
      "61 Sayısının Karesi: 3721\n",
      "63 Sayısının Karesi: 3969\n",
      "65 Sayısının Karesi: 4225\n",
      "67 Sayısının Karesi: 4489\n",
      "69 Sayısının Karesi: 4761\n",
      "71 Sayısının Karesi: 5041\n",
      "73 Sayısının Karesi: 5329\n",
      "75 Sayısının Karesi: 5625\n",
      "77 Sayısının Karesi: 5929\n",
      "79 Sayısının Karesi: 6241\n",
      "81 Sayısının Karesi: 6561\n",
      "83 Sayısının Karesi: 6889\n",
      "85 Sayısının Karesi: 7225\n",
      "87 Sayısının Karesi: 7569\n",
      "89 Sayısının Karesi: 7921\n",
      "91 Sayısının Karesi: 8281\n",
      "93 Sayısının Karesi: 8649\n",
      "95 Sayısının Karesi: 9025\n",
      "97 Sayısının Karesi: 9409\n",
      "99 Sayısının Karesi: 9801\n",
      "101 Sayısının Karesi: 10201\n",
      "103 Sayısının Karesi: 10609\n",
      "105 Sayısının Karesi: 11025\n",
      "107 Sayısının Karesi: 11449\n",
      "109 Sayısının Karesi: 11881\n",
      "111 Sayısının Karesi: 12321\n",
      "113 Sayısının Karesi: 12769\n",
      "115 Sayısının Karesi: 13225\n",
      "117 Sayısının Karesi: 13689\n",
      "119 Sayısının Karesi: 14161\n",
      "121 Sayısının Karesi: 14641\n",
      "123 Sayısının Karesi: 15129\n",
      "125 Sayısının Karesi: 15625\n",
      "127 Sayısının Karesi: 16129\n",
      "129 Sayısının Karesi: 16641\n",
      "131 Sayısının Karesi: 17161\n",
      "133 Sayısının Karesi: 17689\n",
      "135 Sayısının Karesi: 18225\n",
      "137 Sayısının Karesi: 18769\n",
      "139 Sayısının Karesi: 19321\n",
      "141 Sayısının Karesi: 19881\n",
      "143 Sayısının Karesi: 20449\n",
      "145 Sayısının Karesi: 21025\n",
      "147 Sayısının Karesi: 21609\n",
      "149 Sayısının Karesi: 22201\n",
      "151 Sayısının Karesi: 22801\n",
      "153 Sayısının Karesi: 23409\n",
      "155 Sayısının Karesi: 24025\n",
      "157 Sayısının Karesi: 24649\n",
      "159 Sayısının Karesi: 25281\n",
      "161 Sayısının Karesi: 25921\n",
      "163 Sayısının Karesi: 26569\n",
      "165 Sayısının Karesi: 27225\n",
      "167 Sayısının Karesi: 27889\n",
      "169 Sayısının Karesi: 28561\n",
      "171 Sayısının Karesi: 29241\n",
      "173 Sayısının Karesi: 29929\n",
      "175 Sayısının Karesi: 30625\n",
      "177 Sayısının Karesi: 31329\n",
      "179 Sayısının Karesi: 32041\n",
      "181 Sayısının Karesi: 32761\n",
      "183 Sayısının Karesi: 33489\n",
      "185 Sayısının Karesi: 34225\n",
      "187 Sayısının Karesi: 34969\n",
      "189 Sayısının Karesi: 35721\n",
      "191 Sayısının Karesi: 36481\n",
      "193 Sayısının Karesi: 37249\n",
      "195 Sayısının Karesi: 38025\n",
      "197 Sayısının Karesi: 38809\n",
      "199 Sayısının Karesi: 39601\n",
      "\n",
      " Program Sonlandı\n"
     ]
    }
   ],
   "source": [
    "for i in range(1,200,2):\n",
    "    print(\"{} Sayısının Karesi: {}\".format(i,i**2))\n",
    "\n",
    "print(\"\\n Program Sonlandı\")"
   ]
  },
  {
   "cell_type": "markdown",
   "metadata": {},
   "source": [
    " 5! = 5.4.3.2.1 = 120\n",
    " 6! = 6.5.4.3.2.1 = 720"
   ]
  },
  {
   "cell_type": "code",
   "execution_count": 21,
   "metadata": {},
   "outputs": [
    {
     "name": "stdout",
     "output_type": "stream",
     "text": [
      "Faktöriyeli Hesaplanacak Sayıyı Girin: 5\n",
      "120\n"
     ]
    }
   ],
   "source": [
    "n = int(input(\"Faktöriyeli Hesaplanacak Sayıyı Girin: \"))\n",
    "\n",
    "carpim = 1\n",
    "\n",
    "for i in range(1,n+1):\n",
    "    carpim *= i         # carpim = carpim * i\n",
    "\n",
    "print(carpim)"
   ]
  },
  {
   "cell_type": "code",
   "execution_count": null,
   "metadata": {},
   "outputs": [],
   "source": []
  },
  {
   "cell_type": "code",
   "execution_count": 1,
   "metadata": {},
   "outputs": [],
   "source": [
    "veriler = [1,3,5,7,9,11,13,15,17,19]"
   ]
  },
  {
   "cell_type": "code",
   "execution_count": 2,
   "metadata": {},
   "outputs": [
    {
     "data": {
      "text/plain": [
       "7"
      ]
     },
     "execution_count": 2,
     "metadata": {},
     "output_type": "execute_result"
    }
   ],
   "source": [
    "veriler[3]"
   ]
  },
  {
   "cell_type": "code",
   "execution_count": 3,
   "metadata": {},
   "outputs": [
    {
     "data": {
      "text/plain": [
       "[5, 7, 9, 11, 13]"
      ]
     },
     "execution_count": 3,
     "metadata": {},
     "output_type": "execute_result"
    }
   ],
   "source": [
    "veriler[2:7]"
   ]
  },
  {
   "cell_type": "code",
   "execution_count": 4,
   "metadata": {},
   "outputs": [
    {
     "data": {
      "text/plain": [
       "[5, 9, 13]"
      ]
     },
     "execution_count": 4,
     "metadata": {},
     "output_type": "execute_result"
    }
   ],
   "source": [
    "veriler[2:7:2]"
   ]
  },
  {
   "cell_type": "code",
   "execution_count": 5,
   "metadata": {},
   "outputs": [
    {
     "data": {
      "text/plain": [
       "[19, 17, 15, 13, 11, 9, 7, 5, 3, 1]"
      ]
     },
     "execution_count": 5,
     "metadata": {},
     "output_type": "execute_result"
    }
   ],
   "source": [
    "veriler[::-1]"
   ]
  },
  {
   "cell_type": "code",
   "execution_count": 6,
   "metadata": {},
   "outputs": [],
   "source": [
    "isim = \"tuna\""
   ]
  },
  {
   "cell_type": "code",
   "execution_count": 7,
   "metadata": {},
   "outputs": [
    {
     "data": {
      "text/plain": [
       "'tuna'"
      ]
     },
     "execution_count": 7,
     "metadata": {},
     "output_type": "execute_result"
    }
   ],
   "source": [
    "isim"
   ]
  },
  {
   "cell_type": "code",
   "execution_count": 8,
   "metadata": {},
   "outputs": [
    {
     "data": {
      "text/plain": [
       "'n'"
      ]
     },
     "execution_count": 8,
     "metadata": {},
     "output_type": "execute_result"
    }
   ],
   "source": [
    "isim[2]"
   ]
  },
  {
   "cell_type": "code",
   "execution_count": 10,
   "metadata": {},
   "outputs": [
    {
     "data": {
      "text/plain": [
       "'mtTn OU'"
      ]
     },
     "execution_count": 10,
     "metadata": {},
     "output_type": "execute_result"
    }
   ],
   "source": [
    "isim = \"Ahmet Tuna POTUR\"\n",
    "\n",
    "isim[2:16:2]"
   ]
  },
  {
   "cell_type": "code",
   "execution_count": 11,
   "metadata": {},
   "outputs": [
    {
     "data": {
      "text/plain": [
       "'Ahmet Tuna'"
      ]
     },
     "execution_count": 11,
     "metadata": {},
     "output_type": "execute_result"
    }
   ],
   "source": [
    "isim[:10]"
   ]
  },
  {
   "cell_type": "code",
   "execution_count": 12,
   "metadata": {},
   "outputs": [
    {
     "data": {
      "text/plain": [
       "'RUTOP anuT temhA'"
      ]
     },
     "execution_count": 12,
     "metadata": {},
     "output_type": "execute_result"
    }
   ],
   "source": [
    "isim[::-1]"
   ]
  },
  {
   "cell_type": "code",
   "execution_count": 16,
   "metadata": {},
   "outputs": [],
   "source": [
    "isim = \"Kütük\""
   ]
  },
  {
   "cell_type": "code",
   "execution_count": 17,
   "metadata": {},
   "outputs": [
    {
     "data": {
      "text/plain": [
       "'Kütük'"
      ]
     },
     "execution_count": 17,
     "metadata": {},
     "output_type": "execute_result"
    }
   ],
   "source": [
    "isim"
   ]
  },
  {
   "cell_type": "code",
   "execution_count": 18,
   "metadata": {},
   "outputs": [
    {
     "data": {
      "text/plain": [
       "'kütüK'"
      ]
     },
     "execution_count": 18,
     "metadata": {},
     "output_type": "execute_result"
    }
   ],
   "source": [
    "isim[::-1]"
   ]
  },
  {
   "cell_type": "code",
   "execution_count": 20,
   "metadata": {},
   "outputs": [
    {
     "name": "stdout",
     "output_type": "stream",
     "text": [
      "Değer Girin:ada\n",
      "Palindromik Değer\n"
     ]
    }
   ],
   "source": [
    "deger = input(\"Değer Girin:\")\n",
    "\n",
    "ters = deger[::-1]\n",
    "\n",
    "if deger == ters:\n",
    "    print(\"Palindromik Değer\")\n",
    "else:\n",
    "    print(\"Palindromik Olmayan Değer\")"
   ]
  },
  {
   "cell_type": "code",
   "execution_count": null,
   "metadata": {},
   "outputs": [],
   "source": []
  }
 ],
 "metadata": {
  "kernelspec": {
   "display_name": "Python 3",
   "language": "python",
   "name": "python3"
  },
  "language_info": {
   "codemirror_mode": {
    "name": "ipython",
    "version": 3
   },
   "file_extension": ".py",
   "mimetype": "text/x-python",
   "name": "python",
   "nbconvert_exporter": "python",
   "pygments_lexer": "ipython3",
   "version": "3.5.4"
  }
 },
 "nbformat": 4,
 "nbformat_minor": 2
}
