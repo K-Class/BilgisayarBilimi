{
 "cells": [
  {
   "cell_type": "markdown",
   "metadata": {},
   "source": [
    "# Sayı Tahmin Oyunu"
   ]
  },
  {
   "cell_type": "markdown",
   "metadata": {},
   "source": [
    "Sayı tahmin oyunu bilgisayarın raslantısal olarak ürettiği bir sayıyı bulmaya çalışmaktır. Bu oyunda bilgisayar 1 ve 1000 dahil 1 - 1000 arası bir sayı üretir. Tabiki 1 - 1000 arasında bir sayıyı tahmin etmek çok zor olacaktır. Bunun için bilgisayar tahmin etiğiniz sayının aranan sayıdan büyük veya küçük olduğunu bildirerek sizi yönlendirecektir.\n",
    "\n",
    "Bir program tasarlıyorsanız yapacağınız işleri adım adım yazıp planlamanız önemlidir. Bu şekilde çalışmak hem yaptığınız işin daha iyi olmasını hem zaman kazanmanızı sağlar.\n",
    "\n",
    "1. Adım Kullanıcıyı Yönlendiren Açılış ve Kapanış Mesajları\n",
    "2. Adım Kullanıcıdan Sayı Tahmini Alma\n",
    "3. Adım Rastgele Sayı Tahmin Etme ve Kullanıcıyı Yönlendirme\n",
    "4. Adım Kullanıcıya Belli Sayıda Hak Verme\n",
    "5. Adım Kullanıcıya Yeniden Oynamak İsteyip İstemediğini Sorma\n",
    "6. Adım Programı Sonlanlandırma"
   ]
  },
  {
   "cell_type": "markdown",
   "metadata": {},
   "source": [
    "## 1. Adım Kullanıcıyı Yönlendiren Açılış ve Kapanış Mesajları\n",
    "\n",
    "Oyunun adı, kuralları gibi bilgilerle açılış yapmak kullanıcı açısından önemlidir. Bu adımda kullanıcı için açılış ve kapanış ekranlarını tasarlayalım. \n",
    "\n",
    "**Bilgi:** Sanılanın aksine kodlama yapılırken çok fazla açıklama satırı yazmak kodun okunabilirliğini azaltır. Doğrusu yerinde ve az açıklama satırı kullanmaktır. Kodun diğer adımlarında burada yazdığımız açıklama satırlarını kullanmayacağız. "
   ]
  },
  {
   "cell_type": "code",
   "execution_count": 13,
   "metadata": {},
   "outputs": [
    {
     "name": "stdout",
     "output_type": "stream",
     "text": [
      "*********************Sayı Tahmin Oyunu*********************\n",
      "**Tahmin için 1 ve 10 dahil 1 – 10 arası bir sayı giriniz**\n",
      "****************10 Adet Tahmin Hakkınız Var****************\n",
      "***********************************************************\n",
      "\n",
      "Program Bu Aralıkta Çalışacak\n",
      "\n",
      "*******************Program Sonlandırıldı*******************\n"
     ]
    }
   ],
   "source": [
    "# oyunun nasıl oynanacağını belirten metin değişkene giriliyor\n",
    "prog_giris = 'Tahmin için 1 ve 10 dahil 1 – 10 arası bir sayı giriniz'\n",
    "# şekil olarak en uzun metin olan prog_giriş metninin uzunluğunun 4 fazlası değişkene atanıyor.\n",
    "yıldız_boy = len(prog_giris)+4\n",
    "\n",
    "# ekrana yazdırılcak metni yıldızların ortasında yazdırmak için .center() fonksiyonu kullanılıyor\n",
    "# yıldız_boy değişkenin boyu kadar yıldızın ortasına metinler yazdırılıyor\n",
    "print('Sayı Tahmin Oyunu'.center(yıldız_boy,'*'))\n",
    "print(prog_giris.center(yıldız_boy,'*'))\n",
    "print('10 Adet Tahmin Hakkınız Var'.center(yıldız_boy,'*'))\n",
    "print(''.center(yıldız_boy,'*'))\n",
    "\n",
    "\n",
    "print('\\nProgram Bu Aralıkta Çalışacak')\n",
    "\n",
    "\n",
    "print('\\n'+'Program Sonlandırıldı'.center(yıldız_boy,'*'))"
   ]
  },
  {
   "cell_type": "markdown",
   "metadata": {},
   "source": [
    "## 2. Adım Kullanıcıdan Sayı Tahmini Alma\n",
    "Bu adımda kullanıcıdan değer alıp kullanıcının while döngüsü yardımıyla sayıyı aramasını sağlayalım. Raslantısal sayı aramadan önce sizin belirleyeceğiniz bir sayının aranacağı kodu yazalım. Kodunumuzu ilk aşamada ne kadar basit yazarsak testi daha kolay olur."
   ]
  },
  {
   "cell_type": "code",
   "execution_count": 3,
   "metadata": {},
   "outputs": [
    {
     "name": "stdout",
     "output_type": "stream",
     "text": [
      "\n",
      "Sayı Girişi Yapın: 3\n",
      "Bilemediniz Yeniden Deneyin\n",
      "\n",
      "Sayı Girişi Yapın: 7\n",
      "Bilemediniz Yeniden Deneyin\n",
      "\n",
      "Sayı Girişi Yapın: 5\n",
      "Tebrikler :-) Bidiniz\n"
     ]
    }
   ],
   "source": [
    "# aranan sayıyı 5 olarak biz belirledik\n",
    "pc_sayı = 5\n",
    "# döngüden önce kullanıcının sayı gireceği değişken 0 ilk değeriyle belirleniyor\n",
    "kullanıcı_sayı = 0\n",
    "\n",
    "# Kullanıcının girdiği sayı bilgisayardaki sayıya eşit olmadığı sürece bilgisayar bizden tahmi isteyecek\n",
    "# Diğer bir değişle doğru sayı bulunana kadar bilgisayar kullanıcının değer girmesini isteyecek\n",
    "# Kullanıcı doğru sayıyı girdiğinde while döngüsünün koşul cümlesi olumsuz olacak ve döngü sonlanacak\n",
    "while kullanıcı_sayı != pc_sayı :\n",
    "    kullanıcı_sayı = int(input('\\nSayı Girişi Yapın: '))\n",
    "    \n",
    "    # Eğer kullanıcı sayıyı bulamazsa ekrana yeniden deneyin, bulursa tebrikler yazdırılacak\n",
    "    if kullanıcı_sayı != pc_sayı :\n",
    "        print('Bilemediniz Yeniden Deneyin')\n",
    "    else :\n",
    "        print('Tebrikler :-) Bidiniz')"
   ]
  },
  {
   "cell_type": "markdown",
   "metadata": {},
   "source": [
    "Döngülerde aynı koşul durumları gibi blok mantığı ile çalışır. Döngü koşul ifadesinden sonra döngüye ait kodlar bir paragraf içeriden yazılır. Üstte görüldüğü gibi **while** döngüsünden sonra yazılan kodlar **while** döngüsüne ait kodlardır ve bir paragraf içeriden yazılır. Kodu anlamak için kodu daha küçük parçalara bölerek inceleyelim."
   ]
  },
  {
   "cell_type": "code",
   "execution_count": 35,
   "metadata": {},
   "outputs": [
    {
     "name": "stdout",
     "output_type": "stream",
     "text": [
      "Sayı Girişi Yapın: 1\n",
      "Sayı Girişi Yapın: 6\n",
      "Sayı Girişi Yapın: 3\n",
      "Sayı Girişi Yapın: 4\n",
      "Sayı Girişi Yapın: 5\n"
     ]
    }
   ],
   "source": [
    "pc_sayı = 5\n",
    "kullanıcı_sayı = 0\n",
    "\n",
    "while kullanıcı_sayı != pc_sayı :\n",
    "    kullanıcı_sayı = int(input('Sayı Girişi Yapın: '))"
   ]
  },
  {
   "cell_type": "markdown",
   "metadata": {},
   "source": [
    "**pc_sayı** değişkeni kod içerisinde kullanıcının göremeğidi bir sayı değerini tutar. **kullanıcı_sayı** değişkeni kullanıcıdan alınan değeri tutması için kullanılır. **kullanıcı_sayı = 0 ** ifadesi **while** ifadesinden önce tanımlanmış. Bunun sebeni **while kullanıcı_sayı != pc_sayı :** ifadesi içerisinde **kullanıcı_sayı** değişkeninin kullanılmasıdır. Eğer **kullanıcı_sayı** değişkeni **while** ifadesinden önce tanımlanmasaydı **while** ifadesinde tanımsız değişken kullanıldığı için kodda hata oluşacaktı."
   ]
  },
  {
   "cell_type": "code",
   "execution_count": 15,
   "metadata": {},
   "outputs": [
    {
     "ename": "NameError",
     "evalue": "name 'kllnc_sayı' is not defined",
     "output_type": "error",
     "traceback": [
      "\u001b[0;31m---------------------------------------------------------------------------\u001b[0m",
      "\u001b[0;31mNameError\u001b[0m                                 Traceback (most recent call last)",
      "\u001b[0;32m<ipython-input-15-d3d08858c549>\u001b[0m in \u001b[0;36m<module>\u001b[0;34m()\u001b[0m\n\u001b[1;32m      2\u001b[0m \u001b[0;31m# kullanıcı_sayı değişkeni tanımlanmamış\u001b[0m\u001b[0;34m\u001b[0m\u001b[0;34m\u001b[0m\u001b[0m\n\u001b[1;32m      3\u001b[0m \u001b[0;34m\u001b[0m\u001b[0m\n\u001b[0;32m----> 4\u001b[0;31m \u001b[0;32mwhile\u001b[0m \u001b[0mkllnc_sayı\u001b[0m \u001b[0;34m!=\u001b[0m \u001b[0mpc_sayı\u001b[0m \u001b[0;34m:\u001b[0m\u001b[0;34m\u001b[0m\u001b[0m\n\u001b[0m\u001b[1;32m      5\u001b[0m     \u001b[0mkllnc_sayı\u001b[0m \u001b[0;34m=\u001b[0m \u001b[0mint\u001b[0m\u001b[0;34m(\u001b[0m\u001b[0minput\u001b[0m\u001b[0;34m(\u001b[0m\u001b[0;34m'Sayı Girişi Yapın: '\u001b[0m\u001b[0;34m)\u001b[0m\u001b[0;34m)\u001b[0m\u001b[0;34m\u001b[0m\u001b[0m\n",
      "\u001b[0;31mNameError\u001b[0m: name 'kllnc_sayı' is not defined"
     ]
    }
   ],
   "source": [
    "pc_sayı = 5\n",
    "# kullanıcı_sayı değişkeni tanımlanmamış\n",
    "\n",
    "while kllnc_sayı != pc_sayı :\n",
    "    kllnc_sayı = int(input('Sayı Girişi Yapın: '))"
   ]
  },
  {
   "cell_type": "markdown",
   "metadata": {},
   "source": [
    "## 3. Adım Rastgele Sayı Tahmin Etme ve Kullanıcıyı Yönlendirme\n",
    "Gördüğünüz gibi **while** dönüsünde bulunan koşul sağlandığı sürece döngü tekrar ediyor. Üstteki örneği daha geliştirelim. Bu sefer kullanıcı bilgisayarın rastgele belirleyeceği 1 ve 1000 dahil 1 - 1000 arası sayıyı bulmaya çalışsın. Bilgisayar sayıyı ararken kullanıcıyı aranan sayıya göre tahminin büyük veya küçük olup olmadığına göre yönlendirsin."
   ]
  },
  {
   "cell_type": "code",
   "execution_count": 5,
   "metadata": {},
   "outputs": [
    {
     "name": "stdout",
     "output_type": "stream",
     "text": [
      "\n",
      "1.Deneme İçin Sayı Girişi Yapın: 500\n",
      "Tahmininiz küçük\n",
      "\n",
      "2.Deneme İçin Sayı Girişi Yapın: 750\n",
      "Tahmininiz BÜYÜK\n",
      "\n",
      "3.Deneme İçin Sayı Girişi Yapın: 675\n",
      "Tahmininiz küçük\n",
      "\n",
      "4.Deneme İçin Sayı Girişi Yapın: 735\n",
      "Tahmininiz BÜYÜK\n",
      "\n",
      "5.Deneme İçin Sayı Girişi Yapın: 700\n",
      "Tahmininiz küçük\n",
      "\n",
      "6.Deneme İçin Sayı Girişi Yapın: 715\n",
      "Tahmininiz BÜYÜK\n",
      "\n",
      "7.Deneme İçin Sayı Girişi Yapın: 707\n",
      "Tahmininiz BÜYÜK\n",
      "\n",
      "8.Deneme İçin Sayı Girişi Yapın: 703\n",
      "Tahmininiz BÜYÜK\n",
      "\n",
      "9.Deneme İçin Sayı Girişi Yapın: 701\n",
      "Tebrikler :-) 9.Denemenizde Bildiniz\n"
     ]
    }
   ],
   "source": [
    "# bilgisayarın rastgele sayı tahmini yapması için ekstra özellikler ekleniyor\n",
    "from random import randint\n",
    "\n",
    "# 1 ve 1000 dahil 1 - 1000 arası rastgele bir sayı bulunuyor ve pc_sayı değişkenine atanıyor\n",
    "pc_sayı = randint(1,1000)\n",
    "kullanıcı_sayı = 0\n",
    "# kullanıcının yaptığı deneme sayıları sayaç(counter) diye tabir edilen deneme değişkeninde tutulacak\n",
    "deneme = 0\n",
    "\n",
    "while kullanıcı_sayı != pc_sayı:\n",
    "    # ilk deneme ile kullanıcının yaptığı denemeler sayılıyor\n",
    "    deneme += 1\n",
    "    kullanıcı_sayı = int(input('\\n{}.Deneme İçin Sayı Girişi Yapın: '.format(deneme)))\n",
    "              \n",
    "    if kullanıcı_sayı > pc_sayı :\n",
    "        # tahmin bilgisayarın bulduğu sayıdan büyükse \n",
    "        print('Tahmininiz BÜYÜK')\n",
    "    elif kullanıcı_sayı < pc_sayı :\n",
    "        # tahmin bilgisayarın bulduğu sayıdan küçükse \n",
    "        print('Tahmininiz küçük')\n",
    "    else :\n",
    "        # sayı bulunduğunda\n",
    "        print('Tebrikler :-) {}.Denemenizde Bildiniz'.format(deneme))\n"
   ]
  },
  {
   "cell_type": "markdown",
   "metadata": {},
   "source": [
    "## 4. Adım Kullanıcıya Belli Sayıda Hak Verme"
   ]
  },
  {
   "cell_type": "code",
   "execution_count": 15,
   "metadata": {},
   "outputs": [
    {
     "name": "stdout",
     "output_type": "stream",
     "text": [
      "\n",
      "1.Deneme İçin Sayı Girişi Yapın: 500\n",
      "Tahmininiz küçük. 9 adet hakkınız kaldı\n",
      "\n",
      "2.Deneme İçin Sayı Girişi Yapın: 750\n",
      "Tahmininiz BÜYÜK. 8 adet hakkınız kaldı\n",
      "\n",
      "3.Deneme İçin Sayı Girişi Yapın: 325\n",
      "Tahmininiz küçük. 7 adet hakkınız kaldı\n",
      "\n",
      "4.Deneme İçin Sayı Girişi Yapın: 625\n",
      "Tahmininiz BÜYÜK. 6 adet hakkınız kaldı\n",
      "\n",
      "5.Deneme İçin Sayı Girişi Yapın: 600\n",
      "Tahmininiz BÜYÜK. 5 adet hakkınız kaldı\n",
      "\n",
      "6.Deneme İçin Sayı Girişi Yapın: 550\n",
      "Tahmininiz küçük. 4 adet hakkınız kaldı\n",
      "\n",
      "7.Deneme İçin Sayı Girişi Yapın: 570\n",
      "Tahmininiz küçük. 3 adet hakkınız kaldı\n",
      "\n",
      "8.Deneme İçin Sayı Girişi Yapın: 580\n",
      "Tahmininiz küçük. 2 adet hakkınız kaldı\n",
      "\n",
      "9.Deneme İçin Sayı Girişi Yapın: 590\n",
      "Tahmininiz küçük. 1 adet hakkınız kaldı\n",
      "\n",
      "10.Deneme İçin Sayı Girişi Yapın: 595\n",
      "Tebrikler :-) 10.Hakkınızda Bildiniz\n"
     ]
    }
   ],
   "source": [
    "from random import randint\n",
    "\n",
    "pc_sayı = randint(1,1000)\n",
    "kullanıcı_sayı = 0\n",
    "# kullanıcının yaptığı denemeler\n",
    "deneme = 0\n",
    "# kullanıcının hakları her denemede azalacak\n",
    "hak = 10 \n",
    "\n",
    "# döngüye hak koşulu eklendi. Kullanıcının sayıyı bulmak için 10 hakkı var\n",
    "while kullanıcı_sayı != pc_sayı and hak != 0 :\n",
    "    deneme += 1\n",
    "    hak -=1\n",
    "    \n",
    "    kullanıcı_sayı = int(input('\\n{}.Deneme İçin Sayı Girişi Yapın: '.format(deneme)))\n",
    "              \n",
    "    if kullanıcı_sayı > pc_sayı :\n",
    "        print('Tahmininiz BÜYÜK. {} adet hakkınız kaldı'.format(hak))\n",
    "    elif kullanıcı_sayı < pc_sayı :\n",
    "        print('Tahmininiz küçük. {} adet hakkınız kaldı'.format(hak))\n",
    "    else :\n",
    "        print('Tebrikler :-) {}.Hakkınızda Bildiniz'.format(deneme))\n",
    "        \n",
    "    # hakkınız bitmiş ve sayıyı bulamadıysanız kaybettiniz yazısı çıkacak\n",
    "    # sadece if hak == 0 : yapsaydık son hakkımızda doğru sayıyı bulsanız dahi oyunu kaybettiniz mesajı çıkacaktı.\n",
    "    if hak == 0 and kullanıcı_sayı != pc_sayı :\n",
    "        print('\\nTüm Tahmin Haklarınız Bitti.')\n",
    "        print('{} Sayısını Bulamadınız.'.format(pc_sayı))\n",
    "        print('Oyunu Kaybettiniz :-(')\n"
   ]
  },
  {
   "cell_type": "markdown",
   "metadata": {},
   "source": [
    "## 5. Adım Kullanıcıya Yeniden Oynamak İsteyip İstemediğini Sorma"
   ]
  },
  {
   "cell_type": "markdown",
   "metadata": {},
   "source": [
    "Oyunumuz çalışıyor artık programın süslemelerini yapalım. Önce basit bir kod ile kullanıcının yeniden oynamak isteyip istemediğini soralım. Eğer kullanıcı yeniden oynamak istiyorsa bilgisayar oyunu baştan başlatsın eğer kullanıcı yeniden oynamak istemiyorsa oyundan çıkış yapılsın. Öncelikle oyunun kodunu içermeyen diğer bölümleri çalıştıralım. Bunun için 1.Adımda yaptığımız giriş ve çıkış ifadeleriyle 5. Adımı birleştirelim. Burada sadece program devam edip edilmeyeceğini sorsun."
   ]
  },
  {
   "cell_type": "code",
   "execution_count": 18,
   "metadata": {},
   "outputs": [
    {
     "name": "stdout",
     "output_type": "stream",
     "text": [
      "*********************Sayı Tahmin Oyunu*********************\n",
      "**Tahmin için 1 ve 10 dahil 1 – 10 arası bir sayı giriniz**\n",
      "****************10 Adet Tahmin Hakkınız Var****************\n",
      "***********************************************************\n",
      "\n",
      "Program Bu Aralıkta Çalışacak\n",
      "Bir el daha oynak istiyor musunuz(e):e\n",
      "\n",
      "Program Bu Aralıkta Çalışacak\n",
      "Bir el daha oynak istiyor musunuz(e):e\n",
      "\n",
      "Program Bu Aralıkta Çalışacak\n",
      "Bir el daha oynak istiyor musunuz(e):h\n",
      "\n",
      "*******************Program Sonlandırıldı*******************\n"
     ]
    }
   ],
   "source": [
    "prog_giris = 'Tahmin için 1 ve 10 dahil 1 – 10 arası bir sayı giriniz'\n",
    "\n",
    "yıldız_boy = len(prog_giris)+4\n",
    "\n",
    "print('Sayı Tahmin Oyunu'.center(yıldız_boy,'*'))\n",
    "print(prog_giris.center(yıldız_boy,'*'))\n",
    "print('10 Adet Tahmin Hakkınız Var'.center(yıldız_boy,'*'))\n",
    "print(''.center(yıldız_boy,'*'))\n",
    "\n",
    "# kullanıcının yeniden oynayıp oynamayacağı bilgisi tutuluyor\n",
    "devam = 'e'\n",
    "\n",
    "# kullanıcı 'e' dışında bir karakter girerse program sonlanacak\n",
    "while devam == 'e' :\n",
    "    \n",
    "    print('\\nProgram Bu Aralıkta Çalışacak')\n",
    "    \n",
    "    devam = input('Bir el daha oynak istiyor musunuz(e):')\n",
    "\n",
    "print('\\n'+'Program Sonlandırıldı'.center(yıldız_boy,'*'))"
   ]
  },
  {
   "cell_type": "markdown",
   "metadata": {},
   "source": [
    " ## 6. Adım Programı Sonlanlandırma\n",
    "4. Adımda programın çalışmasıyla ilgili hemen hemen her şeyip yaptık. 5. Adımda programın süslemelerini yaptık. Bu adımda 4. ve 5. adımları birleştirip programı bitirelim."
   ]
  },
  {
   "cell_type": "code",
   "execution_count": 1,
   "metadata": {},
   "outputs": [
    {
     "name": "stdout",
     "output_type": "stream",
     "text": [
      "*********************Sayı Tahmin Oyunu*********************\n",
      "**Tahmin için 1 ve 10 dahil 1 – 10 arası bir sayı giriniz**\n",
      "****************10 Adet Tahmin Hakkınız Var****************\n",
      "***********************************************************\n",
      "\n",
      "1.Deneme İçin Sayı Girişi Yapın: 500\n",
      "Tahmininiz küçük. 9 adet hakkınız kaldı\n",
      "\n",
      "2.Deneme İçin Sayı Girişi Yapın: 750\n",
      "Tahmininiz küçük. 8 adet hakkınız kaldı\n",
      "\n",
      "3.Deneme İçin Sayı Girişi Yapın: 875\n",
      "Tahmininiz BÜYÜK. 7 adet hakkınız kaldı\n",
      "\n",
      "4.Deneme İçin Sayı Girişi Yapın: 800\n",
      "Tahmininiz küçük. 6 adet hakkınız kaldı\n",
      "\n",
      "5.Deneme İçin Sayı Girişi Yapın: 840\n",
      "Tahmininiz küçük. 5 adet hakkınız kaldı\n",
      "\n",
      "6.Deneme İçin Sayı Girişi Yapın: 860\n",
      "Tahmininiz BÜYÜK. 4 adet hakkınız kaldı\n",
      "\n",
      "7.Deneme İçin Sayı Girişi Yapın: 850\n",
      "Tahmininiz BÜYÜK. 3 adet hakkınız kaldı\n",
      "\n",
      "8.Deneme İçin Sayı Girişi Yapın: 845\n",
      "Tebrikler :-) 8.Hakkınızda Bildiniz\n",
      "Bir el daha oynak istiyor musunuz(e):e\n",
      "\n",
      "*************************Yeni Oyun*************************\n",
      "\n",
      "1.Deneme İçin Sayı Girişi Yapın: 500\n",
      "Tahmininiz BÜYÜK. 9 adet hakkınız kaldı\n",
      "\n",
      "2.Deneme İçin Sayı Girişi Yapın: 250\n",
      "Tahmininiz küçük. 8 adet hakkınız kaldı\n",
      "\n",
      "3.Deneme İçin Sayı Girişi Yapın: 375\n",
      "Tahmininiz BÜYÜK. 7 adet hakkınız kaldı\n",
      "\n",
      "4.Deneme İçin Sayı Girişi Yapın: 300\n",
      "Tahmininiz BÜYÜK. 6 adet hakkınız kaldı\n",
      "\n",
      "5.Deneme İçin Sayı Girişi Yapın: 280\n",
      "Tahmininiz küçük. 5 adet hakkınız kaldı\n",
      "\n",
      "6.Deneme İçin Sayı Girişi Yapın: 290\n",
      "Tahmininiz BÜYÜK. 4 adet hakkınız kaldı\n",
      "\n",
      "7.Deneme İçin Sayı Girişi Yapın: 285\n",
      "Tahmininiz küçük. 3 adet hakkınız kaldı\n",
      "\n",
      "8.Deneme İçin Sayı Girişi Yapın: 282\n",
      "Tahmininiz küçük. 2 adet hakkınız kaldı\n",
      "\n",
      "9.Deneme İçin Sayı Girişi Yapın: 283\n",
      "Tahmininiz küçük. 1 adet hakkınız kaldı\n",
      "\n",
      "10.Deneme İçin Sayı Girişi Yapın: 284\n",
      "Tahmininiz küçük. 0 adet hakkınız kaldı\n",
      "\n",
      "Tüm Tahmin Haklarınız Bitti.\n",
      "288 Sayısını Bulamadınız.\n",
      "Oyunu Kaybettiniz :-(\n",
      "Bir el daha oynak istiyor musunuz(e):h\n",
      "\n",
      "*******************Program Sonlandırıldı*******************\n"
     ]
    }
   ],
   "source": [
    "from random import randint\n",
    "\n",
    "prog_giris = 'Tahmin için 1 ve 10 dahil 1 – 10 arası bir sayı giriniz'\n",
    "\n",
    "yıldız_boy = len(prog_giris)+4\n",
    "\n",
    "print('Sayı Tahmin Oyunu'.center(yıldız_boy,'*'))\n",
    "print(prog_giris.center(yıldız_boy,'*'))\n",
    "print('10 Adet Tahmin Hakkınız Var'.center(yıldız_boy,'*'))\n",
    "print(''.center(yıldız_boy,'*'))\n",
    "\n",
    "# kullanıcının yeniden oynayıp oynamayacağı bilgisi tutuluyor\n",
    "devam = 'e'\n",
    "\n",
    "# kullanıcı 'e' dışında bir karakter girerse program sonlanacak\n",
    "while devam == 'e' :\n",
    "\n",
    "    pc_sayı = randint(1,1000)\n",
    "    kullanıcı_sayı = 0\n",
    "    # kullanıcının yaptığı denemeler\n",
    "    deneme = 0\n",
    "    # kullanıcının hakları her denemede azalacak\n",
    "    hak = 10 \n",
    "\n",
    "    # döngüye hak koşulu eklendi. Kullanıcının sayıyı bulmak için 10 hakkı var\n",
    "    while kullanıcı_sayı != pc_sayı and hak != 0 :\n",
    "        deneme += 1\n",
    "        hak -=1\n",
    "\n",
    "        kullanıcı_sayı = int(input('\\n{}.Deneme İçin Sayı Girişi Yapın: '.format(deneme)))\n",
    "\n",
    "        if kullanıcı_sayı > pc_sayı :\n",
    "            print('Tahmininiz BÜYÜK. {} adet hakkınız kaldı'.format(hak))\n",
    "        elif kullanıcı_sayı < pc_sayı :\n",
    "            print('Tahmininiz küçük. {} adet hakkınız kaldı'.format(hak))\n",
    "        else :\n",
    "            print('Tebrikler :-) {}.Hakkınızda Bildiniz'.format(deneme))\n",
    "\n",
    "        # hakkınız bitmiş ve sayıyı bulamadıysanız kaybettiniz yazısı çıkacak\n",
    "        # sadece if hak == 0 : yapsaydık son hakkımızda doğru sayıyı bulsanız dahi oyunu kaybettiniz mesajı çıkacaktı.\n",
    "        if hak == 0 and kullanıcı_sayı != pc_sayı :\n",
    "            print('\\nTüm Tahmin Haklarınız Bitti.')\n",
    "            print('{} Sayısını Bulamadınız.'.format(pc_sayı))\n",
    "            print('Oyunu Kaybettiniz :-(')\n",
    "    \n",
    "    devam = input('Bir el daha oynak istiyor musunuz(e):')\n",
    "    if devam == 'e' :\n",
    "        print('\\n'+'Yeni Oyun'.center(yıldız_boy,'*'))\n",
    "\n",
    "print('\\n'+'Program Sonlandırıldı'.center(yıldız_boy,'*'))"
   ]
  },
  {
   "cell_type": "markdown",
   "metadata": {},
   "source": [
    "## İkili arama algoritması (binary search algorithm)\n",
    "Dikkatli gözlerden kaçmamıştır. Sayı bulma oyunu örneklerinde 1 - 1000 arasında sayıları bulmak için önce 500 ile başlandı. Bunun sebebi aranan sayıyı **ikili arama algoritması (binary serach algorith)** ile aramamızdan kaynaklanıyor. İkili aramada önce 500 ile başlarsak aranan sayı beşyüzden ya büyük ya küçük olacak. Eğer sayı beşyüzden küçükse beşyüzden büyük sayılar ihtimal dışı kalacak. Bu şekilde sayı aralığı ikiye bölünerek arama yapıldığında 1000 sayı için en fazla log2(n) formülünden log2(1000) = 9.9658 yani 10 aramada sayı bulunur."
   ]
  },
  {
   "cell_type": "code",
   "execution_count": 6,
   "metadata": {},
   "outputs": [
    {
     "data": {
      "image/png": "[encoded data removed]",
      "text/plain": [
       "<IPython.core.display.Image object>"
      ]
     },
     "metadata": {},
     "output_type": "display_data"
    }
   ],
   "source": [
    "from IPython.display import Image\n",
    "display(Image(filename = 'kaynak\\Binary_Search_Depiction.png'))"
   ]
  }
 ],
 "metadata": {
  "kernelspec": {
   "display_name": "Python 3",
   "language": "python",
   "name": "python3"
  },
  "language_info": {
   "codemirror_mode": {
    "name": "ipython",
    "version": 3
   },
   "file_extension": ".py",
   "mimetype": "text/x-python",
   "name": "python",
   "nbconvert_exporter": "python",
   "pygments_lexer": "ipython3",
   "version": "3.5.4"
  }
 },
 "nbformat": 4,
 "nbformat_minor": 2
}
