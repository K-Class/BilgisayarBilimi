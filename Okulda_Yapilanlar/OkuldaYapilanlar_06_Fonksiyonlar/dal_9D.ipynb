{
 "cells": [
  {
   "cell_type": "code",
   "execution_count": 1,
   "metadata": {},
   "outputs": [],
   "source": [
    "def faktoriyel_hesapla(n):\n",
    "    # faktöriyel hesabı\n",
    "    carpim = 1\n",
    "\n",
    "    for i in range(n,0,-1):\n",
    "        carpim *= i # carpim = i * carpim\n",
    "    \n",
    "    return carpim"
   ]
  },
  {
   "cell_type": "code",
   "execution_count": 2,
   "metadata": {},
   "outputs": [
    {
     "data": {
      "text/plain": [
       "5040"
      ]
     },
     "execution_count": 2,
     "metadata": {},
     "output_type": "execute_result"
    }
   ],
   "source": [
    "faktoriyel_hesapla(7)"
   ]
  },
  {
   "cell_type": "code",
   "execution_count": 6,
   "metadata": {},
   "outputs": [
    {
     "name": "stdout",
     "output_type": "stream",
     "text": [
      "1 Sayısının Faktöriyeli: 1\n",
      "2 Sayısının Faktöriyeli: 2\n",
      "3 Sayısının Faktöriyeli: 6\n",
      "4 Sayısının Faktöriyeli: 24\n",
      "5 Sayısının Faktöriyeli: 120\n",
      "6 Sayısının Faktöriyeli: 720\n",
      "7 Sayısının Faktöriyeli: 5040\n",
      "8 Sayısının Faktöriyeli: 40320\n",
      "9 Sayısının Faktöriyeli: 362880\n",
      "10 Sayısının Faktöriyeli: 3628800\n"
     ]
    }
   ],
   "source": [
    "for i in range(1,11):\n",
    "    print(\"{} Sayısının Faktöriyeli: {}\".format(i,faktoriyel_hesapla(i)))"
   ]
  },
  {
   "cell_type": "code",
   "execution_count": null,
   "metadata": {},
   "outputs": [],
   "source": []
  }
 ],
 "metadata": {
  "kernelspec": {
   "display_name": "Python 3",
   "language": "python",
   "name": "python3"
  },
  "language_info": {
   "codemirror_mode": {
    "name": "ipython",
    "version": 3
   },
   "file_extension": ".py",
   "mimetype": "text/x-python",
   "name": "python",
   "nbconvert_exporter": "python",
   "pygments_lexer": "ipython3",
   "version": "3.5.4"
  }
 },
 "nbformat": 4,
 "nbformat_minor": 2
}
