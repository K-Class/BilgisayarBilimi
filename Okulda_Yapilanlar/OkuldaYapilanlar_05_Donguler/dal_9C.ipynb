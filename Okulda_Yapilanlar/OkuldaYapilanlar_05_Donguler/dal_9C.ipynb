{
 "cells": [
  {
   "cell_type": "code",
   "execution_count": 3,
   "metadata": {},
   "outputs": [
    {
     "name": "stdout",
     "output_type": "stream",
     "text": [
      "Adım  1\n",
      "Adım  2\n",
      "Adım  3\n",
      "Adım  4\n",
      "Adım  5\n",
      "\n",
      "Program Sonlandı\n"
     ]
    }
   ],
   "source": [
    "print(\"Adım \",1)\n",
    "print(\"Adım \",2)\n",
    "print(\"Adım \",3)\n",
    "print(\"Adım \",4)\n",
    "print(\"Adım \",5)\n",
    "\n",
    "print(\"\\nProgram Sonlandı\")"
   ]
  },
  {
   "cell_type": "code",
   "execution_count": 6,
   "metadata": {},
   "outputs": [
    {
     "name": "stdout",
     "output_type": "stream",
     "text": [
      "Adım  1\n",
      "Adım  2\n",
      "Adım  3\n",
      "Adım  4\n",
      "Adım  5\n",
      "\n",
      "Program Sonlandı\n"
     ]
    }
   ],
   "source": [
    "sayaç = 0\n",
    "\n",
    "while sayaç < 5 :\n",
    "    sayaç = sayaç + 1\n",
    "    print(\"Adım \",sayaç)\n",
    "\n",
    "print(\"\\nProgram Sonlandı\")    "
   ]
  },
  {
   "cell_type": "code",
   "execution_count": 8,
   "metadata": {},
   "outputs": [
    {
     "ename": "NameError",
     "evalue": "name 'syc' is not defined",
     "output_type": "error",
     "traceback": [
      "\u001b[1;31m---------------------------------------------------------------------------\u001b[0m",
      "\u001b[1;31mNameError\u001b[0m                                 Traceback (most recent call last)",
      "\u001b[1;32m<ipython-input-8-38fd28b3f356>\u001b[0m in \u001b[0;36m<module>\u001b[1;34m()\u001b[0m\n\u001b[0;32m      1\u001b[0m \u001b[1;33m\u001b[0m\u001b[0m\n\u001b[1;32m----> 2\u001b[1;33m \u001b[1;32mwhile\u001b[0m \u001b[0msyc\u001b[0m \u001b[1;33m<\u001b[0m \u001b[1;36m5\u001b[0m \u001b[1;33m:\u001b[0m\u001b[1;33m\u001b[0m\u001b[0m\n\u001b[0m\u001b[0;32m      3\u001b[0m     \u001b[0msyc\u001b[0m \u001b[1;33m=\u001b[0m \u001b[0msyc\u001b[0m \u001b[1;33m+\u001b[0m \u001b[1;36m1\u001b[0m\u001b[1;33m\u001b[0m\u001b[0m\n\u001b[0;32m      4\u001b[0m     \u001b[0mprint\u001b[0m\u001b[1;33m(\u001b[0m\u001b[1;34m\"Adım \"\u001b[0m\u001b[1;33m,\u001b[0m\u001b[0msyc\u001b[0m\u001b[1;33m)\u001b[0m\u001b[1;33m\u001b[0m\u001b[0m\n\u001b[0;32m      5\u001b[0m \u001b[1;33m\u001b[0m\u001b[0m\n",
      "\u001b[1;31mNameError\u001b[0m: name 'syc' is not defined"
     ]
    }
   ],
   "source": [
    "\n",
    "while syc < 5 :\n",
    "    syc = syc + 1\n",
    "    print(\"Adım \",syc)\n",
    "\n",
    "print(\"\\nProgram Sonlandı\") "
   ]
  },
  {
   "cell_type": "code",
   "execution_count": 11,
   "metadata": {},
   "outputs": [
    {
     "name": "stdout",
     "output_type": "stream",
     "text": [
      "Adım  0\n",
      "Adım  0\n",
      "Adım  0\n"
     ]
    },
    {
     "ename": "KeyboardInterrupt",
     "evalue": "",
     "output_type": "error",
     "traceback": [
      "\u001b[1;31m---------------------------------------------------------------------------\u001b[0m",
      "\u001b[1;31mKeyboardInterrupt\u001b[0m                         Traceback (most recent call last)",
      "\u001b[1;32m<ipython-input-11-0d8dbc89c321>\u001b[0m in \u001b[0;36m<module>\u001b[1;34m()\u001b[0m\n\u001b[0;32m      6\u001b[0m \u001b[1;32mwhile\u001b[0m \u001b[0msayaç\u001b[0m \u001b[1;33m<\u001b[0m \u001b[1;36m5\u001b[0m \u001b[1;33m:\u001b[0m\u001b[1;33m\u001b[0m\u001b[0m\n\u001b[0;32m      7\u001b[0m     \u001b[1;31m# sayaç değeri artmadığı için sonsuz döngü oluşur\u001b[0m\u001b[1;33m\u001b[0m\u001b[1;33m\u001b[0m\u001b[0m\n\u001b[1;32m----> 8\u001b[1;33m     \u001b[0mtime\u001b[0m\u001b[1;33m.\u001b[0m\u001b[0msleep\u001b[0m\u001b[1;33m(\u001b[0m\u001b[1;36m1\u001b[0m\u001b[1;33m)\u001b[0m\u001b[1;33m\u001b[0m\u001b[0m\n\u001b[0m\u001b[0;32m      9\u001b[0m     \u001b[0mprint\u001b[0m\u001b[1;33m(\u001b[0m\u001b[1;34m\"Adım \"\u001b[0m\u001b[1;33m,\u001b[0m\u001b[0msayaç\u001b[0m\u001b[1;33m)\u001b[0m\u001b[1;33m\u001b[0m\u001b[0m\n\u001b[0;32m     10\u001b[0m \u001b[1;33m\u001b[0m\u001b[0m\n",
      "\u001b[1;31mKeyboardInterrupt\u001b[0m: "
     ]
    }
   ],
   "source": [
    "# time(zaman) modülünü kodumuza ekliyoruz bu konu ileride görülecek\n",
    "import time\n",
    "\n",
    "sayaç = 0\n",
    "\n",
    "while sayaç < 5 :\n",
    "    # sayaç değeri artmadığı için sonsuz döngü oluşur\n",
    "    time.sleep(1)\n",
    "    print(\"Adım \",sayaç)\n",
    "\n",
    "print(\"\\nProgram Sonlandı\") "
   ]
  },
  {
   "cell_type": "code",
   "execution_count": 17,
   "metadata": {},
   "outputs": [
    {
     "name": "stdout",
     "output_type": "stream",
     "text": [
      "Toplam Değer :  5050\n",
      "\n",
      "Program Sonlandı\n"
     ]
    }
   ],
   "source": [
    "sayaç = 0\n",
    "toplam = 0\n",
    "\n",
    "while sayaç < 100 :\n",
    "    sayaç += 1 # sayaç = sayaç + 1\n",
    "    toplam = sayaç + toplam\n",
    "\n",
    "print(\"Toplam Değer : \",toplam)\n",
    "print(\"\\nProgram Sonlandı\")\n"
   ]
  },
  {
   "cell_type": "code",
   "execution_count": 20,
   "metadata": {},
   "outputs": [
    {
     "name": "stdout",
     "output_type": "stream",
     "text": [
      "Çıkmak için 'ç' harfini girin\n",
      "Toplanacak Tam Sayı Değerini Girin : 2\n",
      "Toplanacak Tam Sayı Değerini Girin : 4\n",
      "Toplanacak Tam Sayı Değerini Girin : 6\n",
      "Toplanacak Tam Sayı Değerini Girin : 8\n",
      "Toplanacak Tam Sayı Değerini Girin : 12\n",
      "Toplanacak Tam Sayı Değerini Girin : 14\n",
      "Toplanacak Tam Sayı Değerini Girin : ç\n",
      "Girilen Sayıların Toplamı =  46\n",
      "\n",
      "Program Sonlandı\n"
     ]
    }
   ],
   "source": [
    "print(\"Çıkmak için 'ç' harfini girin\")\n",
    "\n",
    "sayı = input('Toplanacak Tam Sayı Değerini Girin : ') #kullanıcıdan string değer alır\n",
    "\n",
    "toplam = 0\n",
    "\n",
    "while sayı != 'ç' :\n",
    "    toplam = toplam + int(sayı) # string sayı değişkeni int tipine çevriliyor\n",
    "    sayı = input('Toplanacak Tam Sayı Değerini Girin : ')\n",
    "\n",
    "print('Girilen Sayıların Toplamı = ',toplam)\n",
    "\n",
    "print(\"\\nProgram Sonlandı\")"
   ]
  },
  {
   "cell_type": "code",
   "execution_count": 21,
   "metadata": {},
   "outputs": [
    {
     "name": "stdout",
     "output_type": "stream",
     "text": [
      "Çıkmak için 'ç' harfini girin\n",
      "Toplanacak Tam Sayı Değerini Girin : 9\n",
      "Toplanacak Tam Sayı Değerini Girin : 1\n",
      "Toplanacak Tam Sayı Değerini Girin : 8\n",
      "Toplanacak Tam Sayı Değerini Girin : 2\n",
      "Toplanacak Tam Sayı Değerini Girin : 7\n",
      "Toplanacak Tam Sayı Değerini Girin : 3\n",
      "Toplanacak Tam Sayı Değerini Girin : 6\n",
      "Toplanacak Tam Sayı Değerini Girin : 5\n",
      "Toplanacak Tam Sayı Değerini Girin : ç\n",
      "8 Adet Girilen Sayının Toplamı = 41\n",
      "\n",
      "Program Sonlandı\n"
     ]
    }
   ],
   "source": [
    "print(\"Çıkmak için 'ç' harfini girin\")\n",
    "\n",
    "sayı = input('Toplanacak Tam Sayı Değerini Girin : ') #kullanıcıdan string değer alır\n",
    "sayaç = 0\n",
    "toplam = 0\n",
    "\n",
    "while sayı != 'ç' :\n",
    "    sayaç += 1\n",
    "    toplam = toplam + int(sayı) # string sayı değişkeni int tipine çevriliyor\n",
    "    sayı = input('Toplanacak Tam Sayı Değerini Girin : ')\n",
    "\n",
    "print('{} Adet Girilen Sayının Toplamı = {}'.format(sayaç,toplam))\n",
    "\n",
    "print(\"\\nProgram Sonlandı\")"
   ]
  },
  {
   "cell_type": "code",
   "execution_count": null,
   "metadata": {},
   "outputs": [],
   "source": []
  }
 ],
 "metadata": {
  "kernelspec": {
   "display_name": "Python 3",
   "language": "python",
   "name": "python3"
  },
  "language_info": {
   "codemirror_mode": {
    "name": "ipython",
    "version": 3
   },
   "file_extension": ".py",
   "mimetype": "text/x-python",
   "name": "python",
   "nbconvert_exporter": "python",
   "pygments_lexer": "ipython3",
   "version": "3.5.4"
  }
 },
 "nbformat": 4,
 "nbformat_minor": 2
}
