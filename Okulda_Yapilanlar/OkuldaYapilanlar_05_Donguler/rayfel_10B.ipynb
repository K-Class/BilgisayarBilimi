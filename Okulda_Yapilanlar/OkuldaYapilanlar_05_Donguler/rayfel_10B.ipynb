{
 "cells": [
  {
   "cell_type": "code",
   "execution_count": 3,
   "metadata": {},
   "outputs": [
    {
     "name": "stdout",
     "output_type": "stream",
     "text": [
      "Adım 1\n",
      "Adım 2\n",
      "Adım 3\n",
      "Adım 4\n",
      "Adım 5\n",
      "Adım 6\n",
      "Adım 7\n",
      "Adım 8\n",
      "Adım 9\n",
      "Adım 10\n",
      "\n",
      "Program Sonlandırıldı\n"
     ]
    }
   ],
   "source": [
    "sayaç = 0\n",
    "\n",
    "while sayaç < 10 :\n",
    "    \n",
    "    sayaç += 1 \n",
    "    print('Adım',sayaç)\n",
    "\n",
    "print('\\nProgram Sonlandırıldı')"
   ]
  },
  {
   "cell_type": "code",
   "execution_count": 6,
   "metadata": {},
   "outputs": [
    {
     "name": "stdout",
     "output_type": "stream",
     "text": [
      "Adım 0Adım 0Adım 0Adım 0Adım 0Adım 0Adım 0Adım 0Adım 0Adım 0Adım 0"
     ]
    },
    {
     "ename": "KeyboardInterrupt",
     "evalue": "",
     "output_type": "error",
     "traceback": [
      "\u001b[1;31m---------------------------------------------------------------------------\u001b[0m",
      "\u001b[1;31mKeyboardInterrupt\u001b[0m                         Traceback (most recent call last)",
      "\u001b[1;32m<ipython-input-6-ad146f6678eb>\u001b[0m in \u001b[0;36m<module>\u001b[1;34m()\u001b[0m\n\u001b[0;32m      6\u001b[0m \u001b[1;32mwhile\u001b[0m \u001b[0msayaç\u001b[0m \u001b[1;33m<\u001b[0m \u001b[1;36m10\u001b[0m \u001b[1;33m:\u001b[0m\u001b[1;33m\u001b[0m\u001b[0m\n\u001b[0;32m      7\u001b[0m     \u001b[1;31m# syç değişkeninin değeri artırılmıyor\u001b[0m\u001b[1;33m\u001b[0m\u001b[1;33m\u001b[0m\u001b[0m\n\u001b[1;32m----> 8\u001b[1;33m     \u001b[0mtime\u001b[0m\u001b[1;33m.\u001b[0m\u001b[0msleep\u001b[0m\u001b[1;33m(\u001b[0m\u001b[1;36m0.5\u001b[0m\u001b[1;33m)\u001b[0m\u001b[1;33m\u001b[0m\u001b[0m\n\u001b[0m\u001b[0;32m      9\u001b[0m \u001b[1;33m\u001b[0m\u001b[0m\n\u001b[0;32m     10\u001b[0m     \u001b[0mprint\u001b[0m\u001b[1;33m(\u001b[0m\u001b[1;34m'Adım'\u001b[0m\u001b[1;33m,\u001b[0m\u001b[0msayaç\u001b[0m\u001b[1;33m,\u001b[0m\u001b[0mend\u001b[0m \u001b[1;33m=\u001b[0m \u001b[1;34m''\u001b[0m\u001b[1;33m)\u001b[0m\u001b[1;33m\u001b[0m\u001b[0m\n",
      "\u001b[1;31mKeyboardInterrupt\u001b[0m: "
     ]
    }
   ],
   "source": [
    "# time(zaman) modülünü kodumuza ekliyoruz bu konu ileride görülecek\n",
    "import time\n",
    "\n",
    "sayaç = 0\n",
    "\n",
    "while sayaç < 10 :\n",
    "    # syç değişkeninin değeri artırılmıyor\n",
    "    time.sleep(0.5)\n",
    "    \n",
    "    print('Adım',sayaç,end = '')"
   ]
  },
  {
   "cell_type": "code",
   "execution_count": 8,
   "metadata": {},
   "outputs": [
    {
     "ename": "NameError",
     "evalue": "name 'syç' is not defined",
     "output_type": "error",
     "traceback": [
      "\u001b[1;31m---------------------------------------------------------------------------\u001b[0m",
      "\u001b[1;31mNameError\u001b[0m                                 Traceback (most recent call last)",
      "\u001b[1;32m<ipython-input-8-cf9198cb2608>\u001b[0m in \u001b[0;36m<module>\u001b[1;34m()\u001b[0m\n\u001b[0;32m      1\u001b[0m \u001b[1;33m\u001b[0m\u001b[0m\n\u001b[0;32m      2\u001b[0m \u001b[1;33m\u001b[0m\u001b[0m\n\u001b[1;32m----> 3\u001b[1;33m \u001b[1;32mwhile\u001b[0m \u001b[0msyç\u001b[0m \u001b[1;33m<\u001b[0m \u001b[1;36m10\u001b[0m \u001b[1;33m:\u001b[0m\u001b[1;33m\u001b[0m\u001b[0m\n\u001b[0m\u001b[0;32m      4\u001b[0m \u001b[1;33m\u001b[0m\u001b[0m\n\u001b[0;32m      5\u001b[0m     \u001b[0msyç\u001b[0m \u001b[1;33m+=\u001b[0m \u001b[1;36m1\u001b[0m\u001b[1;33m\u001b[0m\u001b[0m\n",
      "\u001b[1;31mNameError\u001b[0m: name 'syç' is not defined"
     ]
    }
   ],
   "source": [
    "\n",
    "\n",
    "while syç < 10 :\n",
    "    \n",
    "    syç += 1 \n",
    "    print('Adım',syç)\n",
    "\n",
    "print('\\nProgram Sonlandırıldı')"
   ]
  },
  {
   "cell_type": "code",
   "execution_count": 17,
   "metadata": {},
   "outputs": [
    {
     "name": "stdout",
     "output_type": "stream",
     "text": [
      "Adım 1 Ara Toplam 1\n",
      "Adım 2 Ara Toplam 3\n",
      "Adım 3 Ara Toplam 6\n",
      "Adım 4 Ara Toplam 10\n",
      "Adım 5 Ara Toplam 15\n",
      "Adım 6 Ara Toplam 21\n",
      "Adım 7 Ara Toplam 28\n",
      "Adım 8 Ara Toplam 36\n",
      "Adım 9 Ara Toplam 45\n",
      "Adım 10 Ara Toplam 55\n",
      "\n",
      "Toplam: 55\n",
      "\n",
      "Program Sonlandırıldı\n"
     ]
    }
   ],
   "source": [
    "sayaç = 0\n",
    "toplam = 0\n",
    "\n",
    "while sayaç < 10 :\n",
    "    \n",
    "    sayaç += 1\n",
    "    toplam = sayaç + toplam\n",
    "    print('Adım',sayaç, 'Ara Toplam',toplam)\n",
    "\n",
    "print('\\nToplam:',toplam)\n",
    "print('\\nProgram Sonlandırıldı')"
   ]
  },
  {
   "cell_type": "code",
   "execution_count": 5,
   "metadata": {},
   "outputs": [
    {
     "name": "stdout",
     "output_type": "stream",
     "text": [
      "5050\n"
     ]
    }
   ],
   "source": [
    "sayaç = 0 \n",
    "toplam = 0\n",
    "\n",
    "while sayaç < 100 :\n",
    "    sayaç += 1\n",
    "    toplam = sayaç + toplam\n",
    "\n",
    "print(toplam)"
   ]
  },
  {
   "cell_type": "code",
   "execution_count": 6,
   "metadata": {},
   "outputs": [
    {
     "name": "stdout",
     "output_type": "stream",
     "text": [
      "Tekrar etmek istemiyorsanızı \"ç\" devam etemek için herhangi bir karakter girin:d\n",
      "Tekrar etmek istemiyorsanızı \"ç\" devam etemek için herhangi bir karakter girin:t\n",
      "Tekrar etmek istemiyorsanızı \"ç\" devam etemek için herhangi bir karakter girin:ü\n",
      "Tekrar etmek istemiyorsanızı \"ç\" devam etemek için herhangi bir karakter girin:k\n",
      "Tekrar etmek istemiyorsanızı \"ç\" devam etemek için herhangi bir karakter girin:ç\n",
      "\n",
      "Program Sonlandı\n"
     ]
    }
   ],
   "source": [
    "devam = ''\n",
    "\n",
    "while devam != 'ç' :\n",
    "    \n",
    "    devam = input('Tekrar etmek istemiyorsanızı \"ç\" devam etemek için herhangi bir karakter girin:')\n",
    "\n",
    "print('\\nProgram Sonlandı')"
   ]
  },
  {
   "cell_type": "code",
   "execution_count": 7,
   "metadata": {},
   "outputs": [
    {
     "name": "stdout",
     "output_type": "stream",
     "text": [
      "Tam Sayı Girişi Yapınız:3\n",
      "Tekrar etmek istemiyorsanızı \"ç\" devam etemek için herhangi bir karakter girin:h\n",
      "Tam Sayı Girişi Yapınız:5\n",
      "Tekrar etmek istemiyorsanızı \"ç\" devam etemek için herhangi bir karakter girin:h\n",
      "Tam Sayı Girişi Yapınız:10\n",
      "Tekrar etmek istemiyorsanızı \"ç\" devam etemek için herhangi bir karakter girin:h\n",
      "Tam Sayı Girişi Yapınız:20\n",
      "Tekrar etmek istemiyorsanızı \"ç\" devam etemek için herhangi bir karakter girin:ç\n",
      "Girilen Tam Sayı Değerlerin Toplamı : 38\n",
      "\n",
      "Program Sonlandı\n"
     ]
    }
   ],
   "source": [
    "devam = ''\n",
    "toplam = 0\n",
    "\n",
    "while devam != 'ç' :\n",
    "    \n",
    "    değer = int(input('Tam Sayı Girişi Yapınız:'))\n",
    "    toplam = toplam + değer\n",
    "    \n",
    "    devam = input('Tekrar etmek istemiyorsanız \"ç\" devam etemek için herhangi bir karakter girin:')\n",
    "\n",
    "print('Girilen Tam Sayı Değerlerin Toplamı :',toplam)\n",
    "print('\\nProgram Sonlandı')"
   ]
  },
  {
   "cell_type": "code",
   "execution_count": 1,
   "metadata": {},
   "outputs": [],
   "source": [
    "# sürekli devam eden program"
   ]
  },
  {
   "cell_type": "code",
   "execution_count": null,
   "metadata": {},
   "outputs": [],
   "source": [
    "# girelen sayıların toplamı"
   ]
  }
 ],
 "metadata": {
  "kernelspec": {
   "display_name": "Python 3",
   "language": "python",
   "name": "python3"
  },
  "language_info": {
   "codemirror_mode": {
    "name": "ipython",
    "version": 3
   },
   "file_extension": ".py",
   "mimetype": "text/x-python",
   "name": "python",
   "nbconvert_exporter": "python",
   "pygments_lexer": "ipython3",
   "version": "3.5.4"
  }
 },
 "nbformat": 4,
 "nbformat_minor": 2
}
