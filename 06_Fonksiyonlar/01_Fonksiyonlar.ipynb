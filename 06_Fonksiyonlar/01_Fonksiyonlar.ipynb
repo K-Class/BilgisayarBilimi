{
 "cells": [
  {
   "cell_type": "markdown",
   "metadata": {},
   "source": [
    "# Fonksiyon Tanımı"
   ]
  },
  {
   "cell_type": "code",
   "execution_count": 6,
   "metadata": {},
   "outputs": [
    {
     "name": "stdout",
     "output_type": "stream",
     "text": [
      "Merhaba Dünya\n",
      "Merhaba İnsanlık\n",
      "Merhaba Python\n",
      "Merhaba Gökyüzü\n",
      "Merhaba Ormanlar\n"
     ]
    }
   ],
   "source": [
    "print(\"Merhaba Dünya\")\n",
    "print(\"Merhaba İnsanlık\")\n",
    "print(\"Merhaba Python\")\n",
    "print(\"Merhaba Gökyüzü\")\n",
    "print(\"Merhaba Ormanlar\")"
   ]
  },
  {
   "cell_type": "code",
   "execution_count": 7,
   "metadata": {},
   "outputs": [
    {
     "name": "stdout",
     "output_type": "stream",
     "text": [
      "Merhaba Dünya\n",
      "Merhaba İnsanlık\n",
      "Merhaba Python\n",
      "Merhaba Gökyüzü\n",
      "Merhaba Ormanlar\n"
     ]
    }
   ],
   "source": [
    "print(\"Merhaba Dünya\")\n",
    "print(\"Merhaba İnsanlık\")\n",
    "print(\"Merhaba Python\")\n",
    "print(\"Merhaba Gökyüzü\")\n",
    "print(\"Merhaba Ormanlar\")"
   ]
  },
  {
   "cell_type": "markdown",
   "metadata": {},
   "source": [
    "## Parametresiz Fonksiyon Tanımı"
   ]
  },
  {
   "cell_type": "code",
   "execution_count": 8,
   "metadata": {},
   "outputs": [
    {
     "name": "stdout",
     "output_type": "stream",
     "text": [
      "Merhaba Dünya\n",
      "Merhaba İnsanlık\n",
      "Merhaba Python\n",
      "Merhaba Gökyüzü\n",
      "Merhaba Ormanlar\n"
     ]
    }
   ],
   "source": [
    "def merhaba():\n",
    "    print(\"Merhaba Dünya\")\n",
    "    print(\"Merhaba İnsanlık\")\n",
    "    print(\"Merhaba Python\")\n",
    "    print(\"Merhaba Gökyüzü\")\n",
    "    print(\"Merhaba Ormanlar\")\n",
    "\n",
    "merhaba()"
   ]
  },
  {
   "cell_type": "code",
   "execution_count": 9,
   "metadata": {},
   "outputs": [
    {
     "name": "stdout",
     "output_type": "stream",
     "text": [
      "Merhaba Dünya\n",
      "Merhaba İnsanlık\n",
      "Merhaba Python\n",
      "Merhaba Gökyüzü\n",
      "Merhaba Ormanlar\n"
     ]
    }
   ],
   "source": [
    "merhaba()"
   ]
  },
  {
   "cell_type": "code",
   "execution_count": 10,
   "metadata": {},
   "outputs": [
    {
     "name": "stdout",
     "output_type": "stream",
     "text": [
      "Merhaba Dünya\n",
      "Merhaba İnsanlık\n",
      "Merhaba Python\n",
      "Merhaba Gökyüzü\n",
      "Merhaba Ormanlar\n"
     ]
    }
   ],
   "source": [
    "merhaba()"
   ]
  },
  {
   "cell_type": "markdown",
   "metadata": {},
   "source": [
    "## Bir Parametreli Fonksiyon Tanımı"
   ]
  },
  {
   "cell_type": "code",
   "execution_count": 12,
   "metadata": {},
   "outputs": [
    {
     "name": "stdout",
     "output_type": "stream",
     "text": [
      "Merhaba Ahmet\n"
     ]
    }
   ],
   "source": [
    "def selam(isim):\n",
    "    print(\"Merhaba\",isim)\n",
    "\n",
    "selam(\"Ahmet\")"
   ]
  },
  {
   "cell_type": "code",
   "execution_count": 13,
   "metadata": {},
   "outputs": [
    {
     "name": "stdout",
     "output_type": "stream",
     "text": [
      "Merhaba Tuna\n"
     ]
    }
   ],
   "source": [
    "selam(\"Tuna\")"
   ]
  },
  {
   "cell_type": "code",
   "execution_count": 14,
   "metadata": {},
   "outputs": [
    {
     "name": "stdout",
     "output_type": "stream",
     "text": [
      "Merhaba Ayşe\n"
     ]
    }
   ],
   "source": [
    "selam(\"Ayşe\")"
   ]
  },
  {
   "cell_type": "markdown",
   "metadata": {},
   "source": [
    "## Birden Çok Parametre Alan Fonksiyon Tanımı"
   ]
  },
  {
   "cell_type": "code",
   "execution_count": 16,
   "metadata": {},
   "outputs": [
    {
     "name": "stdout",
     "output_type": "stream",
     "text": [
      "15\n"
     ]
    }
   ],
   "source": [
    "def toplam(sayi1,sayi2,sayi3):\n",
    "    print(sayi1+sayi2+sayi3)\n",
    "\n",
    "toplam(3,5,7)"
   ]
  },
  {
   "cell_type": "code",
   "execution_count": null,
   "metadata": {},
   "outputs": [],
   "source": []
  }
 ],
 "metadata": {
  "kernelspec": {
   "display_name": "Python 3",
   "language": "python",
   "name": "python3"
  },
  "language_info": {
   "codemirror_mode": {
    "name": "ipython",
    "version": 3
   },
   "file_extension": ".py",
   "mimetype": "text/x-python",
   "name": "python",
   "nbconvert_exporter": "python",
   "pygments_lexer": "ipython3",
   "version": "3.5.4"
  }
 },
 "nbformat": 4,
 "nbformat_minor": 2
}
