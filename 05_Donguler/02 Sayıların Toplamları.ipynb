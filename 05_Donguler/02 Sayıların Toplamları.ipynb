{
 "cells": [
  {
   "cell_type": "markdown",
   "metadata": {},
   "source": [
    "# Döngülerle Basit Sayısal Hesaplamalar"
   ]
  },
  {
   "cell_type": "markdown",
   "metadata": {},
   "source": [
    "## 1'den 100' e kadar sayıların toplamı.\n",
    "Gauss sağolsun biz insanlara çocuk yaşında armağan ettiğ **n(n + 1)/2** formülüyle toplamı **100*101/2 = 5050** olarak kolaylaca buluyoruz. Fakat bilgisayar mekanikleri gereği 1'den 100' e kadar olan sayıları formül kullansanız dahi tek tek toplayarak bulur. Döngüler yardımıyla 1'den 100'e kadar olan sayıların toplamını sayıları tek tek toplayarak bulalım."
   ]
  },
  {
   "cell_type": "code",
   "execution_count": 7,
   "metadata": {},
   "outputs": [
    {
     "name": "stdout",
     "output_type": "stream",
     "text": [
      "1'den 100'e Kadar Sayıların Toplamı =  5050\n",
      "\n",
      "Program Sonlandı\n"
     ]
    }
   ],
   "source": [
    "# her adımda değerlerin toplamını tutan toplam değişkeni\n",
    "toplam = 0\n",
    "# her bir döngü içinde değeri artan sayaç değişkeni\n",
    "sayaç = 0\n",
    "\n",
    "# sayaç 100'den küçük olduğu sürece çalışan döngü\n",
    "while sayaç < 100 :\n",
    "    # her döngüde değeri 1 artan döngü adım sayısını tutan sayaç kodu\n",
    "    sayaç += 1\n",
    "    # ilk adımdan itibaren 1'den 100'e kadar sayıları toplayan kod\n",
    "    toplam = toplam + sayaç\n",
    "\n",
    "# döngü bittiğinde toplam sonucunu ekrana yazdıran kod\n",
    "print(\"1'den 100'e Kadar Sayıların Toplamı = \",toplam)\n",
    "print('\\nProgram Sonlandı')"
   ]
  },
  {
   "cell_type": "markdown",
   "metadata": {},
   "source": [
    "Döngüyü anlamak için her adımda ne olduğunu gösteren bir kod ekleyelim. Bir kodu anlamak için kod içinde kullanılan örnek sayısını azaltırsanız kodu daha kolay anlarsınız. 1'den 100'e kadar sayıların toplamlarını bulmak yerine 1'den 10'a kadar sayıların toplamını bulalım. Sonrasında 100'e kadar sayıları bilgisayar bizim yerimize toplayacaktır. "
   ]
  },
  {
   "cell_type": "code",
   "execution_count": 12,
   "metadata": {},
   "outputs": [
    {
     "name": "stdout",
     "output_type": "stream",
     "text": [
      " 1.Adım:  1 +  0 =  1\n",
      " 2.Adım:  2 +  1 =  3\n",
      " 3.Adım:  3 +  3 =  6\n",
      " 4.Adım:  4 +  6 = 10\n",
      " 5.Adım:  5 + 10 = 15\n",
      " 6.Adım:  6 + 15 = 21\n",
      " 7.Adım:  7 + 21 = 28\n",
      " 8.Adım:  8 + 28 = 36\n",
      " 9.Adım:  9 + 36 = 45\n",
      "10.Adım: 10 + 45 = 55\n",
      "\n",
      "1'den 10'e Kadar Sayıların Toplamı =  55\n",
      "\n",
      "Program Sonlandı\n"
     ]
    }
   ],
   "source": [
    "toplam = 0\n",
    "sayaç = 0\n",
    "\n",
    "while sayaç < 10 :\n",
    "    sayaç += 1\n",
    "    # döngünün içinde sayaç ve toplam değişkenlerinin durumunu gösteren kod\n",
    "    print('{:2}.Adım: {:2} + {:2} = {:2}'.format(sayaç,sayaç,toplam,sayaç + toplam))\n",
    "    toplam = sayaç + toplam\n",
    "    \n",
    "\n",
    "print(\"\\n1'den 10'e Kadar Sayıların Toplamı = \",toplam)\n",
    "print('\\nProgram Sonlandı')"
   ]
  },
  {
   "cell_type": "markdown",
   "metadata": {},
   "source": [
    "1'den 100'e çift sayıların toplamını bulalım. Eğer 1'den 100'e çift sayıların toplamını bulmak istiyorsanız. sayaç değişkeninin ikişer ikişer arması yeterli olacaktır. Üstte kullandığımız kodu kopyalayıp gerekli değişiklikleri yapalım. İlk etapta 1'den 10'a kadar sayılar için ikişer ikişer toplayalım."
   ]
  },
  {
   "cell_type": "code",
   "execution_count": 14,
   "metadata": {},
   "outputs": [
    {
     "name": "stdout",
     "output_type": "stream",
     "text": [
      " 2.Adım:  2 +  0 =  2\n",
      " 4.Adım:  4 +  2 =  6\n",
      " 6.Adım:  6 +  6 = 12\n",
      " 8.Adım:  8 + 12 = 20\n",
      "10.Adım: 10 + 20 = 30\n",
      "\n",
      "1'den 10'e Kadar 2'nin Katları Sayıların Toplamı =  30\n",
      "\n",
      "Program Sonlandı\n"
     ]
    }
   ],
   "source": [
    "toplam = 0\n",
    "sayaç = 0\n",
    "\n",
    "while sayaç < 10 :\n",
    "    sayaç += 2\n",
    "    # döngünün içinde sayaç ve toplam değişkenlerinin durumunu gösteren kod\n",
    "    print('{:2}.Adım: {:2} + {:2} = {:2}'.format(sayaç,sayaç,toplam,sayaç + toplam))\n",
    "    toplam = sayaç + toplam\n",
    "    \n",
    "\n",
    "print(\"\\n1'den 10'e Kadar 2'nin Katları Sayıların Toplamı = \",toplam)\n",
    "print('\\nProgram Sonlandı')"
   ]
  },
  {
   "cell_type": "markdown",
   "metadata": {},
   "source": [
    "Kod doğru çalışıyor. Şimdi 1'den 100'e kadar toplamı bulalım. Bu kodda döngü içine bakmaya gerek yok doğrudan sonucu bulalım."
   ]
  },
  {
   "cell_type": "code",
   "execution_count": 16,
   "metadata": {},
   "outputs": [
    {
     "name": "stdout",
     "output_type": "stream",
     "text": [
      "\n",
      "1'den 100'e 2'nin Katları Sayıların Toplamı =  2550\n",
      "\n",
      "Program Sonlandı\n"
     ]
    }
   ],
   "source": [
    "toplam = 0\n",
    "sayaç = 0\n",
    "\n",
    "while sayaç < 100 :\n",
    "    sayaç += 2\n",
    "    toplam = sayaç + toplam\n",
    "\n",
    "print(\"\\n1'den 100'e 2'nin Katları Sayıların Toplamı = \",toplam)\n",
    "print('\\nProgram Sonlandı')"
   ]
  },
  {
   "cell_type": "code",
   "execution_count": null,
   "metadata": {},
   "outputs": [],
   "source": []
  }
 ],
 "metadata": {
  "kernelspec": {
   "display_name": "Python 3",
   "language": "python",
   "name": "python3"
  },
  "language_info": {
   "codemirror_mode": {
    "name": "ipython",
    "version": 3
   },
   "file_extension": ".py",
   "mimetype": "text/x-python",
   "name": "python",
   "nbconvert_exporter": "python",
   "pygments_lexer": "ipython3",
   "version": "3.5.4"
  }
 },
 "nbformat": 4,
 "nbformat_minor": 2
}
