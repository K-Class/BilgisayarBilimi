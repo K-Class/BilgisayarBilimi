{
 "cells": [
  {
   "cell_type": "code",
   "execution_count": 3,
   "metadata": {},
   "outputs": [
    {
     "name": "stdout",
     "output_type": "stream",
     "text": [
      "Adım 1\n",
      "Adım 2\n",
      "Adım 3\n",
      "Adım 4\n",
      "Adım 5\n",
      "Adım 6\n",
      "Adım 7\n",
      "Adım 8\n",
      "Adım 9\n",
      "Adım 10\n",
      "\n",
      "Program Sonlandırıldı\n"
     ]
    }
   ],
   "source": [
    "sayaç = 0\n",
    "\n",
    "while sayaç < 10 :\n",
    "    \n",
    "    sayaç += 1 \n",
    "    print('Adım',sayaç)\n",
    "\n",
    "print('\\nProgram Sonlandırıldı')"
   ]
  },
  {
   "cell_type": "code",
   "execution_count": 6,
   "metadata": {},
   "outputs": [
    {
     "name": "stdout",
     "output_type": "stream",
     "text": [
      "Adım 0Adım 0Adım 0Adım 0Adım 0Adım 0Adım 0Adım 0Adım 0Adım 0Adım 0"
     ]
    },
    {
     "ename": "KeyboardInterrupt",
     "evalue": "",
     "output_type": "error",
     "traceback": [
      "\u001b[1;31m---------------------------------------------------------------------------\u001b[0m",
      "\u001b[1;31mKeyboardInterrupt\u001b[0m                         Traceback (most recent call last)",
      "\u001b[1;32m<ipython-input-6-ad146f6678eb>\u001b[0m in \u001b[0;36m<module>\u001b[1;34m()\u001b[0m\n\u001b[0;32m      6\u001b[0m \u001b[1;32mwhile\u001b[0m \u001b[0msayaç\u001b[0m \u001b[1;33m<\u001b[0m \u001b[1;36m10\u001b[0m \u001b[1;33m:\u001b[0m\u001b[1;33m\u001b[0m\u001b[0m\n\u001b[0;32m      7\u001b[0m     \u001b[1;31m# syç değişkeninin değeri artırılmıyor\u001b[0m\u001b[1;33m\u001b[0m\u001b[1;33m\u001b[0m\u001b[0m\n\u001b[1;32m----> 8\u001b[1;33m     \u001b[0mtime\u001b[0m\u001b[1;33m.\u001b[0m\u001b[0msleep\u001b[0m\u001b[1;33m(\u001b[0m\u001b[1;36m0.5\u001b[0m\u001b[1;33m)\u001b[0m\u001b[1;33m\u001b[0m\u001b[0m\n\u001b[0m\u001b[0;32m      9\u001b[0m \u001b[1;33m\u001b[0m\u001b[0m\n\u001b[0;32m     10\u001b[0m     \u001b[0mprint\u001b[0m\u001b[1;33m(\u001b[0m\u001b[1;34m'Adım'\u001b[0m\u001b[1;33m,\u001b[0m\u001b[0msayaç\u001b[0m\u001b[1;33m,\u001b[0m\u001b[0mend\u001b[0m \u001b[1;33m=\u001b[0m \u001b[1;34m''\u001b[0m\u001b[1;33m)\u001b[0m\u001b[1;33m\u001b[0m\u001b[0m\n",
      "\u001b[1;31mKeyboardInterrupt\u001b[0m: "
     ]
    }
   ],
   "source": [
    "# time(zaman) modülünü kodumuza ekliyoruz bu konu ileride görülecek\n",
    "import time\n",
    "\n",
    "sayaç = 0\n",
    "\n",
    "while sayaç < 10 :\n",
    "    # syç değişkeninin değeri artırılmıyor\n",
    "    time.sleep(0.5)\n",
    "    \n",
    "    print('Adım',sayaç,end = '')"
   ]
  },
  {
   "cell_type": "code",
   "execution_count": 8,
   "metadata": {},
   "outputs": [
    {
     "ename": "NameError",
     "evalue": "name 'syç' is not defined",
     "output_type": "error",
     "traceback": [
      "\u001b[1;31m---------------------------------------------------------------------------\u001b[0m",
      "\u001b[1;31mNameError\u001b[0m                                 Traceback (most recent call last)",
      "\u001b[1;32m<ipython-input-8-cf9198cb2608>\u001b[0m in \u001b[0;36m<module>\u001b[1;34m()\u001b[0m\n\u001b[0;32m      1\u001b[0m \u001b[1;33m\u001b[0m\u001b[0m\n\u001b[0;32m      2\u001b[0m \u001b[1;33m\u001b[0m\u001b[0m\n\u001b[1;32m----> 3\u001b[1;33m \u001b[1;32mwhile\u001b[0m \u001b[0msyç\u001b[0m \u001b[1;33m<\u001b[0m \u001b[1;36m10\u001b[0m \u001b[1;33m:\u001b[0m\u001b[1;33m\u001b[0m\u001b[0m\n\u001b[0m\u001b[0;32m      4\u001b[0m \u001b[1;33m\u001b[0m\u001b[0m\n\u001b[0;32m      5\u001b[0m     \u001b[0msyç\u001b[0m \u001b[1;33m+=\u001b[0m \u001b[1;36m1\u001b[0m\u001b[1;33m\u001b[0m\u001b[0m\n",
      "\u001b[1;31mNameError\u001b[0m: name 'syç' is not defined"
     ]
    }
   ],
   "source": [
    "\n",
    "\n",
    "while syç < 10 :\n",
    "    \n",
    "    syç += 1 \n",
    "    print('Adım',syç)\n",
    "\n",
    "print('\\nProgram Sonlandırıldı')"
   ]
  },
  {
   "cell_type": "code",
   "execution_count": 17,
   "metadata": {},
   "outputs": [
    {
     "name": "stdout",
     "output_type": "stream",
     "text": [
      "Adım 1 Ara Toplam 1\n",
      "Adım 2 Ara Toplam 3\n",
      "Adım 3 Ara Toplam 6\n",
      "Adım 4 Ara Toplam 10\n",
      "Adım 5 Ara Toplam 15\n",
      "Adım 6 Ara Toplam 21\n",
      "Adım 7 Ara Toplam 28\n",
      "Adım 8 Ara Toplam 36\n",
      "Adım 9 Ara Toplam 45\n",
      "Adım 10 Ara Toplam 55\n",
      "\n",
      "Toplam: 55\n",
      "\n",
      "Program Sonlandırıldı\n"
     ]
    }
   ],
   "source": [
    "sayaç = 0\n",
    "toplam = 0\n",
    "\n",
    "while sayaç < 10 :\n",
    "    \n",
    "    sayaç += 1\n",
    "    toplam = sayaç + toplam\n",
    "    print('Adım',sayaç, 'Ara Toplam',toplam)\n",
    "\n",
    "print('\\nToplam:',toplam)\n",
    "print('\\nProgram Sonlandırıldı')"
   ]
  },
  {
   "cell_type": "code",
   "execution_count": 5,
   "metadata": {},
   "outputs": [
    {
     "name": "stdout",
     "output_type": "stream",
     "text": [
      "5050\n"
     ]
    }
   ],
   "source": [
    "sayaç = 0 \n",
    "toplam = 0\n",
    "\n",
    "while sayaç < 100 :\n",
    "    sayaç += 1\n",
    "    toplam = sayaç + toplam\n",
    "\n",
    "print(toplam)"
   ]
  },
  {
   "cell_type": "code",
   "execution_count": 6,
   "metadata": {},
   "outputs": [
    {
     "name": "stdout",
     "output_type": "stream",
     "text": [
      "Tekrar etmek istemiyorsanızı \"ç\" devam etemek için herhangi bir karakter girin:d\n",
      "Tekrar etmek istemiyorsanızı \"ç\" devam etemek için herhangi bir karakter girin:t\n",
      "Tekrar etmek istemiyorsanızı \"ç\" devam etemek için herhangi bir karakter girin:ü\n",
      "Tekrar etmek istemiyorsanızı \"ç\" devam etemek için herhangi bir karakter girin:k\n",
      "Tekrar etmek istemiyorsanızı \"ç\" devam etemek için herhangi bir karakter girin:ç\n",
      "\n",
      "Program Sonlandı\n"
     ]
    }
   ],
   "source": [
    "devam = ''\n",
    "\n",
    "while devam != 'ç' :\n",
    "    \n",
    "    devam = input('Tekrar etmek istemiyorsanızı \"ç\" devam etemek için herhangi bir karakter girin:')\n",
    "\n",
    "print('\\nProgram Sonlandı')"
   ]
  },
  {
   "cell_type": "code",
   "execution_count": 7,
   "metadata": {},
   "outputs": [
    {
     "name": "stdout",
     "output_type": "stream",
     "text": [
      "Tam Sayı Girişi Yapınız:3\n",
      "Tekrar etmek istemiyorsanızı \"ç\" devam etemek için herhangi bir karakter girin:h\n",
      "Tam Sayı Girişi Yapınız:5\n",
      "Tekrar etmek istemiyorsanızı \"ç\" devam etemek için herhangi bir karakter girin:h\n",
      "Tam Sayı Girişi Yapınız:10\n",
      "Tekrar etmek istemiyorsanızı \"ç\" devam etemek için herhangi bir karakter girin:h\n",
      "Tam Sayı Girişi Yapınız:20\n",
      "Tekrar etmek istemiyorsanızı \"ç\" devam etemek için herhangi bir karakter girin:ç\n",
      "Girilen Tam Sayı Değerlerin Toplamı : 38\n",
      "\n",
      "Program Sonlandı\n"
     ]
    }
   ],
   "source": [
    "devam = ''\n",
    "toplam = 0\n",
    "\n",
    "while devam != 'ç' :\n",
    "    \n",
    "    değer = int(input('Tam Sayı Girişi Yapınız:'))\n",
    "    toplam = toplam + değer\n",
    "    \n",
    "    devam = input('Tekrar etmek istemiyorsanız \"ç\" devam etemek için herhangi bir karakter girin:')\n",
    "\n",
    "print('Girilen Tam Sayı Değerlerin Toplamı :',toplam)\n",
    "print('\\nProgram Sonlandı')"
   ]
  },
  {
   "cell_type": "code",
   "execution_count": 1,
   "metadata": {},
   "outputs": [],
   "source": [
    "# bu örneği yaptır\n",
    "print('Çıkmak İçin \"ç\" Girin')\n",
    "sayı = input('Toplanacak Tam Sayı Girin:')\n",
    "toplam = 0\n",
    "i = 0\n",
    "\n",
    "while sayı != 'ç' :\n",
    "    i += 1\n",
    "    toplam += int(sayı) # toplam = sayı + toplam ile aynı ifade\n",
    "    sayı = input('Toplanacak Tam Sayı Girin:')\n",
    "\n",
    "print('Girilen {} Adet Sayının Toplamı = {}'.format(i,toplam))\n",
    "\n",
    "#print('Girilen ' + str(i) + ' Adet Sayının Toplamı = ' + str(toplam))"
   ]
  },
  {
   "cell_type": "code",
   "execution_count": 6,
   "metadata": {},
   "outputs": [
    {
     "name": "stdout",
     "output_type": "stream",
     "text": [
      "Çıkmak İçin \"ç\" Girin\n",
      "Toplanacak Tam Sayı Girin:2\n",
      "Toplanacak Tam Sayı Girin:4\n",
      "Toplanacak Tam Sayı Girin:7\n",
      "Toplanacak Tam Sayı Girin:ç\n",
      "Girilen 3 Adet Sayının Toplamı: 13\n"
     ]
    }
   ],
   "source": [
    "print('Çıkmak İçin \"ç\" Girin')\n",
    "sayı = input('Toplanacak Tam Sayı Girin:')\n",
    "toplam = 0\n",
    "sayaç = 0\n",
    "\n",
    "while sayı != 'ç':\n",
    "    sayaç += 1\n",
    "    toplam += int(sayı) # toplam = toplam + int(sayı)\n",
    "    sayı = input('Toplanacak Tam Sayı Girin:')\n",
    "\n",
    "metin = 'Girilen {} Adet Sayının Toplamı: {}'.format(sayaç,toplam)\n",
    "print(metin)\n",
    "   \n",
    "\n"
   ]
  },
  {
   "cell_type": "code",
   "execution_count": 8,
   "metadata": {},
   "outputs": [
    {
     "data": {
      "text/plain": [
       "'3.14, 2.718, 1.1458'"
      ]
     },
     "execution_count": 8,
     "metadata": {},
     "output_type": "execute_result"
    }
   ],
   "source": [
    "\"{:.2f}, {:.3f}, {:.4f}\".format(3.14159,2.7182818,1.145793)"
   ]
  },
  {
   "cell_type": "code",
   "execution_count": 12,
   "metadata": {},
   "outputs": [
    {
     "name": "stdout",
     "output_type": "stream",
     "text": [
      "0 1 1 2 3 5 8 13 21 34 55 89 144 233 377 610 987 "
     ]
    }
   ],
   "source": [
    "sy1 = 0\n",
    "sy2 = 1\n",
    "\n",
    "while sy1 < 1000 :\n",
    "    print(sy1, end = ' ')\n",
    "    takas = sy1\n",
    "    sy1 = sy2\n",
    "    sy2 = takas + sy1"
   ]
  },
  {
   "cell_type": "code",
   "execution_count": 13,
   "metadata": {},
   "outputs": [
    {
     "name": "stdout",
     "output_type": "stream",
     "text": [
      "0 1 1 2 3 5 8 13 21 34 55 89 144 233 377 610 987 "
     ]
    }
   ],
   "source": [
    "sy1 = 0\n",
    "sy2 = 1\n",
    "\n",
    "while sy1 < 1000 :\n",
    "    print(sy1, end = ' ')\n",
    "    sy1 , sy2 = sy2 , sy1+sy2"
   ]
  },
  {
   "cell_type": "code",
   "execution_count": null,
   "metadata": {},
   "outputs": [],
   "source": [
    "# Buradan devam et\n",
    "sayı1 = 0\n",
    "sayı2 = 1\n",
    "\n",
    "while sayı1<10 :\n",
    "    print(sayı1, end = ' ')\n",
    "    takas = sayı1\n",
    "    sayı1 = sayı2\n",
    "    sayı2 = takas + sayı1"
   ]
  },
  {
   "cell_type": "code",
   "execution_count": 1,
   "metadata": {},
   "outputs": [
    {
     "name": "stdout",
     "output_type": "stream",
     "text": [
      "Çarpım Tablosu Yapma\n",
      "1 x 1 = 1\n",
      "1 x 2 = 2\n",
      "1 x 3 = 3\n",
      "1 x 4 = 4\n",
      "1 x 5 = 5\n",
      "1 x 6 = 6\n",
      "1 x 7 = 7\n",
      "1 x 8 = 8\n",
      "1 x 9 = 9\n",
      "1 x 10 = 10\n",
      "***********************\n",
      "2 x 1 = 2\n",
      "2 x 2 = 4\n",
      "2 x 3 = 6\n",
      "2 x 4 = 8\n",
      "2 x 5 = 10\n",
      "2 x 6 = 12\n",
      "2 x 7 = 14\n",
      "2 x 8 = 16\n",
      "2 x 9 = 18\n",
      "2 x 10 = 20\n",
      "***********************\n",
      "3 x 1 = 3\n",
      "3 x 2 = 6\n",
      "3 x 3 = 9\n",
      "3 x 4 = 12\n",
      "3 x 5 = 15\n",
      "3 x 6 = 18\n",
      "3 x 7 = 21\n",
      "3 x 8 = 24\n",
      "3 x 9 = 27\n",
      "3 x 10 = 30\n",
      "***********************\n",
      "4 x 1 = 4\n",
      "4 x 2 = 8\n",
      "4 x 3 = 12\n",
      "4 x 4 = 16\n",
      "4 x 5 = 20\n",
      "4 x 6 = 24\n",
      "4 x 7 = 28\n",
      "4 x 8 = 32\n",
      "4 x 9 = 36\n",
      "4 x 10 = 40\n",
      "***********************\n",
      "5 x 1 = 5\n",
      "5 x 2 = 10\n",
      "5 x 3 = 15\n",
      "5 x 4 = 20\n",
      "5 x 5 = 25\n",
      "5 x 6 = 30\n",
      "5 x 7 = 35\n",
      "5 x 8 = 40\n",
      "5 x 9 = 45\n",
      "5 x 10 = 50\n",
      "***********************\n",
      "6 x 1 = 6\n",
      "6 x 2 = 12\n",
      "6 x 3 = 18\n",
      "6 x 4 = 24\n",
      "6 x 5 = 30\n",
      "6 x 6 = 36\n",
      "6 x 7 = 42\n",
      "6 x 8 = 48\n",
      "6 x 9 = 54\n",
      "6 x 10 = 60\n",
      "***********************\n",
      "7 x 1 = 7\n",
      "7 x 2 = 14\n",
      "7 x 3 = 21\n",
      "7 x 4 = 28\n",
      "7 x 5 = 35\n",
      "7 x 6 = 42\n",
      "7 x 7 = 49\n",
      "7 x 8 = 56\n",
      "7 x 9 = 63\n",
      "7 x 10 = 70\n",
      "***********************\n",
      "8 x 1 = 8\n",
      "8 x 2 = 16\n",
      "8 x 3 = 24\n",
      "8 x 4 = 32\n",
      "8 x 5 = 40\n",
      "8 x 6 = 48\n",
      "8 x 7 = 56\n",
      "8 x 8 = 64\n",
      "8 x 9 = 72\n",
      "8 x 10 = 80\n",
      "***********************\n",
      "9 x 1 = 9\n",
      "9 x 2 = 18\n",
      "9 x 3 = 27\n",
      "9 x 4 = 36\n",
      "9 x 5 = 45\n",
      "9 x 6 = 54\n",
      "9 x 7 = 63\n",
      "9 x 8 = 72\n",
      "9 x 9 = 81\n",
      "9 x 10 = 90\n",
      "***********************\n",
      "10 x 1 = 10\n",
      "10 x 2 = 20\n",
      "10 x 3 = 30\n",
      "10 x 4 = 40\n",
      "10 x 5 = 50\n",
      "10 x 6 = 60\n",
      "10 x 7 = 70\n",
      "10 x 8 = 80\n",
      "10 x 9 = 90\n",
      "10 x 10 = 100\n",
      "***********************\n"
     ]
    }
   ],
   "source": [
    "print(\"Çarpım Tablosu Yapma\")\n",
    "\n",
    "i = 0\n",
    "j = 0\n",
    "\n",
    "while i < 10 :\n",
    "    i+=1\n",
    "    while j < 10 :\n",
    "        j+=1\n",
    "        print(\"{} x {} = {}\".format(i,j,i*j))\n",
    "    j = 0\n",
    "    print(\"***********************\")"
   ]
  },
  {
   "cell_type": "code",
   "execution_count": 2,
   "metadata": {},
   "outputs": [],
   "source": [
    "veriler = [3,5,1.44,-3.14,\"Tuna\",\"Can\",[3,5,7],-9]"
   ]
  },
  {
   "cell_type": "code",
   "execution_count": 3,
   "metadata": {},
   "outputs": [
    {
     "data": {
      "text/plain": [
       "[3, 5, 1.44, -3.14, 'Tuna', 'Can', [3, 5, 7], -9]"
      ]
     },
     "execution_count": 3,
     "metadata": {},
     "output_type": "execute_result"
    }
   ],
   "source": [
    "veriler"
   ]
  },
  {
   "cell_type": "code",
   "execution_count": 4,
   "metadata": {},
   "outputs": [
    {
     "data": {
      "text/plain": [
       "8"
      ]
     },
     "execution_count": 4,
     "metadata": {},
     "output_type": "execute_result"
    }
   ],
   "source": [
    "len(veriler)"
   ]
  },
  {
   "cell_type": "code",
   "execution_count": 5,
   "metadata": {},
   "outputs": [
    {
     "data": {
      "text/plain": [
       "3"
      ]
     },
     "execution_count": 5,
     "metadata": {},
     "output_type": "execute_result"
    }
   ],
   "source": [
    "veriler[0]"
   ]
  },
  {
   "cell_type": "code",
   "execution_count": 6,
   "metadata": {},
   "outputs": [
    {
     "data": {
      "text/plain": [
       "'Tuna'"
      ]
     },
     "execution_count": 6,
     "metadata": {},
     "output_type": "execute_result"
    }
   ],
   "source": [
    "veriler[4]"
   ]
  },
  {
   "cell_type": "code",
   "execution_count": 7,
   "metadata": {},
   "outputs": [
    {
     "data": {
      "text/plain": [
       "-9"
      ]
     },
     "execution_count": 7,
     "metadata": {},
     "output_type": "execute_result"
    }
   ],
   "source": [
    "veriler[len(veriler)-1]"
   ]
  },
  {
   "cell_type": "code",
   "execution_count": 9,
   "metadata": {},
   "outputs": [
    {
     "data": {
      "text/plain": [
       "7"
      ]
     },
     "execution_count": 9,
     "metadata": {},
     "output_type": "execute_result"
    }
   ],
   "source": [
    "len(veriler)-1"
   ]
  },
  {
   "cell_type": "code",
   "execution_count": 10,
   "metadata": {},
   "outputs": [
    {
     "data": {
      "text/plain": [
       "-9"
      ]
     },
     "execution_count": 10,
     "metadata": {},
     "output_type": "execute_result"
    }
   ],
   "source": [
    "veriler[7]"
   ]
  },
  {
   "cell_type": "code",
   "execution_count": 11,
   "metadata": {},
   "outputs": [
    {
     "data": {
      "text/plain": [
       "-9"
      ]
     },
     "execution_count": 11,
     "metadata": {},
     "output_type": "execute_result"
    }
   ],
   "source": [
    "veriler[-1]"
   ]
  },
  {
   "cell_type": "code",
   "execution_count": 12,
   "metadata": {},
   "outputs": [
    {
     "data": {
      "text/plain": [
       "[3, 5, 1.44, -3.14, 'Tuna', 'Can', [3, 5, 7], -9]"
      ]
     },
     "execution_count": 12,
     "metadata": {},
     "output_type": "execute_result"
    }
   ],
   "source": [
    "veriler"
   ]
  },
  {
   "cell_type": "code",
   "execution_count": 13,
   "metadata": {},
   "outputs": [],
   "source": [
    "veriler[3]= 17"
   ]
  },
  {
   "cell_type": "code",
   "execution_count": 14,
   "metadata": {},
   "outputs": [
    {
     "data": {
      "text/plain": [
       "[3, 5, 1.44, 17, 'Tuna', 'Can', [3, 5, 7], -9]"
      ]
     },
     "execution_count": 14,
     "metadata": {},
     "output_type": "execute_result"
    }
   ],
   "source": [
    "veriler"
   ]
  },
  {
   "cell_type": "code",
   "execution_count": 24,
   "metadata": {},
   "outputs": [
    {
     "name": "stdout",
     "output_type": "stream",
     "text": [
      "0. Liste Elemanı Değeri = 1\n",
      "1. Liste Elemanı Değeri = 3\n",
      "2. Liste Elemanı Değeri = 5\n",
      "3. Liste Elemanı Değeri = 7\n",
      "4. Liste Elemanı Değeri = 9\n",
      "5. Liste Elemanı Değeri = 11\n",
      "6. Liste Elemanı Değeri = 15\n",
      "\n",
      "Program Sonlandı\n"
     ]
    }
   ],
   "source": [
    "veriler = [1,3,5,7,9,11,15]\n",
    "\n",
    "i = 0\n",
    "\n",
    "while i < len(veriler):\n",
    "    print(\"{}. Liste Elemanı Değeri = {}\".format(i,veriler[i]))\n",
    "    i+=1\n",
    "\n",
    "print(\"\\nProgram Sonlandı\")"
   ]
  },
  {
   "cell_type": "code",
   "execution_count": 28,
   "metadata": {},
   "outputs": [
    {
     "name": "stdout",
     "output_type": "stream",
     "text": [
      "0. Liste Elemanı Değeri = 1\n",
      "1. Liste Elemanı Değeri = 3\n",
      "2. Liste Elemanı Değeri = 5\n",
      "3. Liste Elemanı Değeri = 7\n",
      "4. Liste Elemanı Değeri = 9\n",
      "5. Liste Elemanı Değeri = 11\n",
      "6. Liste Elemanı Değeri = 15\n",
      "\n",
      "Program Sonlandı\n"
     ]
    }
   ],
   "source": [
    "veriler = [1,3,5,7,9,11,15]\n",
    "\n",
    "j = 0\n",
    "for i in veriler:\n",
    "    print(\"{}. Liste Elemanı Değeri = {}\".format(j,i))\n",
    "    j+=1\n",
    "\n",
    "print(\"\\nProgram Sonlandı\")"
   ]
  },
  {
   "cell_type": "code",
   "execution_count": 1,
   "metadata": {},
   "outputs": [
    {
     "data": {
      "text/plain": [
       "10"
      ]
     },
     "execution_count": 1,
     "metadata": {},
     "output_type": "execute_result"
    }
   ],
   "source": [
    "veriler = [1,3,5,7,9,11,13,15,17,19]\n",
    "len(veriler)"
   ]
  },
  {
   "cell_type": "code",
   "execution_count": 4,
   "metadata": {},
   "outputs": [
    {
     "data": {
      "text/plain": [
       "range(1, 20, 2)"
      ]
     },
     "execution_count": 4,
     "metadata": {},
     "output_type": "execute_result"
    }
   ],
   "source": [
    "range(1,20,2)"
   ]
  },
  {
   "cell_type": "code",
   "execution_count": 6,
   "metadata": {},
   "outputs": [
    {
     "data": {
      "text/plain": [
       "[1, 3, 5, 7, 9, 11, 13, 15, 17, 19]"
      ]
     },
     "execution_count": 6,
     "metadata": {},
     "output_type": "execute_result"
    }
   ],
   "source": [
    "veriler = list(range(1,20,2))\n",
    "veriler"
   ]
  },
  {
   "cell_type": "code",
   "execution_count": 9,
   "metadata": {},
   "outputs": [
    {
     "data": {
      "text/plain": [
       "[0, 1, 2, 3, 4, 5, 6, 7, 8, 9]"
      ]
     },
     "execution_count": 9,
     "metadata": {},
     "output_type": "execute_result"
    }
   ],
   "source": [
    "list(range(10))"
   ]
  },
  {
   "cell_type": "code",
   "execution_count": 10,
   "metadata": {},
   "outputs": [
    {
     "data": {
      "text/plain": [
       "[3, 4, 5, 6, 7, 8, 9, 10, 11, 12, 13, 14]"
      ]
     },
     "execution_count": 10,
     "metadata": {},
     "output_type": "execute_result"
    }
   ],
   "source": [
    "list(range(3,15))"
   ]
  },
  {
   "cell_type": "code",
   "execution_count": 13,
   "metadata": {},
   "outputs": [
    {
     "data": {
      "text/plain": [
       "[3, 6, 9, 12, 15, 18, 21, 24, 27, 30, 33, 36]"
      ]
     },
     "execution_count": 13,
     "metadata": {},
     "output_type": "execute_result"
    }
   ],
   "source": [
    "list(range(3,37,3))"
   ]
  },
  {
   "cell_type": "code",
   "execution_count": 15,
   "metadata": {},
   "outputs": [
    {
     "data": {
      "text/plain": [
       "[21, 20, 19, 18, 17, 16, 15, 14, 13, 12, 11, 10, 9, 8, 7, 6, 5, 4, 3, 2, 1]"
      ]
     },
     "execution_count": 15,
     "metadata": {},
     "output_type": "execute_result"
    }
   ],
   "source": [
    "list(range(21,0,-1))"
   ]
  },
  {
   "cell_type": "code",
   "execution_count": null,
   "metadata": {},
   "outputs": [],
   "source": []
  },
  {
   "cell_type": "code",
   "execution_count": 2,
   "metadata": {},
   "outputs": [
    {
     "name": "stdout",
     "output_type": "stream",
     "text": [
      "1\n",
      "9\n",
      "25\n",
      "49\n",
      "81\n",
      "121\n",
      "169\n",
      "225\n",
      "289\n",
      "361\n",
      "\n",
      "Program Sonladı\n"
     ]
    }
   ],
   "source": [
    "veriler = [1,3,5,7,9,11,13,15,17,19]\n",
    "\n",
    "for i in veriler:\n",
    "    print(i**2)\n",
    "\n",
    "print(\"\\nProgram Sonladı\")"
   ]
  },
  {
   "cell_type": "code",
   "execution_count": 18,
   "metadata": {},
   "outputs": [
    {
     "name": "stdout",
     "output_type": "stream",
     "text": [
      "1\n",
      "9\n",
      "25\n",
      "49\n",
      "81\n",
      "121\n",
      "169\n",
      "225\n",
      "289\n",
      "361\n",
      "\n",
      "Program Sonladı\n"
     ]
    }
   ],
   "source": [
    "for i in range(1,20,2):\n",
    "    print(i**2)\n",
    "\n",
    "print(\"\\nProgram Sonladı\")"
   ]
  },
  {
   "cell_type": "code",
   "execution_count": 19,
   "metadata": {},
   "outputs": [
    {
     "name": "stdout",
     "output_type": "stream",
     "text": [
      "Faktöriyeli Hesaplanacak Sayıyı Girin: 6\n",
      "720\n"
     ]
    }
   ],
   "source": [
    "n = int(input(\"Faktöriyeli Hesaplanacak Sayıyı Girin: \"))\n",
    "\n",
    "çarpım = 1\n",
    "\n",
    "for i in range(1,n+1):\n",
    "    çarpım *= i  # çarpım = çarpım * i\n",
    "\n",
    "print(çarpım)"
   ]
  },
  {
   "cell_type": "code",
   "execution_count": null,
   "metadata": {},
   "outputs": [],
   "source": []
  }
 ],
 "metadata": {
  "kernelspec": {
   "display_name": "Python 3",
   "language": "python",
   "name": "python3"
  },
  "language_info": {
   "codemirror_mode": {
    "name": "ipython",
    "version": 3
   },
   "file_extension": ".py",
   "mimetype": "text/x-python",
   "name": "python",
   "nbconvert_exporter": "python",
   "pygments_lexer": "ipython3",
   "version": "3.5.4"
  }
 },
 "nbformat": 4,
 "nbformat_minor": 2
}
