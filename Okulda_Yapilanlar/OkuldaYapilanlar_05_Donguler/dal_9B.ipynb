{
 "cells": [
  {
   "cell_type": "code",
   "execution_count": 5,
   "metadata": {},
   "outputs": [
    {
     "name": "stdout",
     "output_type": "stream",
     "text": [
      "Adım 1\n",
      "Adım 2\n",
      "Adım 3\n",
      "Adım 4\n",
      "Adım 5\n",
      "\n",
      "Program Sonlandırıldı\n"
     ]
    }
   ],
   "source": [
    "print('Adım',1)\n",
    "print('Adım',2)\n",
    "print('Adım',3)\n",
    "print('Adım',4)\n",
    "print('Adım',5)\n",
    "\n",
    "\n",
    "print('\\nProgram Sonlandırıldı')"
   ]
  },
  {
   "cell_type": "code",
   "execution_count": 11,
   "metadata": {},
   "outputs": [
    {
     "name": "stdout",
     "output_type": "stream",
     "text": [
      "Döngü İçeren Kod\n",
      "Adım 1\n",
      "Adım 2\n",
      "Adım 3\n",
      "Adım 4\n",
      "Adım 5\n",
      "Adım 6\n",
      "Adım 7\n",
      "Adım 8\n",
      "Adım 9\n",
      "Adım 10\n",
      "Döngü Sonlandı\n",
      "\n",
      "Program Sonlandı\n"
     ]
    }
   ],
   "source": [
    "print('Döngü İçeren Kod')\n",
    "\n",
    "sayaç = 0\n",
    "\n",
    "while sayaç < 10 :\n",
    "    sayaç = sayaç + 1\n",
    "    print('Adım',sayaç)\n",
    "\n",
    "print('Döngü Sonlandı')\n",
    "\n",
    "print('\\nProgram Sonlandı')\n"
   ]
  },
  {
   "cell_type": "code",
   "execution_count": 17,
   "metadata": {},
   "outputs": [
    {
     "name": "stdout",
     "output_type": "stream",
     "text": [
      "Döngü İçeren Kod\n",
      "Döngü Sonlandı Toplam Değer : 15\n",
      "\n",
      "Program Sonlandı\n"
     ]
    }
   ],
   "source": [
    "print('Döngü İçeren Kod')\n",
    "\n",
    "sayaç = 0\n",
    "toplam = 0\n",
    "\n",
    "while sayaç < 5 :\n",
    "    sayaç += 1 # döngü sayısını belirtir\n",
    "    toplam = sayaç + toplam\n",
    "    #print(\"Adım\",sayaç,'Toplam:',toplam)\n",
    "    \n",
    "\n",
    "print('Döngü Sonlandı Toplam Değer :',toplam)\n",
    "\n",
    "print('\\nProgram Sonlandı')"
   ]
  },
  {
   "cell_type": "code",
   "execution_count": null,
   "metadata": {},
   "outputs": [],
   "source": []
  }
 ],
 "metadata": {
  "kernelspec": {
   "display_name": "Python 3",
   "language": "python",
   "name": "python3"
  },
  "language_info": {
   "codemirror_mode": {
    "name": "ipython",
    "version": 3
   },
   "file_extension": ".py",
   "mimetype": "text/x-python",
   "name": "python",
   "nbconvert_exporter": "python",
   "pygments_lexer": "ipython3",
   "version": "3.5.4"
  }
 },
 "nbformat": 4,
 "nbformat_minor": 2
}
