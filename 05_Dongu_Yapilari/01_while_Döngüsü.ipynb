{
 "cells": [
  {
   "cell_type": "markdown",
   "metadata": {},
   "source": [
    "# Döngüler\n",
    "Döngüler sürekli tekrar eden kod parçalarıdır. Hayazımızda aynı tekrar eden kod parçaları gibi her gün tekrar eder. Fakat her gün hayatımıza bir gün daha eklenir ve bir gün daha büyürüz. Aynı günlerin sürekli tekrar ettiği gibi döngü içinde tanımlanan değişkenlerinde değerleri her döngüde artar. Bu bölümde koşul durumları gibi programlama konusunun en temel konularından biri döngüler konusu işlenecek. Python programlama dilinde iki tip döngü bulunmaktadır while ve for."
   ]
  },
  {
   "cell_type": "markdown",
   "metadata": {},
   "source": [
    "# while Döngüsü\n",
    "**while**, ... **iken**, ... **olduğu** sürece gibi anlamlara gelir. while döngüsünü anlamak içni şöyler bir örnek yapalım. Siz 'ç' veya 'Ç' girene kadar girdiğiniz dönem sonu not orlamalarının durumunu bize bildiren programı yazalım. Bunun içni önceden yazdığımız dönem sonu not ortalaması hesabı kodunu kullanabiliri."
   ]
  },
  {
   "cell_type": "markdown",
   "metadata": {},
   "source": [
    "Döngülerde aynı koşul durumları gibi blok mantığı ile çalışır. Döngü koşul ifadesinden sonra döngüye ait kodlar bir paragraf içeriden yazılır. Üstte görüldüğü gibi **while** döngüsünden sonra yazılan kodlar **while** döngüsüne ait kodlardır ve bir paragraf içeriden yazılır. Kodu anlamak için kodu daha küçük parçalara bölerek inceleyelim."
   ]
  },
  {
   "cell_type": "markdown",
   "metadata": {},
   "source": [
    "## Sayıların Toplamlarını Döngüler Yardımıyla Bulma"
   ]
  },
  {
   "cell_type": "markdown",
   "metadata": {},
   "source": [
    "### 1'den 100' e kadar sayıların toplamı.\n",
    "Gauss sağolsun biz insanlara çocuk yaşında armağan ettiğ **n(n + 1)/2** formülüyle toplamı 100*101/2 = 5050 olarak kolaylaca buluyoruz. Fakat ne yazıki ki bilgisayar mekanikleri gereği 1'den 100' e kadar olan sayıları siz formül kullansanız dahi tek tek toplayarak bulur. Döngüler yardımıyla 1'den 100'e kadar olan sayıların toplamını bulalım."
   ]
  },
  {
   "cell_type": "code",
   "execution_count": 14,
   "metadata": {},
   "outputs": [
    {
     "name": "stdout",
     "output_type": "stream",
     "text": [
      "1'den 100'e Kadar Sayıların Toplamı =  5050\n"
     ]
    }
   ],
   "source": [
    "toplam = 0\n",
    "i = 0\n",
    "\n",
    "while i < 100 :\n",
    "    i += 1\n",
    "    toplam = toplam + i\n",
    "\n",
    "print(\"1'den 100'e Kadar Sayıların Toplamı = \",toplam)"
   ]
  },
  {
   "cell_type": "markdown",
   "metadata": {},
   "source": [
    "while döngüsünü anlamak için her adımda ne olduğunu gösteren bir kod ekleyelim"
   ]
  },
  {
   "cell_type": "code",
   "execution_count": 21,
   "metadata": {},
   "outputs": [
    {
     "name": "stdout",
     "output_type": "stream",
     "text": [
      " 1.Adım:  1 +  0 =  1\n",
      " 2.Adım:  2 +  1 =  3\n",
      " 3.Adım:  3 +  3 =  6\n",
      " 4.Adım:  4 +  6 = 10\n",
      " 5.Adım:  5 + 10 = 15\n",
      " 6.Adım:  6 + 15 = 21\n",
      " 7.Adım:  7 + 21 = 28\n",
      " 8.Adım:  8 + 28 = 36\n",
      " 9.Adım:  9 + 36 = 45\n",
      "10.Adım: 10 + 45 = 55\n",
      "\n",
      "1'den 100'e Kadar Sayıların Toplamı =  55\n"
     ]
    }
   ],
   "source": [
    "toplam = 0\n",
    "i = 0\n",
    "\n",
    "while i < 10 :\n",
    "    i += 1\n",
    "    print('{:2}.Adım: {:2} + {:2} = {:2}'.format(i,i,toplam,toplam + i))\n",
    "    toplam = toplam + i\n",
    "    \n",
    "\n",
    "print(\"\\n1'den 100'e Kadar Sayıların Toplamı = \",toplam)"
   ]
  },
  {
   "cell_type": "code",
   "execution_count": 34,
   "metadata": {},
   "outputs": [
    {
     "name": "stdout",
     "output_type": "stream",
     "text": [
      "Çıkış için 'ç' girin\n",
      "\n",
      "Toplanacak Sayıyı Giriniz: 3\n",
      "Toplanacak Sayıyı Giriniz: 5\n",
      "Toplanacak Sayıyı Giriniz: 8\n",
      "Toplanacak Sayıyı Giriniz: 16\n",
      "Toplanacak Sayıyı Giriniz: ç\n",
      "\n",
      "Girilen Sayıların Toplamı : 32\n",
      "\n",
      "Program Sonlandırıldı\n"
     ]
    }
   ],
   "source": [
    "print(\"Çıkış için 'ç' girin\\n\")\n",
    "\n",
    "toplam = 0\n",
    "sayı = str()\n",
    "\n",
    "while sayı != 'ç' :\n",
    "    \n",
    "    sayı = input('Toplanacak Sayıyı Giriniz: ')\n",
    "    \n",
    "    if sayı == 'ç' :\n",
    "        print('\\nGirilen Sayıların Toplamı :',toplam)\n",
    "    else :\n",
    "        toplam = toplam + int(sayı)\n",
    "\n",
    "print('\\nProgram Sonlandırıldı')"
   ]
  },
  {
   "cell_type": "code",
   "execution_count": null,
   "metadata": {},
   "outputs": [],
   "source": []
  }
 ],
 "metadata": {
  "kernelspec": {
   "display_name": "Python 3",
   "language": "python",
   "name": "python3"
  },
  "language_info": {
   "codemirror_mode": {
    "name": "ipython",
    "version": 3
   },
   "file_extension": ".py",
   "mimetype": "text/x-python",
   "name": "python",
   "nbconvert_exporter": "python",
   "pygments_lexer": "ipython3",
   "version": "3.5.4"
  }
 },
 "nbformat": 4,
 "nbformat_minor": 2
}
