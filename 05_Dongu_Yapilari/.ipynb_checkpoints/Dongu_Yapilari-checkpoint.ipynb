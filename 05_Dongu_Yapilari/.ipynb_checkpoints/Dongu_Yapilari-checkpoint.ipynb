{
 "cells": [
  {
   "cell_type": "markdown",
   "metadata": {},
   "source": [
    "# Döngüler\n",
    "Döngüler sürekli tekrar eden kod parçalarıdır. Hayazımızda aynı tekrar eden kod parçaları gibi her gün tekrar eder. Fakat her gün hayatımıza bir gün daha eklenir ve bir gün daha büyürüz. Aynı günlerin sürekli tekrar ettiği gibi döngü içinde tanımlanan değişkenlerinde değerleri her döngüde artar. Bu bölümde koşul durumları gibi programlama konusunun en temel konularından biri döngüler konusu işlenecek. Python programlama dilinde iki tip döngü bulunmaktadır while ve for."
   ]
  },
  {
   "cell_type": "markdown",
   "metadata": {},
   "source": [
    "# while Döngüsü\n",
    "**while**, ... **iken**, ... **olduğu** sürece gibi anlamlara gelir. while döngüsünü anlamak içni şöyler bir örnek yapalım. Siz 'ç' veya 'Ç' girene kadar girdiğiniz dönem sonu not orlamalarının durumunu bize bildiren programı yazalım. Bunun içni önceden yazdığımız dönem sonu not ortalaması hesabı kodunu kullanabiliri."
   ]
  },
  {
   "cell_type": "code",
   "execution_count": 1,
   "metadata": {},
   "outputs": [
    {
     "name": "stdout",
     "output_type": "stream",
     "text": [
      "Sayı Tahmin Oyunu\n",
      "1 ve 10 dahil 1 – 10 arası bir sayı giriniz\n",
      "\n",
      "Sayı Girişi Yapın: 3\n",
      "Bilemediniz Yeniden Deneyin\n",
      "\n",
      "Sayı Girişi Yapın: 7\n",
      "Bilemediniz Yeniden Deneyin\n",
      "\n",
      "Sayı Girişi Yapın: 6\n",
      "Bilemediniz Yeniden Deneyin\n",
      "\n",
      "Sayı Girişi Yapın: 5\n",
      "Tebrikler :-) Bidiniz\n",
      "\n",
      "Program Sonlandırıldı\n"
     ]
    }
   ],
   "source": [
    "print('Sayı Tahmin Oyunu')\n",
    "print('1 ve 10 dahil 1 – 10 arası bir sayı giriniz')\n",
    "\n",
    "pc_sayı = 5\n",
    "kl_sayı = int()\n",
    "\n",
    "while kl_sayı != pc_sayı :\n",
    "    kl_sayı = int(input('\\nSayı Girişi Yapın: '))\n",
    "    \n",
    "    if kl_sayı != pc_sayı :\n",
    "        print('Bilemediniz Yeniden Deneyin')\n",
    "    else :\n",
    "        print('Tebrikler :-) Bidiniz')\n",
    "\n",
    "print('\\nProgram Sonlandırıldı')"
   ]
  },
  {
   "cell_type": "markdown",
   "metadata": {},
   "source": [
    "Döngülerde aynı koşul durumları gibi blok mantığı ile çalışır. Döngü koşul ifadesinden sonra döngüye ait kodlar bir paragraf içeriden yazılır. Üstte görüldüğü gibi **while** döngüsünden sonra yazılan kodlar **while** döngüsüne ait kodlardır ve bir paragraf içeriden yazılır. Kodu anlamak için kodu daha küçük parçalara bölerek inceleyelim."
   ]
  },
  {
   "cell_type": "code",
   "execution_count": 2,
   "metadata": {},
   "outputs": [
    {
     "name": "stdout",
     "output_type": "stream",
     "text": [
      "Sayı Girişi Yapın: 1\n",
      "Sayı Girişi Yapın: 2\n",
      "Sayı Girişi Yapın: 6\n",
      "Sayı Girişi Yapın: 5\n"
     ]
    }
   ],
   "source": [
    "pc_sayı = 5\n",
    "kl_sayı = int()\n",
    "\n",
    "while kl_sayı != pc_sayı :\n",
    "    kl_sayı = int(input('Sayı Girişi Yapın: '))"
   ]
  },
  {
   "cell_type": "markdown",
   "metadata": {},
   "source": [
    "**pc_sayı** değişkeni kod içerisinde kullanıcının göremeğidi bir sayı değerini tutar. **kl_sayı** değişkeni kullanıcıdan alınan değeri tutması için kullanılır. **kl_sayı = int()** ifadesi **while** ifadesinden önce tanımlanmış. Bunun sebeni **while kl_sayı != pc_sayı :** ifadesi içerisinde **kl_sayı** değişkeninin kullanılmasıdır. Eğer **kl_sayı** değişkeni **while** ifadesinden önce tanımlanmasaydı **while** ifadesinde tanımsız değişken kullanıldığı için kodda hata oluşacaktı. kl_sayı değişkeni üstteki kodlarda tanımlandığı için altta **kullanıcı_sayı** değişkeni kullanıldı."
   ]
  },
  {
   "cell_type": "code",
   "execution_count": 3,
   "metadata": {},
   "outputs": [
    {
     "ename": "NameError",
     "evalue": "name 'kullanıcı_sayı' is not defined",
     "output_type": "error",
     "traceback": [
      "\u001b[0;31m---------------------------------------------------------------------------\u001b[0m",
      "\u001b[0;31mNameError\u001b[0m                                 Traceback (most recent call last)",
      "\u001b[0;32m<ipython-input-3-967fdf966c87>\u001b[0m in \u001b[0;36m<module>\u001b[0;34m()\u001b[0m\n\u001b[1;32m      2\u001b[0m \u001b[0;31m# kullanıcı_sayı değişkeni tanımlanmamış\u001b[0m\u001b[0;34m\u001b[0m\u001b[0;34m\u001b[0m\u001b[0m\n\u001b[1;32m      3\u001b[0m \u001b[0;34m\u001b[0m\u001b[0m\n\u001b[0;32m----> 4\u001b[0;31m \u001b[0;32mwhile\u001b[0m \u001b[0mkullanıcı_sayı\u001b[0m \u001b[0;34m!=\u001b[0m \u001b[0mpc_sayı\u001b[0m \u001b[0;34m:\u001b[0m\u001b[0;34m\u001b[0m\u001b[0m\n\u001b[0m\u001b[1;32m      5\u001b[0m     \u001b[0mkl_sayı\u001b[0m \u001b[0;34m=\u001b[0m \u001b[0mint\u001b[0m\u001b[0;34m(\u001b[0m\u001b[0minput\u001b[0m\u001b[0;34m(\u001b[0m\u001b[0;34m'Sayı Girişi Yapın: '\u001b[0m\u001b[0;34m)\u001b[0m\u001b[0;34m)\u001b[0m\u001b[0;34m\u001b[0m\u001b[0m\n",
      "\u001b[0;31mNameError\u001b[0m: name 'kullanıcı_sayı' is not defined"
     ]
    }
   ],
   "source": [
    "pc_sayı = 5\n",
    "# kullanıcı_sayı değişkeni tanımlanmamış\n",
    "\n",
    "while kullanıcı_sayı != pc_sayı :\n",
    "    kl_sayı = int(input('Sayı Girişi Yapın: '))"
   ]
  },
  {
   "cell_type": "markdown",
   "metadata": {},
   "source": [
    "Gördüğünüz gibi **while** dönüsünde bulunan koşul sağlandığı sürece döngü tekrar ediyor. Üstteki örneği daha geliştirelim. Bu sefer kullanıcının tahmin için 3 hakkı olsun ve kullanıcı sadece 1 ve 10 dahil 1 – 10 arası bir sayı girsin. "
   ]
  },
  {
   "cell_type": "code",
   "execution_count": 7,
   "metadata": {},
   "outputs": [
    {
     "name": "stdout",
     "output_type": "stream",
     "text": [
      "Sayı Tahmin Oyunu\n",
      "1 ve 10 dahil 1 – 10 arası bir sayı giriniz\n",
      "\n",
      "Sayı Girişi Yapın: -3\n",
      "Hatalı Değer Girdiniz. Lütfen 1 ve 10 dahil 1 – 10 arası bir sayı giriniz\n",
      "\n",
      "Sayı Girişi Yapın: 17\n",
      "Hatalı Değer Girdiniz. Lütfen 1 ve 10 dahil 1 – 10 arası bir sayı giriniz\n",
      "\n",
      "Sayı Girişi Yapın: 1\n",
      "Bilemediniz Yeniden Deneyin\n",
      "Kalan Tahmin Hakkınız : 2\n",
      "\n",
      "Sayı Girişi Yapın: 5\n",
      "Tebrikler :-) 2.Hakkınızda Bidiniz\n",
      "\n",
      "Program Sonlandırıldı\n"
     ]
    }
   ],
   "source": [
    "print('Sayı Tahmin Oyunu')\n",
    "print('1 ve 10 dahil 1 – 10 arası bir sayı giriniz')\n",
    "\n",
    "# değişkenler while döngüsünden önce tanımlanır\n",
    "pc_sayı = 5\n",
    "kl_sayı = int()\n",
    "th_hakkı = 0\n",
    "\n",
    "# sayı 5 e eşit olmadığı ve tahmin hakkı 3 e eşit olmadığı sürece tekrar et\n",
    "while kl_sayı != pc_sayı and th_hakkı != 3:\n",
    "    \n",
    "    kl_sayı = int(input('\\nSayı Girişi Yapın: '))\n",
    "    \n",
    "    if kl_sayı >= 1 and kl_sayı <= 10 :\n",
    "        \n",
    "        # doğru girilen her sayı için tahmin hakkı 1 harcanıyor\n",
    "        th_hakkı += 1\n",
    "        \n",
    "        # hatalı tahmin yapıldığında çalıştırılacak kod\n",
    "        if kl_sayı != pc_sayı :\n",
    "            print('Bilemediniz Yeniden Deneyin')\n",
    "            print('Kalan Tahmin Hakkınız :', 3 - th_hakkı)\n",
    "            # eğer 3. tahmin hakkınızda da bilemezseniz döngü sonlandırılıyor\n",
    "            if th_hakkı == 3 :\n",
    "                print('Tahmin Hakkınızı Doldurdunuz :-( Hayatta Başarılar')\n",
    "        # doğru tahmin yapıldığında çalışacak kod\n",
    "        else :\n",
    "            print('Tebrikler :-) {}.Hakkınızda Bidiniz'.format(th_hakkı))\n",
    "\n",
    "    else :\n",
    "        print('Hatalı Değer Girdiniz. Lütfen 1 ve 10 dahil 1 – 10 arası bir sayı giriniz')\n",
    "\n",
    "print('\\nProgram Sonlandırıldı')"
   ]
  },
  {
   "cell_type": "markdown",
   "metadata": {},
   "source": [
    "Üstte yazdığımız kod sizler için zor olabilir. Anlamakta zorluk çekiyorsanız kendinizi çok zorlmayın konuya devam edin. Daha sonra arada bir dönüp bakabilirsiniz."
   ]
  },
  {
   "cell_type": "markdown",
   "metadata": {},
   "source": [
    "## Sayıların Toplamlarını Döngüler Yardımıyla Bulma"
   ]
  },
  {
   "cell_type": "markdown",
   "metadata": {},
   "source": [
    "### 1'den 100' e kadar sayıların toplamı.\n",
    "Gauss sağolsun biz insanlara çocuk yaşında armağan ettiğ **n(n + 1)/2** formülüyle toplamı 100*101/2 = 5050 olarak kolaylaca buluyoruz. Fakat ne yazıki ki bilgisayar mekanikleri gereği 1'den 100' e kadar olan sayıları siz formül kullansanız dahi tek tek toplayarak bulur. Döngüler yardımıyla 1'den 100'e kadar olan sayıların toplamını bulalım."
   ]
  },
  {
   "cell_type": "code",
   "execution_count": 14,
   "metadata": {},
   "outputs": [
    {
     "name": "stdout",
     "output_type": "stream",
     "text": [
      "1'den 100'e Kadar Sayıların Toplamı =  5050\n"
     ]
    }
   ],
   "source": [
    "toplam = 0\n",
    "i = 0\n",
    "\n",
    "while i < 100 :\n",
    "    i += 1\n",
    "    toplam = toplam + i\n",
    "\n",
    "print(\"1'den 100'e Kadar Sayıların Toplamı = \",toplam)"
   ]
  },
  {
   "cell_type": "code",
   "execution_count": null,
   "metadata": {},
   "outputs": [],
   "source": []
  }
 ],
 "metadata": {
  "kernelspec": {
   "display_name": "Python 3",
   "language": "python",
   "name": "python3"
  },
  "language_info": {
   "codemirror_mode": {
    "name": "ipython",
    "version": 3
   },
   "file_extension": ".py",
   "mimetype": "text/x-python",
   "name": "python",
   "nbconvert_exporter": "python",
   "pygments_lexer": "ipython3",
   "version": "3.5.4"
  }
 },
 "nbformat": 4,
 "nbformat_minor": 2
}
