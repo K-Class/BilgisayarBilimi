{
 "cells": [
  {
   "cell_type": "code",
   "execution_count": 1,
   "metadata": {},
   "outputs": [
    {
     "name": "stdout",
     "output_type": "stream",
     "text": [
      "Merhaba Dünya\n",
      "Merhaba İnsanlık\n",
      "Merhaba Python\n",
      "Merhaba Gökyüzü\n",
      "Merhaba Ormanlar\n"
     ]
    }
   ],
   "source": [
    "print(\"Merhaba Dünya\")\n",
    "print(\"Merhaba İnsanlık\")\n",
    "print(\"Merhaba Python\")\n",
    "print(\"Merhaba Gökyüzü\")\n",
    "print(\"Merhaba Ormanlar\")"
   ]
  },
  {
   "cell_type": "code",
   "execution_count": 2,
   "metadata": {},
   "outputs": [
    {
     "name": "stdout",
     "output_type": "stream",
     "text": [
      "Merhaba Dünya\n",
      "Merhaba İnsanlık\n",
      "Merhaba Python\n",
      "Merhaba Gökyüzü\n",
      "Merhaba Ormanlar\n",
      "Merhaba Dünya\n",
      "Merhaba İnsanlık\n",
      "Merhaba Python\n",
      "Merhaba Gökyüzü\n",
      "Merhaba Ormanlar\n",
      "Merhaba Dünya\n",
      "Merhaba İnsanlık\n",
      "Merhaba Python\n",
      "Merhaba Gökyüzü\n",
      "Merhaba Ormanlar\n",
      "Merhaba Dünya\n",
      "Merhaba İnsanlık\n",
      "Merhaba Python\n",
      "Merhaba Gökyüzü\n",
      "Merhaba Ormanlar\n",
      "Merhaba Dünya\n",
      "Merhaba İnsanlık\n",
      "Merhaba Python\n",
      "Merhaba Gökyüzü\n",
      "Merhaba Ormanlar\n",
      "Merhaba Dünya\n",
      "Merhaba İnsanlık\n",
      "Merhaba Python\n",
      "Merhaba Gökyüzü\n",
      "Merhaba Ormanlar\n",
      "Merhaba Dünya\n",
      "Merhaba İnsanlık\n",
      "Merhaba Python\n",
      "Merhaba Gökyüzü\n",
      "Merhaba Ormanlar\n",
      "Merhaba Dünya\n",
      "Merhaba İnsanlık\n",
      "Merhaba Python\n",
      "Merhaba Gökyüzü\n",
      "Merhaba Ormanlar\n"
     ]
    }
   ],
   "source": [
    "print(\"Merhaba Dünya\")\n",
    "print(\"Merhaba İnsanlık\")\n",
    "print(\"Merhaba Python\")\n",
    "print(\"Merhaba Gökyüzü\")\n",
    "print(\"Merhaba Ormanlar\")\n",
    "\n",
    "print(\"Merhaba Dünya\")\n",
    "print(\"Merhaba İnsanlık\")\n",
    "print(\"Merhaba Python\")\n",
    "print(\"Merhaba Gökyüzü\")\n",
    "print(\"Merhaba Ormanlar\")\n",
    "\n",
    "print(\"Merhaba Dünya\")\n",
    "print(\"Merhaba İnsanlık\")\n",
    "print(\"Merhaba Python\")\n",
    "print(\"Merhaba Gökyüzü\")\n",
    "print(\"Merhaba Ormanlar\")\n",
    "\n",
    "print(\"Merhaba Dünya\")\n",
    "print(\"Merhaba İnsanlık\")\n",
    "print(\"Merhaba Python\")\n",
    "print(\"Merhaba Gökyüzü\")\n",
    "print(\"Merhaba Ormanlar\")\n",
    "\n",
    "print(\"Merhaba Dünya\")\n",
    "print(\"Merhaba İnsanlık\")\n",
    "print(\"Merhaba Python\")\n",
    "print(\"Merhaba Gökyüzü\")\n",
    "print(\"Merhaba Ormanlar\")\n",
    "\n",
    "print(\"Merhaba Dünya\")\n",
    "print(\"Merhaba İnsanlık\")\n",
    "print(\"Merhaba Python\")\n",
    "print(\"Merhaba Gökyüzü\")\n",
    "print(\"Merhaba Ormanlar\")\n",
    "\n",
    "print(\"Merhaba Dünya\")\n",
    "print(\"Merhaba İnsanlık\")\n",
    "print(\"Merhaba Python\")\n",
    "print(\"Merhaba Gökyüzü\")\n",
    "print(\"Merhaba Ormanlar\")\n",
    "\n",
    "print(\"Merhaba Dünya\")\n",
    "print(\"Merhaba İnsanlık\")\n",
    "print(\"Merhaba Python\")\n",
    "print(\"Merhaba Gökyüzü\")\n",
    "print(\"Merhaba Ormanlar\")"
   ]
  },
  {
   "cell_type": "code",
   "execution_count": 5,
   "metadata": {},
   "outputs": [],
   "source": [
    "def selamla():\n",
    "    print(\"Merhaba Dünya\")\n",
    "    print(\"Merhaba Hayvanlar\")\n",
    "    print(\"Merhaba Python\")\n",
    "    print(\"Merhaba Gökyüzü\")\n",
    "    print(\"Merhaba Ormanlar\")\n",
    "    \n"
   ]
  },
  {
   "cell_type": "code",
   "execution_count": 6,
   "metadata": {},
   "outputs": [
    {
     "name": "stdout",
     "output_type": "stream",
     "text": [
      "Merhaba Dünya\n",
      "Merhaba Hayvanlar\n",
      "Merhaba Python\n",
      "Merhaba Gökyüzü\n",
      "Merhaba Ormanlar\n",
      "Merhaba Dünya\n",
      "Merhaba Hayvanlar\n",
      "Merhaba Python\n",
      "Merhaba Gökyüzü\n",
      "Merhaba Ormanlar\n",
      "Merhaba Dünya\n",
      "Merhaba Hayvanlar\n",
      "Merhaba Python\n",
      "Merhaba Gökyüzü\n",
      "Merhaba Ormanlar\n",
      "Merhaba Dünya\n",
      "Merhaba Hayvanlar\n",
      "Merhaba Python\n",
      "Merhaba Gökyüzü\n",
      "Merhaba Ormanlar\n"
     ]
    }
   ],
   "source": [
    "selamla()\n",
    "\n",
    "selamla()\n",
    "\n",
    "selamla()\n",
    "\n",
    "selamla()"
   ]
  },
  {
   "cell_type": "code",
   "execution_count": null,
   "metadata": {},
   "outputs": [],
   "source": [
    "# faktöriyel örneği yapılacak."
   ]
  },
  {
   "cell_type": "code",
   "execution_count": 10,
   "metadata": {},
   "outputs": [
    {
     "name": "stdout",
     "output_type": "stream",
     "text": [
      "Sayı Girin:5\n",
      "Sayı Fakt 120\n"
     ]
    }
   ],
   "source": [
    "n = int(input(\"Sayı Girin:\"))\n",
    "\n",
    "fakt = 1\n",
    "\n",
    "for i in range(n,0,-1):\n",
    "    fakt *= i\n",
    "\n",
    "print(\"Sayı Fakt\",fakt)\n"
   ]
  },
  {
   "cell_type": "code",
   "execution_count": 11,
   "metadata": {},
   "outputs": [
    {
     "name": "stdout",
     "output_type": "stream",
     "text": [
      "Sayı Fakt 1\n",
      "Sayı Fakt 2\n",
      "Sayı Fakt 6\n",
      "Sayı Fakt 24\n",
      "Sayı Fakt 120\n",
      "Sayı Fakt 720\n",
      "Sayı Fakt 5040\n",
      "Sayı Fakt 40320\n",
      "Sayı Fakt 362880\n",
      "Sayı Fakt 3628800\n"
     ]
    }
   ],
   "source": [
    "m = 10 \n",
    "\n",
    "for j in range(1,m+1):\n",
    "    fakt = 1\n",
    "\n",
    "    for i in range(j,0,-1):\n",
    "        fakt *= i\n",
    "\n",
    "    print(\"Sayı Fakt\",fakt)"
   ]
  },
  {
   "cell_type": "code",
   "execution_count": 18,
   "metadata": {},
   "outputs": [
    {
     "name": "stdout",
     "output_type": "stream",
     "text": [
      "5040\n"
     ]
    }
   ],
   "source": [
    "def fakt_hesapla(sayi):\n",
    "    fakt =1\n",
    "    for i in range(sayi,0,-1):\n",
    "        fakt *= i\n",
    "    \n",
    "    return fakt"
   ]
  },
  {
   "cell_type": "code",
   "execution_count": 23,
   "metadata": {},
   "outputs": [
    {
     "name": "stdout",
     "output_type": "stream",
     "text": [
      "1 1\n",
      "2 2\n",
      "3 6\n",
      "4 24\n",
      "5 120\n",
      "6 720\n",
      "7 5040\n",
      "8 40320\n",
      "9 362880\n"
     ]
    }
   ],
   "source": [
    "for i in range(1,10):\n",
    "    print(i,fakt_hesapla(i))"
   ]
  },
  {
   "cell_type": "code",
   "execution_count": 20,
   "metadata": {},
   "outputs": [],
   "source": [
    "def topla(sy1,sy2,sy3):\n",
    "    return sy1+sy2+sy3"
   ]
  },
  {
   "cell_type": "code",
   "execution_count": 21,
   "metadata": {},
   "outputs": [
    {
     "data": {
      "text/plain": [
       "15"
      ]
     },
     "execution_count": 21,
     "metadata": {},
     "output_type": "execute_result"
    }
   ],
   "source": [
    "topla(3,5,7)"
   ]
  },
  {
   "cell_type": "code",
   "execution_count": 5,
   "metadata": {},
   "outputs": [
    {
     "data": {
      "text/plain": [
       "[100, 90, 80, 70, 60, 50, 40, 30, 20, 10]"
      ]
     },
     "execution_count": 5,
     "metadata": {},
     "output_type": "execute_result"
    }
   ],
   "source": [
    "list(range(100,0,-10))"
   ]
  },
  {
   "cell_type": "code",
   "execution_count": 9,
   "metadata": {},
   "outputs": [
    {
     "ename": "ValueError",
     "evalue": "factorial() not defined for negative values",
     "output_type": "error",
     "traceback": [
      "\u001b[1;31m---------------------------------------------------------------------------\u001b[0m",
      "\u001b[1;31mValueError\u001b[0m                                Traceback (most recent call last)",
      "\u001b[1;32m<ipython-input-9-71d395e52481>\u001b[0m in \u001b[0;36m<module>\u001b[1;34m()\u001b[0m\n\u001b[0;32m      1\u001b[0m \u001b[1;32mimport\u001b[0m \u001b[0mmath\u001b[0m\u001b[1;33m\u001b[0m\u001b[0m\n\u001b[1;32m----> 2\u001b[1;33m \u001b[0mmath\u001b[0m\u001b[1;33m.\u001b[0m\u001b[0mfactorial\u001b[0m\u001b[1;33m(\u001b[0m\u001b[1;33m-\u001b[0m\u001b[1;36m10\u001b[0m\u001b[1;33m)\u001b[0m\u001b[1;33m\u001b[0m\u001b[0m\n\u001b[0m",
      "\u001b[1;31mValueError\u001b[0m: factorial() not defined for negative values"
     ]
    }
   ],
   "source": [
    "import math\n",
    "math.factorial(-10)"
   ]
  },
  {
   "cell_type": "code",
   "execution_count": null,
   "metadata": {},
   "outputs": [],
   "source": []
  }
 ],
 "metadata": {
  "kernelspec": {
   "display_name": "Python 3",
   "language": "python",
   "name": "python3"
  },
  "language_info": {
   "codemirror_mode": {
    "name": "ipython",
    "version": 3
   },
   "file_extension": ".py",
   "mimetype": "text/x-python",
   "name": "python",
   "nbconvert_exporter": "python",
   "pygments_lexer": "ipython3",
   "version": "3.5.4"
  }
 },
 "nbformat": 4,
 "nbformat_minor": 2
}
