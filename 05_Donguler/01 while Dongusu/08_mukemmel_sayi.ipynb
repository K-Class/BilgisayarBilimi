{
 "cells": [
  {
   "cell_type": "code",
   "execution_count": null,
   "metadata": {},
   "outputs": [],
   "source": [
    "\"\"\"\n",
    "Tam bölenlerinin toplamı kendine eşit olan sayılara mükemmel sayı denir.\n",
    "1 + 2 + 3 = 6 olduğu için 6 mükemmel bir sayıdır.\n",
    "Mükemmel Sayılar :6,28,496,8128...\n",
    "\"\"\"\n",
    "\n",
    "sayı = 8128\n",
    "i = 1\n",
    "bolen_toplam = 0\n",
    "\n",
    "while i < sayı :\n",
    "    if sayı % i == 0 :\n",
    "        bolen_toplam += i\n",
    "    i += 1\n",
    "\n",
    "if sayı == bolen_toplam :\n",
    "    print('{} Sayısı Mükemmel Bir Sayıdır'.format(sayı))\n",
    "else :\n",
    "    print('{} Mükemmel Sayı Değildir'.format(sayı))"
   ]
  }
 ],
 "metadata": {
  "kernelspec": {
   "display_name": "Python 3",
   "language": "python",
   "name": "python3"
  },
  "language_info": {
   "codemirror_mode": {
    "name": "ipython",
    "version": 3
   },
   "file_extension": ".py",
   "mimetype": "text/x-python",
   "name": "python",
   "nbconvert_exporter": "python",
   "pygments_lexer": "ipython3",
   "version": "3.5.4"
  }
 },
 "nbformat": 4,
 "nbformat_minor": 2
}
