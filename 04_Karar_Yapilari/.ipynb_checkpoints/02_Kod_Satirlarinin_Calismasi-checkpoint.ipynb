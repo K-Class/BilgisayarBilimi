{
 "cells": [
  {
   "cell_type": "markdown",
   "metadata": {},
   "source": [
    "# Kod Satırlarının Çalışması"
   ]
  },
  {
   "cell_type": "code",
   "execution_count": 1,
   "metadata": {},
   "outputs": [
    {
     "name": "stdout",
     "output_type": "stream",
     "text": [
      "3x5 = 15\n"
     ]
    }
   ],
   "source": [
    "a = 3\n",
    "b = 5\n",
    "print('{}x{} = {}'.format(a,b,a*b))"
   ]
  },
  {
   "cell_type": "markdown",
   "metadata": {},
   "source": [
    "Python'da kod satırları yukarıdan aşağıya doğru sırasıyla işletilir. Üstteki örnekte görüldüğü gibi ilk önce değişkenlere değerleri atanır, sonra değerler print() fonksiyonuyla ekrana yazdırılır."
   ]
  },
  {
   "cell_type": "code",
   "execution_count": 2,
   "metadata": {},
   "outputs": [
    {
     "name": "stdout",
     "output_type": "stream",
     "text": [
      "Sonuç 15'e eşit veya büyük\n"
     ]
    }
   ],
   "source": [
    "# 1.Blok\n",
    "a = 3\n",
    "b = 5\n",
    "sonuç = a*b\n",
    "\n",
    "if sonuç >= 15 : # kod burada dallanıyor ve kendi içinde iki koşuldan biri çalıştırılıyor.\n",
    "    # 2.Blok\n",
    "    print(\"Sonuç 15'e eşit veya büyük\") # girinti(tab) ile ana kod akışından farklı 2.Blok kodu\n",
    "else:\n",
    "    print(\"Sonuç 15'ten küçük\")"
   ]
  },
  {
   "cell_type": "markdown",
   "metadata": {},
   "source": [
    "Kod yukardan aşağıya doğru gider. Bazı durumlarda kodun dallanarak ayrı bir işleme girmesi gerekir. Bu tip durumlar Python'da bloklar yardımı ile yapılır. Kodun dallanarak farklı bloklarda oluşturulması koşul durumları ve döngüler gibi kodlarda sıklıkla kullanılır. İki nokta üst üste \":\" operatörü sonrasında gelecek kodun dallanacağını belirtir. \":\" operatöründen sonra girinti(tab) verilerek yazılan kodlar 2.Bloğu oluşturulur. Programları yazdığınız bir çok ide \":\" operatöründen sonra enter'a bastığınızda sizin yerinize 2.Blok kodu için girinti oluşturacaktır."
   ]
  },
  {
   "cell_type": "markdown",
   "metadata": {},
   "source": [
    "Üstteki kodda 1.Blok ana kod bloğudur. if sonuç >= 15: kodu sonuç değişkeninin 15'e eşit veya büyük olup olmadığına sınar. Bu aşamadan sonra kodun girinti yapılarak 2.Bloğa dallanması gerekir. Eğer sonuç 15'e eşit veya büyükse \"Sonuç 15'e eşit veya büyük\" yazdırılır, koşul sağlanmadıysa \"Sonuç 15'ten küçük\" yazdırılır."
   ]
  },
  {
   "cell_type": "markdown",
   "metadata": {},
   "source": [
    "# if Koşul Komutu"
   ]
  },
  {
   "cell_type": "markdown",
   "metadata": {},
   "source": [
    "if <Koşul> : şeklinde yazılan kod satırında if(eğer) kelimesi koşul belirtilir. <Koşul> içinde Karşılaştırma ve mantıksal operatörler ile program içindeki değerler karşılaştırılır. <Koşul> içinde yapılan işlem sonucu True çıkarsa \n",
    "if (koşul): kodundan sonra gelen blok içindeki kod çalıştırılır."
   ]
  },
  {
   "cell_type": "code",
   "execution_count": 3,
   "metadata": {},
   "outputs": [
    {
     "name": "stdout",
     "output_type": "stream",
     "text": [
      "Yaşınızı Giriniz: 21\n",
      "yaş >= 18 sonucu = True\n",
      "Ehliyet Alabilirsiniz\n"
     ]
    }
   ],
   "source": [
    "yaş = int(input('Yaşınızı Giriniz: '))\n",
    "print('yaş >= 18 sonucu =',yaş >= 18)\n",
    "\n",
    "if yaş >= 18 :\n",
    "    #2.Blok\n",
    "    print(\"Ehliyet Alabilirsiniz\")"
   ]
  },
  {
   "cell_type": "markdown",
   "metadata": {},
   "source": [
    "if yaş >= 18 : kodunda yaş >= 18 işleminin sonucu True çıkarsa \":\" operatöründen sonra gelen 2.Blok kodları işletilir."
   ]
  },
  {
   "cell_type": "code",
   "execution_count": 4,
   "metadata": {},
   "outputs": [
    {
     "name": "stdout",
     "output_type": "stream",
     "text": [
      "Yaşınızı Giriniz: 13\n",
      "yaş >= 18 sonucu = False\n",
      "Ehliyet Alamazsınız\n"
     ]
    }
   ],
   "source": [
    "yaş = int(input('Yaşınızı Giriniz: '))\n",
    "print('yaş >= 18 sonucu =',yaş >= 18)\n",
    "\n",
    "if yaş >= 18 :\n",
    "    #2.Blok\n",
    "    print(\"Ehliyet Alabilirsiniz\")\n",
    "else:\n",
    "    print(\"Ehliyet Alamazsınız\")"
   ]
  },
  {
   "cell_type": "markdown",
   "metadata": {},
   "source": [
    "if yaş >= 18 : kodunda yaş >= 18 işleminin sonucu False çıkarsa \"else:\" kodundan sonra gelen 2.Blok kodları işletilir. else değildir anlamına gelir."
   ]
  },
  {
   "cell_type": "code",
   "execution_count": 5,
   "metadata": {},
   "outputs": [
    {
     "name": "stdout",
     "output_type": "stream",
     "text": [
      "Dönem Sonu Not Ortalamanızı Giriniz: 97\n",
      "Takdir Alarak Geçtiniz\n"
     ]
    }
   ],
   "source": [
    "notOrt = float(input(\"Dönem Sonu Not Ortalamanızı Giriniz: \"))\n",
    "\n",
    "if notOrt < 45 :\n",
    "    print(\"Kaldınız\")\n",
    "elif notOrt >= 45 and notOrt < 70 :\n",
    "    print(\"Geçtiniz\")\n",
    "elif notOrt >= 70 and notOrt < 85 :\n",
    "    print(\"Teşekkür Alarak Geçtiniz\")\n",
    "elif notOrt >= 85 and notOrt <= 100:\n",
    "    print(\"Takdir Alarak Geçtiniz\")\n",
    "else:\n",
    "    print(\"Geçersiz Değer Girişi\")"
   ]
  },
  {
   "cell_type": "markdown",
   "metadata": {},
   "source": [
    "İkiden çok koşul durumuna ihtiyacınız varsa if-else arasındaki koşullar için elif koşul kelimesi kullanılır. elif eğer değilse anlamına gelmektedir. Üstteki kodda görüldüğü gibi 45-70, 70-85 ve 85-100 arasındaki not değerleri karşılaştırması elif komutu yardımıyla yapılır. else hiç bir koşula uymayan sayı değeri girilirse hata olduğunu belirtmek için kullanıldı."
   ]
  }
 ],
 "metadata": {
  "kernelspec": {
   "display_name": "Python 3",
   "language": "python",
   "name": "python3"
  },
  "language_info": {
   "codemirror_mode": {
    "name": "ipython",
    "version": 3
   },
   "file_extension": ".py",
   "mimetype": "text/x-python",
   "name": "python",
   "nbconvert_exporter": "python",
   "pygments_lexer": "ipython3",
   "version": "3.5.4"
  }
 },
 "nbformat": 4,
 "nbformat_minor": 2
}
