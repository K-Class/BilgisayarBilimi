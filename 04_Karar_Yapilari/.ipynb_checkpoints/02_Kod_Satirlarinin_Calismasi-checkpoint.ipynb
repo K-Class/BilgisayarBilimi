{
 "cells": [
  {
   "cell_type": "markdown",
   "metadata": {},
   "source": [
    "# Kod Satırlarının Çalışması"
   ]
  },
  {
   "cell_type": "code",
   "execution_count": 1,
   "metadata": {},
   "outputs": [
    {
     "name": "stdout",
     "output_type": "stream",
     "text": [
      "3x5 = 15\n"
     ]
    }
   ],
   "source": [
    "a = 3\n",
    "b = 5\n",
    "print('{}x{} = {}'.format(a,b,a*b))"
   ]
  },
  {
   "cell_type": "markdown",
   "metadata": {},
   "source": [
    "Python'da kod satırları yukarıdan aşağıya doğru sırasıyla işletilir. Üstteki örnekte görüldüğü gibi ilk önce değişkenlere değerleri atanır, sonra değerler print() fonksiyonuyla ekrana yazdırılır."
   ]
  },
  {
   "cell_type": "code",
   "execution_count": 3,
   "metadata": {},
   "outputs": [
    {
     "name": "stdout",
     "output_type": "stream",
     "text": [
      "Sonuç 15'e eşit veya büyük\n"
     ]
    }
   ],
   "source": [
    "# 1.Blok\n",
    "a = 3\n",
    "b = 5\n",
    "sonuç = a*b\n",
    "\n",
    "if sonuç >= 15 : # kod burada dallanıyor ve kendi içinde iki koşuldan biri çalıştırılıyor.\n",
    "    # girinti(tab) ile ana kod akışından farklı 2.Blok kodu buradan başlıyor\n",
    "    print(\"Sonuç 15'e eşit veya büyük\") # 2.Blok kodu\n",
    "else:\n",
    "    print(\"Sonuç 15'ten küçük\") # 2.Blok kodu"
   ]
  },
  {
   "cell_type": "markdown",
   "metadata": {},
   "source": [
    "Kod yukardan aşağıya doğru gider. Bazı durumlarda kodun dallanarak ayrı bir işleme girmesi gerekir. Bu tip durumlar Python'da bloklar yardımı ile yapılır. Kodun dallanarak farklı bloklarda oluşturulması koşul durumları ve döngüler gibi kodlarda sıklıkla kullanılır. İki nokta üst üste \":\" operatörü sonrasında gelecek kodun dallanacağını belirtir. \":\" operatöründen sonra girinti(tab) verilerek yazılan kodlar 2.Bloğu oluşturulur. Programları yazdığınız bir çok ide \":\" operatöründen sonra enter'a bastığınızda sizin yerinize 2.Blok kodu için girinti oluşturacaktır."
   ]
  },
  {
   "cell_type": "markdown",
   "metadata": {},
   "source": [
    "Üstteki kodda 1.Blok ana kod bloğudur. if sonuç >= 15: kodu sonuç değişkeninin 15'e eşit veya büyük olup olmadığına sınar. Bu aşamadan sonra kodun girinti yapılarak 2.Bloğa dallanması gerekir. Eğer sonuç 15'e eşit veya büyükse \"Sonuç 15'e eşit veya büyük\" yazdırılır, koşul sağlanmadıysa \"Sonuç 15'ten küçük\" yazdırılır."
   ]
  }
 ],
 "metadata": {
  "kernelspec": {
   "display_name": "Python 3",
   "language": "python",
   "name": "python3"
  },
  "language_info": {
   "codemirror_mode": {
    "name": "ipython",
    "version": 3
   },
   "file_extension": ".py",
   "mimetype": "text/x-python",
   "name": "python",
   "nbconvert_exporter": "python",
   "pygments_lexer": "ipython3",
   "version": "3.5.4"
  }
 },
 "nbformat": 4,
 "nbformat_minor": 2
}
