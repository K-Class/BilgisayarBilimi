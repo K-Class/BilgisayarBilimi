{
 "cells": [
  {
   "cell_type": "markdown",
   "metadata": {},
   "source": [
    "# Bool Veri Tipi"
   ]
  },
  {
   "cell_type": "markdown",
   "metadata": {},
   "source": [
    "İngilizcede Boolean olarak geçen bool veri tipi sadece True ve False olarak iki değerden oluşur."
   ]
  },
  {
   "cell_type": "code",
   "execution_count": 1,
   "metadata": {},
   "outputs": [
    {
     "data": {
      "text/plain": [
       "bool"
      ]
     },
     "execution_count": 1,
     "metadata": {},
     "output_type": "execute_result"
    }
   ],
   "source": [
    "doğru = True\n",
    "type(doğru)"
   ]
  },
  {
   "cell_type": "code",
   "execution_count": 2,
   "metadata": {},
   "outputs": [
    {
     "data": {
      "text/plain": [
       "bool"
      ]
     },
     "execution_count": 2,
     "metadata": {},
     "output_type": "execute_result"
    }
   ],
   "source": [
    "yanlış = False\n",
    "type(yanlış)"
   ]
  },
  {
   "cell_type": "markdown",
   "metadata": {},
   "source": [
    "## bool() fonksiyonu "
   ]
  },
  {
   "cell_type": "markdown",
   "metadata": {},
   "source": [
    "0 ve 0.0 değerleri dışındaki tüm sayısal değerler True bool değerine karşılık gelir"
   ]
  },
  {
   "cell_type": "code",
   "execution_count": 15,
   "metadata": {},
   "outputs": [
    {
     "data": {
      "text/plain": [
       "True"
      ]
     },
     "execution_count": 15,
     "metadata": {},
     "output_type": "execute_result"
    }
   ],
   "source": [
    "bool(1)"
   ]
  },
  {
   "cell_type": "code",
   "execution_count": 16,
   "metadata": {},
   "outputs": [
    {
     "data": {
      "text/plain": [
       "True"
      ]
     },
     "execution_count": 16,
     "metadata": {},
     "output_type": "execute_result"
    }
   ],
   "source": [
    "bool(375)"
   ]
  },
  {
   "cell_type": "code",
   "execution_count": 17,
   "metadata": {},
   "outputs": [
    {
     "data": {
      "text/plain": [
       "True"
      ]
     },
     "execution_count": 17,
     "metadata": {},
     "output_type": "execute_result"
    }
   ],
   "source": [
    "bool(-57)"
   ]
  },
  {
   "cell_type": "code",
   "execution_count": 18,
   "metadata": {},
   "outputs": [
    {
     "data": {
      "text/plain": [
       "True"
      ]
     },
     "execution_count": 18,
     "metadata": {},
     "output_type": "execute_result"
    }
   ],
   "source": [
    "bool(-0.000001)"
   ]
  },
  {
   "cell_type": "code",
   "execution_count": 19,
   "metadata": {},
   "outputs": [
    {
     "data": {
      "text/plain": [
       "True"
      ]
     },
     "execution_count": 19,
     "metadata": {},
     "output_type": "execute_result"
    }
   ],
   "source": [
    "bool(3.14)"
   ]
  },
  {
   "cell_type": "code",
   "execution_count": 20,
   "metadata": {},
   "outputs": [
    {
     "data": {
      "text/plain": [
       "True"
      ]
     },
     "execution_count": 20,
     "metadata": {},
     "output_type": "execute_result"
    }
   ],
   "source": [
    "bool(-12.25)"
   ]
  },
  {
   "cell_type": "code",
   "execution_count": 21,
   "metadata": {},
   "outputs": [
    {
     "data": {
      "text/plain": [
       "True"
      ]
     },
     "execution_count": 21,
     "metadata": {},
     "output_type": "execute_result"
    }
   ],
   "source": [
    "a = 0.000001\n",
    "bool(a)"
   ]
  },
  {
   "cell_type": "code",
   "execution_count": 22,
   "metadata": {},
   "outputs": [
    {
     "data": {
      "text/plain": [
       "True"
      ]
     },
     "execution_count": 22,
     "metadata": {},
     "output_type": "execute_result"
    }
   ],
   "source": [
    "b = 5.41\n",
    "bool(b)"
   ]
  },
  {
   "cell_type": "markdown",
   "metadata": {},
   "source": [
    "0 ve 0.0 sayısal değerleri False bool değerine karşılık gelir"
   ]
  },
  {
   "cell_type": "code",
   "execution_count": 7,
   "metadata": {},
   "outputs": [
    {
     "data": {
      "text/plain": [
       "False"
      ]
     },
     "execution_count": 7,
     "metadata": {},
     "output_type": "execute_result"
    }
   ],
   "source": [
    "bool(0)"
   ]
  },
  {
   "cell_type": "code",
   "execution_count": 13,
   "metadata": {},
   "outputs": [
    {
     "data": {
      "text/plain": [
       "False"
      ]
     },
     "execution_count": 13,
     "metadata": {},
     "output_type": "execute_result"
    }
   ],
   "source": [
    "bool(0.0)"
   ]
  },
  {
   "cell_type": "code",
   "execution_count": 8,
   "metadata": {},
   "outputs": [
    {
     "data": {
      "text/plain": [
       "False"
      ]
     },
     "execution_count": 8,
     "metadata": {},
     "output_type": "execute_result"
    }
   ],
   "source": [
    "z = 0 \n",
    "bool(z)"
   ]
  },
  {
   "cell_type": "code",
   "execution_count": 14,
   "metadata": {},
   "outputs": [
    {
     "data": {
      "text/plain": [
       "False"
      ]
     },
     "execution_count": 14,
     "metadata": {},
     "output_type": "execute_result"
    }
   ],
   "source": [
    "y = 0.0\n",
    "bool(y)"
   ]
  },
  {
   "cell_type": "markdown",
   "metadata": {},
   "source": [
    "**bool()** fonksiyonu değer olarak aldığı sayı verisini **bool** değere dönüştürür. Python'da 0 dışındaki tüm sayı değerleri True değerine karşılık gelir, 0 sayı değeri False değerine karşılık gelir. Üstteki bool() fonksiyonu örnekleri incelendiğinde bool(0) ve bool(0.0) tip dönüşümleri False değerini döner, bunun dışında tüm sayısal dönüşümler True değere dönüşür."
   ]
  },
  {
   "cell_type": "markdown",
   "metadata": {},
   "source": [
    "## Karşılaştırma Operatörleri (İlişkisel) Operatörler"
   ]
  },
  {
   "cell_type": "markdown",
   "metadata": {},
   "source": [
    "İki değişken ya da iki veri arasında büyüklük, küçüklük ve eşitlik kontrolü yapan operatörlere karşılaştırma (ilişkisel) operatörler denir. Karşılaştırma operatörleri; sonuç olarak geriye mantıksal (bool) veri tipinde 1 (True) veya 0 (False) olarak bir bit değer döner. Buna göre koşul sağlanmışsa True(1), sağlanmamışsa False(0) değeri döner."
   ]
  },
  {
   "cell_type": "markdown",
   "metadata": {},
   "source": [
    "<table style=\"border-collapse: collapse; border: none;\">\n",
    "<tbody>\n",
    "<tr>\n",
    "<td style=\"width: 152.0625px; border-top-width: 1pt; border-bottom-width: 1pt; border-left-width: 1pt; border-style: solid none solid solid; border-top-color: #75bda7; border-bottom-color: #75bda7; border-left-color: #75bda7; background-color: #75bda7; padding: 0cm 5.4pt; background-position: initial initial; background-repeat: initial initial;\">\n",
    "<p style=\"text-align: center; line-height: normal;\"><span style=\"font-size: 12pt;\"><strong><span style=\"color: white;\">Operat&ouml;r</span></strong></span></p>\n",
    "</td>\n",
    "<td style=\"width: 154.015625px; border-top-width: 1pt; border-style: solid none; border-top-color: #75bda7; border-bottom-width: 1pt; border-bottom-color: #75bda7; background-color: #75bda7; padding: 0cm 5.4pt; background-position: initial initial; background-repeat: initial initial;\">\n",
    "<p style=\"text-align: center; line-height: normal;\"><span style=\"font-size: 12pt;\"><strong><span style=\"color: white;\">Bilgisayar Sembol&uuml;</span></strong></span></p>\n",
    "</td>\n",
    "<td style=\"width: 146.859375px; border-top-width: 1pt; border-style: solid none; border-top-color: #75bda7; border-bottom-width: 1pt; border-bottom-color: #75bda7; background-color: #75bda7; padding: 0cm 5.4pt; background-position: initial initial; background-repeat: initial initial;\">\n",
    "<p style=\"text-align: center; line-height: normal;\"><span style=\"font-size: 12pt;\"><strong><span style=\"color: white;\">&Ouml;rnek</span></strong></span></p>\n",
    "</td>\n",
    "<td style=\"width: 136.59375px; border-top-width: 1pt; border-right-width: 1pt; border-bottom-width: 1pt; border-style: solid solid solid none; border-top-color: #75bda7; border-right-color: #75bda7; border-bottom-color: #75bda7; background-color: #75bda7; padding: 0cm 5.4pt; background-position: initial initial; background-repeat: initial initial;\">\n",
    "<p style=\"text-align: center; line-height: normal;\"><span style=\"font-size: 12pt;\"><strong><span style=\"color: white;\">Sonu&ccedil;</span></strong></span></p>\n",
    "</td>\n",
    "</tr>\n",
    "<tr>\n",
    "<td style=\"width: 152.0625px; border-right-width: 1pt; border-bottom-width: 1pt; border-left-width: 1pt; border-style: none solid solid; border-right-color: #acd7ca; border-bottom-color: #acd7ca; border-left-color: #acd7ca; background-color: #e3f1ed; padding: 0cm 5.4pt; background-position: initial initial; background-repeat: initial initial;\">\n",
    "<p style=\"text-align: center; line-height: normal;\"><span style=\"font-size: 12pt;\"><em>Eşit</em></span></p>\n",
    "</td>\n",
    "<td style=\"width: 153.015625px; border-style: none solid solid none; border-bottom-width: 1pt; border-bottom-color: #acd7ca; border-right-width: 1pt; border-right-color: #acd7ca; background-color: #e3f1ed; padding: 0cm 5.4pt; background-position: initial initial; background-repeat: initial initial;\">\n",
    "<p style=\"text-align: center; line-height: normal;\"><span style=\"font-size: 12pt;\"><em>==</em></span></p>\n",
    "</td>\n",
    "<td style=\"width: 145.859375px; border-style: none solid solid none; border-bottom-width: 1pt; border-bottom-color: #acd7ca; border-right-width: 1pt; border-right-color: #acd7ca; background-color: #e3f1ed; padding: 0cm 5.4pt; background-position: initial initial; background-repeat: initial initial;\">\n",
    "<p style=\"text-align: center; line-height: normal;\"><span style=\"font-size: 12pt;\">6 == 8</span></p>\n",
    "</td>\n",
    "<td style=\"width: 135.59375px; border-style: none solid solid none; border-bottom-width: 1pt; border-bottom-color: #acd7ca; border-right-width: 1pt; border-right-color: #acd7ca; background-color: #e3f1ed; padding: 0cm 5.4pt; background-position: initial initial; background-repeat: initial initial;\">\n",
    "<p style=\"text-align: center; line-height: normal;\"><span style=\"font-size: 12pt;\">False</span></p>\n",
    "</td>\n",
    "</tr>\n",
    "<tr>\n",
    "<td style=\"width: 152.0625px; border-right-width: 1pt; border-bottom-width: 1pt; border-left-width: 1pt; border-style: none solid solid; border-right-color: #acd7ca; border-bottom-color: #acd7ca; border-left-color: #acd7ca; padding: 0cm 5.4pt;\">\n",
    "<p style=\"text-align: center; line-height: normal;\"><span style=\"font-size: 12pt;\"><em>K&uuml;&ccedil;&uuml;kt&uuml;r</em></span></p>\n",
    "</td>\n",
    "<td style=\"width: 153.015625px; border-style: none solid solid none; border-bottom-width: 1pt; border-bottom-color: #acd7ca; border-right-width: 1pt; border-right-color: #acd7ca; padding: 0cm 5.4pt;\">\n",
    "<p style=\"text-align: center; line-height: normal;\"><span style=\"font-size: 12pt;\"><em>&lt;&nbsp;</em></span></p>\n",
    "</td>\n",
    "<td style=\"width: 145.859375px; border-style: none solid solid none; border-bottom-width: 1pt; border-bottom-color: #acd7ca; border-right-width: 1pt; border-right-color: #acd7ca; padding: 0cm 5.4pt;\">\n",
    "<p style=\"text-align: center; line-height: normal;\"><span style=\"font-size: 12pt;\">6 &lt; 8</span></p>\n",
    "</td>\n",
    "<td style=\"width: 135.59375px; border-style: none solid solid none; border-bottom-width: 1pt; border-bottom-color: #acd7ca; border-right-width: 1pt; border-right-color: #acd7ca; padding: 0cm 5.4pt;\">\n",
    "<p style=\"text-align: center; line-height: normal;\"><span style=\"font-size: 12pt;\">True</span></p>\n",
    "</td>\n",
    "</tr>\n",
    "<tr>\n",
    "<td style=\"width: 152.0625px; border-right-width: 1pt; border-bottom-width: 1pt; border-left-width: 1pt; border-style: none solid solid; border-right-color: #acd7ca; border-bottom-color: #acd7ca; border-left-color: #acd7ca; background-color: #e3f1ed; padding: 0cm 5.4pt; background-position: initial initial; background-repeat: initial initial;\">\n",
    "<p style=\"text-align: center; line-height: normal;\"><span style=\"font-size: 12pt;\"><em>B&uuml;y&uuml;kt&uuml;r</em></span></p>\n",
    "</td>\n",
    "<td style=\"width: 153.015625px; border-style: none solid solid none; border-bottom-width: 1pt; border-bottom-color: #acd7ca; border-right-width: 1pt; border-right-color: #acd7ca; background-color: #e3f1ed; padding: 0cm 5.4pt; background-position: initial initial; background-repeat: initial initial;\">\n",
    "<p style=\"text-align: center; line-height: normal;\"><span style=\"font-size: 12pt;\"><em>&gt;&nbsp;</em></span></p>\n",
    "</td>\n",
    "<td style=\"width: 145.859375px; border-style: none solid solid none; border-bottom-width: 1pt; border-bottom-color: #acd7ca; border-right-width: 1pt; border-right-color: #acd7ca; background-color: #e3f1ed; padding: 0cm 5.4pt; background-position: initial initial; background-repeat: initial initial;\">\n",
    "<p style=\"text-align: center; line-height: normal;\"><span style=\"font-size: 12pt;\">6 &gt; 8</span></p>\n",
    "</td>\n",
    "<td style=\"width: 135.59375px; border-style: none solid solid none; border-bottom-width: 1pt; border-bottom-color: #acd7ca; border-right-width: 1pt; border-right-color: #acd7ca; background-color: #e3f1ed; padding: 0cm 5.4pt; background-position: initial initial; background-repeat: initial initial;\">\n",
    "<p style=\"text-align: center; line-height: normal;\"><span style=\"font-size: 12pt;\">False</span></p>\n",
    "</td>\n",
    "</tr>\n",
    "<tr>\n",
    "<td style=\"width: 152.0625px; border-right-width: 1pt; border-bottom-width: 1pt; border-left-width: 1pt; border-style: none solid solid; border-right-color: #acd7ca; border-bottom-color: #acd7ca; border-left-color: #acd7ca; padding: 0cm 5.4pt;\">\n",
    "<p style=\"text-align: center; line-height: normal;\"><span style=\"font-size: 12pt;\"><em>K&uuml;&ccedil;&uuml;k veya eşittir</em></span></p>\n",
    "</td>\n",
    "<td style=\"width: 153.015625px; border-style: none solid solid none; border-bottom-width: 1pt; border-bottom-color: #acd7ca; border-right-width: 1pt; border-right-color: #acd7ca; padding: 0cm 5.4pt;\">\n",
    "<p style=\"text-align: center; line-height: normal;\"><span style=\"font-size: 12pt;\"><em>&lt;=</em></span></p>\n",
    "</td>\n",
    "<td style=\"width: 145.859375px; border-style: none solid solid none; border-bottom-width: 1pt; border-bottom-color: #acd7ca; border-right-width: 1pt; border-right-color: #acd7ca; padding: 0cm 5.4pt;\">\n",
    "<p style=\"text-align: center; line-height: normal;\"><span style=\"font-size: 12pt;\">6 &lt;= 8</span></p>\n",
    "</td>\n",
    "<td style=\"width: 135.59375px; border-style: none solid solid none; border-bottom-width: 1pt; border-bottom-color: #acd7ca; border-right-width: 1pt; border-right-color: #acd7ca; padding: 0cm 5.4pt;\">\n",
    "<p style=\"text-align: center; line-height: normal;\"><span style=\"font-size: 12pt;\">True</span></p>\n",
    "</td>\n",
    "</tr>\n",
    "<tr>\n",
    "<td style=\"width: 152.0625px; border-right-width: 1pt; border-bottom-width: 1pt; border-left-width: 1pt; border-style: none solid solid; border-right-color: #acd7ca; border-bottom-color: #acd7ca; border-left-color: #acd7ca; background-color: #e3f1ed; padding: 0cm 5.4pt; background-position: initial initial; background-repeat: initial initial;\">\n",
    "<p style=\"text-align: center; line-height: normal;\"><span style=\"font-size: 12pt;\"><em>B&uuml;y&uuml;k veya eşittir</em></span></p>\n",
    "</td>\n",
    "<td style=\"width: 153.015625px; border-style: none solid solid none; border-bottom-width: 1pt; border-bottom-color: #acd7ca; border-right-width: 1pt; border-right-color: #acd7ca; background-color: #e3f1ed; padding: 0cm 5.4pt; background-position: initial initial; background-repeat: initial initial;\">\n",
    "<p style=\"text-align: center; line-height: normal;\"><span style=\"font-size: 12pt;\"><em>&gt;=</em></span></p>\n",
    "</td>\n",
    "<td style=\"width: 145.859375px; border-style: none solid solid none; border-bottom-width: 1pt; border-bottom-color: #acd7ca; border-right-width: 1pt; border-right-color: #acd7ca; background-color: #e3f1ed; padding: 0cm 5.4pt; background-position: initial initial; background-repeat: initial initial;\">\n",
    "<p style=\"text-align: center; line-height: normal;\"><span style=\"font-size: 12pt;\">6 &gt;= 8</span></p>\n",
    "</td>\n",
    "<td style=\"width: 135.59375px; border-style: none solid solid none; border-bottom-width: 1pt; border-bottom-color: #acd7ca; border-right-width: 1pt; border-right-color: #acd7ca; background-color: #e3f1ed; padding: 0cm 5.4pt; background-position: initial initial; background-repeat: initial initial;\">\n",
    "<p style=\"text-align: center; line-height: normal;\"><span style=\"font-size: 12pt;\">False</span></p>\n",
    "</td>\n",
    "</tr>\n",
    "<tr>\n",
    "<td style=\"width: 152.0625px; border-right-width: 1pt; border-bottom-width: 1pt; border-left-width: 1pt; border-style: none solid solid; border-right-color: #acd7ca; border-bottom-color: #acd7ca; border-left-color: #acd7ca; padding: 0cm 5.4pt;\">\n",
    "<p style=\"text-align: center; line-height: normal;\"><span style=\"font-size: 12pt;\"><em>Eşit değildir</em></span></p>\n",
    "</td>\n",
    "<td style=\"width: 153.015625px; border-style: none solid solid none; border-bottom-width: 1pt; border-bottom-color: #acd7ca; border-right-width: 1pt; border-right-color: #acd7ca; padding: 0cm 5.4pt;\">\n",
    "<p style=\"text-align: center; line-height: normal;\"><span style=\"font-size: 12pt;\"><em>!=</em></span></p>\n",
    "</td>\n",
    "<td style=\"width: 145.859375px; border-style: none solid solid none; border-bottom-width: 1pt; border-bottom-color: #acd7ca; border-right-width: 1pt; border-right-color: #acd7ca; padding: 0cm 5.4pt;\">\n",
    "<p style=\"text-align: center; line-height: normal;\"><span style=\"font-size: 12pt;\">6 != 8</span></p>\n",
    "</td>\n",
    "<td style=\"width: 135.59375px; border-style: none solid solid none; border-bottom-width: 1pt; border-bottom-color: #acd7ca; border-right-width: 1pt; border-right-color: #acd7ca; padding: 0cm 5.4pt;\">\n",
    "<p style=\"text-align: center; line-height: normal;\"><span style=\"font-size: 12pt;\">True</span></p>\n",
    "</td>\n",
    "</tr>\n",
    "</tbody>\n",
    "</table>"
   ]
  },
  {
   "cell_type": "code",
   "execution_count": 25,
   "metadata": {},
   "outputs": [
    {
     "data": {
      "text/plain": [
       "True"
      ]
     },
     "execution_count": 25,
     "metadata": {},
     "output_type": "execute_result"
    }
   ],
   "source": [
    "17 < 2043"
   ]
  },
  {
   "cell_type": "code",
   "execution_count": 26,
   "metadata": {},
   "outputs": [
    {
     "data": {
      "text/plain": [
       "False"
      ]
     },
     "execution_count": 26,
     "metadata": {},
     "output_type": "execute_result"
    }
   ],
   "source": [
    "17 > 2043"
   ]
  },
  {
   "cell_type": "code",
   "execution_count": 27,
   "metadata": {},
   "outputs": [
    {
     "data": {
      "text/plain": [
       "True"
      ]
     },
     "execution_count": 27,
     "metadata": {},
     "output_type": "execute_result"
    }
   ],
   "source": [
    "'Tuna' == 'Tuna'"
   ]
  },
  {
   "cell_type": "code",
   "execution_count": 28,
   "metadata": {},
   "outputs": [
    {
     "data": {
      "text/plain": [
       "False"
      ]
     },
     "execution_count": 28,
     "metadata": {},
     "output_type": "execute_result"
    }
   ],
   "source": [
    "'Ahmet' == 'Tuna'"
   ]
  },
  {
   "cell_type": "markdown",
   "metadata": {},
   "source": [
    "bool veri tipi karşılaştırma operatöründen sonra ortaya çıkan sonuç değeridir. Karşılaştırma operatörlüleri sonucun yanlış çıktığı durumda False, doğru çıktığı durumda True değerini döner. bool veri tipi ileride göreceğimiz koşullu durumlar ve döngüler konularında kullanılır."
   ]
  },
  {
   "cell_type": "code",
   "execution_count": null,
   "metadata": {},
   "outputs": [],
   "source": []
  }
 ],
 "metadata": {
  "kernelspec": {
   "display_name": "Python 3",
   "language": "python",
   "name": "python3"
  },
  "language_info": {
   "codemirror_mode": {
    "name": "ipython",
    "version": 3
   },
   "file_extension": ".py",
   "mimetype": "text/x-python",
   "name": "python",
   "nbconvert_exporter": "python",
   "pygments_lexer": "ipython3",
   "version": "3.5.4"
  }
 },
 "nbformat": 4,
 "nbformat_minor": 2
}
