{
 "cells": [
  {
   "cell_type": "code",
   "execution_count": 9,
   "metadata": {},
   "outputs": [
    {
     "name": "stdout",
     "output_type": "stream",
     "text": [
      "Döngüye Girilmek Üzere Sayaç Değişkeni Değeri:  0 \n",
      "\n",
      "Adım 1\n",
      "Adım 2\n",
      "Adım 3\n",
      "Adım 4\n",
      "Adım 5\n",
      "\n",
      "Döngü Sonlandı Sayaç Değeri 5\n",
      "Program Sonlandırıldı\n"
     ]
    }
   ],
   "source": [
    "sayaç = 0\n",
    "\n",
    "print(\"Döngüye Girilmek Üzere Sayaç Değişkeni Değeri: \",sayaç,\"\\n\")\n",
    "\n",
    "while sayaç < 5 :\n",
    "    sayaç = sayaç + 1\n",
    "    print(\"Adım\",sayaç)\n",
    "\n",
    "print('\\nDöngü Sonlandı Sayaç Değeri',sayaç)\n",
    "print('Program Sonlandırıldı')"
   ]
  },
  {
   "cell_type": "code",
   "execution_count": 6,
   "metadata": {},
   "outputs": [
    {
     "name": "stdout",
     "output_type": "stream",
     "text": [
      "Adım 1\n",
      "Adım 2\n",
      "Adım 3\n",
      "Adım 4\n",
      "Adım 5\n",
      "\n",
      "Program Sonlandırıldı\n"
     ]
    }
   ],
   "source": [
    "print(\"Adım\",1)\n",
    "print(\"Adım\",2)\n",
    "print(\"Adım\",3)\n",
    "print(\"Adım\",4)\n",
    "print(\"Adım\",5)\n",
    "\n",
    "print('\\nProgram Sonlandırıldı')"
   ]
  },
  {
   "cell_type": "code",
   "execution_count": 12,
   "metadata": {},
   "outputs": [
    {
     "name": "stdout",
     "output_type": "stream",
     "text": [
      "\n",
      "Toplam Sayı Değeri : 5050\n",
      "\n",
      "Program Sonlandırıldı\n"
     ]
    }
   ],
   "source": [
    "sayaç = 0\n",
    "toplam = 0\n",
    "\n",
    "while sayaç < 100 :\n",
    "    sayaç += 1\n",
    "    toplam = sayaç + toplam\n",
    "\n",
    "print(\"\\nToplam Sayı Değeri :\",toplam)\n",
    "print('\\nProgram Sonlandırıldı')"
   ]
  },
  {
   "cell_type": "code",
   "execution_count": 14,
   "metadata": {},
   "outputs": [
    {
     "name": "stdout",
     "output_type": "stream",
     "text": [
      "Birinci Sayıyı Girin:3\n",
      "İkinci Sayıyı Girin:5\n",
      "Toplam Değer: 8\n"
     ]
    }
   ],
   "source": [
    "\n",
    "sayı1 = int(input(\"Birinci Sayıyı Girin:\"))\n",
    "sayı2 = int(input(\"İkinci Sayıyı Girin:\"))\n",
    "\n",
    "toplam = sayı1 + sayı2\n",
    "\n",
    "print(\"Toplam Değer:\",toplam)"
   ]
  },
  {
   "cell_type": "code",
   "execution_count": 17,
   "metadata": {},
   "outputs": [
    {
     "name": "stdout",
     "output_type": "stream",
     "text": [
      "Toplanacak Tam Sayı Girişi Yapın:10\n",
      "Çıkmak İçin 'ç' Girin:h\n",
      "Toplanacak Tam Sayı Girişi Yapın:20\n",
      "Çıkmak İçin 'ç' Girin:h\n",
      "Toplanacak Tam Sayı Girişi Yapın:30\n",
      "Çıkmak İçin 'ç' Girin:h\n",
      "Toplanacak Tam Sayı Girişi Yapın:40\n",
      "Çıkmak İçin 'ç' Girin:ç\n",
      "4 Adet Sayının Toplamı : 100\n",
      "\n",
      "Program Sonlandırıldı\n"
     ]
    }
   ],
   "source": [
    "devam = ''\n",
    "sayaç = 0\n",
    "toplam = 0\n",
    "\n",
    "while devam != 'ç' :\n",
    "    sayaç += 1\n",
    "    kullanıcı_değer = int(input(\"Toplanacak Tam Sayı Girişi Yapın:\"))\n",
    "    toplam = kullanıcı_değer + toplam\n",
    "    devam = input(\"Çıkmak İçin 'ç' Girin:\")\n",
    "\n",
    "print(sayaç,'Adet Sayının Toplamı :',toplam)\n",
    "\n",
    "print('\\nProgram Sonlandırıldı')"
   ]
  },
  {
   "cell_type": "code",
   "execution_count": 4,
   "metadata": {},
   "outputs": [
    {
     "name": "stdout",
     "output_type": "stream",
     "text": [
      "Çıkmak için 'ç' harfini girin\n",
      "Toplanacak Tam Sayı Değerini Girin: 1\n",
      "Toplanacak Tam Sayı Değerini Girin: 3\n",
      "Toplanacak Tam Sayı Değerini Girin: 5\n",
      "Toplanacak Tam Sayı Değerini Girin: 7\n",
      "Toplanacak Tam Sayı Değerini Girin: 9\n",
      "Toplanacak Tam Sayı Değerini Girin: ç\n",
      "5 Adet Girilen Sayı Toplamı = 25\n",
      "\n",
      "Program Sonlandırıldı\n"
     ]
    }
   ],
   "source": [
    "print(\"Çıkmak için 'ç' harfini girin\")\n",
    "\n",
    "sayı = input(\"Toplanacak Tam Sayı Değerini Girin: \") # input kullanıcıdan string(karakter) değer alır\n",
    "toplam = 0\n",
    "sayaç = 0\n",
    "\n",
    "while sayı != 'ç' :\n",
    "    sayaç += 1\n",
    "    toplam = toplam + int(sayı) # karakter(string) tipteki sayı tam sayıya dönüştürüldü\n",
    "    sayı = input(\"Toplanacak Tam Sayı Değerini Girin: \")\n",
    "\n",
    "print(\"{} Adet Girilen Sayı Toplamı = {}\".format(sayaç,toplam))\n",
    "print('\\nProgram Sonlandırıldı')    "
   ]
  },
  {
   "cell_type": "code",
   "execution_count": 12,
   "metadata": {},
   "outputs": [
    {
     "name": "stdout",
     "output_type": "stream",
     "text": [
      "0 1 1 2 3 5 8 13 21 34 55 89 "
     ]
    }
   ],
   "source": [
    "# 0 1 1 2 3 5 8 13 21 34 55 89\n",
    "sy1 = 0\n",
    "sy2 = 1\n",
    "\n",
    "while sy1 < 100 :\n",
    "    print(sy1, end = \" \")\n",
    "    takas = sy1\n",
    "    sy1 = sy2\n",
    "    sy2 = takas + sy1\n",
    "    \n",
    " "
   ]
  },
  {
   "cell_type": "code",
   "execution_count": 14,
   "metadata": {},
   "outputs": [
    {
     "name": "stdout",
     "output_type": "stream",
     "text": [
      "0 1 1 2 3 5 8 13 21 34 55 89 "
     ]
    }
   ],
   "source": [
    "# 0 1 1 2 3 5 8 13 21 34 55 89\n",
    "sy1 = 0\n",
    "sy2 = 1\n",
    "\n",
    "while sy1 < 100 :\n",
    "    print(sy1, end = \" \")\n",
    "    sy1 , sy2 = sy2 , sy1 + sy2\n",
    "    "
   ]
  },
  {
   "cell_type": "code",
   "execution_count": 5,
   "metadata": {},
   "outputs": [
    {
     "name": "stdout",
     "output_type": "stream",
     "text": [
      "i x j = i*j\n",
      "1 x 1 = 1\n",
      "1 x 2 = 2\n",
      "1 x 3 = 3\n",
      "1 x 4 = 4\n",
      "1 x 5 = 5\n",
      "1 x 6 = 6\n",
      "1 x 7 = 7\n",
      "1 x 8 = 8\n",
      "1 x 9 = 9\n",
      "1 x 10 = 10\n",
      "---------------\n",
      "2 x 1 = 2\n",
      "2 x 2 = 4\n",
      "2 x 3 = 6\n",
      "2 x 4 = 8\n",
      "2 x 5 = 10\n",
      "2 x 6 = 12\n",
      "2 x 7 = 14\n",
      "2 x 8 = 16\n",
      "2 x 9 = 18\n",
      "2 x 10 = 20\n",
      "---------------\n",
      "3 x 1 = 3\n",
      "3 x 2 = 6\n",
      "3 x 3 = 9\n",
      "3 x 4 = 12\n",
      "3 x 5 = 15\n",
      "3 x 6 = 18\n",
      "3 x 7 = 21\n",
      "3 x 8 = 24\n",
      "3 x 9 = 27\n",
      "3 x 10 = 30\n",
      "---------------\n",
      "4 x 1 = 4\n",
      "4 x 2 = 8\n",
      "4 x 3 = 12\n",
      "4 x 4 = 16\n",
      "4 x 5 = 20\n",
      "4 x 6 = 24\n",
      "4 x 7 = 28\n",
      "4 x 8 = 32\n",
      "4 x 9 = 36\n",
      "4 x 10 = 40\n",
      "---------------\n",
      "5 x 1 = 5\n",
      "5 x 2 = 10\n",
      "5 x 3 = 15\n",
      "5 x 4 = 20\n",
      "5 x 5 = 25\n",
      "5 x 6 = 30\n",
      "5 x 7 = 35\n",
      "5 x 8 = 40\n",
      "5 x 9 = 45\n",
      "5 x 10 = 50\n",
      "---------------\n",
      "6 x 1 = 6\n",
      "6 x 2 = 12\n",
      "6 x 3 = 18\n",
      "6 x 4 = 24\n",
      "6 x 5 = 30\n",
      "6 x 6 = 36\n",
      "6 x 7 = 42\n",
      "6 x 8 = 48\n",
      "6 x 9 = 54\n",
      "6 x 10 = 60\n",
      "---------------\n",
      "7 x 1 = 7\n",
      "7 x 2 = 14\n",
      "7 x 3 = 21\n",
      "7 x 4 = 28\n",
      "7 x 5 = 35\n",
      "7 x 6 = 42\n",
      "7 x 7 = 49\n",
      "7 x 8 = 56\n",
      "7 x 9 = 63\n",
      "7 x 10 = 70\n",
      "---------------\n",
      "8 x 1 = 8\n",
      "8 x 2 = 16\n",
      "8 x 3 = 24\n",
      "8 x 4 = 32\n",
      "8 x 5 = 40\n",
      "8 x 6 = 48\n",
      "8 x 7 = 56\n",
      "8 x 8 = 64\n",
      "8 x 9 = 72\n",
      "8 x 10 = 80\n",
      "---------------\n",
      "9 x 1 = 9\n",
      "9 x 2 = 18\n",
      "9 x 3 = 27\n",
      "9 x 4 = 36\n",
      "9 x 5 = 45\n",
      "9 x 6 = 54\n",
      "9 x 7 = 63\n",
      "9 x 8 = 72\n",
      "9 x 9 = 81\n",
      "9 x 10 = 90\n",
      "---------------\n",
      "10 x 1 = 10\n",
      "10 x 2 = 20\n",
      "10 x 3 = 30\n",
      "10 x 4 = 40\n",
      "10 x 5 = 50\n",
      "10 x 6 = 60\n",
      "10 x 7 = 70\n",
      "10 x 8 = 80\n",
      "10 x 9 = 90\n",
      "10 x 10 = 100\n",
      "---------------\n"
     ]
    }
   ],
   "source": [
    "i = 0\n",
    "j = 0\n",
    "\n",
    "print(\"i x j = i*j\")\n",
    "while i < 10:\n",
    "    i += 1\n",
    "    \n",
    "    while j < 10:\n",
    "        j += 1\n",
    "        print(\"{} x {} = {}\".format(i,j,i*j))\n",
    "    print(\"---------------\")\n",
    "    j = 0"
   ]
  },
  {
   "cell_type": "code",
   "execution_count": 2,
   "metadata": {},
   "outputs": [
    {
     "name": "stdout",
     "output_type": "stream",
     "text": [
      "[1, 2, 'Tuna', 3.14, 14]\n"
     ]
    }
   ],
   "source": [
    "print(veriler)"
   ]
  },
  {
   "cell_type": "code",
   "execution_count": 3,
   "metadata": {},
   "outputs": [
    {
     "data": {
      "text/plain": [
       "3.14"
      ]
     },
     "execution_count": 3,
     "metadata": {},
     "output_type": "execute_result"
    }
   ],
   "source": [
    "veriler[3]"
   ]
  },
  {
   "cell_type": "code",
   "execution_count": 4,
   "metadata": {},
   "outputs": [
    {
     "data": {
      "text/plain": [
       "1"
      ]
     },
     "execution_count": 4,
     "metadata": {},
     "output_type": "execute_result"
    }
   ],
   "source": [
    "veriler[0]"
   ]
  },
  {
   "cell_type": "code",
   "execution_count": 8,
   "metadata": {},
   "outputs": [
    {
     "data": {
      "text/plain": [
       "14"
      ]
     },
     "execution_count": 8,
     "metadata": {},
     "output_type": "execute_result"
    }
   ],
   "source": [
    "veriler[len(veriler)-1]"
   ]
  },
  {
   "cell_type": "code",
   "execution_count": 9,
   "metadata": {},
   "outputs": [
    {
     "data": {
      "text/plain": [
       "1"
      ]
     },
     "execution_count": 9,
     "metadata": {},
     "output_type": "execute_result"
    }
   ],
   "source": [
    "i = 0\n",
    "veriler[i]"
   ]
  },
  {
   "cell_type": "code",
   "execution_count": 10,
   "metadata": {},
   "outputs": [
    {
     "data": {
      "text/plain": [
       "3.14"
      ]
     },
     "execution_count": 10,
     "metadata": {},
     "output_type": "execute_result"
    }
   ],
   "source": [
    "i = 3\n",
    "veriler[i]"
   ]
  },
  {
   "cell_type": "code",
   "execution_count": 1,
   "metadata": {},
   "outputs": [],
   "source": [
    "veriler = [1,2,\"Tuna\",3.14,14]"
   ]
  },
  {
   "cell_type": "code",
   "execution_count": 12,
   "metadata": {},
   "outputs": [
    {
     "name": "stdout",
     "output_type": "stream",
     "text": [
      "1\n",
      "2\n",
      "Tuna\n",
      "3.14\n",
      "14\n",
      "\n",
      "Program Sonlandı\n"
     ]
    }
   ],
   "source": [
    "veriler = [1,2,\"Tuna\",3.14,14]\n",
    "i = 0\n",
    "\n",
    "while i < len(veriler):\n",
    "    print(veriler[i])\n",
    "    i += 1\n",
    "\n",
    "print(\"\\nProgram Sonlandı\")"
   ]
  },
  {
   "cell_type": "code",
   "execution_count": 15,
   "metadata": {},
   "outputs": [
    {
     "name": "stdout",
     "output_type": "stream",
     "text": [
      "1\n",
      "2\n",
      "Tuna\n",
      "3.14\n",
      "14\n",
      "[3, 5, 7]\n",
      "\n",
      "Program Sonlandı\n"
     ]
    }
   ],
   "source": [
    "veriler = [1,2,\"Tuna\",3.14,14,[3,5,7]]\n",
    "for i in veriler:\n",
    "    print(i)\n",
    "\n",
    "print(\"\\nProgram Sonlandı\")"
   ]
  },
  {
   "cell_type": "code",
   "execution_count": 16,
   "metadata": {},
   "outputs": [
    {
     "name": "stdout",
     "output_type": "stream",
     "text": [
      "0\n",
      "2\n",
      "4\n",
      "6\n",
      "8\n",
      "\n",
      "Program Sonlandı\n"
     ]
    }
   ],
   "source": [
    "cift_sayilar = [0,2,3,4,6,8]\n",
    "\n",
    "for i in cift_sayilar:\n",
    "    if i % 2 == 0:\n",
    "        print(i)\n",
    "\n",
    "print(\"\\nProgram Sonlandı\")"
   ]
  },
  {
   "cell_type": "code",
   "execution_count": 17,
   "metadata": {},
   "outputs": [
    {
     "name": "stdout",
     "output_type": "stream",
     "text": [
      "0\n",
      "4\n",
      "16\n",
      "36\n",
      "64\n",
      "\n",
      "Program Sonlandı\n"
     ]
    }
   ],
   "source": [
    "cift_sayilar = [0,2,4,6,8]\n",
    "\n",
    "for i in cift_sayilar:\n",
    "    print(i**2)\n",
    "\n",
    "print(\"\\nProgram Sonlandı\")"
   ]
  },
  {
   "cell_type": "code",
   "execution_count": 18,
   "metadata": {},
   "outputs": [
    {
     "data": {
      "text/plain": [
       "range(0, 10)"
      ]
     },
     "execution_count": 18,
     "metadata": {},
     "output_type": "execute_result"
    }
   ],
   "source": [
    "range(10)"
   ]
  },
  {
   "cell_type": "code",
   "execution_count": 19,
   "metadata": {},
   "outputs": [
    {
     "data": {
      "text/plain": [
       "[0, 1, 2, 3, 4, 5, 6, 7, 8, 9]"
      ]
     },
     "execution_count": 19,
     "metadata": {},
     "output_type": "execute_result"
    }
   ],
   "source": [
    "list(range(10))"
   ]
  },
  {
   "cell_type": "code",
   "execution_count": 20,
   "metadata": {},
   "outputs": [
    {
     "data": {
      "text/plain": [
       "[3, 4, 5, 6, 7, 8, 9, 10, 11, 12, 13, 14, 15, 16]"
      ]
     },
     "execution_count": 20,
     "metadata": {},
     "output_type": "execute_result"
    }
   ],
   "source": [
    "list(range(3,17))"
   ]
  },
  {
   "cell_type": "code",
   "execution_count": 21,
   "metadata": {},
   "outputs": [
    {
     "data": {
      "text/plain": [
       "[-7, -6, -5, -4, -3, -2, -1, 0, 1, 2, 3, 4, 5, 6, 7]"
      ]
     },
     "execution_count": 21,
     "metadata": {},
     "output_type": "execute_result"
    }
   ],
   "source": [
    "list(range(-7,8))"
   ]
  },
  {
   "cell_type": "code",
   "execution_count": 24,
   "metadata": {},
   "outputs": [
    {
     "data": {
      "text/plain": [
       "[0, 2, 4, 6, 8, 10]"
      ]
     },
     "execution_count": 24,
     "metadata": {},
     "output_type": "execute_result"
    }
   ],
   "source": [
    "list(range(0,11,2))"
   ]
  },
  {
   "cell_type": "code",
   "execution_count": null,
   "metadata": {},
   "outputs": [],
   "source": []
  },
  {
   "cell_type": "code",
   "execution_count": 27,
   "metadata": {},
   "outputs": [
    {
     "name": "stdout",
     "output_type": "stream",
     "text": [
      "1 , 2 , 3 , 4 , 5 , 6 , 7 , 8 , 9 , 10 , "
     ]
    }
   ],
   "source": [
    "for i in range(1,11):\n",
    "    print(i,end=\" , \")"
   ]
  },
  {
   "cell_type": "code",
   "execution_count": 28,
   "metadata": {},
   "outputs": [
    {
     "name": "stdout",
     "output_type": "stream",
     "text": [
      "1 , 2 , 3 , 4 , 5 , 6 , 7 , 8 , 9 , 10 , "
     ]
    }
   ],
   "source": [
    "i = 1\n",
    "while i < 11:\n",
    "    print(i,end=\" , \")\n",
    "    i+=1"
   ]
  },
  {
   "cell_type": "code",
   "execution_count": 29,
   "metadata": {},
   "outputs": [
    {
     "name": "stdout",
     "output_type": "stream",
     "text": [
      "1 5 7 9 "
     ]
    }
   ],
   "source": [
    "for i in (1,5,7,9):\n",
    "    print(i,end=\" \")"
   ]
  },
  {
   "cell_type": "code",
   "execution_count": 32,
   "metadata": {},
   "outputs": [
    {
     "name": "stdout",
     "output_type": "stream",
     "text": [
      "DDDDDDDDDD\n",
      "üüüüüüüüüü\n",
      "vvvvvvvvvv\n",
      "eeeeeeeeee\n",
      "nnnnnnnnnn\n",
      "cccccccccc\n",
      "iiiiiiiiii\n",
      "llllllllll\n",
      "eeeeeeeeee\n",
      "rrrrrrrrrr\n",
      "          \n",
      "AAAAAAAAAA\n",
      "nnnnnnnnnn\n",
      "aaaaaaaaaa\n",
      "dddddddddd\n",
      "oooooooooo\n",
      "llllllllll\n",
      "uuuuuuuuuu\n",
      "          \n",
      "LLLLLLLLLL\n",
      "iiiiiiiiii\n",
      "ssssssssss\n",
      "eeeeeeeeee\n",
      "ssssssssss\n",
      "iiiiiiiiii\n"
     ]
    }
   ],
   "source": [
    "for i in \"Düvenciler Anadolu Lisesi\":\n",
    "    print(i*10,end=\"\\n\")"
   ]
  },
  {
   "cell_type": "code",
   "execution_count": 36,
   "metadata": {},
   "outputs": [
    {
     "name": "stdout",
     "output_type": "stream",
     "text": [
      "1 3 0 2 5 7 4 6 "
     ]
    }
   ],
   "source": [
    "ic_ice_liste = [[1,3],[0,2],[5,7],[4,6]]\n",
    "\n",
    "for i,j in ic_ice_liste:\n",
    "    print(i,j, end = \" \")"
   ]
  },
  {
   "cell_type": "code",
   "execution_count": null,
   "metadata": {},
   "outputs": [],
   "source": []
  }
 ],
 "metadata": {
  "kernelspec": {
   "display_name": "Python 3",
   "language": "python",
   "name": "python3"
  },
  "language_info": {
   "codemirror_mode": {
    "name": "ipython",
    "version": 3
   },
   "file_extension": ".py",
   "mimetype": "text/x-python",
   "name": "python",
   "nbconvert_exporter": "python",
   "pygments_lexer": "ipython3",
   "version": "3.5.4"
  }
 },
 "nbformat": 4,
 "nbformat_minor": 2
}
