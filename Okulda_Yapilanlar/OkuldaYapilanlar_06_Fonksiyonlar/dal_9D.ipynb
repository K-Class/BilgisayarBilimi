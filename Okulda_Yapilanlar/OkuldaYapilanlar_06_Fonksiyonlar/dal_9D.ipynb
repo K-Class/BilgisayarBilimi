{
 "cells": [
  {
   "cell_type": "code",
   "execution_count": 1,
   "metadata": {},
   "outputs": [],
   "source": [
    "def faktoriyel_hesapla(n):\n",
    "    # faktöriyel hesabı\n",
    "    carpim = 1\n",
    "\n",
    "    for i in range(n,0,-1):\n",
    "        carpim *= i # carpim = i * carpim\n",
    "    \n",
    "    return carpim"
   ]
  },
  {
   "cell_type": "code",
   "execution_count": 2,
   "metadata": {},
   "outputs": [
    {
     "data": {
      "text/plain": [
       "5040"
      ]
     },
     "execution_count": 2,
     "metadata": {},
     "output_type": "execute_result"
    }
   ],
   "source": [
    "faktoriyel_hesapla(7)"
   ]
  },
  {
   "cell_type": "code",
   "execution_count": 6,
   "metadata": {},
   "outputs": [
    {
     "name": "stdout",
     "output_type": "stream",
     "text": [
      "1 Sayısının Faktöriyeli: 1\n",
      "2 Sayısının Faktöriyeli: 2\n",
      "3 Sayısının Faktöriyeli: 6\n",
      "4 Sayısının Faktöriyeli: 24\n",
      "5 Sayısının Faktöriyeli: 120\n",
      "6 Sayısının Faktöriyeli: 720\n",
      "7 Sayısının Faktöriyeli: 5040\n",
      "8 Sayısının Faktöriyeli: 40320\n",
      "9 Sayısının Faktöriyeli: 362880\n",
      "10 Sayısının Faktöriyeli: 3628800\n"
     ]
    }
   ],
   "source": [
    "for i in range(1,11):\n",
    "    print(\"{} Sayısının Faktöriyeli: {}\".format(i,faktoriyel_hesapla(i)))"
   ]
  },
  {
   "cell_type": "code",
   "execution_count": 5,
   "metadata": {},
   "outputs": [
    {
     "name": "stdout",
     "output_type": "stream",
     "text": [
      "1\n",
      "4\n",
      "9\n",
      "16\n",
      "25\n",
      "36\n",
      "49\n",
      "64\n",
      "81\n",
      "100\n"
     ]
    }
   ],
   "source": [
    "# 1 - 10 sayılarının karesi fonksiyon olmadan\n",
    "print(1**2)\n",
    "print(2**2)\n",
    "print(3**2)\n",
    "print(4**2)\n",
    "print(5**2)\n",
    "print(6**2)\n",
    "print(7**2)\n",
    "print(8**2)\n",
    "print(9**2)\n",
    "print(10**2)"
   ]
  },
  {
   "cell_type": "code",
   "execution_count": 6,
   "metadata": {},
   "outputs": [
    {
     "name": "stdout",
     "output_type": "stream",
     "text": [
      "1\n",
      "4\n",
      "9\n",
      "16\n",
      "25\n",
      "36\n",
      "49\n",
      "64\n",
      "81\n",
      "100\n"
     ]
    }
   ],
   "source": [
    "# 1 - 10 sayılarının karesi fonksiyon olmadan\n",
    "for i in range(1,11):\n",
    "    print(i**2)"
   ]
  },
  {
   "cell_type": "code",
   "execution_count": 7,
   "metadata": {},
   "outputs": [],
   "source": [
    "# us alma fonksiyonu\n",
    "def us_al(sayi,us):\n",
    "    return sayi**us"
   ]
  },
  {
   "cell_type": "code",
   "execution_count": 8,
   "metadata": {},
   "outputs": [
    {
     "data": {
      "text/plain": [
       "8"
      ]
     },
     "execution_count": 8,
     "metadata": {},
     "output_type": "execute_result"
    }
   ],
   "source": [
    "us_al(2,3)"
   ]
  },
  {
   "cell_type": "code",
   "execution_count": 10,
   "metadata": {},
   "outputs": [
    {
     "name": "stdout",
     "output_type": "stream",
     "text": [
      "1\n",
      "4\n",
      "9\n",
      "16\n",
      "25\n",
      "36\n",
      "49\n",
      "64\n",
      "81\n",
      "100\n"
     ]
    }
   ],
   "source": [
    "print(us_al(1,2))\n",
    "print(us_al(2,2))\n",
    "print(us_al(3,2))\n",
    "print(us_al(4,2))\n",
    "print(us_al(5,2))\n",
    "print(us_al(6,2))\n",
    "print(us_al(7,2))\n",
    "print(us_al(8,2))\n",
    "print(us_al(9,2))\n",
    "print(us_al(10,2))"
   ]
  },
  {
   "cell_type": "code",
   "execution_count": 13,
   "metadata": {},
   "outputs": [
    {
     "name": "stdout",
     "output_type": "stream",
     "text": [
      "12 Sayısının Bolenleri : [1, 2, 3, 4, 6, 12]\n"
     ]
    }
   ],
   "source": [
    "# sayı bölenleri\n",
    "sayi = 12\n",
    "bolenler = []\n",
    "\n",
    "for i in range(1,sayi+1):\n",
    "    if sayi % i == 0:\n",
    "        bolenler.append(i)\n",
    "\n",
    "print(\"{} Sayısının Bolenleri : {}\".format(sayi,bolenler))"
   ]
  },
  {
   "cell_type": "code",
   "execution_count": 15,
   "metadata": {},
   "outputs": [
    {
     "name": "stdout",
     "output_type": "stream",
     "text": [
      "1 Sayısının Bolenleri : [1]\n",
      "2 Sayısının Bolenleri : [1, 2]\n",
      "3 Sayısının Bolenleri : [1, 3]\n",
      "4 Sayısının Bolenleri : [1, 2, 4]\n",
      "5 Sayısının Bolenleri : [1, 5]\n",
      "6 Sayısının Bolenleri : [1, 2, 3, 6]\n",
      "7 Sayısının Bolenleri : [1, 7]\n",
      "8 Sayısının Bolenleri : [1, 2, 4, 8]\n",
      "9 Sayısının Bolenleri : [1, 3, 9]\n",
      "10 Sayısının Bolenleri : [1, 2, 5, 10]\n",
      "11 Sayısının Bolenleri : [1, 11]\n",
      "12 Sayısının Bolenleri : [1, 2, 3, 4, 6, 12]\n"
     ]
    }
   ],
   "source": [
    "sayi = 1\n",
    "bolenler = []\n",
    "\n",
    "for i in range(1,sayi+1):\n",
    "    if sayi % i == 0:\n",
    "        bolenler.append(i)\n",
    "\n",
    "print(\"{} Sayısının Bolenleri : {}\".format(sayi,bolenler))\n",
    "\n",
    "sayi = 2\n",
    "bolenler = []\n",
    "\n",
    "for i in range(1,sayi+1):\n",
    "    if sayi % i == 0:\n",
    "        bolenler.append(i)\n",
    "\n",
    "print(\"{} Sayısının Bolenleri : {}\".format(sayi,bolenler))\n",
    "\n",
    "sayi = 3\n",
    "bolenler = []\n",
    "\n",
    "for i in range(1,sayi+1):\n",
    "    if sayi % i == 0:\n",
    "        bolenler.append(i)\n",
    "\n",
    "print(\"{} Sayısının Bolenleri : {}\".format(sayi,bolenler))\n",
    "\n",
    "sayi = 4\n",
    "bolenler = []\n",
    "\n",
    "for i in range(1,sayi+1):\n",
    "    if sayi % i == 0:\n",
    "        bolenler.append(i)\n",
    "\n",
    "print(\"{} Sayısının Bolenleri : {}\".format(sayi,bolenler))\n",
    "\n",
    "sayi = 5\n",
    "bolenler = []\n",
    "\n",
    "for i in range(1,sayi+1):\n",
    "    if sayi % i == 0:\n",
    "        bolenler.append(i)\n",
    "\n",
    "print(\"{} Sayısının Bolenleri : {}\".format(sayi,bolenler))\n",
    "\n",
    "sayi = 6\n",
    "bolenler = []\n",
    "\n",
    "for i in range(1,sayi+1):\n",
    "    if sayi % i == 0:\n",
    "        bolenler.append(i)\n",
    "\n",
    "print(\"{} Sayısının Bolenleri : {}\".format(sayi,bolenler))\n",
    "\n",
    "sayi = 7\n",
    "bolenler = []\n",
    "\n",
    "for i in range(1,sayi+1):\n",
    "    if sayi % i == 0:\n",
    "        bolenler.append(i)\n",
    "\n",
    "print(\"{} Sayısının Bolenleri : {}\".format(sayi,bolenler))\n",
    "\n",
    "sayi = 8\n",
    "bolenler = []\n",
    "\n",
    "for i in range(1,sayi+1):\n",
    "    if sayi % i == 0:\n",
    "        bolenler.append(i)\n",
    "\n",
    "print(\"{} Sayısının Bolenleri : {}\".format(sayi,bolenler))\n",
    "\n",
    "sayi = 9\n",
    "bolenler = []\n",
    "\n",
    "for i in range(1,sayi+1):\n",
    "    if sayi % i == 0:\n",
    "        bolenler.append(i)\n",
    "\n",
    "print(\"{} Sayısının Bolenleri : {}\".format(sayi,bolenler))\n",
    "\n",
    "sayi = 10\n",
    "bolenler = []\n",
    "\n",
    "for i in range(1,sayi+1):\n",
    "    if sayi % i == 0:\n",
    "        bolenler.append(i)\n",
    "\n",
    "print(\"{} Sayısının Bolenleri : {}\".format(sayi,bolenler))\n",
    "\n",
    "sayi = 11\n",
    "bolenler = []\n",
    "\n",
    "for i in range(1,sayi+1):\n",
    "    if sayi % i == 0:\n",
    "        bolenler.append(i)\n",
    "\n",
    "print(\"{} Sayısının Bolenleri : {}\".format(sayi,bolenler))\n",
    "\n",
    "sayi = 12\n",
    "bolenler = []\n",
    "\n",
    "for i in range(1,sayi+1):\n",
    "    if sayi % i == 0:\n",
    "        bolenler.append(i)\n",
    "\n",
    "print(\"{} Sayısının Bolenleri : {}\".format(sayi,bolenler))"
   ]
  },
  {
   "cell_type": "code",
   "execution_count": 16,
   "metadata": {},
   "outputs": [
    {
     "name": "stdout",
     "output_type": "stream",
     "text": [
      "1 Sayısının Bolenleri : [1]\n",
      "2 Sayısının Bolenleri : [1, 2]\n",
      "3 Sayısının Bolenleri : [1, 3]\n",
      "4 Sayısının Bolenleri : [1, 2, 4]\n",
      "5 Sayısının Bolenleri : [1, 5]\n",
      "6 Sayısının Bolenleri : [1, 2, 3, 6]\n",
      "7 Sayısının Bolenleri : [1, 7]\n",
      "8 Sayısının Bolenleri : [1, 2, 4, 8]\n",
      "9 Sayısının Bolenleri : [1, 3, 9]\n",
      "10 Sayısının Bolenleri : [1, 2, 5, 10]\n",
      "11 Sayısının Bolenleri : [1, 11]\n",
      "12 Sayısının Bolenleri : [1, 2, 3, 4, 6, 12]\n"
     ]
    }
   ],
   "source": [
    "for i in range(1,13):\n",
    "    sayi = i\n",
    "    bolenler = []\n",
    "\n",
    "    for j in range(1,sayi+1):\n",
    "        if sayi % j == 0:\n",
    "            bolenler.append(j)\n",
    "\n",
    "    print(\"{} Sayısının Bolenleri : {}\".format(sayi,bolenler))"
   ]
  },
  {
   "cell_type": "code",
   "execution_count": 17,
   "metadata": {},
   "outputs": [],
   "source": [
    "def bolenler(sayi):\n",
    "    bolenler = []\n",
    "\n",
    "    for i in range(1,sayi+1):\n",
    "        if sayi % i == 0:\n",
    "            bolenler.append(i)\n",
    "    \n",
    "    return bolenler"
   ]
  },
  {
   "cell_type": "code",
   "execution_count": 19,
   "metadata": {},
   "outputs": [
    {
     "name": "stdout",
     "output_type": "stream",
     "text": [
      "1 Sayısının Bolenleri : [1]\n",
      "2 Sayısının Bolenleri : [1, 2]\n",
      "3 Sayısının Bolenleri : [1, 3]\n",
      "4 Sayısının Bolenleri : [1, 2, 4]\n",
      "5 Sayısının Bolenleri : [1, 5]\n",
      "6 Sayısının Bolenleri : [1, 2, 3, 6]\n",
      "7 Sayısının Bolenleri : [1, 7]\n",
      "8 Sayısının Bolenleri : [1, 2, 4, 8]\n",
      "9 Sayısının Bolenleri : [1, 3, 9]\n",
      "10 Sayısının Bolenleri : [1, 2, 5, 10]\n",
      "11 Sayısının Bolenleri : [1, 11]\n",
      "12 Sayısının Bolenleri : [1, 2, 3, 4, 6, 12]\n"
     ]
    }
   ],
   "source": [
    "for i in range(1,13):\n",
    "    print(\"{} Sayısının Bolenleri : {}\".format(i,bolenler(i)))"
   ]
  },
  {
   "cell_type": "code",
   "execution_count": 22,
   "metadata": {},
   "outputs": [
    {
     "name": "stdout",
     "output_type": "stream",
     "text": [
      "Hesaplanacak Sayıyı Girin:12\n",
      "1 Sayısının Bolenleri : [1]\n",
      "2 Sayısının Bolenleri : [1, 2]\n",
      "3 Sayısının Bolenleri : [1, 3]\n",
      "4 Sayısının Bolenleri : [1, 2, 4]\n",
      "5 Sayısının Bolenleri : [1, 5]\n",
      "6 Sayısının Bolenleri : [1, 2, 3, 6]\n",
      "7 Sayısının Bolenleri : [1, 7]\n",
      "8 Sayısının Bolenleri : [1, 2, 4, 8]\n",
      "9 Sayısının Bolenleri : [1, 3, 9]\n",
      "10 Sayısının Bolenleri : [1, 2, 5, 10]\n",
      "11 Sayısının Bolenleri : [1, 11]\n",
      "12 Sayısının Bolenleri : [1, 2, 3, 4, 6, 12]\n"
     ]
    }
   ],
   "source": [
    "sınır = int(input(\"Hesaplanacak Sayıyı Girin:\"))\n",
    "\n",
    "for i in range(1,sınır+1):\n",
    "    print(\"{} Sayısının Bolenleri : {}\".format(i,bolenler(i)))"
   ]
  },
  {
   "cell_type": "code",
   "execution_count": 23,
   "metadata": {},
   "outputs": [],
   "source": [
    "# asal sayı hesaplayan fonksiyon örneği yapılacak."
   ]
  },
  {
   "cell_type": "code",
   "execution_count": null,
   "metadata": {},
   "outputs": [],
   "source": []
  }
 ],
 "metadata": {
  "kernelspec": {
   "display_name": "Python 3",
   "language": "python",
   "name": "python3"
  },
  "language_info": {
   "codemirror_mode": {
    "name": "ipython",
    "version": 3
   },
   "file_extension": ".py",
   "mimetype": "text/x-python",
   "name": "python",
   "nbconvert_exporter": "python",
   "pygments_lexer": "ipython3",
   "version": "3.5.4"
  }
 },
 "nbformat": 4,
 "nbformat_minor": 2
}
