{
 "cells": [
  {
   "cell_type": "code",
   "execution_count": 9,
   "metadata": {},
   "outputs": [
    {
     "name": "stdout",
     "output_type": "stream",
     "text": [
      "Döngüye Girilmek Üzere Sayaç Değişkeni Değeri:  0 \n",
      "\n",
      "Adım 1\n",
      "Adım 2\n",
      "Adım 3\n",
      "Adım 4\n",
      "Adım 5\n",
      "\n",
      "Döngü Sonlandı Sayaç Değeri 5\n",
      "Program Sonlandırıldı\n"
     ]
    }
   ],
   "source": [
    "sayaç = 0\n",
    "\n",
    "print(\"Döngüye Girilmek Üzere Sayaç Değişkeni Değeri: \",sayaç,\"\\n\")\n",
    "\n",
    "while sayaç < 5 :\n",
    "    sayaç = sayaç + 1\n",
    "    print(\"Adım\",sayaç)\n",
    "\n",
    "print('\\nDöngü Sonlandı Sayaç Değeri',sayaç)\n",
    "print('Program Sonlandırıldı')"
   ]
  },
  {
   "cell_type": "code",
   "execution_count": 6,
   "metadata": {},
   "outputs": [
    {
     "name": "stdout",
     "output_type": "stream",
     "text": [
      "Adım 1\n",
      "Adım 2\n",
      "Adım 3\n",
      "Adım 4\n",
      "Adım 5\n",
      "\n",
      "Program Sonlandırıldı\n"
     ]
    }
   ],
   "source": [
    "print(\"Adım\",1)\n",
    "print(\"Adım\",2)\n",
    "print(\"Adım\",3)\n",
    "print(\"Adım\",4)\n",
    "print(\"Adım\",5)\n",
    "\n",
    "print('\\nProgram Sonlandırıldı')"
   ]
  },
  {
   "cell_type": "code",
   "execution_count": 12,
   "metadata": {},
   "outputs": [
    {
     "name": "stdout",
     "output_type": "stream",
     "text": [
      "\n",
      "Toplam Sayı Değeri : 5050\n",
      "\n",
      "Program Sonlandırıldı\n"
     ]
    }
   ],
   "source": [
    "sayaç = 0\n",
    "toplam = 0\n",
    "\n",
    "while sayaç < 100 :\n",
    "    sayaç += 1\n",
    "    toplam = sayaç + toplam\n",
    "\n",
    "print(\"\\nToplam Sayı Değeri :\",toplam)\n",
    "print('\\nProgram Sonlandırıldı')"
   ]
  },
  {
   "cell_type": "code",
   "execution_count": 14,
   "metadata": {},
   "outputs": [
    {
     "name": "stdout",
     "output_type": "stream",
     "text": [
      "Birinci Sayıyı Girin:3\n",
      "İkinci Sayıyı Girin:5\n",
      "Toplam Değer: 8\n"
     ]
    }
   ],
   "source": [
    "\n",
    "sayı1 = int(input(\"Birinci Sayıyı Girin:\"))\n",
    "sayı2 = int(input(\"İkinci Sayıyı Girin:\"))\n",
    "\n",
    "toplam = sayı1 + sayı2\n",
    "\n",
    "print(\"Toplam Değer:\",toplam)"
   ]
  },
  {
   "cell_type": "code",
   "execution_count": 17,
   "metadata": {},
   "outputs": [
    {
     "name": "stdout",
     "output_type": "stream",
     "text": [
      "Toplanacak Tam Sayı Girişi Yapın:10\n",
      "Çıkmak İçin 'ç' Girin:h\n",
      "Toplanacak Tam Sayı Girişi Yapın:20\n",
      "Çıkmak İçin 'ç' Girin:h\n",
      "Toplanacak Tam Sayı Girişi Yapın:30\n",
      "Çıkmak İçin 'ç' Girin:h\n",
      "Toplanacak Tam Sayı Girişi Yapın:40\n",
      "Çıkmak İçin 'ç' Girin:ç\n",
      "4 Adet Sayının Toplamı : 100\n",
      "\n",
      "Program Sonlandırıldı\n"
     ]
    }
   ],
   "source": [
    "devam = ''\n",
    "sayaç = 0\n",
    "toplam = 0\n",
    "\n",
    "while devam != 'ç' :\n",
    "    sayaç += 1\n",
    "    kullanıcı_değer = int(input(\"Toplanacak Tam Sayı Girişi Yapın:\"))\n",
    "    toplam = kullanıcı_değer + toplam\n",
    "    devam = input(\"Çıkmak İçin 'ç' Girin:\")\n",
    "\n",
    "print(sayaç,'Adet Sayının Toplamı :',toplam)\n",
    "\n",
    "print('\\nProgram Sonlandırıldı')"
   ]
  },
  {
   "cell_type": "code",
   "execution_count": null,
   "metadata": {},
   "outputs": [],
   "source": []
  }
 ],
 "metadata": {
  "kernelspec": {
   "display_name": "Python 3",
   "language": "python",
   "name": "python3"
  },
  "language_info": {
   "codemirror_mode": {
    "name": "ipython",
    "version": 3
   },
   "file_extension": ".py",
   "mimetype": "text/x-python",
   "name": "python",
   "nbconvert_exporter": "python",
   "pygments_lexer": "ipython3",
   "version": "3.5.4"
  }
 },
 "nbformat": 4,
 "nbformat_minor": 2
}
