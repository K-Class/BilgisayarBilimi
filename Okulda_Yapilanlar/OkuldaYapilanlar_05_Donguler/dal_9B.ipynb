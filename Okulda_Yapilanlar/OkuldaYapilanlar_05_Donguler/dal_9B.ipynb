{
 "cells": [
  {
   "cell_type": "code",
   "execution_count": 5,
   "metadata": {},
   "outputs": [
    {
     "name": "stdout",
     "output_type": "stream",
     "text": [
      "Adım 1\n",
      "Adım 2\n",
      "Adım 3\n",
      "Adım 4\n",
      "Adım 5\n",
      "\n",
      "Program Sonlandırıldı\n"
     ]
    }
   ],
   "source": [
    "print('Adım',1)\n",
    "print('Adım',2)\n",
    "print('Adım',3)\n",
    "print('Adım',4)\n",
    "print('Adım',5)\n",
    "\n",
    "\n",
    "print('\\nProgram Sonlandırıldı')"
   ]
  },
  {
   "cell_type": "code",
   "execution_count": 11,
   "metadata": {},
   "outputs": [
    {
     "name": "stdout",
     "output_type": "stream",
     "text": [
      "Döngü İçeren Kod\n",
      "Adım 1\n",
      "Adım 2\n",
      "Adım 3\n",
      "Adım 4\n",
      "Adım 5\n",
      "Adım 6\n",
      "Adım 7\n",
      "Adım 8\n",
      "Adım 9\n",
      "Adım 10\n",
      "Döngü Sonlandı\n",
      "\n",
      "Program Sonlandı\n"
     ]
    }
   ],
   "source": [
    "print('Döngü İçeren Kod')\n",
    "\n",
    "sayaç = 0\n",
    "\n",
    "while sayaç < 10 :\n",
    "    sayaç = sayaç + 1\n",
    "    print('Adım',sayaç)\n",
    "\n",
    "print('Döngü Sonlandı')\n",
    "\n",
    "print('\\nProgram Sonlandı')\n"
   ]
  },
  {
   "cell_type": "code",
   "execution_count": 17,
   "metadata": {},
   "outputs": [
    {
     "name": "stdout",
     "output_type": "stream",
     "text": [
      "Döngü İçeren Kod\n",
      "Döngü Sonlandı Toplam Değer : 15\n",
      "\n",
      "Program Sonlandı\n"
     ]
    }
   ],
   "source": [
    "print('Döngü İçeren Kod')\n",
    "\n",
    "sayaç = 0\n",
    "toplam = 0\n",
    "\n",
    "while sayaç < 5 :\n",
    "    sayaç += 1 # döngü sayısını belirtir\n",
    "    toplam = sayaç + toplam\n",
    "    #print(\"Adım\",sayaç,'Toplam:',toplam)\n",
    "    \n",
    "\n",
    "print('Döngü Sonlandı Toplam Değer :',toplam)\n",
    "\n",
    "print('\\nProgram Sonlandı')"
   ]
  },
  {
   "cell_type": "code",
   "execution_count": 5,
   "metadata": {},
   "outputs": [
    {
     "name": "stdout",
     "output_type": "stream",
     "text": [
      "Çıkmak için 'ç' harfi girin\n",
      "Toplanacak Tam Sayı Değerini Girin :1\n",
      "Toplanacak Tam Sayı Değerini Girin :3\n",
      "Toplanacak Tam Sayı Değerini Girin :5\n",
      "Toplanacak Tam Sayı Değerini Girin :7\n",
      "Toplanacak Tam Sayı Değerini Girin :9\n",
      "Toplanacak Tam Sayı Değerini Girin :ç\n",
      "5 Adet Girilen Sayının Toplamı: 25\n",
      "\n",
      "Program Sonlandırıldı\n"
     ]
    }
   ],
   "source": [
    "print(\"Çıkmak için 'ç' harfi girin\")\n",
    "sayı = input(\"Toplanacak Tam Sayı Değerini Girin :\") # kullanıcıdan karakter değeri alınıyor\n",
    "toplam = 0\n",
    "sayaç = 0\n",
    "\n",
    "while sayı != 'ç' :\n",
    "    sayaç += 1\n",
    "    toplam = toplam + int(sayı) #sayı karakter değeri tam sayıya çevriliyor\n",
    "    sayı = input(\"Toplanacak Tam Sayı Değerini Girin :\")\n",
    "\n",
    "print('{} Adet Girilen Sayının Toplamı: {}'.format(sayaç,toplam))\n",
    "print('\\nProgram Sonlandırıldı')"
   ]
  },
  {
   "cell_type": "code",
   "execution_count": 12,
   "metadata": {},
   "outputs": [
    {
     "name": "stdout",
     "output_type": "stream",
     "text": [
      "0 1 1 2 3 5 8 13 21 34 55 89 "
     ]
    }
   ],
   "source": [
    "# 3 5 8 13 21 34 55 89\n",
    "#adm  1   2\n",
    "sy1 = 0 # 5 8  \n",
    "sy2 = 1 # 8 13\n",
    "\n",
    "while sy1 < 100 :\n",
    "    print(sy1,end=' ')\n",
    "    toplam = sy1 + sy2\n",
    "    sy1 = sy2\n",
    "    sy2 = toplam\n",
    "    \n",
    "    \n",
    "    \n",
    "    "
   ]
  },
  {
   "cell_type": "code",
   "execution_count": 11,
   "metadata": {},
   "outputs": [
    {
     "name": "stdout",
     "output_type": "stream",
     "text": [
      "0 1 1 2 3 5 8 13 21 34 55 89 "
     ]
    }
   ],
   "source": [
    "# 3 5 8 13 21 34 55 89\n",
    "#adm  1   2\n",
    "sy1 = 0 # 5 8  \n",
    "sy2 = 1 # 8 13\n",
    "\n",
    "while sy1 < 100 :\n",
    "    print(sy1,end=' ')\n",
    "    sy1 , sy2 = sy2 , sy1+sy2"
   ]
  },
  {
   "cell_type": "code",
   "execution_count": 6,
   "metadata": {},
   "outputs": [
    {
     "name": "stdout",
     "output_type": "stream",
     "text": [
      "i x j = i*j\n",
      "1 x 1 = 1\n",
      "1 x 2 = 2\n",
      "1 x 3 = 3\n",
      "1 x 4 = 4\n",
      "1 x 5 = 5\n",
      "1 x 6 = 6\n",
      "1 x 7 = 7\n",
      "1 x 8 = 8\n",
      "1 x 9 = 9\n",
      "1 x 10 = 10\n",
      "---------------\n",
      "2 x 1 = 2\n",
      "2 x 2 = 4\n",
      "2 x 3 = 6\n",
      "2 x 4 = 8\n",
      "2 x 5 = 10\n",
      "2 x 6 = 12\n",
      "2 x 7 = 14\n",
      "2 x 8 = 16\n",
      "2 x 9 = 18\n",
      "2 x 10 = 20\n",
      "---------------\n",
      "3 x 1 = 3\n",
      "3 x 2 = 6\n",
      "3 x 3 = 9\n",
      "3 x 4 = 12\n",
      "3 x 5 = 15\n",
      "3 x 6 = 18\n",
      "3 x 7 = 21\n",
      "3 x 8 = 24\n",
      "3 x 9 = 27\n",
      "3 x 10 = 30\n",
      "---------------\n",
      "4 x 1 = 4\n",
      "4 x 2 = 8\n",
      "4 x 3 = 12\n",
      "4 x 4 = 16\n",
      "4 x 5 = 20\n",
      "4 x 6 = 24\n",
      "4 x 7 = 28\n",
      "4 x 8 = 32\n",
      "4 x 9 = 36\n",
      "4 x 10 = 40\n",
      "---------------\n",
      "5 x 1 = 5\n",
      "5 x 2 = 10\n",
      "5 x 3 = 15\n",
      "5 x 4 = 20\n",
      "5 x 5 = 25\n",
      "5 x 6 = 30\n",
      "5 x 7 = 35\n",
      "5 x 8 = 40\n",
      "5 x 9 = 45\n",
      "5 x 10 = 50\n",
      "---------------\n",
      "6 x 1 = 6\n",
      "6 x 2 = 12\n",
      "6 x 3 = 18\n",
      "6 x 4 = 24\n",
      "6 x 5 = 30\n",
      "6 x 6 = 36\n",
      "6 x 7 = 42\n",
      "6 x 8 = 48\n",
      "6 x 9 = 54\n",
      "6 x 10 = 60\n",
      "---------------\n",
      "7 x 1 = 7\n",
      "7 x 2 = 14\n",
      "7 x 3 = 21\n",
      "7 x 4 = 28\n",
      "7 x 5 = 35\n",
      "7 x 6 = 42\n",
      "7 x 7 = 49\n",
      "7 x 8 = 56\n",
      "7 x 9 = 63\n",
      "7 x 10 = 70\n",
      "---------------\n",
      "8 x 1 = 8\n",
      "8 x 2 = 16\n",
      "8 x 3 = 24\n",
      "8 x 4 = 32\n",
      "8 x 5 = 40\n",
      "8 x 6 = 48\n",
      "8 x 7 = 56\n",
      "8 x 8 = 64\n",
      "8 x 9 = 72\n",
      "8 x 10 = 80\n",
      "---------------\n",
      "9 x 1 = 9\n",
      "9 x 2 = 18\n",
      "9 x 3 = 27\n",
      "9 x 4 = 36\n",
      "9 x 5 = 45\n",
      "9 x 6 = 54\n",
      "9 x 7 = 63\n",
      "9 x 8 = 72\n",
      "9 x 9 = 81\n",
      "9 x 10 = 90\n",
      "---------------\n",
      "10 x 1 = 10\n",
      "10 x 2 = 20\n",
      "10 x 3 = 30\n",
      "10 x 4 = 40\n",
      "10 x 5 = 50\n",
      "10 x 6 = 60\n",
      "10 x 7 = 70\n",
      "10 x 8 = 80\n",
      "10 x 9 = 90\n",
      "10 x 10 = 100\n",
      "---------------\n"
     ]
    }
   ],
   "source": [
    "i = 0\n",
    "j = 0\n",
    "\n",
    "print(\"i x j = i*j\")\n",
    "while i < 10:\n",
    "    i += 1\n",
    "    while j < 10:\n",
    "        j += 1\n",
    "        print(\"{} x {} = {}\".format(i,j,i*j))\n",
    "    j = 0\n",
    "    print(\"---------------\")"
   ]
  },
  {
   "cell_type": "code",
   "execution_count": 8,
   "metadata": {},
   "outputs": [
    {
     "name": "stdout",
     "output_type": "stream",
     "text": [
      "120\n"
     ]
    }
   ],
   "source": [
    "i = 0\n",
    "çarpım = 1\n",
    "sayı = 5\n",
    "\n",
    "while i < sayı:\n",
    "    i += 1       # i = i + 1\n",
    "    çarpım *= i  # çarpım = çarpım * i\n",
    "    \n",
    "print(çarpım)\n",
    "    "
   ]
  },
  {
   "cell_type": "code",
   "execution_count": 17,
   "metadata": {},
   "outputs": [
    {
     "name": "stdout",
     "output_type": "stream",
     "text": [
      "8128 sayıyısı mükemmel bir sayıdır\n"
     ]
    }
   ],
   "source": [
    "i = 1\n",
    "toplam = 0\n",
    "\n",
    "sayı = 8128\n",
    "\n",
    "while i < sayı:\n",
    "    if sayı % i == 0:\n",
    "        toplam += i\n",
    "    i += 1\n",
    "\n",
    "if toplam == sayı:\n",
    "    print(\"{} sayıyısı mükemmel bir sayıdır\".format(sayı))\n",
    "else:\n",
    "    print(\"{} sayıyısı mükemmel bir sayı değildir\".format(sayı))"
   ]
  },
  {
   "cell_type": "code",
   "execution_count": null,
   "metadata": {},
   "outputs": [],
   "source": []
  }
 ],
 "metadata": {
  "kernelspec": {
   "display_name": "Python 3",
   "language": "python",
   "name": "python3"
  },
  "language_info": {
   "codemirror_mode": {
    "name": "ipython",
    "version": 3
   },
   "file_extension": ".py",
   "mimetype": "text/x-python",
   "name": "python",
   "nbconvert_exporter": "python",
   "pygments_lexer": "ipython3",
   "version": "3.5.4"
  }
 },
 "nbformat": 4,
 "nbformat_minor": 2
}
