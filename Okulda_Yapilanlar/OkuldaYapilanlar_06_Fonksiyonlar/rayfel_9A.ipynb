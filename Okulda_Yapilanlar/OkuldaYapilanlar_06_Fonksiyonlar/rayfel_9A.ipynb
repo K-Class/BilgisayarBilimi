{
 "cells": [
  {
   "cell_type": "code",
   "execution_count": 1,
   "metadata": {},
   "outputs": [
    {
     "name": "stdout",
     "output_type": "stream",
     "text": [
      "Merhaba Dünya\n",
      "Merhaba İnsanlık\n",
      "Merhaba Python\n",
      "Merhaba Gökyüzü\n",
      "Merhaba Ormanlar\n"
     ]
    }
   ],
   "source": [
    "print(\"Merhaba Dünya\")\n",
    "print(\"Merhaba İnsanlık\")\n",
    "print(\"Merhaba Python\")\n",
    "print(\"Merhaba Gökyüzü\")\n",
    "print(\"Merhaba Ormanlar\")"
   ]
  },
  {
   "cell_type": "code",
   "execution_count": 2,
   "metadata": {},
   "outputs": [
    {
     "name": "stdout",
     "output_type": "stream",
     "text": [
      "Merhaba Dünya\n",
      "Merhaba İnsanlık\n",
      "Merhaba Python\n",
      "Merhaba Gökyüzü\n",
      "Merhaba Ormanlar\n",
      "Merhaba Dünya\n",
      "Merhaba İnsanlık\n",
      "Merhaba Python\n",
      "Merhaba Gökyüzü\n",
      "Merhaba Ormanlar\n",
      "Merhaba Dünya\n",
      "Merhaba İnsanlık\n",
      "Merhaba Python\n",
      "Merhaba Gökyüzü\n",
      "Merhaba Ormanlar\n",
      "Merhaba Dünya\n",
      "Merhaba İnsanlık\n",
      "Merhaba Python\n",
      "Merhaba Gökyüzü\n",
      "Merhaba Ormanlar\n",
      "Merhaba Dünya\n",
      "Merhaba İnsanlık\n",
      "Merhaba Python\n",
      "Merhaba Gökyüzü\n",
      "Merhaba Ormanlar\n",
      "Merhaba Dünya\n",
      "Merhaba İnsanlık\n",
      "Merhaba Python\n",
      "Merhaba Gökyüzü\n",
      "Merhaba Ormanlar\n",
      "Merhaba Dünya\n",
      "Merhaba İnsanlık\n",
      "Merhaba Python\n",
      "Merhaba Gökyüzü\n",
      "Merhaba Ormanlar\n",
      "Merhaba Dünya\n",
      "Merhaba İnsanlık\n",
      "Merhaba Python\n",
      "Merhaba Gökyüzü\n",
      "Merhaba Ormanlar\n"
     ]
    }
   ],
   "source": [
    "print(\"Merhaba Dünya\")\n",
    "print(\"Merhaba İnsanlık\")\n",
    "print(\"Merhaba Python\")\n",
    "print(\"Merhaba Gökyüzü\")\n",
    "print(\"Merhaba Ormanlar\")\n",
    "\n",
    "print(\"Merhaba Dünya\")\n",
    "print(\"Merhaba İnsanlık\")\n",
    "print(\"Merhaba Python\")\n",
    "print(\"Merhaba Gökyüzü\")\n",
    "print(\"Merhaba Ormanlar\")\n",
    "\n",
    "print(\"Merhaba Dünya\")\n",
    "print(\"Merhaba İnsanlık\")\n",
    "print(\"Merhaba Python\")\n",
    "print(\"Merhaba Gökyüzü\")\n",
    "print(\"Merhaba Ormanlar\")\n",
    "\n",
    "print(\"Merhaba Dünya\")\n",
    "print(\"Merhaba İnsanlık\")\n",
    "print(\"Merhaba Python\")\n",
    "print(\"Merhaba Gökyüzü\")\n",
    "print(\"Merhaba Ormanlar\")\n",
    "\n",
    "print(\"Merhaba Dünya\")\n",
    "print(\"Merhaba İnsanlık\")\n",
    "print(\"Merhaba Python\")\n",
    "print(\"Merhaba Gökyüzü\")\n",
    "print(\"Merhaba Ormanlar\")\n",
    "\n",
    "print(\"Merhaba Dünya\")\n",
    "print(\"Merhaba İnsanlık\")\n",
    "print(\"Merhaba Python\")\n",
    "print(\"Merhaba Gökyüzü\")\n",
    "print(\"Merhaba Ormanlar\")\n",
    "\n",
    "print(\"Merhaba Dünya\")\n",
    "print(\"Merhaba İnsanlık\")\n",
    "print(\"Merhaba Python\")\n",
    "print(\"Merhaba Gökyüzü\")\n",
    "print(\"Merhaba Ormanlar\")\n",
    "\n",
    "print(\"Merhaba Dünya\")\n",
    "print(\"Merhaba İnsanlık\")\n",
    "print(\"Merhaba Python\")\n",
    "print(\"Merhaba Gökyüzü\")\n",
    "print(\"Merhaba Ormanlar\")"
   ]
  },
  {
   "cell_type": "code",
   "execution_count": 5,
   "metadata": {},
   "outputs": [],
   "source": [
    "def selamla():\n",
    "    print(\"Merhaba Dünya\")\n",
    "    print(\"Merhaba Hayvanlar\")\n",
    "    print(\"Merhaba Python\")\n",
    "    print(\"Merhaba Gökyüzü\")\n",
    "    print(\"Merhaba Ormanlar\")\n",
    "    \n"
   ]
  },
  {
   "cell_type": "code",
   "execution_count": 6,
   "metadata": {},
   "outputs": [
    {
     "name": "stdout",
     "output_type": "stream",
     "text": [
      "Merhaba Dünya\n",
      "Merhaba Hayvanlar\n",
      "Merhaba Python\n",
      "Merhaba Gökyüzü\n",
      "Merhaba Ormanlar\n",
      "Merhaba Dünya\n",
      "Merhaba Hayvanlar\n",
      "Merhaba Python\n",
      "Merhaba Gökyüzü\n",
      "Merhaba Ormanlar\n",
      "Merhaba Dünya\n",
      "Merhaba Hayvanlar\n",
      "Merhaba Python\n",
      "Merhaba Gökyüzü\n",
      "Merhaba Ormanlar\n",
      "Merhaba Dünya\n",
      "Merhaba Hayvanlar\n",
      "Merhaba Python\n",
      "Merhaba Gökyüzü\n",
      "Merhaba Ormanlar\n"
     ]
    }
   ],
   "source": [
    "selamla()\n",
    "\n",
    "selamla()\n",
    "\n",
    "selamla()\n",
    "\n",
    "selamla()"
   ]
  },
  {
   "cell_type": "code",
   "execution_count": null,
   "metadata": {},
   "outputs": [],
   "source": [
    "# faktöriyel örneği yapılacak."
   ]
  },
  {
   "cell_type": "code",
   "execution_count": 7,
   "metadata": {},
   "outputs": [
    {
     "name": "stdout",
     "output_type": "stream",
     "text": [
      "Sayı Girin6\n",
      "Sayı Fakt 720\n"
     ]
    }
   ],
   "source": [
    "n = int(input(\"Sayı Girin\"))\n",
    "\n",
    "fakt = 1\n",
    "\n",
    "for i in range(n,0,-1):\n",
    "    fakt *= i\n",
    "\n",
    "print(\"Sayı Fakt\",fakt)\n"
   ]
  },
  {
   "cell_type": "code",
   "execution_count": null,
   "metadata": {},
   "outputs": [],
   "source": []
  }
 ],
 "metadata": {
  "kernelspec": {
   "display_name": "Python 3",
   "language": "python",
   "name": "python3"
  },
  "language_info": {
   "codemirror_mode": {
    "name": "ipython",
    "version": 3
   },
   "file_extension": ".py",
   "mimetype": "text/x-python",
   "name": "python",
   "nbconvert_exporter": "python",
   "pygments_lexer": "ipython3",
   "version": "3.5.4"
  }
 },
 "nbformat": 4,
 "nbformat_minor": 2
}
