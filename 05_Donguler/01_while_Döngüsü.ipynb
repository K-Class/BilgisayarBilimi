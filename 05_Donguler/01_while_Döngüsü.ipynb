{
 "cells": [
  {
   "cell_type": "markdown",
   "metadata": {},
   "source": [
    "# Döngüler\n",
    "Döngüler sürekli tekrar eden kod parçalarıdır. Hayatımız da aynı tekrar eden kod parçaları gibi her gün tekrar eder. Fakat her gün hayatımıza bir gün daha eklenir ve bir gün daha büyürüz. Aynı günlerin sürekli tekrar ettiği gibi döngü içinde tanımlanan değişkenlerinde değerleri her döngüde artar. Bu bölümde koşul durumları gibi programlama konusunun en temel konularından biri döngüler konusu işlenecek. Döngüler koşul durumlarına benzer ve döngü koşul ifadesinden sonra döngüye ait kodlar bir paragraf içeriden yazılır. Python programlama dilinde iki tip döngü bulunmaktadır **while** ve **for**."
   ]
  },
  {
   "cell_type": "markdown",
   "metadata": {},
   "source": [
    "# while Döngüsü\n",
    "**while**, ... **iken**, ... **olduğu** sürece gibi anlamlara gelir. **while** döngüsünden sonra yazılan kodlar **while** döngüsüne ait kodlardır ve bir paragraf içeriden yazılır. "
   ]
  },
  {
   "cell_type": "markdown",
   "metadata": {},
   "source": [
    "## while Döngüsünü Anlama"
   ]
  },
  {
   "cell_type": "markdown",
   "metadata": {},
   "source": [
    "Öncelikle döngüler olmadan 1'den 10'a kadar sayan bir kod oluşturalım. Altta gördüğünüz gibi 10 tane print() fonksiyonu yazılıyor. Bu doğru bir yaklaşım değildir. Kod tekrarı yapmak kodlama yaparken istenen bir şey değildir. Alttaki koda bakarak düşünelim eğer 1'den 100'e kadar sayan bir kod istense 100 adet kod satırı yazmak mantıklı mı? O zaman biz insanlar yerine saniyeler içinde milyarlarca işlem yapan bilgisayarları kullanmanın anlamı ne?"
   ]
  },
  {
   "cell_type": "code",
   "execution_count": 9,
   "metadata": {},
   "outputs": [
    {
     "name": "stdout",
     "output_type": "stream",
     "text": [
      "Program Başlıyor\n",
      "\n",
      "1.Adım\n",
      "2.Adım\n",
      "3.Adım\n",
      "4.Adım\n",
      "5.Adım\n",
      "6.Adım\n",
      "7.Adım\n",
      "8.Adım\n",
      "9.Adım\n",
      "10.Adım\n",
      "\n",
      "Program Sonlandırıldı\n"
     ]
    }
   ],
   "source": [
    "print('Program Başlıyor\\n')\n",
    "\n",
    "print('{}.Adım'.format(1))\n",
    "print('{}.Adım'.format(2))\n",
    "print('{}.Adım'.format(3))\n",
    "print('{}.Adım'.format(4))\n",
    "print('{}.Adım'.format(5))\n",
    "print('{}.Adım'.format(6))\n",
    "print('{}.Adım'.format(7))\n",
    "print('{}.Adım'.format(8))\n",
    "print('{}.Adım'.format(9))\n",
    "print('{}.Adım'.format(10))\n",
    "\n",
    "print('\\nProgram Sonlandırıldı')"
   ]
  },
  {
   "cell_type": "markdown",
   "metadata": {},
   "source": [
    "while döngüsünü anlamak için 1'den 10'a kadar sayan bir döngü oluşturalım. **while sayaç < 10 :** ifadesi **sayaç** 10'dan küçük olduğu sürece döngünün döndüğünü belirtir. Döngü içerisindeki **sayaç += 1** ifadesi **sayaç** değerini her döngüde birer birer artırır. **while** her döngüde **sayaç < 10** ifadesiyle **sayaç** değerini kontrol eder. Eğer **sayaç** değeri **10**'a eşit olursa **while** döngüyü sonlandırır. Üstteki kod ile alttaki kodu karşılaştırın bilgisayar işi bizim için ne kadar kolaylaştırıyor değil mi? Alttaki kodda döngü koşulu **while sayaç < 100 :** olarak değiştirilirse anında 100 adet adım yazılacaktır."
   ]
  },
  {
   "cell_type": "code",
   "execution_count": 8,
   "metadata": {},
   "outputs": [
    {
     "name": "stdout",
     "output_type": "stream",
     "text": [
      "Program Başlıyor\n",
      "\n",
      "1.Adım\n",
      "2.Adım\n",
      "3.Adım\n",
      "4.Adım\n",
      "5.Adım\n",
      "6.Adım\n",
      "7.Adım\n",
      "8.Adım\n",
      "9.Adım\n",
      "10.Adım\n",
      "\n",
      "Program Sonlandı\n"
     ]
    }
   ],
   "source": [
    "print('Program Başlıyor\\n')\n",
    "\n",
    "# sayaç değişkeni while döngü değiminden önce tanımlanıyor\n",
    "sayaç = 0\n",
    "\n",
    "# döngü sayaç 10'dan küçük olduğu sürece döner\n",
    "# sayaç 10 olduğunda döngü sonlanır\n",
    "while sayaç < 10 :\n",
    "    # sayaç değişkeni her döngüde 1 artıyor\n",
    "    sayaç += 1\n",
    "    print('{}.Adım'.format(sayaç))\n",
    "\n",
    "# döngü sonlandığında çalıştırılan komut\n",
    "print('\\nProgram Sonlandı')"
   ]
  },
  {
   "cell_type": "markdown",
   "metadata": {},
   "source": [
    "***Not:*** Eğer sayaç değişkenini döngüden önce oluşturmazsanız **while** tanımsız değişken hatası verecektir. "
   ]
  },
  {
   "cell_type": "code",
   "execution_count": 9,
   "metadata": {},
   "outputs": [
    {
     "ename": "NameError",
     "evalue": "name 'syç' is not defined",
     "output_type": "error",
     "traceback": [
      "\u001b[0;31m---------------------------------------------------------------------------\u001b[0m",
      "\u001b[0;31mNameError\u001b[0m                                 Traceback (most recent call last)",
      "\u001b[0;32m<ipython-input-9-d14eaf1e9054>\u001b[0m in \u001b[0;36m<module>\u001b[0;34m()\u001b[0m\n\u001b[0;32m----> 1\u001b[0;31m \u001b[0;32mwhile\u001b[0m \u001b[0msyç\u001b[0m \u001b[0;34m<\u001b[0m \u001b[0;36m10\u001b[0m \u001b[0;34m:\u001b[0m\u001b[0;34m\u001b[0m\u001b[0m\n\u001b[0m\u001b[1;32m      2\u001b[0m     \u001b[0;31m# sayaç değişkeni her döngüde 1 artıyor\u001b[0m\u001b[0;34m\u001b[0m\u001b[0;34m\u001b[0m\u001b[0m\n\u001b[1;32m      3\u001b[0m     \u001b[0msyç\u001b[0m \u001b[0;34m+=\u001b[0m \u001b[0;36m1\u001b[0m\u001b[0;34m\u001b[0m\u001b[0m\n\u001b[1;32m      4\u001b[0m     \u001b[0mprint\u001b[0m\u001b[0;34m(\u001b[0m\u001b[0;34m'{}.Adım'\u001b[0m\u001b[0;34m.\u001b[0m\u001b[0mformat\u001b[0m\u001b[0;34m(\u001b[0m\u001b[0msayaç\u001b[0m\u001b[0;34m)\u001b[0m\u001b[0;34m)\u001b[0m\u001b[0;34m\u001b[0m\u001b[0m\n",
      "\u001b[0;31mNameError\u001b[0m: name 'syç' is not defined"
     ]
    }
   ],
   "source": [
    "while syç < 10 :\n",
    "    # sayaç değişkeni her döngüde 1 artıyor\n",
    "    syç += 1\n",
    "    print('{}.Adım'.format(sayaç))"
   ]
  },
  {
   "cell_type": "markdown",
   "metadata": {},
   "source": [
    "**Not:** **while** koşul doğru sonuç verdiği sürece döngü dönmeye devam eder. **while True :** ifadesinde **True** döngünün koşulunun sürekli sağlandığını ve döngünün sürekli dönmesini sağlar. Bu tehlikeli bir ifadedir programınızın bir noktada takılı kalmasına ve programınızın kilitlenmesine yol açar. Alttaki kodda **while** döngüsünün bir anda binlerce döngü oluşturmaması için bir saniyede bir döngü oluşturması zaman modülü ile sağlandı. Modüller konusu ileride görülecek."
   ]
  },
  {
   "cell_type": "markdown",
   "metadata": {},
   "source": [
    "## Sonsuz Döngü"
   ]
  },
  {
   "cell_type": "markdown",
   "metadata": {},
   "source": [
    "**while True :** ifadesi koşul sürekli doğru çıkacağı için sonsuz döngü oluşturur."
   ]
  },
  {
   "cell_type": "code",
   "execution_count": 19,
   "metadata": {},
   "outputs": [
    {
     "name": "stdout",
     "output_type": "stream",
     "text": [
      "Döngü\n",
      "Döngü\n",
      "Döngü\n"
     ]
    },
    {
     "ename": "KeyboardInterrupt",
     "evalue": "",
     "output_type": "error",
     "traceback": [
      "\u001b[0;31m---------------------------------------------------------------------------\u001b[0m",
      "\u001b[0;31mKeyboardInterrupt\u001b[0m                         Traceback (most recent call last)",
      "\u001b[0;32m<ipython-input-19-31e8b9ae0e10>\u001b[0m in \u001b[0;36m<module>\u001b[0;34m()\u001b[0m\n\u001b[1;32m      2\u001b[0m \u001b[0;34m\u001b[0m\u001b[0m\n\u001b[1;32m      3\u001b[0m \u001b[0;32mwhile\u001b[0m \u001b[0;32mTrue\u001b[0m \u001b[0;34m:\u001b[0m\u001b[0;34m\u001b[0m\u001b[0m\n\u001b[0;32m----> 4\u001b[0;31m     \u001b[0mtime\u001b[0m\u001b[0;34m.\u001b[0m\u001b[0msleep\u001b[0m\u001b[0;34m(\u001b[0m\u001b[0;36m1\u001b[0m\u001b[0;34m)\u001b[0m\u001b[0;34m\u001b[0m\u001b[0m\n\u001b[0m\u001b[1;32m      5\u001b[0m     \u001b[0mprint\u001b[0m\u001b[0;34m(\u001b[0m\u001b[0;34m'Döngü'\u001b[0m\u001b[0;34m)\u001b[0m\u001b[0;34m\u001b[0m\u001b[0m\n",
      "\u001b[0;31mKeyboardInterrupt\u001b[0m: "
     ]
    }
   ],
   "source": [
    "# time(zaman) modülünü kodumuza ekliyoruz bu konu ileride görülecek\n",
    "import time\n",
    "\n",
    "while True :\n",
    "    # her 1 saniyede bir döngü olması sağlanıyor\n",
    "    time.sleep(1)\n",
    "    print('Döngü')"
   ]
  },
  {
   "cell_type": "code",
   "execution_count": 4,
   "metadata": {},
   "outputs": [
    {
     "name": "stdout",
     "output_type": "stream",
     "text": [
      "1 .Döngü\n",
      "2 .Döngü\n",
      "3 .Döngü\n"
     ]
    },
    {
     "ename": "KeyboardInterrupt",
     "evalue": "",
     "output_type": "error",
     "traceback": [
      "\u001b[0;31m---------------------------------------------------------------------------\u001b[0m",
      "\u001b[0;31mKeyboardInterrupt\u001b[0m                         Traceback (most recent call last)",
      "\u001b[0;32m<ipython-input-4-66b62268205d>\u001b[0m in \u001b[0;36m<module>\u001b[0;34m()\u001b[0m\n\u001b[1;32m      3\u001b[0m \u001b[0;31m# Sonsuza kadar sayan döngü\u001b[0m\u001b[0;34m\u001b[0m\u001b[0;34m\u001b[0m\u001b[0m\n\u001b[1;32m      4\u001b[0m \u001b[0;32mwhile\u001b[0m \u001b[0;32mTrue\u001b[0m \u001b[0;34m:\u001b[0m\u001b[0;34m\u001b[0m\u001b[0m\n\u001b[0;32m----> 5\u001b[0;31m     \u001b[0mtime\u001b[0m\u001b[0;34m.\u001b[0m\u001b[0msleep\u001b[0m\u001b[0;34m(\u001b[0m\u001b[0;36m1\u001b[0m\u001b[0;34m)\u001b[0m\u001b[0;34m\u001b[0m\u001b[0m\n\u001b[0m\u001b[1;32m      6\u001b[0m     \u001b[0mi\u001b[0m\u001b[0;34m+=\u001b[0m\u001b[0;36m1\u001b[0m\u001b[0;34m\u001b[0m\u001b[0m\n\u001b[1;32m      7\u001b[0m     \u001b[0mprint\u001b[0m\u001b[0;34m(\u001b[0m\u001b[0mi\u001b[0m\u001b[0;34m,\u001b[0m\u001b[0;34m'.Döngü'\u001b[0m\u001b[0;34m)\u001b[0m\u001b[0;34m\u001b[0m\u001b[0m\n",
      "\u001b[0;31mKeyboardInterrupt\u001b[0m: "
     ]
    }
   ],
   "source": [
    "import time\n",
    "i = 0\n",
    "# Sonsuza kadar sayan döngü\n",
    "while True :\n",
    "    time.sleep(1)\n",
    "    i+=1\n",
    "    print(i,'.Döngü')"
   ]
  },
  {
   "cell_type": "markdown",
   "metadata": {},
   "source": [
    "Eğer döngünün içine sayacın artıcağı **sayaç += 1** kodu eklenmezse döngü sonsuz döngüye girer. Çünkü her döngüde **sayaç = 0** olduğu için **sayaç < 10** koşulu sürekli sağlanır. Bu tip hatalara dikkat etmelisiniz yoksa kodunuz çok sürekli çalışarak bilgisayarınız gereksiz çalıştıracaktır. Hatta böyle hatalar yüzünden programınız her çalıştırıldığında bilgisayarınız kilitlenebilir."
   ]
  },
  {
   "cell_type": "code",
   "execution_count": 20,
   "metadata": {},
   "outputs": [
    {
     "name": "stdout",
     "output_type": "stream",
     "text": [
      "0.Adım\n",
      "0.Adım\n",
      "0.Adım\n",
      "0.Adım\n",
      "0.Adım\n"
     ]
    },
    {
     "ename": "KeyboardInterrupt",
     "evalue": "",
     "output_type": "error",
     "traceback": [
      "\u001b[0;31m---------------------------------------------------------------------------\u001b[0m",
      "\u001b[0;31mKeyboardInterrupt\u001b[0m                         Traceback (most recent call last)",
      "\u001b[0;32m<ipython-input-20-03d92cbe7139>\u001b[0m in \u001b[0;36m<module>\u001b[0;34m()\u001b[0m\n\u001b[1;32m      4\u001b[0m \u001b[0;34m\u001b[0m\u001b[0m\n\u001b[1;32m      5\u001b[0m \u001b[0;32mwhile\u001b[0m \u001b[0msayaç\u001b[0m \u001b[0;34m<\u001b[0m \u001b[0;36m10\u001b[0m \u001b[0;34m:\u001b[0m\u001b[0;34m\u001b[0m\u001b[0m\n\u001b[0;32m----> 6\u001b[0;31m     \u001b[0mtime\u001b[0m\u001b[0;34m.\u001b[0m\u001b[0msleep\u001b[0m\u001b[0;34m(\u001b[0m\u001b[0;36m1\u001b[0m\u001b[0;34m)\u001b[0m\u001b[0;34m\u001b[0m\u001b[0m\n\u001b[0m\u001b[1;32m      7\u001b[0m     \u001b[0mprint\u001b[0m\u001b[0;34m(\u001b[0m\u001b[0;34m'{}.Adım'\u001b[0m\u001b[0;34m.\u001b[0m\u001b[0mformat\u001b[0m\u001b[0;34m(\u001b[0m\u001b[0msayaç\u001b[0m\u001b[0;34m)\u001b[0m\u001b[0;34m)\u001b[0m\u001b[0;34m\u001b[0m\u001b[0m\n",
      "\u001b[0;31mKeyboardInterrupt\u001b[0m: "
     ]
    }
   ],
   "source": [
    "import time\n",
    "\n",
    "sayaç = 0\n",
    "\n",
    "while sayaç < 10 :\n",
    "    time.sleep(1)\n",
    "    print('{}.Adım'.format(sayaç))\n"
   ]
  }
 ],
 "metadata": {
  "kernelspec": {
   "display_name": "Python 3",
   "language": "python",
   "name": "python3"
  },
  "language_info": {
   "codemirror_mode": {
    "name": "ipython",
    "version": 3
   },
   "file_extension": ".py",
   "mimetype": "text/x-python",
   "name": "python",
   "nbconvert_exporter": "python",
   "pygments_lexer": "ipython3",
   "version": "3.5.4"
  }
 },
 "nbformat": 4,
 "nbformat_minor": 2
}
