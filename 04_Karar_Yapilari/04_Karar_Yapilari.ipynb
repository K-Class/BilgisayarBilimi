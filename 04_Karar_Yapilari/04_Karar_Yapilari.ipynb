{
 "cells": [
  {
   "cell_type": "code",
   "execution_count": 1,
   "metadata": {},
   "outputs": [
    {
     "name": "stdout",
     "output_type": "stream",
     "text": [
      "Merhaba Karar Yapıları ey dünya\n"
     ]
    }
   ],
   "source": [
    "print('Merhaba Karar Yapıları ey dünya')"
   ]
  },
  {
   "cell_type": "code",
   "execution_count": 4,
   "metadata": {},
   "outputs": [
    {
     "name": "stdout",
     "output_type": "stream",
     "text": [
      "Merhaba Dünya Yazdırma İçin \"1\" Güle Güle Dünya Yazdırmak İçin \"2\" girin3\n",
      "Hatalı Giriş yaptınız \"1\" veya \"2\" girmeliydiniz\n"
     ]
    }
   ],
   "source": [
    "karar = input('Merhaba Dünya Yazdırma İçin \"1\" Güle Güle Dünya Yazdırmak İçin \"2\" girin')\n",
    "if karar == \"1\":\n",
    "    print('Merhaba Dünya')\n",
    "elif karar == \"2\":\n",
    "    print(\"Güle Güle Dünya\")\n",
    "else:\n",
    "    print('Hatalı Giriş yaptınız \"1\" veya \"2\" girmeliydiniz')        "
   ]
  },
  {
   "cell_type": "code",
   "execution_count": null,
   "metadata": {},
   "outputs": [],
   "source": []
  }
 ],
 "metadata": {
  "kernelspec": {
   "display_name": "Python 3",
   "language": "python",
   "name": "python3"
  },
  "language_info": {
   "codemirror_mode": {
    "name": "ipython",
    "version": 3
   },
   "file_extension": ".py",
   "mimetype": "text/x-python",
   "name": "python",
   "nbconvert_exporter": "python",
   "pygments_lexer": "ipython3",
   "version": "3.5.4"
  }
 },
 "nbformat": 4,
 "nbformat_minor": 2
}
