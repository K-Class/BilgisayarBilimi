{
 "cells": [
  {
   "cell_type": "markdown",
   "metadata": {},
   "source": [
    "# for Döngüsü"
   ]
  },
  {
   "cell_type": "markdown",
   "metadata": {},
   "source": [
    "## in Operatörü"
   ]
  },
  {
   "cell_type": "code",
   "execution_count": 14,
   "metadata": {},
   "outputs": [
    {
     "data": {
      "text/plain": [
       "True"
      ]
     },
     "execution_count": 14,
     "metadata": {},
     "output_type": "execute_result"
    }
   ],
   "source": [
    "'p' in 'python'"
   ]
  },
  {
   "cell_type": "code",
   "execution_count": 15,
   "metadata": {},
   "outputs": [
    {
     "data": {
      "text/plain": [
       "False"
      ]
     },
     "execution_count": 15,
     "metadata": {},
     "output_type": "execute_result"
    }
   ],
   "source": [
    "'i' in 'python'"
   ]
  },
  {
   "cell_type": "code",
   "execution_count": 1,
   "metadata": {},
   "outputs": [
    {
     "data": {
      "text/plain": [
       "True"
      ]
     },
     "execution_count": 1,
     "metadata": {},
     "output_type": "execute_result"
    }
   ],
   "source": [
    "3 in [0,1,2,3,4]"
   ]
  },
  {
   "cell_type": "code",
   "execution_count": 2,
   "metadata": {},
   "outputs": [
    {
     "data": {
      "text/plain": [
       "False"
      ]
     },
     "execution_count": 2,
     "metadata": {},
     "output_type": "execute_result"
    }
   ],
   "source": [
    "5 in [0,1,2,3,4]"
   ]
  },
  {
   "cell_type": "markdown",
   "metadata": {},
   "source": [
    "## Listeler Üzerinde Gezinmek"
   ]
  },
  {
   "cell_type": "code",
   "execution_count": 28,
   "metadata": {},
   "outputs": [
    {
     "name": "stdout",
     "output_type": "stream",
     "text": [
      "Veri:  3\n",
      "Veri:  5\n",
      "Veri:  3.14\n",
      "Veri:  -1.44\n",
      "Veri:  Tuna\n",
      "Veri:  Emel\n",
      "Veri:  [10, 20, 30]\n",
      "Veri:  27.57\n",
      "Veri:  39\n"
     ]
    }
   ],
   "source": [
    "veriler = [3,5,3.14,-1.44,\"Tuna\",\"Emel\",[10,20,30],27.57,39]\n",
    "\n",
    "for veri in veriler:\n",
    "    print(\"Veri: \",veri)"
   ]
  },
  {
   "cell_type": "code",
   "execution_count": 3,
   "metadata": {},
   "outputs": [
    {
     "name": "stdout",
     "output_type": "stream",
     "text": [
      "55\n"
     ]
    }
   ],
   "source": [
    "veriler = [1, 2, 3, 4, 5, 6, 7, 8, 9, 10]\n",
    "toplam = 0\n",
    "\n",
    "for veri in veriler:\n",
    "    toplam += veri\n",
    "\n",
    "print(toplam)"
   ]
  },
  {
   "cell_type": "code",
   "execution_count": 4,
   "metadata": {},
   "outputs": [
    {
     "name": "stdout",
     "output_type": "stream",
     "text": [
      "10\n",
      "9\n",
      "8\n",
      "7\n",
      "6\n",
      "5\n",
      "4\n",
      "3\n",
      "2\n",
      "1\n"
     ]
    }
   ],
   "source": [
    "veriler = [1, 2, 3, 4, 5, 6, 7, 8, 9, 10]\n",
    "\n",
    "ters_veriler = veriler[::-1]\n",
    "\n",
    "for veri in ters_veriler:\n",
    "    print(veri)\n"
   ]
  },
  {
   "cell_type": "code",
   "execution_count": 13,
   "metadata": {},
   "outputs": [
    {
     "name": "stdout",
     "output_type": "stream",
     "text": [
      "Çift:  2\n",
      "Çift:  4\n",
      "Çift:  6\n",
      "Çift:  8\n",
      "Çift:  10\n"
     ]
    }
   ],
   "source": [
    "veriler = [1, 2, 3, 4, 5, 6, 7, 8, 9, 10]\n",
    "\n",
    "for veri in veriler:\n",
    "    if veri % 2 == 0:\n",
    "        print(\"Çift: \",veri)"
   ]
  },
  {
   "cell_type": "code",
   "execution_count": 14,
   "metadata": {},
   "outputs": [
    {
     "name": "stdout",
     "output_type": "stream",
     "text": [
      "Tek:  1\n",
      "Tek:  3\n",
      "Tek:  5\n",
      "Tek:  7\n",
      "Tek:  9\n"
     ]
    }
   ],
   "source": [
    "veriler = [1, 2, 3, 4, 5, 6, 7, 8, 9, 10]\n",
    "\n",
    "for veri in veriler:\n",
    "    if veri % 2 !=0 :\n",
    "        print(\"Tek: \",veri)"
   ]
  },
  {
   "cell_type": "markdown",
   "metadata": {},
   "source": [
    "## Demetler Üzerinde Gezinmek"
   ]
  },
  {
   "cell_type": "code",
   "execution_count": 15,
   "metadata": {},
   "outputs": [
    {
     "name": "stdout",
     "output_type": "stream",
     "text": [
      "Demet Verisi: 1\n",
      "Demet Verisi: 2\n",
      "Demet Verisi: 3\n",
      "Demet Verisi: 4\n",
      "Demet Verisi: 5\n",
      "Demet Verisi: 6\n",
      "Demet Verisi: 7\n",
      "Demet Verisi: 8\n",
      "Demet Verisi: 9\n",
      "Demet Verisi: 10\n"
     ]
    }
   ],
   "source": [
    "demet = (1, 2, 3, 4, 5, 6, 7, 8, 9, 10)\n",
    "\n",
    "for veri in demet:\n",
    "    print(\"Demet Verisi:\",veri)"
   ]
  },
  {
   "cell_type": "markdown",
   "metadata": {},
   "source": [
    "## Karakterler Üzerinde Gezinmek"
   ]
  },
  {
   "cell_type": "code",
   "execution_count": 16,
   "metadata": {},
   "outputs": [
    {
     "name": "stdout",
     "output_type": "stream",
     "text": [
      "B\n",
      "i\n",
      "l\n",
      "g\n",
      "i\n",
      "s\n",
      "a\n",
      "y\n",
      "a\n",
      "r\n",
      " \n",
      "B\n",
      "i\n",
      "l\n",
      "i\n",
      "m\n",
      "i\n"
     ]
    }
   ],
   "source": [
    "for veri in \"Bilgisayar Bilimi\":\n",
    "    print(veri)"
   ]
  },
  {
   "cell_type": "code",
   "execution_count": 17,
   "metadata": {},
   "outputs": [
    {
     "name": "stdout",
     "output_type": "stream",
     "text": [
      "PPPPP\n",
      "yyyyy\n",
      "ttttt\n",
      "hhhhh\n",
      "ooooo\n",
      "nnnnn\n"
     ]
    }
   ],
   "source": [
    "for veri in \"Python\":\n",
    "    print(veri*5)"
   ]
  },
  {
   "cell_type": "code",
   "execution_count": 18,
   "metadata": {},
   "outputs": [
    {
     "name": "stdout",
     "output_type": "stream",
     "text": [
      "(1, 2)\n",
      "(3, 4)\n",
      "(5, 6)\n",
      "(7, 8)\n"
     ]
    }
   ],
   "source": [
    "veriler = [(1,2),(3,4),(5,6),(7,8)]\n",
    "\n",
    "for veri in veriler:\n",
    "    print(veri)"
   ]
  },
  {
   "cell_type": "code",
   "execution_count": 19,
   "metadata": {},
   "outputs": [
    {
     "name": "stdout",
     "output_type": "stream",
     "text": [
      "1 \n",
      " 2\n",
      "3 \n",
      " 4\n",
      "5 \n",
      " 6\n",
      "7 \n",
      " 8\n"
     ]
    }
   ],
   "source": [
    "veriler = [(1,2),(3,4),(5,6),(7,8)]\n",
    "\n",
    "for i,j in veriler:\n",
    "    print(i,'\\n',j)"
   ]
  },
  {
   "cell_type": "code",
   "execution_count": 20,
   "metadata": {},
   "outputs": [
    {
     "name": "stdout",
     "output_type": "stream",
     "text": [
      "2\n",
      "120\n",
      "9282\n"
     ]
    }
   ],
   "source": [
    "veriler = [(1,1,2),(3,5,8),(13,21,34)]\n",
    "\n",
    "for i,j,k in veriler:\n",
    "    print(i*j*k)"
   ]
  },
  {
   "cell_type": "code",
   "execution_count": null,
   "metadata": {},
   "outputs": [],
   "source": []
  }
 ],
 "metadata": {
  "kernelspec": {
   "display_name": "Python 3",
   "language": "python",
   "name": "python3"
  },
  "language_info": {
   "codemirror_mode": {
    "name": "ipython",
    "version": 3
   },
   "file_extension": ".py",
   "mimetype": "text/x-python",
   "name": "python",
   "nbconvert_exporter": "python",
   "pygments_lexer": "ipython3",
   "version": "3.5.4"
  }
 },
 "nbformat": 4,
 "nbformat_minor": 2
}
