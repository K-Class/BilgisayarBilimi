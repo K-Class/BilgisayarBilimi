{
 "cells": [
  {
   "cell_type": "code",
   "execution_count": 9,
   "metadata": {},
   "outputs": [
    {
     "name": "stdout",
     "output_type": "stream",
     "text": [
      "Adım 1\n",
      "Adım 2\n",
      "Adım 3\n",
      "Adım 4\n",
      "Adım 5\n",
      "Adım 6\n",
      "Adım 7\n",
      "Adım 8\n",
      "Adım 9\n",
      "Adım 10\n",
      "\n",
      "Program Sonlandırıldı\n"
     ]
    }
   ],
   "source": [
    "sayaç = 0\n",
    "\n",
    "while sayaç < 10 :\n",
    "    sayaç = sayaç + 1 \n",
    "    print('Adım',sayaç )\n",
    "\n",
    "print('\\nProgram Sonlandırıldı')"
   ]
  },
  {
   "cell_type": "code",
   "execution_count": 3,
   "metadata": {},
   "outputs": [
    {
     "ename": "NameError",
     "evalue": "name 'syç' is not defined",
     "output_type": "error",
     "traceback": [
      "\u001b[1;31m---------------------------------------------------------------------------\u001b[0m",
      "\u001b[1;31mNameError\u001b[0m                                 Traceback (most recent call last)",
      "\u001b[1;32m<ipython-input-3-9212f0c1b62d>\u001b[0m in \u001b[0;36m<module>\u001b[1;34m()\u001b[0m\n\u001b[0;32m      1\u001b[0m \u001b[1;33m\u001b[0m\u001b[0m\n\u001b[1;32m----> 2\u001b[1;33m \u001b[1;32mwhile\u001b[0m \u001b[0msyç\u001b[0m \u001b[1;33m<\u001b[0m \u001b[1;36m10\u001b[0m \u001b[1;33m:\u001b[0m\u001b[1;33m\u001b[0m\u001b[0m\n\u001b[0m\u001b[0;32m      3\u001b[0m     \u001b[0msyç\u001b[0m \u001b[1;33m+=\u001b[0m \u001b[1;36m1\u001b[0m\u001b[1;33m\u001b[0m\u001b[0m\n\u001b[0;32m      4\u001b[0m     \u001b[0mprint\u001b[0m\u001b[1;33m(\u001b[0m\u001b[1;34m'Adım'\u001b[0m\u001b[1;33m,\u001b[0m\u001b[0msyç\u001b[0m \u001b[1;33m)\u001b[0m\u001b[1;33m\u001b[0m\u001b[0m\n\u001b[0;32m      5\u001b[0m \u001b[1;33m\u001b[0m\u001b[0m\n",
      "\u001b[1;31mNameError\u001b[0m: name 'syç' is not defined"
     ]
    }
   ],
   "source": [
    "\n",
    "while syç < 10 :\n",
    "    syç += 1 \n",
    "    print('Adım',syç )\n",
    "\n",
    "print('\\nProgram Sonlandırıldı')"
   ]
  },
  {
   "cell_type": "code",
   "execution_count": 8,
   "metadata": {},
   "outputs": [
    {
     "name": "stdout",
     "output_type": "stream",
     "text": [
      "Adım 0\n",
      "Adım 0\n",
      "Adım 0\n",
      "Adım 0\n",
      "Adım 0\n",
      "Adım 0\n",
      "Adım 0\n"
     ]
    },
    {
     "ename": "KeyboardInterrupt",
     "evalue": "",
     "output_type": "error",
     "traceback": [
      "\u001b[1;31m---------------------------------------------------------------------------\u001b[0m",
      "\u001b[1;31mKeyboardInterrupt\u001b[0m                         Traceback (most recent call last)",
      "\u001b[1;32m<ipython-input-8-bf1a9369cd0b>\u001b[0m in \u001b[0;36m<module>\u001b[1;34m()\u001b[0m\n\u001b[0;32m      6\u001b[0m \u001b[1;32mwhile\u001b[0m \u001b[0msayaç\u001b[0m \u001b[1;33m<\u001b[0m \u001b[1;36m10\u001b[0m \u001b[1;33m:\u001b[0m\u001b[1;33m\u001b[0m\u001b[0m\n\u001b[0;32m      7\u001b[0m     \u001b[1;31m# syç değişkeninin değeri artırılmıyor\u001b[0m\u001b[1;33m\u001b[0m\u001b[1;33m\u001b[0m\u001b[0m\n\u001b[1;32m----> 8\u001b[1;33m     \u001b[0mtime\u001b[0m\u001b[1;33m.\u001b[0m\u001b[0msleep\u001b[0m\u001b[1;33m(\u001b[0m\u001b[1;36m1\u001b[0m\u001b[1;33m)\u001b[0m\u001b[1;33m\u001b[0m\u001b[0m\n\u001b[0m\u001b[0;32m      9\u001b[0m \u001b[1;33m\u001b[0m\u001b[0m\n\u001b[0;32m     10\u001b[0m     \u001b[0mprint\u001b[0m\u001b[1;33m(\u001b[0m\u001b[1;34m'Adım'\u001b[0m\u001b[1;33m,\u001b[0m\u001b[0msayaç\u001b[0m \u001b[1;33m)\u001b[0m\u001b[1;33m\u001b[0m\u001b[0m\n",
      "\u001b[1;31mKeyboardInterrupt\u001b[0m: "
     ]
    }
   ],
   "source": [
    "# time(zaman) modülünü kodumuza ekliyoruz bu konu ileride görülecek\n",
    "import time\n",
    "\n",
    "sayaç = 0\n",
    "\n",
    "while sayaç < 10 :\n",
    "    # syç değişkeninin değeri artırılmıyor\n",
    "    time.sleep(1)\n",
    "   \n",
    "    print('Adım',sayaç )\n",
    "\n",
    "print('\\nProgram Sonlandırıldı')"
   ]
  },
  {
   "cell_type": "code",
   "execution_count": 12,
   "metadata": {},
   "outputs": [
    {
     "name": "stdout",
     "output_type": "stream",
     "text": [
      "Adım 1 Toplam: 1\n",
      "Adım 2 Toplam: 3\n",
      "Adım 3 Toplam: 6\n",
      "Adım 4 Toplam: 10\n",
      "Adım 5 Toplam: 15\n",
      "Adım 6 Toplam: 21\n",
      "Adım 7 Toplam: 28\n",
      "Adım 8 Toplam: 36\n",
      "Adım 9 Toplam: 45\n",
      "Adım 10 Toplam: 55\n",
      "\n",
      "Toplam: 55\n",
      "\n",
      "Program Sonlandırıldı\n"
     ]
    }
   ],
   "source": [
    "sayaç = 0\n",
    "toplam = 0\n",
    "\n",
    "while sayaç < 10 :\n",
    "    sayaç = sayaç + 1\n",
    "    toplam = toplam + sayaç\n",
    "    print('Adım',sayaç ,'Toplam:',toplam)\n",
    "\n",
    "print('\\nToplam:',toplam)\n",
    "print('\\nProgram Sonlandırıldı')"
   ]
  },
  {
   "cell_type": "code",
   "execution_count": 2,
   "metadata": {},
   "outputs": [
    {
     "name": "stdout",
     "output_type": "stream",
     "text": [
      "Çıkmak için \"ç\", yeniden giriş için herhangi bir karakter girin :e\n",
      "Çıkmak için \"ç\", yeniden giriş için herhangi bir karakter girin :d\n",
      "Çıkmak için \"ç\", yeniden giriş için herhangi bir karakter girin :h\n",
      "Çıkmak için \"ç\", yeniden giriş için herhangi bir karakter girin :ç\n",
      "\n",
      "Program Sonlandırıldı\n"
     ]
    }
   ],
   "source": [
    "devam = ''\n",
    "\n",
    "while devam != 'ç' :\n",
    "    \n",
    "    #program kodları buraya gelecek\n",
    "    \n",
    "    devam = input('Çıkmak için \"ç\", yeniden giriş için herhangi bir karakter girin :')\n",
    "\n",
    "print('\\nProgram Sonlandırıldı')"
   ]
  },
  {
   "cell_type": "code",
   "execution_count": 5,
   "metadata": {},
   "outputs": [
    {
     "name": "stdout",
     "output_type": "stream",
     "text": [
      "Tam Sayı Girişi Yapın: 3\n",
      "Çıkmak için \"ç\", yeniden giriş için herhangi bir karakter girin :h\n",
      "Tam Sayı Girişi Yapın: 5\n",
      "Çıkmak için \"ç\", yeniden giriş için herhangi bir karakter girin :h\n",
      "Tam Sayı Girişi Yapın: 2\n",
      "Çıkmak için \"ç\", yeniden giriş için herhangi bir karakter girin :h\n",
      "Tam Sayı Girişi Yapın: 20\n",
      "Çıkmak için \"ç\", yeniden giriş için herhangi bir karakter girin :ç\n",
      "Toplam Değer : 30\n",
      "\n",
      "Program Sonlandırıldı\n"
     ]
    }
   ],
   "source": [
    "devam = '' # str\n",
    "toplam = 0 # int\n",
    "\n",
    "while devam != 'ç' :\n",
    "    \n",
    "    kl_değer = int(input('Tam Sayı Girişi Yapın: '))\n",
    "    toplam = toplam + kl_değer\n",
    "    \n",
    "    devam = input('Çıkmak için \"ç\", yeniden giriş için herhangi bir karakter girin :')\n",
    "\n",
    "print('Toplam Değer :',toplam)\n",
    "print('\\nProgram Sonlandırıldı')"
   ]
  },
  {
   "cell_type": "code",
   "execution_count": null,
   "metadata": {},
   "outputs": [],
   "source": [
    "# bu örneği yaptır\n",
    "print('Çıkmak İçin \"ç\" Girin')\n",
    "sayı = input('Toplanacak Tam Sayı Girin:')\n",
    "toplam = 0\n",
    "i = 0\n",
    "\n",
    "while sayı != 'ç' :\n",
    "    i += 1\n",
    "    toplam += int(sayı) # toplam = sayı + toplam ile aynı ifade\n",
    "    sayı = input('Toplanacak Tam Sayı Girin:')\n",
    "\n",
    "print('Girilen {} Adet Sayının Toplamı = {}'.format(i,toplam))\n",
    "\n",
    "#print('Girilen ' + str(i) + ' Adet Sayının Toplamı = ' + str(toplam))"
   ]
  },
  {
   "cell_type": "code",
   "execution_count": 3,
   "metadata": {},
   "outputs": [
    {
     "name": "stdout",
     "output_type": "stream",
     "text": [
      "Çıkmak İçin \"ç\" Girin\n",
      "Toplanacak Tam Sayı Girin:3\n",
      "Toplanacak Tam Sayı Girin:13\n",
      "Toplanacak Tam Sayı Girin:23\n",
      "Toplanacak Tam Sayı Girin:33\n",
      "Toplanacak Tam Sayı Girin:ç\n",
      "4 Adet Sayının Toplamı : 72\n"
     ]
    }
   ],
   "source": [
    "print('Çıkmak İçin \"ç\" Girin')\n",
    "# kullanıcı string değer giriyor\n",
    "sayı = input('Toplanacak Tam Sayı Girin:')\n",
    "toplam = 0\n",
    "sayaç = 0\n",
    "\n",
    "while sayı != 'ç':\n",
    "    sayaç += 1\n",
    "    toplam += int(sayı) # toplam = sayı + toplam ile aynı ifade\n",
    "    sayı = input('Toplanacak Tam Sayı Girin:')\n",
    "    \n",
    "metin = '{} Adet Sayının Toplamı : {}'.format(sayaç,toplam)\n",
    "print(metin)"
   ]
  },
  {
   "cell_type": "code",
   "execution_count": 6,
   "metadata": {},
   "outputs": [
    {
     "data": {
      "text/plain": [
       "'3.14ondalıklı sayı 2.718 ondalıklı sayı 1.1458'"
      ]
     },
     "execution_count": 6,
     "metadata": {},
     "output_type": "execute_result"
    }
   ],
   "source": [
    "\"{:.2f}ondalıklı sayı {:.3f} ondalıklı sayı {:.4f}\".format(3.14159,2.7182818,1.1457937)"
   ]
  },
  {
   "cell_type": "code",
   "execution_count": 10,
   "metadata": {},
   "outputs": [
    {
     "name": "stdout",
     "output_type": "stream",
     "text": [
      "0 1 1 2 3 5 8 13 21 34 55 89 "
     ]
    }
   ],
   "source": [
    "sayı1 = 0\n",
    "sayı2 = 1\n",
    "\n",
    "while sayı1 < 100 :\n",
    "    print(sayı1 ,end=' ')\n",
    "    takas = sayı1\n",
    "    sayı1 = sayı2\n",
    "    sayı2 = takas + sayı1\n",
    "    "
   ]
  },
  {
   "cell_type": "code",
   "execution_count": 1,
   "metadata": {},
   "outputs": [
    {
     "name": "stdout",
     "output_type": "stream",
     "text": [
      "0 1 1 2 3 5 8 13 21 34 55 89 "
     ]
    }
   ],
   "source": [
    "sayı1 = 0\n",
    "sayı2 = 1\n",
    "\n",
    "while sayı1 < 100 :\n",
    "    print(sayı1 ,end=' ')\n",
    "    sayı1,sayı2 = sayı2,sayı1+sayı2"
   ]
  },
  {
   "cell_type": "code",
   "execution_count": 1,
   "metadata": {},
   "outputs": [
    {
     "name": "stdout",
     "output_type": "stream",
     "text": [
      "0 1 1 2 3 5 8 13 21 34 55 89 "
     ]
    }
   ],
   "source": [
    "# 0 1 1 2 3 5 8 13 21 34 55 89\n",
    "#adm  1   2\n",
    "sy1 = 0 \n",
    "sy2 = 1 \n",
    "\n",
    "while sy1 < 100 :\n",
    "    print(sy1,end=' ')\n",
    "    toplam = sy1 + sy2\n",
    "    sy1 = sy2\n",
    "    sy2 = toplam"
   ]
  },
  {
   "cell_type": "code",
   "execution_count": 6,
   "metadata": {},
   "outputs": [
    {
     "name": "stdout",
     "output_type": "stream",
     "text": [
      "i x j = i*j\n",
      "\n",
      "1 x 1 = 1\n",
      "1 x 2 = 2\n",
      "1 x 3 = 3\n",
      "1 x 4 = 4\n",
      "1 x 5 = 5\n",
      "1 x 6 = 6\n",
      "1 x 7 = 7\n",
      "1 x 8 = 8\n",
      "1 x 9 = 9\n",
      "1 x 10 = 10\n",
      "\n",
      "\n",
      "2 x 1 = 2\n",
      "2 x 2 = 4\n",
      "2 x 3 = 6\n",
      "2 x 4 = 8\n",
      "2 x 5 = 10\n",
      "2 x 6 = 12\n",
      "2 x 7 = 14\n",
      "2 x 8 = 16\n",
      "2 x 9 = 18\n",
      "2 x 10 = 20\n",
      "\n",
      "\n",
      "3 x 1 = 3\n",
      "3 x 2 = 6\n",
      "3 x 3 = 9\n",
      "3 x 4 = 12\n",
      "3 x 5 = 15\n",
      "3 x 6 = 18\n",
      "3 x 7 = 21\n",
      "3 x 8 = 24\n",
      "3 x 9 = 27\n",
      "3 x 10 = 30\n",
      "\n",
      "\n",
      "4 x 1 = 4\n",
      "4 x 2 = 8\n",
      "4 x 3 = 12\n",
      "4 x 4 = 16\n",
      "4 x 5 = 20\n",
      "4 x 6 = 24\n",
      "4 x 7 = 28\n",
      "4 x 8 = 32\n",
      "4 x 9 = 36\n",
      "4 x 10 = 40\n",
      "\n",
      "\n",
      "5 x 1 = 5\n",
      "5 x 2 = 10\n",
      "5 x 3 = 15\n",
      "5 x 4 = 20\n",
      "5 x 5 = 25\n",
      "5 x 6 = 30\n",
      "5 x 7 = 35\n",
      "5 x 8 = 40\n",
      "5 x 9 = 45\n",
      "5 x 10 = 50\n",
      "\n",
      "\n",
      "6 x 1 = 6\n",
      "6 x 2 = 12\n",
      "6 x 3 = 18\n",
      "6 x 4 = 24\n",
      "6 x 5 = 30\n",
      "6 x 6 = 36\n",
      "6 x 7 = 42\n",
      "6 x 8 = 48\n",
      "6 x 9 = 54\n",
      "6 x 10 = 60\n",
      "\n",
      "\n",
      "7 x 1 = 7\n",
      "7 x 2 = 14\n",
      "7 x 3 = 21\n",
      "7 x 4 = 28\n",
      "7 x 5 = 35\n",
      "7 x 6 = 42\n",
      "7 x 7 = 49\n",
      "7 x 8 = 56\n",
      "7 x 9 = 63\n",
      "7 x 10 = 70\n",
      "\n",
      "\n",
      "8 x 1 = 8\n",
      "8 x 2 = 16\n",
      "8 x 3 = 24\n",
      "8 x 4 = 32\n",
      "8 x 5 = 40\n",
      "8 x 6 = 48\n",
      "8 x 7 = 56\n",
      "8 x 8 = 64\n",
      "8 x 9 = 72\n",
      "8 x 10 = 80\n",
      "\n",
      "\n",
      "9 x 1 = 9\n",
      "9 x 2 = 18\n",
      "9 x 3 = 27\n",
      "9 x 4 = 36\n",
      "9 x 5 = 45\n",
      "9 x 6 = 54\n",
      "9 x 7 = 63\n",
      "9 x 8 = 72\n",
      "9 x 9 = 81\n",
      "9 x 10 = 90\n",
      "\n",
      "\n",
      "10 x 1 = 10\n",
      "10 x 2 = 20\n",
      "10 x 3 = 30\n",
      "10 x 4 = 40\n",
      "10 x 5 = 50\n",
      "10 x 6 = 60\n",
      "10 x 7 = 70\n",
      "10 x 8 = 80\n",
      "10 x 9 = 90\n",
      "10 x 10 = 100\n",
      "\n",
      "\n"
     ]
    }
   ],
   "source": [
    "i = 0\n",
    "j = 0\n",
    "\n",
    "print(\"i x j = i*j\\n\")\n",
    "\n",
    "while i < 10 :\n",
    "    i+= 1\n",
    "    \n",
    "    while j < 10 :\n",
    "        j+=1\n",
    "        print(\"{} x {} = {}\".format(i,j,i*j))\n",
    "    print(\"\\n\")\n",
    "    j = 0"
   ]
  },
  {
   "cell_type": "code",
   "execution_count": null,
   "metadata": {},
   "outputs": [],
   "source": []
  }
 ],
 "metadata": {
  "kernelspec": {
   "display_name": "Python 3",
   "language": "python",
   "name": "python3"
  },
  "language_info": {
   "codemirror_mode": {
    "name": "ipython",
    "version": 3
   },
   "file_extension": ".py",
   "mimetype": "text/x-python",
   "name": "python",
   "nbconvert_exporter": "python",
   "pygments_lexer": "ipython3",
   "version": "3.5.4"
  }
 },
 "nbformat": 4,
 "nbformat_minor": 2
}
