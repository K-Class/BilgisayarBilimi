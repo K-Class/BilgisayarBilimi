{
 "cells": [
  {
   "cell_type": "code",
   "execution_count": null,
   "metadata": {},
   "outputs": [],
   "source": [
    "print(\"Merhaba 9D\")"
   ]
  },
  {
   "cell_type": "code",
   "execution_count": null,
   "metadata": {},
   "outputs": [],
   "source": [
    "# lise öğrencileri 14,15,16,17 ve 18 yaşlarındadır.\n",
    "yaş = 16\n",
    "\n",
    "yaş >= 14"
   ]
  },
  {
   "cell_type": "code",
   "execution_count": null,
   "metadata": {},
   "outputs": [],
   "source": [
    "# liseliler\n",
    "yaş = 16\n",
    "\n",
    "yaş >= 14 and yaş <= 18"
   ]
  },
  {
   "cell_type": "code",
   "execution_count": null,
   "metadata": {},
   "outputs": [],
   "source": [
    "# liseli olmayanlar\n",
    "yaş = 16\n",
    "\n",
    "yaş < 14 or yaş > 18"
   ]
  },
  {
   "cell_type": "code",
   "execution_count": null,
   "metadata": {},
   "outputs": [],
   "source": [
    "# liseli olmayanlar 2\n",
    "yaş = 16\n",
    "\n",
    "not(yaş >= 14 and yaş <= 18)"
   ]
  },
  {
   "cell_type": "code",
   "execution_count": null,
   "metadata": {},
   "outputs": [],
   "source": [
    "# liseliler\n",
    "yaş = 16\n",
    "\n",
    "if yaş >= 14 and yaş <= 18 :\n",
    "    print(\"Liseli\")\n",
    "else:\n",
    "    print(\"Liseli Değil\")"
   ]
  },
  {
   "cell_type": "code",
   "execution_count": null,
   "metadata": {},
   "outputs": [],
   "source": [
    "from IPython.display import Image\n",
    "\n",
    "yaş = 16\n",
    "\n",
    "if yaş >= 14 and yaş <= 18 :\n",
    "    print(\"Liseli\")\n",
    "    display(Image(filename = 'liseli.jpg'))\n",
    "else:\n",
    "    print(\"Mezun\")\n",
    "    display(Image(filename = 'mezun.jpg'))"
   ]
  },
  {
   "cell_type": "code",
   "execution_count": 7,
   "metadata": {},
   "outputs": [
    {
     "name": "stdout",
     "output_type": "stream",
     "text": [
      "Donem Sonu Durumu\n",
      "Donem Sonu Not Ortalamanızı Giriniz:95.35\n",
      "\n",
      "\n",
      "Doğru Değer Girdiniz\n",
      "Takdir\n",
      "\n",
      "Program Sonlandı\n"
     ]
    }
   ],
   "source": [
    "print('Donem Sonu Durumu')\n",
    "\n",
    "notOrt = float(input('Donem Sonu Not Ortalamanızı Giriniz:'))\n",
    "\n",
    "print('\\n')\n",
    "\n",
    "if notOrt > 0 and notOrt <= 100  :\n",
    "    print('Doğru Değer Girdiniz')\n",
    "    \n",
    "    if notOrt < 50 :\n",
    "        print('Kaldınız')\n",
    "    elif notOrt < 70 :\n",
    "        print('Geçtiniz')\n",
    "    elif notOrt < 85 :\n",
    "        print('Teşekkür')\n",
    "    else :\n",
    "        print('Takdir')\n",
    "else :\n",
    "    print('Hatalı değer girişi. Not ortalaması 0 - 100 aralığında girilmeli')\n",
    "\n",
    "print('\\nProgram Sonlandı')\n"
   ]
  },
  {
   "cell_type": "code",
   "execution_count": 12,
   "metadata": {},
   "outputs": [
    {
     "name": "stdout",
     "output_type": "stream",
     "text": [
      "Donem Sonu Not Ortalamanızı Giriniz:93.47912234356643456\n",
      "93.4791\n"
     ]
    }
   ],
   "source": [
    "notOrt = float(input('Donem Sonu Not Ortalamanızı Giriniz:'))\n",
    "# koşulu atama\n",
    "notOrt = round(notOrt,4) if notOrt >= 0 else round(-notOrt,4)\n",
    "\n",
    "print(notOrt)"
   ]
  },
  {
   "cell_type": "code",
   "execution_count": null,
   "metadata": {},
   "outputs": [],
   "source": []
  }
 ],
 "metadata": {
  "kernelspec": {
   "display_name": "Python 3",
   "language": "python",
   "name": "python3"
  },
  "language_info": {
   "codemirror_mode": {
    "name": "ipython",
    "version": 3
   },
   "file_extension": ".py",
   "mimetype": "text/x-python",
   "name": "python",
   "nbconvert_exporter": "python",
   "pygments_lexer": "ipython3",
   "version": "3.5.4"
  }
 },
 "nbformat": 4,
 "nbformat_minor": 2
}
