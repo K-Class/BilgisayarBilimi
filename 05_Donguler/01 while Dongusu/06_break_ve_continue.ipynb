{
 "cells": [
  {
   "cell_type": "markdown",
   "metadata": {},
   "source": [
    "# break"
   ]
  },
  {
   "cell_type": "code",
   "execution_count": 2,
   "metadata": {},
   "outputs": [
    {
     "name": "stdout",
     "output_type": "stream",
     "text": [
      "1\n",
      "2\n",
      "3\n",
      "4\n",
      "5\n",
      "6\n",
      "7\n",
      "8\n",
      "9\n",
      "10\n"
     ]
    }
   ],
   "source": [
    "i=0\n",
    "# sonsuz döngü True ile yapılmış\n",
    "while True:\n",
    "    # i değeri her döngüde 1 artıyor\n",
    "    i+=1\n",
    "    print(i)\n",
    "    \n",
    "    # i değeri 10'a eşitse döngüden çok\n",
    "    if i == 10:\n",
    "        # break: döngüden çıkma komutu, döngüyü kırma komutu.\n",
    "        break"
   ]
  },
  {
   "cell_type": "code",
   "execution_count": 3,
   "metadata": {},
   "outputs": [
    {
     "name": "stdout",
     "output_type": "stream",
     "text": [
      "1\n",
      "2\n",
      "3\n",
      "4\n",
      "5\n",
      "6\n",
      "7\n",
      "8\n",
      "9\n",
      "10\n"
     ]
    }
   ],
   "source": [
    "i=0\n",
    "# sonsuz döngü 1 ile yapılmış\n",
    "while 1:\n",
    "    i+=1\n",
    "    print(i)\n",
    "    \n",
    "    # i değeri 10'a eşitse döngüden çok\n",
    "    if i == 10:\n",
    "        # break: döngüden çıkma komutu, döngüyü kırma komutu.\n",
    "        break"
   ]
  },
  {
   "cell_type": "code",
   "execution_count": 4,
   "metadata": {},
   "outputs": [
    {
     "name": "stdout",
     "output_type": "stream",
     "text": [
      "Sayi(Çıkmak için 'ç' tuşuna basın):3\n",
      "Sayi(Çıkmak için 'ç' tuşuna basın):5\n",
      "Sayi(Çıkmak için 'ç' tuşuna basın):7\n",
      "Sayi(Çıkmak için 'ç' tuşuna basın):9\n",
      "Sayi(Çıkmak için 'ç' tuşuna basın):ç\n",
      "\n",
      "Girilen Sayılarin Toplamı: 24\n",
      "\n",
      "Çıkış yapılıyor...\n"
     ]
    }
   ],
   "source": [
    "toplam = 0\n",
    "while True:\n",
    "    sayi = input(\"Sayi(Çıkmak için 'ç' tuşuna basın):\")\n",
    "    if (sayi == \"ç\"):\n",
    "        print(\"\\nGirilen Sayılarin Toplamı:\",toplam)\n",
    "        print(\"\\nÇıkış yapılıyor...\")\n",
    "        break\n",
    "    toplam += int(sayi)"
   ]
  },
  {
   "cell_type": "markdown",
   "metadata": {},
   "source": [
    "# continue\n",
    "continue ifadesi programlamada çok nadir kullanıldığı için burada sadece bilgi için verilecek. Sizde yazdığınız kodlarda mümkün oldukça continue ifadesini kullanmamaya çalışın."
   ]
  },
  {
   "cell_type": "code",
   "execution_count": 25,
   "metadata": {},
   "outputs": [
    {
     "name": "stdout",
     "output_type": "stream",
     "text": [
      "Toplam: 55\n"
     ]
    }
   ],
   "source": [
    "# hatırlamak için 1'den 10'a kadar olan sayıların toplamını bulan kodu altta yazalım\n",
    "i=0\n",
    "toplam=0\n",
    "\n",
    "while i<10:\n",
    "    i+=1\n",
    "    toplam += i\n",
    "\n",
    "\n",
    "print('Toplam:',toplam)"
   ]
  },
  {
   "cell_type": "code",
   "execution_count": 8,
   "metadata": {},
   "outputs": [
    {
     "name": "stdout",
     "output_type": "stream",
     "text": [
      "i: 1\n",
      "i: 2\n",
      "i: 4\n",
      "i: 6\n",
      "i: 7\n",
      "i: 8\n",
      "i: 9\n",
      "i: 10\n"
     ]
    }
   ],
   "source": [
    "# continue kullanımıyla 1'den 10'a kadar olan sayıları 3 ve 5 hariç sayan kod örneği\n",
    "i = 1\n",
    "\n",
    "while i <= 10:\n",
    "    \n",
    "    if i == 3 or i == 5:\n",
    "        i += 1\n",
    "        continue\n",
    "        \n",
    "    print(\"i:\",i)\n",
    "    i += 1"
   ]
  },
  {
   "cell_type": "code",
   "execution_count": 7,
   "metadata": {},
   "outputs": [
    {
     "name": "stdout",
     "output_type": "stream",
     "text": [
      "Toplam: 47\n"
     ]
    }
   ],
   "source": [
    "# continue kullanımıyla 1'den 10'a kadar olan sayıların toplamını içinde 3 ve 5 sayılarını dışarda tutalım\n",
    "i=0\n",
    "toplam=0\n",
    "\n",
    "while i<10:\n",
    "    i+=1\n",
    "    \n",
    "    if i == 3:\n",
    "        continue\n",
    "    if i == 5:\n",
    "        continue\n",
    "    \n",
    "    toplam += i\n",
    "\n",
    "\n",
    "print('Toplam:',toplam)"
   ]
  },
  {
   "cell_type": "code",
   "execution_count": null,
   "metadata": {},
   "outputs": [],
   "source": []
  }
 ],
 "metadata": {
  "kernelspec": {
   "display_name": "Python 3",
   "language": "python",
   "name": "python3"
  },
  "language_info": {
   "codemirror_mode": {
    "name": "ipython",
    "version": 3
   },
   "file_extension": ".py",
   "mimetype": "text/x-python",
   "name": "python",
   "nbconvert_exporter": "python",
   "pygments_lexer": "ipython3",
   "version": "3.5.4"
  }
 },
 "nbformat": 4,
 "nbformat_minor": 2
}
