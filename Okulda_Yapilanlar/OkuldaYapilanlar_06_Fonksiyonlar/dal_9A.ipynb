{
 "cells": [
  {
   "cell_type": "code",
   "execution_count": 2,
   "metadata": {},
   "outputs": [
    {
     "name": "stdout",
     "output_type": "stream",
     "text": [
      "3\n"
     ]
    }
   ],
   "source": [
    "print(3)"
   ]
  },
  {
   "cell_type": "code",
   "execution_count": 3,
   "metadata": {},
   "outputs": [
    {
     "name": "stdout",
     "output_type": "stream",
     "text": [
      "Merhaba Dünya\n"
     ]
    }
   ],
   "source": [
    "print(\"Merhaba Dünya\")"
   ]
  },
  {
   "cell_type": "code",
   "execution_count": 4,
   "metadata": {},
   "outputs": [
    {
     "name": "stdout",
     "output_type": "stream",
     "text": [
      "Merhaba Dünya\n",
      "Merhaba İnsanlık\n",
      "Merhaba Python\n",
      "Merhaba Gökyüzü\n",
      "Merhaba Ormanlar\n"
     ]
    }
   ],
   "source": [
    "print(\"Merhaba Dünya\")\n",
    "print(\"Merhaba İnsanlık\")\n",
    "print(\"Merhaba Python\")\n",
    "print(\"Merhaba Gökyüzü\")\n",
    "print(\"Merhaba Ormanlar\")"
   ]
  },
  {
   "cell_type": "code",
   "execution_count": 5,
   "metadata": {},
   "outputs": [
    {
     "name": "stdout",
     "output_type": "stream",
     "text": [
      "Merhaba Dünya\n",
      "Merhaba İnsanlık\n",
      "Merhaba Python\n",
      "Merhaba Gökyüzü\n",
      "Merhaba Ormanlar\n",
      "Merhaba Dünya\n",
      "Merhaba İnsanlık\n",
      "Merhaba Python\n",
      "Merhaba Gökyüzü\n",
      "Merhaba Ormanlar\n",
      "Merhaba Dünya\n",
      "Merhaba İnsanlık\n",
      "Merhaba Python\n",
      "Merhaba Gökyüzü\n",
      "Merhaba Ormanlar\n",
      "Merhaba Dünya\n",
      "Merhaba İnsanlık\n",
      "Merhaba Python\n",
      "Merhaba Gökyüzü\n",
      "Merhaba Ormanlar\n",
      "Merhaba Dünya\n",
      "Merhaba İnsanlık\n",
      "Merhaba Python\n",
      "Merhaba Gökyüzü\n",
      "Merhaba Ormanlar\n",
      "Merhaba Dünya\n",
      "Merhaba İnsanlık\n",
      "Merhaba Python\n",
      "Merhaba Gökyüzü\n",
      "Merhaba Ormanlar\n",
      "Merhaba Dünya\n",
      "Merhaba İnsanlık\n",
      "Merhaba Python\n",
      "Merhaba Gökyüzü\n",
      "Merhaba Ormanlar\n",
      "Merhaba Dünya\n",
      "Merhaba İnsanlık\n",
      "Merhaba Python\n",
      "Merhaba Gökyüzü\n",
      "Merhaba Ormanlar\n",
      "Merhaba Dünya\n",
      "Merhaba İnsanlık\n",
      "Merhaba Python\n",
      "Merhaba Gökyüzü\n",
      "Merhaba Ormanlar\n",
      "Merhaba Dünya\n",
      "Merhaba İnsanlık\n",
      "Merhaba Python\n",
      "Merhaba Gökyüzü\n",
      "Merhaba Ormanlar\n"
     ]
    }
   ],
   "source": [
    "print(\"Merhaba Dünya\")\n",
    "print(\"Merhaba İnsanlık\")\n",
    "print(\"Merhaba Python\")\n",
    "print(\"Merhaba Gökyüzü\")\n",
    "print(\"Merhaba Ormanlar\")\n",
    "print(\"Merhaba Dünya\")\n",
    "print(\"Merhaba İnsanlık\")\n",
    "print(\"Merhaba Python\")\n",
    "print(\"Merhaba Gökyüzü\")\n",
    "print(\"Merhaba Ormanlar\")\n",
    "print(\"Merhaba Dünya\")\n",
    "print(\"Merhaba İnsanlık\")\n",
    "print(\"Merhaba Python\")\n",
    "print(\"Merhaba Gökyüzü\")\n",
    "print(\"Merhaba Ormanlar\")\n",
    "print(\"Merhaba Dünya\")\n",
    "print(\"Merhaba İnsanlık\")\n",
    "print(\"Merhaba Python\")\n",
    "print(\"Merhaba Gökyüzü\")\n",
    "print(\"Merhaba Ormanlar\")\n",
    "print(\"Merhaba Dünya\")\n",
    "print(\"Merhaba İnsanlık\")\n",
    "print(\"Merhaba Python\")\n",
    "print(\"Merhaba Gökyüzü\")\n",
    "print(\"Merhaba Ormanlar\")\n",
    "print(\"Merhaba Dünya\")\n",
    "print(\"Merhaba İnsanlık\")\n",
    "print(\"Merhaba Python\")\n",
    "print(\"Merhaba Gökyüzü\")\n",
    "print(\"Merhaba Ormanlar\")\n",
    "print(\"Merhaba Dünya\")\n",
    "print(\"Merhaba İnsanlık\")\n",
    "print(\"Merhaba Python\")\n",
    "print(\"Merhaba Gökyüzü\")\n",
    "print(\"Merhaba Ormanlar\")\n",
    "print(\"Merhaba Dünya\")\n",
    "print(\"Merhaba İnsanlık\")\n",
    "print(\"Merhaba Python\")\n",
    "print(\"Merhaba Gökyüzü\")\n",
    "print(\"Merhaba Ormanlar\")\n",
    "print(\"Merhaba Dünya\")\n",
    "print(\"Merhaba İnsanlık\")\n",
    "print(\"Merhaba Python\")\n",
    "print(\"Merhaba Gökyüzü\")\n",
    "print(\"Merhaba Ormanlar\")\n",
    "print(\"Merhaba Dünya\")\n",
    "print(\"Merhaba İnsanlık\")\n",
    "print(\"Merhaba Python\")\n",
    "print(\"Merhaba Gökyüzü\")\n",
    "print(\"Merhaba Ormanlar\")"
   ]
  },
  {
   "cell_type": "code",
   "execution_count": 6,
   "metadata": {},
   "outputs": [],
   "source": [
    "def merhaba_fon():\n",
    "    print(\"Merhaba Dünya\")\n",
    "    print(\"Merhaba İnsanlık\")\n",
    "    print(\"Merhaba Python\")\n",
    "    print(\"Merhaba Gökyüzü\")\n",
    "    print(\"Merhaba Ormanlar\")"
   ]
  },
  {
   "cell_type": "code",
   "execution_count": 7,
   "metadata": {},
   "outputs": [
    {
     "name": "stdout",
     "output_type": "stream",
     "text": [
      "Merhaba Dünya\n",
      "Merhaba İnsanlık\n",
      "Merhaba Python\n",
      "Merhaba Gökyüzü\n",
      "Merhaba Ormanlar\n"
     ]
    }
   ],
   "source": [
    "merhaba_fon()"
   ]
  },
  {
   "cell_type": "code",
   "execution_count": 8,
   "metadata": {},
   "outputs": [
    {
     "name": "stdout",
     "output_type": "stream",
     "text": [
      "Merhaba Dünya\n",
      "Merhaba İnsanlık\n",
      "Merhaba Python\n",
      "Merhaba Gökyüzü\n",
      "Merhaba Ormanlar\n",
      "Merhaba Dünya\n",
      "Merhaba İnsanlık\n",
      "Merhaba Python\n",
      "Merhaba Gökyüzü\n",
      "Merhaba Ormanlar\n",
      "Merhaba Dünya\n",
      "Merhaba İnsanlık\n",
      "Merhaba Python\n",
      "Merhaba Gökyüzü\n",
      "Merhaba Ormanlar\n",
      "Merhaba Dünya\n",
      "Merhaba İnsanlık\n",
      "Merhaba Python\n",
      "Merhaba Gökyüzü\n",
      "Merhaba Ormanlar\n",
      "Merhaba Dünya\n",
      "Merhaba İnsanlık\n",
      "Merhaba Python\n",
      "Merhaba Gökyüzü\n",
      "Merhaba Ormanlar\n",
      "Merhaba Dünya\n",
      "Merhaba İnsanlık\n",
      "Merhaba Python\n",
      "Merhaba Gökyüzü\n",
      "Merhaba Ormanlar\n",
      "Merhaba Dünya\n",
      "Merhaba İnsanlık\n",
      "Merhaba Python\n",
      "Merhaba Gökyüzü\n",
      "Merhaba Ormanlar\n",
      "Merhaba Dünya\n",
      "Merhaba İnsanlık\n",
      "Merhaba Python\n",
      "Merhaba Gökyüzü\n",
      "Merhaba Ormanlar\n",
      "Merhaba Dünya\n",
      "Merhaba İnsanlık\n",
      "Merhaba Python\n",
      "Merhaba Gökyüzü\n",
      "Merhaba Ormanlar\n",
      "Merhaba Dünya\n",
      "Merhaba İnsanlık\n",
      "Merhaba Python\n",
      "Merhaba Gökyüzü\n",
      "Merhaba Ormanlar\n",
      "Merhaba Dünya\n",
      "Merhaba İnsanlık\n",
      "Merhaba Python\n",
      "Merhaba Gökyüzü\n",
      "Merhaba Ormanlar\n"
     ]
    }
   ],
   "source": [
    "merhaba_fon()\n",
    "\n",
    "merhaba_fon()\n",
    "\n",
    "merhaba_fon()\n",
    "\n",
    "merhaba_fon()\n",
    "\n",
    "merhaba_fon()\n",
    "\n",
    "merhaba_fon()\n",
    "\n",
    "merhaba_fon()\n",
    "\n",
    "merhaba_fon()\n",
    "\n",
    "merhaba_fon()\n",
    "\n",
    "merhaba_fon()\n",
    "\n",
    "merhaba_fon()"
   ]
  },
  {
   "cell_type": "code",
   "execution_count": 9,
   "metadata": {},
   "outputs": [
    {
     "name": "stdout",
     "output_type": "stream",
     "text": [
      "Merhaba Dünya\n",
      "Merhaba İnsanlık\n",
      "Merhaba Python\n",
      "Merhaba Gökyüzü\n",
      "Merhaba Ormanlar\n",
      "Merhaba Dünya\n",
      "Merhaba İnsanlık\n",
      "Merhaba Python\n",
      "Merhaba Gökyüzü\n",
      "Merhaba Ormanlar\n",
      "Merhaba Dünya\n",
      "Merhaba İnsanlık\n",
      "Merhaba Python\n",
      "Merhaba Gökyüzü\n",
      "Merhaba Ormanlar\n",
      "Merhaba Dünya\n",
      "Merhaba İnsanlık\n",
      "Merhaba Python\n",
      "Merhaba Gökyüzü\n",
      "Merhaba Ormanlar\n",
      "Merhaba Dünya\n",
      "Merhaba İnsanlık\n",
      "Merhaba Python\n",
      "Merhaba Gökyüzü\n",
      "Merhaba Ormanlar\n",
      "Merhaba Dünya\n",
      "Merhaba İnsanlık\n",
      "Merhaba Python\n",
      "Merhaba Gökyüzü\n",
      "Merhaba Ormanlar\n",
      "Merhaba Dünya\n",
      "Merhaba İnsanlık\n",
      "Merhaba Python\n",
      "Merhaba Gökyüzü\n",
      "Merhaba Ormanlar\n",
      "Merhaba Dünya\n",
      "Merhaba İnsanlık\n",
      "Merhaba Python\n",
      "Merhaba Gökyüzü\n",
      "Merhaba Ormanlar\n",
      "Merhaba Dünya\n",
      "Merhaba İnsanlık\n",
      "Merhaba Python\n",
      "Merhaba Gökyüzü\n",
      "Merhaba Ormanlar\n",
      "Merhaba Dünya\n",
      "Merhaba İnsanlık\n",
      "Merhaba Python\n",
      "Merhaba Gökyüzü\n",
      "Merhaba Ormanlar\n"
     ]
    }
   ],
   "source": [
    "for i in range(10):\n",
    "    merhaba_fon()"
   ]
  },
  {
   "cell_type": "code",
   "execution_count": 11,
   "metadata": {},
   "outputs": [
    {
     "name": "stdout",
     "output_type": "stream",
     "text": [
      "720\n"
     ]
    }
   ],
   "source": [
    "n = 6\n",
    "faktor =1\n",
    "for i in range(n,0,-1):\n",
    "    faktor *= i\n",
    "\n",
    "print(faktor)"
   ]
  },
  {
   "cell_type": "code",
   "execution_count": 14,
   "metadata": {},
   "outputs": [],
   "source": [
    "def faktöriyel(n):\n",
    "    \n",
    "    faktor = 1\n",
    "    \n",
    "    for i in range(n,0,-1):\n",
    "        faktor *= i\n",
    "    \n",
    "    return faktor"
   ]
  },
  {
   "cell_type": "code",
   "execution_count": 16,
   "metadata": {},
   "outputs": [
    {
     "name": "stdout",
     "output_type": "stream",
     "text": [
      "1 Sayısının Faktöriyeli: 1\n",
      "2 Sayısının Faktöriyeli: 2\n",
      "3 Sayısının Faktöriyeli: 6\n",
      "4 Sayısının Faktöriyeli: 24\n",
      "5 Sayısının Faktöriyeli: 120\n",
      "6 Sayısının Faktöriyeli: 720\n",
      "7 Sayısının Faktöriyeli: 5040\n",
      "8 Sayısının Faktöriyeli: 40320\n",
      "9 Sayısının Faktöriyeli: 362880\n",
      "10 Sayısının Faktöriyeli: 3628800\n"
     ]
    }
   ],
   "source": [
    "for i in range(1,11):\n",
    "    print(\"{} Sayısının Faktöriyeli: {}\".format(i,faktöriyel(i)))"
   ]
  },
  {
   "cell_type": "code",
   "execution_count": 18,
   "metadata": {},
   "outputs": [
    {
     "name": "stdout",
     "output_type": "stream",
     "text": [
      "1 Sayısının Faktöriyeli: 1\n",
      "1 Sayısının Faktöriyeli: 2\n",
      "1 Sayısının Faktöriyeli: 6\n",
      "1 Sayısının Faktöriyeli: 24\n",
      "1 Sayısının Faktöriyeli: 120\n",
      "1 Sayısının Faktöriyeli: 720\n",
      "1 Sayısının Faktöriyeli: 5040\n",
      "1 Sayısının Faktöriyeli: 40320\n",
      "1 Sayısının Faktöriyeli: 362880\n",
      "1 Sayısının Faktöriyeli: 3628800\n"
     ]
    }
   ],
   "source": [
    "for i in range(1,11):\n",
    "    fakt = 1\n",
    "    for j in range(i,0,-1):\n",
    "        fakt *=j\n",
    "    print(\"{} Sayısının Faktöriyeli: {}\".format(j,fakt))\n",
    "    "
   ]
  },
  {
   "cell_type": "code",
   "execution_count": 19,
   "metadata": {},
   "outputs": [
    {
     "data": {
      "text/plain": [
       "243"
      ]
     },
     "execution_count": 19,
     "metadata": {},
     "output_type": "execute_result"
    }
   ],
   "source": [
    "3 ** 5"
   ]
  },
  {
   "cell_type": "code",
   "execution_count": 20,
   "metadata": {},
   "outputs": [
    {
     "data": {
      "text/plain": [
       "64"
      ]
     },
     "execution_count": 20,
     "metadata": {},
     "output_type": "execute_result"
    }
   ],
   "source": [
    "2 ** 6"
   ]
  },
  {
   "cell_type": "code",
   "execution_count": 24,
   "metadata": {},
   "outputs": [
    {
     "data": {
      "text/plain": [
       "2.0"
      ]
     },
     "execution_count": 24,
     "metadata": {},
     "output_type": "execute_result"
    }
   ],
   "source": [
    "4 ** (1/2)"
   ]
  },
  {
   "cell_type": "code",
   "execution_count": 25,
   "metadata": {},
   "outputs": [],
   "source": [
    "def üs_alma(sayı, üs):\n",
    "    return sayı ** üs"
   ]
  },
  {
   "cell_type": "code",
   "execution_count": 26,
   "metadata": {},
   "outputs": [
    {
     "data": {
      "text/plain": [
       "2.0"
      ]
     },
     "execution_count": 26,
     "metadata": {},
     "output_type": "execute_result"
    }
   ],
   "source": [
    "üs_alma(4,1/2)"
   ]
  },
  {
   "cell_type": "code",
   "execution_count": 27,
   "metadata": {},
   "outputs": [
    {
     "data": {
      "text/plain": [
       "1024"
      ]
     },
     "execution_count": 27,
     "metadata": {},
     "output_type": "execute_result"
    }
   ],
   "source": [
    "üs_alma(2,10)"
   ]
  },
  {
   "cell_type": "code",
   "execution_count": 28,
   "metadata": {},
   "outputs": [
    {
     "data": {
      "text/plain": [
       "81"
      ]
     },
     "execution_count": 28,
     "metadata": {},
     "output_type": "execute_result"
    }
   ],
   "source": [
    "üs_alma(3,4)"
   ]
  },
  {
   "cell_type": "code",
   "execution_count": 29,
   "metadata": {},
   "outputs": [
    {
     "data": {
      "text/plain": [
       "0.5"
      ]
     },
     "execution_count": 29,
     "metadata": {},
     "output_type": "execute_result"
    }
   ],
   "source": [
    "üs_alma(2,-1)"
   ]
  },
  {
   "cell_type": "code",
   "execution_count": 30,
   "metadata": {},
   "outputs": [
    {
     "name": "stdout",
     "output_type": "stream",
     "text": [
      "1 sayısının kendi değerinde üssü= 1\n",
      "2 sayısının kendi değerinde üssü= 4\n",
      "3 sayısının kendi değerinde üssü= 27\n",
      "4 sayısının kendi değerinde üssü= 256\n",
      "5 sayısının kendi değerinde üssü= 3125\n",
      "6 sayısının kendi değerinde üssü= 46656\n",
      "7 sayısının kendi değerinde üssü= 823543\n",
      "8 sayısının kendi değerinde üssü= 16777216\n",
      "9 sayısının kendi değerinde üssü= 387420489\n",
      "10 sayısının kendi değerinde üssü= 10000000000\n"
     ]
    }
   ],
   "source": [
    "for i in range(1,11):\n",
    "    print(\"{} sayısının kendi değerinde üssü= {}\".format(i,üs_alma(i,i)))"
   ]
  },
  {
   "cell_type": "code",
   "execution_count": 31,
   "metadata": {},
   "outputs": [],
   "source": [
    "def ort(n1,n2,n3):\n",
    "    toplam = n1+n2+n3\n",
    "    return toplam / 3"
   ]
  },
  {
   "cell_type": "code",
   "execution_count": 32,
   "metadata": {},
   "outputs": [
    {
     "data": {
      "text/plain": [
       "100.0"
      ]
     },
     "execution_count": 32,
     "metadata": {},
     "output_type": "execute_result"
    }
   ],
   "source": [
    "ort(100,100,100)"
   ]
  },
  {
   "cell_type": "code",
   "execution_count": 33,
   "metadata": {},
   "outputs": [
    {
     "data": {
      "text/plain": [
       "90.0"
      ]
     },
     "execution_count": 33,
     "metadata": {},
     "output_type": "execute_result"
    }
   ],
   "source": [
    "ort(80,100,90)"
   ]
  },
  {
   "cell_type": "code",
   "execution_count": 34,
   "metadata": {},
   "outputs": [
    {
     "ename": "TypeError",
     "evalue": "ort() missing 1 required positional argument: 'n3'",
     "output_type": "error",
     "traceback": [
      "\u001b[1;31m---------------------------------------------------------------------------\u001b[0m",
      "\u001b[1;31mTypeError\u001b[0m                                 Traceback (most recent call last)",
      "\u001b[1;32m<ipython-input-34-436548af4ec5>\u001b[0m in \u001b[0;36m<module>\u001b[1;34m()\u001b[0m\n\u001b[1;32m----> 1\u001b[1;33m \u001b[0mort\u001b[0m\u001b[1;33m(\u001b[0m\u001b[1;36m20\u001b[0m\u001b[1;33m,\u001b[0m\u001b[1;36m80\u001b[0m\u001b[1;33m)\u001b[0m\u001b[1;33m\u001b[0m\u001b[0m\n\u001b[0m",
      "\u001b[1;31mTypeError\u001b[0m: ort() missing 1 required positional argument: 'n3'"
     ]
    }
   ],
   "source": [
    "ort(20,80)"
   ]
  },
  {
   "cell_type": "code",
   "execution_count": 35,
   "metadata": {},
   "outputs": [],
   "source": [
    "def not_ort(*n):\n",
    "    \n",
    "    toplam = 0\n",
    "    sayı = 0\n",
    "    for i in n:\n",
    "        toplam +=i\n",
    "        sayı += 1\n",
    "    \n",
    "    return toplam / sayı\n"
   ]
  },
  {
   "cell_type": "code",
   "execution_count": 36,
   "metadata": {},
   "outputs": [
    {
     "data": {
      "text/plain": [
       "75.0"
      ]
     },
     "execution_count": 36,
     "metadata": {},
     "output_type": "execute_result"
    }
   ],
   "source": [
    "not_ort(100,50)"
   ]
  },
  {
   "cell_type": "code",
   "execution_count": 37,
   "metadata": {},
   "outputs": [
    {
     "data": {
      "text/plain": [
       "73.33333333333333"
      ]
     },
     "execution_count": 37,
     "metadata": {},
     "output_type": "execute_result"
    }
   ],
   "source": [
    "not_ort(100,50,70)"
   ]
  },
  {
   "cell_type": "code",
   "execution_count": 38,
   "metadata": {},
   "outputs": [
    {
     "data": {
      "text/plain": [
       "91.25"
      ]
     },
     "execution_count": 38,
     "metadata": {},
     "output_type": "execute_result"
    }
   ],
   "source": [
    "not_ort(90,80,100,95)"
   ]
  },
  {
   "cell_type": "code",
   "execution_count": null,
   "metadata": {},
   "outputs": [],
   "source": []
  }
 ],
 "metadata": {
  "kernelspec": {
   "display_name": "Python 3",
   "language": "python",
   "name": "python3"
  },
  "language_info": {
   "codemirror_mode": {
    "name": "ipython",
    "version": 3
   },
   "file_extension": ".py",
   "mimetype": "text/x-python",
   "name": "python",
   "nbconvert_exporter": "python",
   "pygments_lexer": "ipython3",
   "version": "3.5.4"
  }
 },
 "nbformat": 4,
 "nbformat_minor": 2
}
