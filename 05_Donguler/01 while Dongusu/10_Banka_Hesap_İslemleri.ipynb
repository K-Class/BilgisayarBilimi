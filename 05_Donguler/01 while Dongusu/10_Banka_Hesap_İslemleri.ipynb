{
 "cells": [
  {
   "cell_type": "code",
   "execution_count": 3,
   "metadata": {},
   "outputs": [
    {
     "name": "stdout",
     "output_type": "stream",
     "text": [
      "\n",
      "***********************\n",
      "*Banka Hesap İşlemleri*\n",
      "***********************\n",
      "\n",
      "İşlemler:\n",
      "\n",
      "1. Bakiye Sorgulama\n",
      "2. Para Yatırma\n",
      "3. Para Çekme\n",
      "\n",
      "Çıkmak için 'ç' girin.\n",
      "\n",
      "İşlemi giriniz:1\n",
      "Bakiyeniz: 3000 TL dir\n",
      "İşlemi giriniz:2\n",
      "Yatırmak istediğiniz tutar:1000\n",
      "Bakiyeniz: 4000 TL dir\n",
      "İşlemi giriniz:3\n",
      "Çekmek istediğiniz tutar:2000\n",
      "Bakiyeniz: 2000 TL dir\n",
      "İşlemi giriniz:3\n",
      "Çekmek istediğiniz tutar:3000\n",
      "Bu kadar para çekemezsiniz...\n",
      "Bakiyeniz: 2000 TL dir\n",
      "İşlemi giriniz:.\n",
      "Lütfen geçerli bir işlem giriniz.\n",
      "İşlemi giriniz:ç\n",
      "Yine bekleriz....\n"
     ]
    }
   ],
   "source": [
    "print(\"\"\"\n",
    "***********************\n",
    "*Banka Hesap İşlemleri*\n",
    "***********************\"\"\")\n",
    "\n",
    "print(\"\"\"\n",
    "İşlemler:\n",
    "\n",
    "1. Bakiye Sorgulama\n",
    "2. Para Yatırma\n",
    "3. Para Çekme\n",
    "\n",
    "Çıkmak için 'ç' girin.\n",
    "\"\"\")\n",
    "\n",
    "bakiye  = 3000\n",
    "\n",
    "while True:\n",
    "    işlem = input(\"İşlemi giriniz:\")\n",
    "\n",
    "    if (işlem == \"ç\"):\n",
    "        print(\"Yine bekleriz....\")\n",
    "        break\n",
    "        \n",
    "    elif (işlem == \"1\"):\n",
    "        print(\"Bakiyeniz: {} TL dir\".format(bakiye))\n",
    "        \n",
    "    elif (işlem == \"2\"):\n",
    "        miktar = int(input(\"Yatırmak istediğiniz tutar:\"))\n",
    "        bakiye += miktar\n",
    "        print(\"Bakiyeniz: {} TL dir\".format(bakiye))\n",
    "        \n",
    "    elif (işlem == \"3\"):\n",
    "        miktar = int(input(\"Çekmek istediğiniz tutar:\"))\n",
    "        if (bakiye - miktar < 0 ):\n",
    "            print(\"Bu kadar para çekemezsiniz...\")\n",
    "            print(\"Bakiyeniz: {} TL dir\".format(bakiye))\n",
    "        else:\n",
    "            bakiye -= miktar\n",
    "            print(\"Bakiyeniz: {} TL dir\".format(bakiye))\n",
    "\n",
    "    else:\n",
    "        print(\"Lütfen geçerli bir işlem giriniz.\")"
   ]
  },
  {
   "cell_type": "code",
   "execution_count": null,
   "metadata": {},
   "outputs": [],
   "source": []
  }
 ],
 "metadata": {
  "kernelspec": {
   "display_name": "Python 3",
   "language": "python",
   "name": "python3"
  },
  "language_info": {
   "codemirror_mode": {
    "name": "ipython",
    "version": 3
   },
   "file_extension": ".py",
   "mimetype": "text/x-python",
   "name": "python",
   "nbconvert_exporter": "python",
   "pygments_lexer": "ipython3",
   "version": "3.5.4"
  }
 },
 "nbformat": 4,
 "nbformat_minor": 2
}
