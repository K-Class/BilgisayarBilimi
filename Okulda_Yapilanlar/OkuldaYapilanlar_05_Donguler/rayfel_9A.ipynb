{
 "cells": [
  {
   "cell_type": "code",
   "execution_count": 7,
   "metadata": {
    "scrolled": true
   },
   "outputs": [
    {
     "name": "stdout",
     "output_type": "stream",
     "text": [
      "1.Adım\n",
      "2.Adım\n",
      "3.Adım\n",
      "4.Adım\n",
      "5.Adım\n",
      "6.Adım\n",
      "7.Adım\n",
      "8.Adım\n",
      "9.Adım\n",
      "10.Adım\n",
      "Program Sonlandırıldı\n"
     ]
    }
   ],
   "source": [
    "sayaç = 0\n",
    "\n",
    "while sayaç < 10 :\n",
    "    sayaç += 1\n",
    "    print('{}.Adım'.format(sayaç))\n",
    "\n",
    "print('Program Sonlandırıldı')"
   ]
  },
  {
   "cell_type": "code",
   "execution_count": 12,
   "metadata": {},
   "outputs": [
    {
     "name": "stdout",
     "output_type": "stream",
     "text": [
      "0.Adım 0.Adım 0.Adım 0.Adım 0.Adım 0.Adım 0.Adım 0.Adım 0.Adım 0.Adım "
     ]
    },
    {
     "ename": "KeyboardInterrupt",
     "evalue": "",
     "output_type": "error",
     "traceback": [
      "\u001b[1;31m---------------------------------------------------------------------------\u001b[0m",
      "\u001b[1;31mKeyboardInterrupt\u001b[0m                         Traceback (most recent call last)",
      "\u001b[1;32m<ipython-input-12-8db12520fdf6>\u001b[0m in \u001b[0;36m<module>\u001b[1;34m()\u001b[0m\n\u001b[0;32m      6\u001b[0m \u001b[1;32mwhile\u001b[0m \u001b[0msyç\u001b[0m \u001b[1;33m<\u001b[0m \u001b[1;36m10\u001b[0m \u001b[1;33m:\u001b[0m\u001b[1;33m\u001b[0m\u001b[0m\n\u001b[0;32m      7\u001b[0m     \u001b[1;31m# syç değişkeninin değeri artırılmıyor\u001b[0m\u001b[1;33m\u001b[0m\u001b[1;33m\u001b[0m\u001b[0m\n\u001b[1;32m----> 8\u001b[1;33m     \u001b[0mtime\u001b[0m\u001b[1;33m.\u001b[0m\u001b[0msleep\u001b[0m\u001b[1;33m(\u001b[0m\u001b[1;36m1\u001b[0m\u001b[1;33m)\u001b[0m\u001b[1;33m\u001b[0m\u001b[0m\n\u001b[0m\u001b[0;32m      9\u001b[0m     \u001b[0mprint\u001b[0m\u001b[1;33m(\u001b[0m\u001b[1;34m'{}.Adım'\u001b[0m\u001b[1;33m.\u001b[0m\u001b[0mformat\u001b[0m\u001b[1;33m(\u001b[0m\u001b[0msyç\u001b[0m\u001b[1;33m)\u001b[0m\u001b[1;33m,\u001b[0m\u001b[0mend\u001b[0m\u001b[1;33m=\u001b[0m\u001b[1;34m\" \"\u001b[0m\u001b[1;33m)\u001b[0m\u001b[1;33m\u001b[0m\u001b[0m\n\u001b[0;32m     10\u001b[0m \u001b[1;33m\u001b[0m\u001b[0m\n",
      "\u001b[1;31mKeyboardInterrupt\u001b[0m: "
     ]
    }
   ],
   "source": [
    "# time(zaman) modülünü kodumuza ekliyoruz bu konu ileride görülecek\n",
    "import time\n",
    "\n",
    "syç = 0\n",
    "\n",
    "while syç < 10 :\n",
    "    # syç değişkeninin değeri artırılmıyor\n",
    "    time.sleep(1)\n",
    "    print('{}.Adım'.format(syç),end=\" \")\n",
    "\n",
    "print('Program Sonlandırıldı')"
   ]
  },
  {
   "cell_type": "code",
   "execution_count": null,
   "metadata": {},
   "outputs": [],
   "source": [
    "toplam = 0\n",
    "i = 0\n",
    "\n",
    "while i < 10 :\n",
    "    i += 1\n",
    "    print('{:2}.Adım: {:2} + {:2} = {:2}'.format(i,i,toplam,toplam + i))\n",
    "    toplam = toplam + i\n",
    "    \n",
    "\n",
    "print(\"\\n1'den 100'e Kadar Sayıların Toplamı = \",toplam)"
   ]
  },
  {
   "cell_type": "code",
   "execution_count": 8,
   "metadata": {},
   "outputs": [
    {
     "name": "stdout",
     "output_type": "stream",
     "text": [
      " 1.Adım:  1 +  0 =  1\n",
      " 2.Adım:  2 +  1 =  3\n",
      " 3.Adım:  3 +  3 =  6\n",
      " 4.Adım:  4 +  6 = 10\n",
      " 5.Adım:  5 + 10 = 15\n",
      " 6.Adım:  6 + 15 = 21\n",
      " 7.Adım:  7 + 21 = 28\n",
      " 8.Adım:  8 + 28 = 36\n",
      " 9.Adım:  9 + 36 = 45\n",
      "10.Adım: 10 + 45 = 55\n",
      "Toplam Sayı : 55\n",
      "\n",
      "Program Sonlandırıldı\n"
     ]
    }
   ],
   "source": [
    "sayaç = 0\n",
    "toplam = 0\n",
    "\n",
    "while sayaç < 10 :\n",
    "    sayaç += 1\n",
    "    print('{:2}.Adım: {:2} + {:2} = {:2}'.format(sayaç,sayaç,toplam,toplam + sayaç))\n",
    "    toplam = sayaç + toplam\n",
    "\n",
    "print('Toplam Sayı :',toplam)\n",
    "print('\\nProgram Sonlandırıldı')"
   ]
  },
  {
   "cell_type": "code",
   "execution_count": 9,
   "metadata": {},
   "outputs": [
    {
     "name": "stdout",
     "output_type": "stream",
     "text": [
      "Toplam Sayı : 5050\n",
      "\n",
      "Program Sonlandırıldı\n"
     ]
    }
   ],
   "source": [
    "sayaç = 0 \n",
    "toplam = 0\n",
    "\n",
    "while sayaç < 100 :\n",
    "    sayaç += 1\n",
    "    toplam = sayaç + toplam\n",
    "\n",
    "print('Toplam Sayı :',toplam)\n",
    "print('\\nProgram Sonlandırıldı')"
   ]
  },
  {
   "cell_type": "code",
   "execution_count": 13,
   "metadata": {},
   "outputs": [
    {
     "name": "stdout",
     "output_type": "stream",
     "text": [
      "\n",
      "Dönem Sonu Not Ortalamanızı Giriniz: 95\n",
      "Takdir Aldınız\n",
      "\n",
      "Program Sonlandırıldı\n"
     ]
    }
   ],
   "source": [
    "# dönem sonu durumunu hesaplayan kod örneği\n",
    "# kod bu haliyle bir kere çalışır\n",
    "notOrt = float(input(\"\\nDönem Sonu Not Ortalamanızı Giriniz: \"))\n",
    "    \n",
    "if notOrt > 0 and notOrt <= 100 :\n",
    "\n",
    "    if notOrt < 50 :\n",
    "        print(\"Kaldınız\")\n",
    "    elif notOrt < 70 :\n",
    "        print(\"Geçtiniz\")\n",
    "    elif notOrt < 85 :\n",
    "        print(\"Teşekkür Aldınız\")\n",
    "    else:\n",
    "        print(\"Takdir Aldınız\")\n",
    "\n",
    "else:\n",
    "    print(\"Hatalı Değer Girdiniz Lütfen 1 - 100 aralığında değer giriniz.\")\n",
    "\n",
    "print('\\nProgram Sonlandırıldı')"
   ]
  },
  {
   "cell_type": "code",
   "execution_count": 14,
   "metadata": {},
   "outputs": [
    {
     "name": "stdout",
     "output_type": "stream",
     "text": [
      "Çıkmak istiyorsanız \"ç\" harfi girin devam etmek için \"d\" girin: e\n",
      "Çıkmak istiyorsanız \"ç\" harfi girin devam etmek için \"d\" girin: d\n",
      "Çıkmak istiyorsanız \"ç\" harfi girin devam etmek için \"d\" girin: r\n",
      "Çıkmak istiyorsanız \"ç\" harfi girin devam etmek için \"d\" girin: ç\n",
      "\n",
      "Program Sonlandırıldı\n"
     ]
    }
   ],
   "source": [
    "devam = ''\n",
    "\n",
    "while devam != 'ç' :\n",
    "    devam = input('Çıkmak istiyorsanız \"ç\" harfi girin devam etmek için \"d\" girin: ')\n",
    "\n",
    "print('\\nProgram Sonlandırıldı')"
   ]
  },
  {
   "cell_type": "code",
   "execution_count": 16,
   "metadata": {},
   "outputs": [
    {
     "name": "stdout",
     "output_type": "stream",
     "text": [
      "\n",
      "Dönem Sonu Not Ortalamanızı Giriniz: 67\n",
      "Geçtiniz\n",
      "Çıkmak istiyorsanız \"ç\" harfi girin devam etmek için \"d\" girin: e\n",
      "\n",
      "Dönem Sonu Not Ortalamanızı Giriniz: 85\n",
      "Takdir Aldınız\n",
      "Çıkmak istiyorsanız \"ç\" harfi girin devam etmek için \"d\" girin: r\n",
      "\n",
      "Dönem Sonu Not Ortalamanızı Giriniz: 97\n",
      "Takdir Aldınız\n",
      "Çıkmak istiyorsanız \"ç\" harfi girin devam etmek için \"d\" girin: d\n",
      "\n",
      "Dönem Sonu Not Ortalamanızı Giriniz: 78\n",
      "Teşekkür Aldınız\n",
      "Çıkmak istiyorsanız \"ç\" harfi girin devam etmek için \"d\" girin: d\n",
      "\n",
      "Dönem Sonu Not Ortalamanızı Giriniz: 32\n",
      "Kaldınız\n",
      "Çıkmak istiyorsanız \"ç\" harfi girin devam etmek için \"d\" girin: ç\n",
      "\n",
      "Program Sonlandırıldı\n"
     ]
    }
   ],
   "source": [
    "devam = ''\n",
    "\n",
    "while devam != 'ç' :\n",
    "    \n",
    "    notOrt = float(input(\"\\nDönem Sonu Not Ortalamanızı Giriniz: \"))\n",
    "    \n",
    "    if notOrt > 0 and notOrt <= 100 :\n",
    "\n",
    "        if notOrt < 50 :\n",
    "            print(\"Kaldınız\")\n",
    "        elif notOrt < 70 :\n",
    "            print(\"Geçtiniz\")\n",
    "        elif notOrt < 85 :\n",
    "            print(\"Teşekkür Aldınız\")\n",
    "        else:\n",
    "            print(\"Takdir Aldınız\")\n",
    "\n",
    "    else:\n",
    "        print(\"Hatalı Değer Girdiniz Lütfen 1 - 100 aralığında değer giriniz.\")\n",
    "    \n",
    "    devam = input('Çıkmak istiyorsanız \"ç\" harfi girin devam etmek için \"d\" girin: ')\n",
    "\n",
    "print('\\nProgram Sonlandırıldı')"
   ]
  },
  {
   "cell_type": "code",
   "execution_count": 12,
   "metadata": {},
   "outputs": [],
   "source": [
    "# girilen sayıların toplamı için \n",
    "# sürekli devam eden kod örneği öğrencilere yaptırılacak"
   ]
  }
 ],
 "metadata": {
  "kernelspec": {
   "display_name": "Python 3",
   "language": "python",
   "name": "python3"
  },
  "language_info": {
   "codemirror_mode": {
    "name": "ipython",
    "version": 3
   },
   "file_extension": ".py",
   "mimetype": "text/x-python",
   "name": "python",
   "nbconvert_exporter": "python",
   "pygments_lexer": "ipython3",
   "version": "3.5.4"
  }
 },
 "nbformat": 4,
 "nbformat_minor": 2
}
