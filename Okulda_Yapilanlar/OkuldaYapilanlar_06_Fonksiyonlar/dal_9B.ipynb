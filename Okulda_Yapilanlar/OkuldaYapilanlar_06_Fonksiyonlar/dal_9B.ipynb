{
 "cells": [
  {
   "cell_type": "code",
   "execution_count": 1,
   "metadata": {},
   "outputs": [
    {
     "name": "stdout",
     "output_type": "stream",
     "text": [
      "1\n"
     ]
    }
   ],
   "source": [
    "print(1)"
   ]
  },
  {
   "cell_type": "code",
   "execution_count": 2,
   "metadata": {},
   "outputs": [
    {
     "name": "stdout",
     "output_type": "stream",
     "text": [
      "Merhaba Dünya\n"
     ]
    }
   ],
   "source": [
    "print(\"Merhaba Dünya\")"
   ]
  },
  {
   "cell_type": "code",
   "execution_count": 4,
   "metadata": {},
   "outputs": [
    {
     "name": "stdout",
     "output_type": "stream",
     "text": [
      "720\n"
     ]
    }
   ],
   "source": [
    "# 1.2.3.4.5.6\n",
    "n = 6\n",
    "\n",
    "faktor = 1\n",
    "\n",
    "for i in range(1,n+1):\n",
    "    faktor *= i\n",
    "\n",
    "print(faktor)"
   ]
  },
  {
   "cell_type": "code",
   "execution_count": 7,
   "metadata": {},
   "outputs": [
    {
     "name": "stdout",
     "output_type": "stream",
     "text": [
      "1 Sayısının Faktöriyeli : 3628800\n",
      "2 Sayısının Faktöriyeli : 3628800\n",
      "3 Sayısının Faktöriyeli : 1814400\n",
      "4 Sayısının Faktöriyeli : 604800\n",
      "5 Sayısının Faktöriyeli : 151200\n",
      "6 Sayısının Faktöriyeli : 30240\n",
      "7 Sayısının Faktöriyeli : 5040\n",
      "8 Sayısının Faktöriyeli : 720\n",
      "9 Sayısının Faktöriyeli : 90\n",
      "10 Sayısının Faktöriyeli : 10\n"
     ]
    }
   ],
   "source": [
    "for j in range(1,11):\n",
    "    faktor = 1\n",
    "    for i in range(j,i+1):\n",
    "        faktor *= i\n",
    "    print(\"{} Sayısının Faktöriyeli : {}\".format(j,faktor))"
   ]
  },
  {
   "cell_type": "code",
   "execution_count": 10,
   "metadata": {},
   "outputs": [],
   "source": [
    "def faktor_hesapla(n):\n",
    "    faktor = 1\n",
    "\n",
    "    for i in range(1,n+1):\n",
    "        faktor *= i\n",
    "    \n",
    "    return faktor"
   ]
  },
  {
   "cell_type": "code",
   "execution_count": 14,
   "metadata": {},
   "outputs": [
    {
     "name": "stdout",
     "output_type": "stream",
     "text": [
      "1 Sayısının Fakt: 1\n",
      "2 Sayısının Fakt: 2\n",
      "3 Sayısının Fakt: 6\n",
      "4 Sayısının Fakt: 24\n",
      "5 Sayısının Fakt: 120\n",
      "6 Sayısının Fakt: 720\n",
      "7 Sayısının Fakt: 5040\n",
      "8 Sayısının Fakt: 40320\n",
      "9 Sayısının Fakt: 362880\n",
      "10 Sayısının Fakt: 3628800\n"
     ]
    }
   ],
   "source": [
    "for i in range(1,11):\n",
    "    print(\"{} Sayısının Fakt: {}\".format(i,faktor_hesapla(i)))"
   ]
  },
  {
   "cell_type": "code",
   "execution_count": 1,
   "metadata": {},
   "outputs": [
    {
     "name": "stdout",
     "output_type": "stream",
     "text": [
      "12 Sayısının Bölenleri : [1, 2, 3, 4, 6, 12]\n"
     ]
    }
   ],
   "source": [
    "sayi = 12\n",
    "bolenler = []\n",
    "\n",
    "for i in range(1,sayi+1):\n",
    "    if sayi % i == 0:\n",
    "        bolenler.append(i)\n",
    "\n",
    "print(\"{} Sayısının Bölenleri : {}\".format(sayi,bolenler))"
   ]
  },
  {
   "cell_type": "code",
   "execution_count": 5,
   "metadata": {},
   "outputs": [
    {
     "name": "stdout",
     "output_type": "stream",
     "text": [
      "Sayı Girişi Yapınız: 12\n",
      "1 Sayısının Bölenleri : [1]\n",
      "2 Sayısının Bölenleri : [1, 2]\n",
      "3 Sayısının Bölenleri : [1, 3]\n",
      "4 Sayısının Bölenleri : [1, 2, 4]\n",
      "5 Sayısının Bölenleri : [1, 5]\n",
      "6 Sayısının Bölenleri : [1, 2, 3, 6]\n",
      "7 Sayısının Bölenleri : [1, 7]\n",
      "8 Sayısının Bölenleri : [1, 2, 4, 8]\n",
      "9 Sayısının Bölenleri : [1, 3, 9]\n",
      "10 Sayısının Bölenleri : [1, 2, 5, 10]\n",
      "11 Sayısının Bölenleri : [1, 11]\n",
      "12 Sayısının Bölenleri : [1, 2, 3, 4, 6, 12]\n"
     ]
    }
   ],
   "source": [
    "kullanici_sayi = int(input(\"Sayı Girişi Yapınız: \"))\n",
    "\n",
    "for n in range(1,kullanici_sayi+1):\n",
    "    bolenler = []\n",
    "\n",
    "    for i in range(1,n+1):\n",
    "        if n % i == 0:\n",
    "            bolenler.append(i)\n",
    "    \n",
    "    print(\"{} Sayısının Bölenleri : {}\".format(n,bolenler))\n",
    "    "
   ]
  },
  {
   "cell_type": "code",
   "execution_count": 6,
   "metadata": {},
   "outputs": [],
   "source": [
    "def bolenler(sayi):\n",
    "    bolenler = []\n",
    "    \n",
    "    for i in range(1,sayi+1):\n",
    "        if sayi % i == 0:\n",
    "            bolenler.append(i)\n",
    "    \n",
    "    return bolenler"
   ]
  },
  {
   "cell_type": "code",
   "execution_count": 7,
   "metadata": {},
   "outputs": [
    {
     "name": "stdout",
     "output_type": "stream",
     "text": [
      "Sayı Girişi Yapınız: 12\n",
      "1 Sayısının Bölenleri : [1]\n",
      "2 Sayısının Bölenleri : [1, 2]\n",
      "3 Sayısının Bölenleri : [1, 3]\n",
      "4 Sayısının Bölenleri : [1, 2, 4]\n",
      "5 Sayısının Bölenleri : [1, 5]\n",
      "6 Sayısının Bölenleri : [1, 2, 3, 6]\n",
      "7 Sayısının Bölenleri : [1, 7]\n",
      "8 Sayısının Bölenleri : [1, 2, 4, 8]\n",
      "9 Sayısının Bölenleri : [1, 3, 9]\n",
      "10 Sayısının Bölenleri : [1, 2, 5, 10]\n",
      "11 Sayısının Bölenleri : [1, 11]\n",
      "12 Sayısının Bölenleri : [1, 2, 3, 4, 6, 12]\n"
     ]
    }
   ],
   "source": [
    "kullanici_sayi = int(input(\"Sayı Girişi Yapınız: \"))\n",
    "\n",
    "for n in range(1,kullanici_sayi+1):    \n",
    "    print(\"{} Sayısının Bölenleri : {}\".format(n,bolenler(n)))"
   ]
  },
  {
   "cell_type": "code",
   "execution_count": null,
   "metadata": {},
   "outputs": [],
   "source": []
  }
 ],
 "metadata": {
  "kernelspec": {
   "display_name": "Python 3",
   "language": "python",
   "name": "python3"
  },
  "language_info": {
   "codemirror_mode": {
    "name": "ipython",
    "version": 3
   },
   "file_extension": ".py",
   "mimetype": "text/x-python",
   "name": "python",
   "nbconvert_exporter": "python",
   "pygments_lexer": "ipython3",
   "version": "3.5.4"
  }
 },
 "nbformat": 4,
 "nbformat_minor": 2
}
