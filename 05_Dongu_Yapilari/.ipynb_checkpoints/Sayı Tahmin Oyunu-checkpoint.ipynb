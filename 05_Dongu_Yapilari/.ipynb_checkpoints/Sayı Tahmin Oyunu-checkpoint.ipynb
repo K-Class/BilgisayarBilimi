{
 "cells": [
  {
   "cell_type": "markdown",
   "metadata": {},
   "source": [
    "# Sayı Tahmin Oyunu"
   ]
  },
  {
   "cell_type": "code",
   "execution_count": 12,
   "metadata": {},
   "outputs": [
    {
     "name": "stdout",
     "output_type": "stream",
     "text": [
      "*******************Sayı Tahmin Oyunu*******************\n",
      "Tahmin için 1 ve 10 dahil 1 – 10 arası bir sayı giriniz\n",
      "*******************************************************\n",
      "\n",
      "Sayı Girişi Yapın: 2\n",
      "Bilemediniz Yeniden Deneyin\n",
      "\n",
      "Sayı Girişi Yapın: 5\n",
      "Tebrikler :-) Bidiniz\n",
      "\n",
      "*****************Program Sonlandırıldı*****************\n"
     ]
    }
   ],
   "source": [
    "print('{:*^55}'.format('Sayı Tahmin Oyunu'))\n",
    "print('Tahmin için 1 ve 10 dahil 1 – 10 arası bir sayı giriniz')\n",
    "print('*'*55)\n",
    "\n",
    "pc_sayı = 5\n",
    "kullanıcı_sayı = 0\n",
    "\n",
    "while kullanıcı_sayı != pc_sayı :\n",
    "    kullanıcı_sayı = int(input('\\nSayı Girişi Yapın: '))\n",
    "    \n",
    "    if kullanıcı_sayı != pc_sayı :\n",
    "        print('Bilemediniz Yeniden Deneyin')\n",
    "    else :\n",
    "        print('Tebrikler :-) Bidiniz')\n",
    "\n",
    "print('\\n{:*^55}'.format('Program Sonlandırıldı'))"
   ]
  },
  {
   "cell_type": "markdown",
   "metadata": {},
   "source": [
    "Döngülerde aynı koşul durumları gibi blok mantığı ile çalışır. Döngü koşul ifadesinden sonra döngüye ait kodlar bir paragraf içeriden yazılır. Üstte görüldüğü gibi **while** döngüsünden sonra yazılan kodlar **while** döngüsüne ait kodlardır ve bir paragraf içeriden yazılır. Kodu anlamak için kodu daha küçük parçalara bölerek inceleyelim."
   ]
  },
  {
   "cell_type": "code",
   "execution_count": 35,
   "metadata": {},
   "outputs": [
    {
     "name": "stdout",
     "output_type": "stream",
     "text": [
      "Sayı Girişi Yapın: 1\n",
      "Sayı Girişi Yapın: 6\n",
      "Sayı Girişi Yapın: 3\n",
      "Sayı Girişi Yapın: 4\n",
      "Sayı Girişi Yapın: 5\n"
     ]
    }
   ],
   "source": [
    "pc_sayı = 5\n",
    "kullanıcı_sayı = 0\n",
    "\n",
    "while kullanıcı_sayı != pc_sayı :\n",
    "    kullanıcı_sayı = int(input('Sayı Girişi Yapın: '))"
   ]
  },
  {
   "cell_type": "markdown",
   "metadata": {},
   "source": [
    "**pc_sayı** değişkeni kod içerisinde kullanıcının göremeğidi bir sayı değerini tutar. **kl_sayı** değişkeni kullanıcıdan alınan değeri tutması için kullanılır. **kl_sayı = int()** ifadesi **while** ifadesinden önce tanımlanmış. Bunun sebeni **while kl_sayı != pc_sayı :** ifadesi içerisinde **kl_sayı** değişkeninin kullanılmasıdır. Eğer **kl_sayı** değişkeni **while** ifadesinden önce tanımlanmasaydı **while** ifadesinde tanımsız değişken kullanıldığı için kodda hata oluşacaktı. kl_sayı değişkeni üstteki kodlarda tanımlandığı için altta **kullanıcı_sayı** değişkeni kullanıldı."
   ]
  },
  {
   "cell_type": "code",
   "execution_count": 15,
   "metadata": {},
   "outputs": [
    {
     "ename": "NameError",
     "evalue": "name 'kllnc_sayı' is not defined",
     "output_type": "error",
     "traceback": [
      "\u001b[0;31m---------------------------------------------------------------------------\u001b[0m",
      "\u001b[0;31mNameError\u001b[0m                                 Traceback (most recent call last)",
      "\u001b[0;32m<ipython-input-15-d3d08858c549>\u001b[0m in \u001b[0;36m<module>\u001b[0;34m()\u001b[0m\n\u001b[1;32m      2\u001b[0m \u001b[0;31m# kullanıcı_sayı değişkeni tanımlanmamış\u001b[0m\u001b[0;34m\u001b[0m\u001b[0;34m\u001b[0m\u001b[0m\n\u001b[1;32m      3\u001b[0m \u001b[0;34m\u001b[0m\u001b[0m\n\u001b[0;32m----> 4\u001b[0;31m \u001b[0;32mwhile\u001b[0m \u001b[0mkllnc_sayı\u001b[0m \u001b[0;34m!=\u001b[0m \u001b[0mpc_sayı\u001b[0m \u001b[0;34m:\u001b[0m\u001b[0;34m\u001b[0m\u001b[0m\n\u001b[0m\u001b[1;32m      5\u001b[0m     \u001b[0mkllnc_sayı\u001b[0m \u001b[0;34m=\u001b[0m \u001b[0mint\u001b[0m\u001b[0;34m(\u001b[0m\u001b[0minput\u001b[0m\u001b[0;34m(\u001b[0m\u001b[0;34m'Sayı Girişi Yapın: '\u001b[0m\u001b[0;34m)\u001b[0m\u001b[0;34m)\u001b[0m\u001b[0;34m\u001b[0m\u001b[0m\n",
      "\u001b[0;31mNameError\u001b[0m: name 'kllnc_sayı' is not defined"
     ]
    }
   ],
   "source": [
    "pc_sayı = 5\n",
    "# kullanıcı_sayı değişkeni tanımlanmamış\n",
    "\n",
    "while kllnc_sayı != pc_sayı :\n",
    "    kllnc_sayı = int(input('Sayı Girişi Yapın: '))"
   ]
  },
  {
   "cell_type": "markdown",
   "metadata": {},
   "source": [
    "Gördüğünüz gibi **while** dönüsünde bulunan koşul sağlandığı sürece döngü tekrar ediyor. Üstteki örneği daha geliştirelim. Bu sefer kullanıcının tahmin için 3 hakkı olsun ve kullanıcı sadece 1 ve 10 dahil 1 – 10 arası bir sayı girsin. "
   ]
  },
  {
   "cell_type": "markdown",
   "metadata": {},
   "source": [
    "Üstte yazdığımız kod sizler için zor olabilir. Anlamakta zorluk çekiyorsanız kendinizi çok zorlmayın konuya devam edin. Daha sonra arada bir dönüp bakabilirsiniz."
   ]
  },
  {
   "cell_type": "code",
   "execution_count": 34,
   "metadata": {},
   "outputs": [
    {
     "name": "stdout",
     "output_type": "stream",
     "text": [
      "*********************Sayı Tahmin Oyunu*********************\n",
      "Tahmin için 1 ve 1000 dahil 1 – 1000 arası bir sayı giriniz\n",
      "***********************************************************\n",
      "\n",
      "1.Deneme İçin Sayı Girişi Yapın: 500\n",
      "Tahmininiz küçük\n",
      "\n",
      "2.Deneme İçin Sayı Girişi Yapın: 750\n",
      "Tahmininiz BÜYÜK\n",
      "\n",
      "3.Deneme İçin Sayı Girişi Yapın: 625\n",
      "Tahmininiz BÜYÜK\n",
      "\n",
      "4.Deneme İçin Sayı Girişi Yapın: 550\n",
      "Tahmininiz BÜYÜK\n",
      "\n",
      "5.Deneme İçin Sayı Girişi Yapın: 525\n",
      "Tahmininiz BÜYÜK\n",
      "\n",
      "6.Deneme İçin Sayı Girişi Yapın: 512\n",
      "Tebrikler :-) 6.Hakkınızda Bildiniz\n",
      "\n",
      "*******************Program Sonlandırıldı*******************\n"
     ]
    }
   ],
   "source": [
    "from random import randint\n",
    "\n",
    "print('{:*^59}'.format('Sayı Tahmin Oyunu'))\n",
    "print('Tahmin için 1 ve 1000 dahil 1 – 1000 arası bir sayı giriniz')\n",
    "print('*'*59)\n",
    "\n",
    "pc_sayı = randint(1,1000)\n",
    "kl_sayı = 0\n",
    "deneme = 0\n",
    "\n",
    "while kl_sayı != pc_sayı:\n",
    "    deneme += 1\n",
    "    kl_sayı = int(input('\\n{}.Deneme İçin Sayı Girişi Yapın: '.format(deneme)))\n",
    "              \n",
    "    if kl_sayı > pc_sayı :\n",
    "        print('Tahmininiz BÜYÜK')\n",
    "    elif kl_sayı < pc_sayı :\n",
    "        print('Tahmininiz küçük')\n",
    "    else :\n",
    "        print('Tebrikler :-) {}.Hakkınızda Bildiniz'.format(deneme))\n",
    "\n",
    "print('\\n{:*^59}'.format('Program Sonlandırıldı'))"
   ]
  },
  {
   "cell_type": "code",
   "execution_count": 45,
   "metadata": {},
   "outputs": [
    {
     "name": "stdout",
     "output_type": "stream",
     "text": [
      "*********************Sayı Tahmin Oyunu*********************\n",
      "Tahmin için 1 ve 1000 dahil 1 – 1000 arası bir sayı giriniz\n",
      "****************10 Adet Tahmin Hakkınız Var****************\n",
      "\n",
      "1.Deneme İçin Sayı Girişi Yapın: 500\n",
      "Tahmininiz küçük. 9 adet hakkınız kaldı\n",
      "\n",
      "2.Deneme İçin Sayı Girişi Yapın: 750\n",
      "Tahmininiz BÜYÜK. 8 adet hakkınız kaldı\n",
      "\n",
      "3.Deneme İçin Sayı Girişi Yapın: 650\n",
      "Tahmininiz küçük. 7 adet hakkınız kaldı\n",
      "\n",
      "4.Deneme İçin Sayı Girişi Yapın: 700\n",
      "Tahmininiz küçük. 6 adet hakkınız kaldı\n",
      "\n",
      "5.Deneme İçin Sayı Girişi Yapın: 725\n",
      "Tahmininiz küçük. 5 adet hakkınız kaldı\n",
      "\n",
      "6.Deneme İçin Sayı Girişi Yapın: 726\n",
      "Tahmininiz küçük. 4 adet hakkınız kaldı\n",
      "\n",
      "7.Deneme İçin Sayı Girişi Yapın: 728\n",
      "Tahmininiz küçük. 3 adet hakkınız kaldı\n",
      "\n",
      "8.Deneme İçin Sayı Girişi Yapın: 730\n",
      "Tahmininiz küçük. 2 adet hakkınız kaldı\n",
      "\n",
      "9.Deneme İçin Sayı Girişi Yapın: 735\n",
      "Tahmininiz küçük. 1 adet hakkınız kaldı\n",
      "\n",
      "10.Deneme İçin Sayı Girişi Yapın: 740\n",
      "Tahmininiz küçük. 0 adet hakkınız kaldı\n",
      "\n",
      "Tüm Tahmin Haklarınız Bitti.\n",
      "744 Sayısını Bulamadınız.\n",
      "Oyunu Kaybettiniz :-(\n",
      "\n",
      "*******************Program Sonlandırıldı*******************\n"
     ]
    }
   ],
   "source": [
    "from random import randint\n",
    "\n",
    "print('{:*^59}'.format('Sayı Tahmin Oyunu'))\n",
    "print('Tahmin için 1 ve 1000 dahil 1 – 1000 arası bir sayı giriniz')\n",
    "print('{:*^59}'.format('10 Adet Tahmin Hakkınız Var'))\n",
    "\n",
    "pc_sayı = randint(1,1000)\n",
    "kl_sayı = 0\n",
    "deneme = 0\n",
    "hak = 10 \n",
    "\n",
    "while kl_sayı != pc_sayı and hak != 0 :\n",
    "    deneme += 1\n",
    "    hak -=1\n",
    "    \n",
    "    kl_sayı = int(input('\\n{}.Deneme İçin Sayı Girişi Yapın: '.format(deneme)))\n",
    "              \n",
    "    if kl_sayı > pc_sayı :\n",
    "        print('Tahmininiz BÜYÜK. {} adet hakkınız kaldı'.format(hak))\n",
    "    elif kl_sayı < pc_sayı :\n",
    "        print('Tahmininiz küçük. {} adet hakkınız kaldı'.format(hak))\n",
    "    else :\n",
    "        print('Tebrikler :-) {}.Hakkınızda Bildiniz'.format(deneme))\n",
    "    \n",
    "    if hak == 0 :\n",
    "        print('\\nTüm Tahmin Haklarınız Bitti.')\n",
    "        print('{} Sayısını Bulamadınız.'.format(pc_sayı))\n",
    "        print('Oyunu Kaybettiniz :-(')\n",
    "\n",
    "print('\\n{:*^59}'.format('Program Sonlandırıldı'))"
   ]
  },
  {
   "cell_type": "markdown",
   "metadata": {},
   "source": [
    "# log2(n)"
   ]
  },
  {
   "cell_type": "markdown",
   "metadata": {},
   "source": [
    " "
   ]
  }
 ],
 "metadata": {
  "kernelspec": {
   "display_name": "Python 3",
   "language": "python",
   "name": "python3"
  },
  "language_info": {
   "codemirror_mode": {
    "name": "ipython",
    "version": 3
   },
   "file_extension": ".py",
   "mimetype": "text/x-python",
   "name": "python",
   "nbconvert_exporter": "python",
   "pygments_lexer": "ipython3",
   "version": "3.5.4"
  }
 },
 "nbformat": 4,
 "nbformat_minor": 2
}
