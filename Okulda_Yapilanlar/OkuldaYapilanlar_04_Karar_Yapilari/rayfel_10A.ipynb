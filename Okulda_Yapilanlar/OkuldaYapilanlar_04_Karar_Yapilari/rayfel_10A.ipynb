{
 "cells": [
  {
   "cell_type": "code",
   "execution_count": 4,
   "metadata": {},
   "outputs": [
    {
     "data": {
      "text/plain": [
       "True"
      ]
     },
     "execution_count": 4,
     "metadata": {},
     "output_type": "execute_result"
    }
   ],
   "source": [
    "yaş = 18\n",
    "\n",
    "yaş >= 14 and yaş <= 18"
   ]
  },
  {
   "cell_type": "code",
   "execution_count": 23,
   "metadata": {},
   "outputs": [
    {
     "name": "stdout",
     "output_type": "stream",
     "text": [
      "Reşit Liseli\n"
     ]
    }
   ],
   "source": [
    "yaş = 18 \n",
    "\n",
    "if yaş == 18 :\n",
    "    print(\"Reşit Liseli\")\n",
    "else :\n",
    "    print(\"18 Yaşında Değil\")"
   ]
  },
  {
   "cell_type": "code",
   "execution_count": 18,
   "metadata": {},
   "outputs": [
    {
     "name": "stdout",
     "output_type": "stream",
     "text": [
      "Liseli Değil\n"
     ]
    }
   ],
   "source": [
    "yaş = 10\n",
    "\n",
    "if yaş >= 14 and yaş <= 18 :\n",
    "    print(\"Liseli\")\n",
    "else :\n",
    "    print(\"Liseli Değil\")"
   ]
  },
  {
   "cell_type": "code",
   "execution_count": 40,
   "metadata": {},
   "outputs": [
    {
     "name": "stdout",
     "output_type": "stream",
     "text": [
      "Mezun\n"
     ]
    }
   ],
   "source": [
    "yaş = 19\n",
    "\n",
    "if yaş < 14 :\n",
    "    print(\"Bebe\")\n",
    "elif yaş >= 14 and yaş <= 18 :\n",
    "    print(\"Liseli\")\n",
    "else :\n",
    "    print(\"Mezun\")"
   ]
  },
  {
   "cell_type": "code",
   "execution_count": 43,
   "metadata": {},
   "outputs": [
    {
     "name": "stdout",
     "output_type": "stream",
     "text": [
      "Mezun\n"
     ]
    }
   ],
   "source": [
    "from IPython.display import Image\n",
    "\n",
    "yaş = 21\n",
    "\n",
    "if yaş < 14 :\n",
    "    print(\"Bebe\")\n",
    "    display(Image(filename = 'bebe.jpg'))\n",
    "elif yaş >= 14 and yaş <= 18 :\n",
    "    print(\"Liseli\")\n",
    "    display(Image(filename = 'liseli.jpg'))\n",
    "else :\n",
    "    print(\"Mezun\")"
   ]
  },
  {
   "cell_type": "code",
   "execution_count": null,
   "metadata": {},
   "outputs": [],
   "source": []
  }
 ],
 "metadata": {
  "kernelspec": {
   "display_name": "Python 3",
   "language": "python",
   "name": "python3"
  },
  "language_info": {
   "codemirror_mode": {
    "name": "ipython",
    "version": 3
   },
   "file_extension": ".py",
   "mimetype": "text/x-python",
   "name": "python",
   "nbconvert_exporter": "python",
   "pygments_lexer": "ipython3",
   "version": "3.5.4"
  }
 },
 "nbformat": 4,
 "nbformat_minor": 2
}
