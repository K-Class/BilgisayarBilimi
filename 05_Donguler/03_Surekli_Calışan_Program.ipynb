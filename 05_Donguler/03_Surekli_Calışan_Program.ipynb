{
 "cells": [
  {
   "cell_type": "markdown",
   "metadata": {},
   "source": [
    "\n",
    "# Kullanıcı Çıkmak İsteyene Kadar Sürekli Çalışan Program\n",
    "Önceden yaptığımız programlarda programınız sonuçlandığında program kapanıyordu. Programınızın sürekli çalışması için döngüler kullanılabilir. Dönem sonu not ortalaması için yaptığımız kodda bir not için durum hesaplanıyor ve program sonlanıyordu. Kodumuzu **while** döngüsünün içine yazarak devam edip edilmeyeceği sorulabilir."
   ]
  },
  {
   "cell_type": "markdown",
   "metadata": {},
   "source": [
    "Önce sadece devam bilgisine göre çalışan basit bir kod yazalım. Bu kod kullanıcı **ç** girene kadar her seferinde dönecek. **ç** dışında girilen her karakter döngünün yeniden çalışmasını sağlar."
   ]
  },
  {
   "cell_type": "code",
   "execution_count": 11,
   "metadata": {},
   "outputs": [
    {
     "name": "stdout",
     "output_type": "stream",
     "text": [
      "Çıkmak İçin 'ç' Girin : d\n",
      "Çıkmak İçin 'ç' Girin : e\n",
      "Çıkmak İçin 'ç' Girin : v\n",
      "Çıkmak İçin 'ç' Girin : a\n",
      "Çıkmak İçin 'ç' Girin : m\n",
      "Çıkmak İçin 'ç' Girin : ç\n",
      "\n",
      "Program Sonlandırıldı\n"
     ]
    }
   ],
   "source": [
    "# programın tekrar edip etmeyeceği bilgisi devam değişkeninde tutuluyor\n",
    "devam = ''\n",
    "\n",
    "# programın tekrar edip etmeyeceği kontrol ediliyor\n",
    "while devam != 'ç' :\n",
    "    \n",
    "    # Kullanıcıya çıkıp çıkmayacağı soruluyor\n",
    "    # aslında ç dışında girilen son tüm değerler için döngü dönmeye devam edecektir :)\n",
    "    devam = input(\"Çıkmak İçin 'ç' Girin : \")\n",
    "    \n",
    "print('\\nProgram Sonlandırıldı')  "
   ]
  },
  {
   "cell_type": "markdown",
   "metadata": {},
   "source": [
    "## Program Sonlandırılana Kadar Girilen Sayıların Toplamını Bulma"
   ]
  },
  {
   "cell_type": "markdown",
   "metadata": {},
   "source": [
    "Kullanıcının her girdiği değeri toplayan kod örneğini yapalım. Üstte yaptığımız kodun içine kullanıcının girdiği tam sayı değerlerin toplamını bulan kodu ekleyelim."
   ]
  },
  {
   "cell_type": "code",
   "execution_count": 13,
   "metadata": {},
   "outputs": [
    {
     "name": "stdout",
     "output_type": "stream",
     "text": [
      "Toplanacak Tam Sayı :3\n",
      "Çıkmak İçin 'ç' Girin:d\n",
      "Toplanacak Tam Sayı :5\n",
      "Çıkmak İçin 'ç' Girin:d\n",
      "Toplanacak Tam Sayı :10\n",
      "Çıkmak İçin 'ç' Girin:ç\n",
      "3 Adet Sayının Toplamı : 18\n",
      "\n",
      "Program Sonlandırıldı\n"
     ]
    }
   ],
   "source": [
    "devam = ''\n",
    "sayaç = 0\n",
    "toplam = 0\n",
    "\n",
    "while devam != 'ç' :\n",
    "    # sayaç değişkeni girilen sayı adedini ve kaç defa döngünün çalıştığını tutar\n",
    "    sayaç += 1\n",
    "    \n",
    "    # döngü her çalıştığında kullanıcıdan tam sayı değeri alınıyor\n",
    "    kullanıcı_değer = int(input(\"Toplanacak Tam Sayı :\"))\n",
    "    \n",
    "    # her döngüde kullanıcının girdiği değer ve önceki toplam değerler toplanıyor\n",
    "    toplam = kullanıcı_değer + toplam\n",
    "    \n",
    "    # kullanıcıya yeni değer girişi yapılıp yapılmayacağı soruluyor\n",
    "    devam = input(\"Çıkmak İçin 'ç' Girin:\")\n",
    "\n",
    "print(sayaç,'Adet Sayının Toplamı :',toplam)\n",
    "\n",
    "print('\\nProgram Sonlandırıldı')"
   ]
  },
  {
   "cell_type": "markdown",
   "metadata": {},
   "source": [
    "Kullanıcıya her seferinde devam edip etmek istemediğini sormak sıkıcı olabilir. Bunun yerine kullanıcıdan sadece tam sayı değeri alan ve **ç** çıkış değeri girilindiğinde programı sonlandıran kod örneğini yapalım."
   ]
  },
  {
   "cell_type": "code",
   "execution_count": 15,
   "metadata": {},
   "outputs": [
    {
     "name": "stdout",
     "output_type": "stream",
     "text": [
      "Çıkış için 'ç' girin\n",
      "\n",
      "Toplanacak Tam Sayı: 3\n",
      "Toplanacak Tam Sayı: 5\n",
      "Toplanacak Tam Sayı: d\n",
      "Hatalı Değer Girişi Yapıldı\n",
      "Toplanacak Tam Sayı: 10\n",
      "Toplanacak Tam Sayı: 7\n",
      "Toplanacak Tam Sayı: ç\n",
      "\n",
      "Girilen Sayıların Toplamı : 25\n",
      "\n",
      "Program Sonlandırıldı\n"
     ]
    }
   ],
   "source": [
    "print(\"Çıkış için 'ç' girin\\n\")\n",
    "\n",
    "toplam = 0\n",
    "# döngü koşulunda kullanılacağı için kullanıcı_değer string olarak önceden oluşturuluyor\n",
    "kullanıcı_değer = str()\n",
    "\n",
    "while kullanıcı_değer != 'ç' :\n",
    "    # kullanıcıdan karakter değer alınıyor\n",
    "    kullanıcı_değer = input('Toplanacak Tam Sayı: ')\n",
    "    \n",
    "    # eğer kullanıcı ç girdiyse ekrana toplam yazdırılacak\n",
    "    if kullanıcı_değer == 'ç' :\n",
    "        print('\\nGirilen Sayıların Toplamı :',toplam)\n",
    "        \n",
    "    # eğer kullanıcı tam sayı değer girdiyse\n",
    "    # önceki toplam değeriyle kullanıcının girdiği değer toplanıyor\n",
    "    # str.isnumeric() fonksiyonu karakter değerinin tam sayı olup olmadığına bakar\n",
    "    elif kullanıcı_değer.isnumeric() :\n",
    "        # kullanıcının girdiği değer tam sayıya çevriliyor ve önceki toplama ekleniyor\n",
    "        toplam = toplam + int(kullanıcı_değer)\n",
    "    \n",
    "    # ç ve tam sayı dışında değer girildiyse hata mesajı veriliyor\n",
    "    else :\n",
    "        print('Hatalı Değer Girişi Yapıldı')\n",
    "\n",
    "print('\\nProgram Sonlandırıldı')"
   ]
  },
  {
   "cell_type": "markdown",
   "metadata": {},
   "source": [
    "## Sürekli Dönem Sonu Not Ortalaması Hesaplayan Kod"
   ]
  },
  {
   "cell_type": "markdown",
   "metadata": {},
   "source": [
    "Dönem sonu durumunu hesaplayan kodu while döngüsünün içine yerleştiriyoruz. Böylelikle siz çıkmak isteyene kadar programınız sizden sürekli dönem sonu not bilgisini istiyor."
   ]
  },
  {
   "cell_type": "code",
   "execution_count": 16,
   "metadata": {
    "scrolled": true
   },
   "outputs": [
    {
     "name": "stdout",
     "output_type": "stream",
     "text": [
      "\n",
      "Dönem Sonu Not Ortalamanızı Giriniz: 72\n",
      "Teşekkür Aldınız\n",
      "Çıkmak İçin 'ç' Girin : d\n",
      "\n",
      "Dönem Sonu Not Ortalamanızı Giriniz: 98\n",
      "Takdir Aldınız\n",
      "Çıkmak İçin 'ç' Girin : d\n",
      "\n",
      "Dönem Sonu Not Ortalamanızı Giriniz: 65\n",
      "Geçtiniz\n",
      "Çıkmak İçin 'ç' Girin : ç\n",
      "\n",
      "Program Sonlandı\n"
     ]
    }
   ],
   "source": [
    "# programın tekrar edip etmeyeceği bilgisi devam değişkeninde tutuluyor\n",
    "devam = ''\n",
    "\n",
    "# programın tekrar edip etmeyeceği kontrol ediliyor\n",
    "while devam != 'ç' :\n",
    "    \n",
    "    # dönem sonu durumunu hesaplayan kod örneği \n",
    "    notOrt = float(input(\"\\nDönem Sonu Not Ortalamanızı Giriniz: \"))\n",
    "    \n",
    "    if notOrt > 0 and notOrt <= 100 :\n",
    "\n",
    "        if notOrt < 50 :\n",
    "            print(\"Kaldınız\")\n",
    "        elif notOrt < 70 :\n",
    "            print(\"Geçtiniz\")\n",
    "        elif notOrt < 85 :\n",
    "            print(\"Teşekkür Aldınız\")\n",
    "        else:\n",
    "            print(\"Takdir Aldınız\")\n",
    "\n",
    "    else:\n",
    "        print(\"Hatalı Değer Girdiniz Lütfen 1 - 100 aralığında değer giriniz.\")\n",
    "    \n",
    "    # Kullanıcıya çıkıp çıkmayacağı soruluyor\n",
    "    devam = input(\"Çıkmak İçin 'ç' Girin : \")\n",
    "\n",
    "print(\"\\nProgram Sonlandı\")"
   ]
  },
  {
   "cell_type": "code",
   "execution_count": null,
   "metadata": {},
   "outputs": [],
   "source": []
  }
 ],
 "metadata": {
  "kernelspec": {
   "display_name": "Python 3",
   "language": "python",
   "name": "python3"
  },
  "language_info": {
   "codemirror_mode": {
    "name": "ipython",
    "version": 3
   },
   "file_extension": ".py",
   "mimetype": "text/x-python",
   "name": "python",
   "nbconvert_exporter": "python",
   "pygments_lexer": "ipython3",
   "version": "3.5.4"
  }
 },
 "nbformat": 4,
 "nbformat_minor": 2
}
