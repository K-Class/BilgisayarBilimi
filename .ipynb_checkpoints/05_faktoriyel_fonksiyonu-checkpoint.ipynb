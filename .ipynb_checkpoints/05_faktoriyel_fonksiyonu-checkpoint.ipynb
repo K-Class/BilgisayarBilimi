{
 "cells": [
  {
   "cell_type": "code",
   "execution_count": 1,
   "metadata": {},
   "outputs": [
    {
     "data": {
      "text/plain": [
       "720"
      ]
     },
     "execution_count": 1,
     "metadata": {},
     "output_type": "execute_result"
    }
   ],
   "source": [
    "def faktoriyel(sayi = 1):\n",
    "    \n",
    "    faktoriyel = 1\n",
    "    \n",
    "    for i in range(2,sayi+1):\n",
    "        faktoriyel *= i\n",
    "        \n",
    "    return faktoriyel\n",
    "\n",
    "faktoriyel(6)"
   ]
  },
  {
   "cell_type": "code",
   "execution_count": 2,
   "metadata": {},
   "outputs": [
    {
     "name": "stdout",
     "output_type": "stream",
     "text": [
      "5040\n"
     ]
    }
   ],
   "source": [
    "print(faktoriyel(7))"
   ]
  },
  {
   "cell_type": "code",
   "execution_count": 3,
   "metadata": {},
   "outputs": [
    {
     "name": "stdout",
     "output_type": "stream",
     "text": [
      "Faktoriyeli Hesaplanacak Sayıyı Girin:5\n",
      "120\n"
     ]
    }
   ],
   "source": [
    "kullanici_sayi = int(input(\"Faktoriyeli Hesaplanacak Sayıyı Girin:\"))\n",
    "\n",
    "print(faktoriyel(kullanici_sayi))"
   ]
  },
  {
   "cell_type": "code",
   "execution_count": null,
   "metadata": {},
   "outputs": [],
   "source": []
  }
 ],
 "metadata": {
  "kernelspec": {
   "display_name": "Python 3",
   "language": "python",
   "name": "python3"
  },
  "language_info": {
   "codemirror_mode": {
    "name": "ipython",
    "version": 3
   },
   "file_extension": ".py",
   "mimetype": "text/x-python",
   "name": "python",
   "nbconvert_exporter": "python",
   "pygments_lexer": "ipython3",
   "version": "3.5.4"
  }
 },
 "nbformat": 4,
 "nbformat_minor": 2
}
