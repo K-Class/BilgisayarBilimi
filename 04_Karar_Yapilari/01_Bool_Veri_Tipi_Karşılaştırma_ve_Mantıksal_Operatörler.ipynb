{
 "cells": [
  {
   "cell_type": "markdown",
   "metadata": {},
   "source": [
    "# Bool Veri Tipi"
   ]
  },
  {
   "cell_type": "markdown",
   "metadata": {},
   "source": [
    "İngilizcede Boolean olarak geçen bool veri tipi sadece True ve False olarak iki değerden oluşur."
   ]
  },
  {
   "cell_type": "code",
   "execution_count": 1,
   "metadata": {},
   "outputs": [
    {
     "data": {
      "text/plain": [
       "bool"
      ]
     },
     "execution_count": 1,
     "metadata": {},
     "output_type": "execute_result"
    }
   ],
   "source": [
    "doğru = True\n",
    "type(doğru)"
   ]
  },
  {
   "cell_type": "code",
   "execution_count": 2,
   "metadata": {},
   "outputs": [
    {
     "data": {
      "text/plain": [
       "bool"
      ]
     },
     "execution_count": 2,
     "metadata": {},
     "output_type": "execute_result"
    }
   ],
   "source": [
    "yanlış = False\n",
    "type(yanlış)"
   ]
  },
  {
   "cell_type": "markdown",
   "metadata": {},
   "source": [
    "## bool() fonksiyonu "
   ]
  },
  {
   "cell_type": "markdown",
   "metadata": {},
   "source": [
    "0 ve 0.0 değerleri dışındaki tüm sayısal değerler True bool değerine karşılık gelir"
   ]
  },
  {
   "cell_type": "code",
   "execution_count": 15,
   "metadata": {},
   "outputs": [
    {
     "data": {
      "text/plain": [
       "True"
      ]
     },
     "execution_count": 15,
     "metadata": {},
     "output_type": "execute_result"
    }
   ],
   "source": [
    "bool(1)"
   ]
  },
  {
   "cell_type": "code",
   "execution_count": 16,
   "metadata": {},
   "outputs": [
    {
     "data": {
      "text/plain": [
       "True"
      ]
     },
     "execution_count": 16,
     "metadata": {},
     "output_type": "execute_result"
    }
   ],
   "source": [
    "bool(375)"
   ]
  },
  {
   "cell_type": "code",
   "execution_count": 17,
   "metadata": {},
   "outputs": [
    {
     "data": {
      "text/plain": [
       "True"
      ]
     },
     "execution_count": 17,
     "metadata": {},
     "output_type": "execute_result"
    }
   ],
   "source": [
    "bool(-57)"
   ]
  },
  {
   "cell_type": "code",
   "execution_count": 18,
   "metadata": {},
   "outputs": [
    {
     "data": {
      "text/plain": [
       "True"
      ]
     },
     "execution_count": 18,
     "metadata": {},
     "output_type": "execute_result"
    }
   ],
   "source": [
    "bool(-0.000001)"
   ]
  },
  {
   "cell_type": "code",
   "execution_count": 19,
   "metadata": {},
   "outputs": [
    {
     "data": {
      "text/plain": [
       "True"
      ]
     },
     "execution_count": 19,
     "metadata": {},
     "output_type": "execute_result"
    }
   ],
   "source": [
    "bool(3.14)"
   ]
  },
  {
   "cell_type": "code",
   "execution_count": 20,
   "metadata": {},
   "outputs": [
    {
     "data": {
      "text/plain": [
       "True"
      ]
     },
     "execution_count": 20,
     "metadata": {},
     "output_type": "execute_result"
    }
   ],
   "source": [
    "bool(-12.25)"
   ]
  },
  {
   "cell_type": "code",
   "execution_count": 21,
   "metadata": {},
   "outputs": [
    {
     "data": {
      "text/plain": [
       "True"
      ]
     },
     "execution_count": 21,
     "metadata": {},
     "output_type": "execute_result"
    }
   ],
   "source": [
    "a = 0.000001\n",
    "bool(a)"
   ]
  },
  {
   "cell_type": "code",
   "execution_count": 22,
   "metadata": {},
   "outputs": [
    {
     "data": {
      "text/plain": [
       "True"
      ]
     },
     "execution_count": 22,
     "metadata": {},
     "output_type": "execute_result"
    }
   ],
   "source": [
    "b = 5.41\n",
    "bool(b)"
   ]
  },
  {
   "cell_type": "markdown",
   "metadata": {},
   "source": [
    "0 ve 0.0 sayısal değerleri False bool değerine karşılık gelir"
   ]
  },
  {
   "cell_type": "code",
   "execution_count": 7,
   "metadata": {},
   "outputs": [
    {
     "data": {
      "text/plain": [
       "False"
      ]
     },
     "execution_count": 7,
     "metadata": {},
     "output_type": "execute_result"
    }
   ],
   "source": [
    "bool(0)"
   ]
  },
  {
   "cell_type": "code",
   "execution_count": 13,
   "metadata": {},
   "outputs": [
    {
     "data": {
      "text/plain": [
       "False"
      ]
     },
     "execution_count": 13,
     "metadata": {},
     "output_type": "execute_result"
    }
   ],
   "source": [
    "bool(0.0)"
   ]
  },
  {
   "cell_type": "code",
   "execution_count": 8,
   "metadata": {},
   "outputs": [
    {
     "data": {
      "text/plain": [
       "False"
      ]
     },
     "execution_count": 8,
     "metadata": {},
     "output_type": "execute_result"
    }
   ],
   "source": [
    "z = 0 \n",
    "bool(z)"
   ]
  },
  {
   "cell_type": "code",
   "execution_count": 14,
   "metadata": {},
   "outputs": [
    {
     "data": {
      "text/plain": [
       "False"
      ]
     },
     "execution_count": 14,
     "metadata": {},
     "output_type": "execute_result"
    }
   ],
   "source": [
    "y = 0.0\n",
    "bool(y)"
   ]
  },
  {
   "cell_type": "markdown",
   "metadata": {},
   "source": [
    "**bool()** fonksiyonu değer olarak aldığı sayı verisini **bool** değere dönüştürür. Python'da 0 dışındaki tüm sayı değerleri True değerine karşılık gelir, 0 sayı değeri False değerine karşılık gelir. Üstteki bool() fonksiyonu örnekleri incelendiğinde bool(0) ve bool(0.0) tip dönüşümleri False değerini döner, bunun dışında tüm sayısal dönüşümler True değere dönüşür."
   ]
  },
  {
   "cell_type": "markdown",
   "metadata": {},
   "source": [
    "## Karşılaştırma Operatörleri (İlişkisel) Operatörler"
   ]
  },
  {
   "cell_type": "markdown",
   "metadata": {},
   "source": [
    "İki değişken ya da iki veri arasında büyüklük, küçüklük ve eşitlik kontrolü yapan operatörlere karşılaştırma (ilişkisel) operatörler denir. Karşılaştırma operatörleri; sonuç olarak geriye mantıksal (bool) veri tipinde 1 (True) veya 0 (False) olarak bir bit değer döner. Buna göre koşul sağlanmışsa True(1), sağlanmamışsa False(0) değeri döner."
   ]
  },
  {
   "cell_type": "markdown",
   "metadata": {},
   "source": [
    "<table style=\"border-collapse: collapse; border: none;\">\n",
    "<tbody>\n",
    "<tr>\n",
    "<td style=\"width: 152.0625px; border-top-width: 1pt; border-bottom-width: 1pt; border-left-width: 1pt; border-style: solid none solid solid; border-top-color: #75bda7; border-bottom-color: #75bda7; border-left-color: #75bda7; background-color: #75bda7; padding: 0cm 5.4pt; background-position: initial initial; background-repeat: initial initial;\">\n",
    "<p style=\"text-align: center; line-height: normal;\"><span style=\"font-size: 12pt;\"><strong><span style=\"color: white;\">Operat&ouml;r</span></strong></span></p>\n",
    "</td>\n",
    "<td style=\"width: 154.015625px; border-top-width: 1pt; border-style: solid none; border-top-color: #75bda7; border-bottom-width: 1pt; border-bottom-color: #75bda7; background-color: #75bda7; padding: 0cm 5.4pt; background-position: initial initial; background-repeat: initial initial;\">\n",
    "<p style=\"text-align: center; line-height: normal;\"><span style=\"font-size: 12pt;\"><strong><span style=\"color: white;\">Bilgisayar Sembol&uuml;</span></strong></span></p>\n",
    "</td>\n",
    "<td style=\"width: 146.859375px; border-top-width: 1pt; border-style: solid none; border-top-color: #75bda7; border-bottom-width: 1pt; border-bottom-color: #75bda7; background-color: #75bda7; padding: 0cm 5.4pt; background-position: initial initial; background-repeat: initial initial;\">\n",
    "<p style=\"text-align: center; line-height: normal;\"><span style=\"font-size: 12pt;\"><strong><span style=\"color: white;\">&Ouml;rnek</span></strong></span></p>\n",
    "</td>\n",
    "<td style=\"width: 136.59375px; border-top-width: 1pt; border-right-width: 1pt; border-bottom-width: 1pt; border-style: solid solid solid none; border-top-color: #75bda7; border-right-color: #75bda7; border-bottom-color: #75bda7; background-color: #75bda7; padding: 0cm 5.4pt; background-position: initial initial; background-repeat: initial initial;\">\n",
    "<p style=\"text-align: center; line-height: normal;\"><span style=\"font-size: 12pt;\"><strong><span style=\"color: white;\">Sonu&ccedil;</span></strong></span></p>\n",
    "</td>\n",
    "</tr>\n",
    "<tr>\n",
    "<td style=\"width: 152.0625px; border-right-width: 1pt; border-bottom-width: 1pt; border-left-width: 1pt; border-style: none solid solid; border-right-color: #acd7ca; border-bottom-color: #acd7ca; border-left-color: #acd7ca; background-color: #e3f1ed; padding: 0cm 5.4pt; background-position: initial initial; background-repeat: initial initial;\">\n",
    "<p style=\"text-align: center; line-height: normal;\"><span style=\"font-size: 12pt;\"><em>Eşit</em></span></p>\n",
    "</td>\n",
    "<td style=\"width: 153.015625px; border-style: none solid solid none; border-bottom-width: 1pt; border-bottom-color: #acd7ca; border-right-width: 1pt; border-right-color: #acd7ca; background-color: #e3f1ed; padding: 0cm 5.4pt; background-position: initial initial; background-repeat: initial initial;\">\n",
    "<p style=\"text-align: center; line-height: normal;\"><span style=\"font-size: 12pt;\"><em>==</em></span></p>\n",
    "</td>\n",
    "<td style=\"width: 145.859375px; border-style: none solid solid none; border-bottom-width: 1pt; border-bottom-color: #acd7ca; border-right-width: 1pt; border-right-color: #acd7ca; background-color: #e3f1ed; padding: 0cm 5.4pt; background-position: initial initial; background-repeat: initial initial;\">\n",
    "<p style=\"text-align: center; line-height: normal;\"><span style=\"font-size: 12pt;\">6 == 8</span></p>\n",
    "</td>\n",
    "<td style=\"width: 135.59375px; border-style: none solid solid none; border-bottom-width: 1pt; border-bottom-color: #acd7ca; border-right-width: 1pt; border-right-color: #acd7ca; background-color: #e3f1ed; padding: 0cm 5.4pt; background-position: initial initial; background-repeat: initial initial;\">\n",
    "<p style=\"text-align: center; line-height: normal;\"><span style=\"font-size: 12pt;\">False</span></p>\n",
    "</td>\n",
    "</tr>\n",
    "<tr>\n",
    "<td style=\"width: 152.0625px; border-right-width: 1pt; border-bottom-width: 1pt; border-left-width: 1pt; border-style: none solid solid; border-right-color: #acd7ca; border-bottom-color: #acd7ca; border-left-color: #acd7ca; padding: 0cm 5.4pt;\">\n",
    "<p style=\"text-align: center; line-height: normal;\"><span style=\"font-size: 12pt;\"><em>K&uuml;&ccedil;&uuml;kt&uuml;r</em></span></p>\n",
    "</td>\n",
    "<td style=\"width: 153.015625px; border-style: none solid solid none; border-bottom-width: 1pt; border-bottom-color: #acd7ca; border-right-width: 1pt; border-right-color: #acd7ca; padding: 0cm 5.4pt;\">\n",
    "<p style=\"text-align: center; line-height: normal;\"><span style=\"font-size: 12pt;\"><em>&lt;&nbsp;</em></span></p>\n",
    "</td>\n",
    "<td style=\"width: 145.859375px; border-style: none solid solid none; border-bottom-width: 1pt; border-bottom-color: #acd7ca; border-right-width: 1pt; border-right-color: #acd7ca; padding: 0cm 5.4pt;\">\n",
    "<p style=\"text-align: center; line-height: normal;\"><span style=\"font-size: 12pt;\">6 &lt; 8</span></p>\n",
    "</td>\n",
    "<td style=\"width: 135.59375px; border-style: none solid solid none; border-bottom-width: 1pt; border-bottom-color: #acd7ca; border-right-width: 1pt; border-right-color: #acd7ca; padding: 0cm 5.4pt;\">\n",
    "<p style=\"text-align: center; line-height: normal;\"><span style=\"font-size: 12pt;\">True</span></p>\n",
    "</td>\n",
    "</tr>\n",
    "<tr>\n",
    "<td style=\"width: 152.0625px; border-right-width: 1pt; border-bottom-width: 1pt; border-left-width: 1pt; border-style: none solid solid; border-right-color: #acd7ca; border-bottom-color: #acd7ca; border-left-color: #acd7ca; background-color: #e3f1ed; padding: 0cm 5.4pt; background-position: initial initial; background-repeat: initial initial;\">\n",
    "<p style=\"text-align: center; line-height: normal;\"><span style=\"font-size: 12pt;\"><em>B&uuml;y&uuml;kt&uuml;r</em></span></p>\n",
    "</td>\n",
    "<td style=\"width: 153.015625px; border-style: none solid solid none; border-bottom-width: 1pt; border-bottom-color: #acd7ca; border-right-width: 1pt; border-right-color: #acd7ca; background-color: #e3f1ed; padding: 0cm 5.4pt; background-position: initial initial; background-repeat: initial initial;\">\n",
    "<p style=\"text-align: center; line-height: normal;\"><span style=\"font-size: 12pt;\"><em>&gt;&nbsp;</em></span></p>\n",
    "</td>\n",
    "<td style=\"width: 145.859375px; border-style: none solid solid none; border-bottom-width: 1pt; border-bottom-color: #acd7ca; border-right-width: 1pt; border-right-color: #acd7ca; background-color: #e3f1ed; padding: 0cm 5.4pt; background-position: initial initial; background-repeat: initial initial;\">\n",
    "<p style=\"text-align: center; line-height: normal;\"><span style=\"font-size: 12pt;\">6 &gt; 8</span></p>\n",
    "</td>\n",
    "<td style=\"width: 135.59375px; border-style: none solid solid none; border-bottom-width: 1pt; border-bottom-color: #acd7ca; border-right-width: 1pt; border-right-color: #acd7ca; background-color: #e3f1ed; padding: 0cm 5.4pt; background-position: initial initial; background-repeat: initial initial;\">\n",
    "<p style=\"text-align: center; line-height: normal;\"><span style=\"font-size: 12pt;\">False</span></p>\n",
    "</td>\n",
    "</tr>\n",
    "<tr>\n",
    "<td style=\"width: 152.0625px; border-right-width: 1pt; border-bottom-width: 1pt; border-left-width: 1pt; border-style: none solid solid; border-right-color: #acd7ca; border-bottom-color: #acd7ca; border-left-color: #acd7ca; padding: 0cm 5.4pt;\">\n",
    "<p style=\"text-align: center; line-height: normal;\"><span style=\"font-size: 12pt;\"><em>K&uuml;&ccedil;&uuml;k veya eşittir</em></span></p>\n",
    "</td>\n",
    "<td style=\"width: 153.015625px; border-style: none solid solid none; border-bottom-width: 1pt; border-bottom-color: #acd7ca; border-right-width: 1pt; border-right-color: #acd7ca; padding: 0cm 5.4pt;\">\n",
    "<p style=\"text-align: center; line-height: normal;\"><span style=\"font-size: 12pt;\"><em>&lt;=</em></span></p>\n",
    "</td>\n",
    "<td style=\"width: 145.859375px; border-style: none solid solid none; border-bottom-width: 1pt; border-bottom-color: #acd7ca; border-right-width: 1pt; border-right-color: #acd7ca; padding: 0cm 5.4pt;\">\n",
    "<p style=\"text-align: center; line-height: normal;\"><span style=\"font-size: 12pt;\">6 &lt;= 8</span></p>\n",
    "</td>\n",
    "<td style=\"width: 135.59375px; border-style: none solid solid none; border-bottom-width: 1pt; border-bottom-color: #acd7ca; border-right-width: 1pt; border-right-color: #acd7ca; padding: 0cm 5.4pt;\">\n",
    "<p style=\"text-align: center; line-height: normal;\"><span style=\"font-size: 12pt;\">True</span></p>\n",
    "</td>\n",
    "</tr>\n",
    "<tr>\n",
    "<td style=\"width: 152.0625px; border-right-width: 1pt; border-bottom-width: 1pt; border-left-width: 1pt; border-style: none solid solid; border-right-color: #acd7ca; border-bottom-color: #acd7ca; border-left-color: #acd7ca; background-color: #e3f1ed; padding: 0cm 5.4pt; background-position: initial initial; background-repeat: initial initial;\">\n",
    "<p style=\"text-align: center; line-height: normal;\"><span style=\"font-size: 12pt;\"><em>B&uuml;y&uuml;k veya eşittir</em></span></p>\n",
    "</td>\n",
    "<td style=\"width: 153.015625px; border-style: none solid solid none; border-bottom-width: 1pt; border-bottom-color: #acd7ca; border-right-width: 1pt; border-right-color: #acd7ca; background-color: #e3f1ed; padding: 0cm 5.4pt; background-position: initial initial; background-repeat: initial initial;\">\n",
    "<p style=\"text-align: center; line-height: normal;\"><span style=\"font-size: 12pt;\"><em>&gt;=</em></span></p>\n",
    "</td>\n",
    "<td style=\"width: 145.859375px; border-style: none solid solid none; border-bottom-width: 1pt; border-bottom-color: #acd7ca; border-right-width: 1pt; border-right-color: #acd7ca; background-color: #e3f1ed; padding: 0cm 5.4pt; background-position: initial initial; background-repeat: initial initial;\">\n",
    "<p style=\"text-align: center; line-height: normal;\"><span style=\"font-size: 12pt;\">6 &gt;= 8</span></p>\n",
    "</td>\n",
    "<td style=\"width: 135.59375px; border-style: none solid solid none; border-bottom-width: 1pt; border-bottom-color: #acd7ca; border-right-width: 1pt; border-right-color: #acd7ca; background-color: #e3f1ed; padding: 0cm 5.4pt; background-position: initial initial; background-repeat: initial initial;\">\n",
    "<p style=\"text-align: center; line-height: normal;\"><span style=\"font-size: 12pt;\">False</span></p>\n",
    "</td>\n",
    "</tr>\n",
    "<tr>\n",
    "<td style=\"width: 152.0625px; border-right-width: 1pt; border-bottom-width: 1pt; border-left-width: 1pt; border-style: none solid solid; border-right-color: #acd7ca; border-bottom-color: #acd7ca; border-left-color: #acd7ca; padding: 0cm 5.4pt;\">\n",
    "<p style=\"text-align: center; line-height: normal;\"><span style=\"font-size: 12pt;\"><em>Eşit değildir</em></span></p>\n",
    "</td>\n",
    "<td style=\"width: 153.015625px; border-style: none solid solid none; border-bottom-width: 1pt; border-bottom-color: #acd7ca; border-right-width: 1pt; border-right-color: #acd7ca; padding: 0cm 5.4pt;\">\n",
    "<p style=\"text-align: center; line-height: normal;\"><span style=\"font-size: 12pt;\"><em>!=</em></span></p>\n",
    "</td>\n",
    "<td style=\"width: 145.859375px; border-style: none solid solid none; border-bottom-width: 1pt; border-bottom-color: #acd7ca; border-right-width: 1pt; border-right-color: #acd7ca; padding: 0cm 5.4pt;\">\n",
    "<p style=\"text-align: center; line-height: normal;\"><span style=\"font-size: 12pt;\">6 != 8</span></p>\n",
    "</td>\n",
    "<td style=\"width: 135.59375px; border-style: none solid solid none; border-bottom-width: 1pt; border-bottom-color: #acd7ca; border-right-width: 1pt; border-right-color: #acd7ca; padding: 0cm 5.4pt;\">\n",
    "<p style=\"text-align: center; line-height: normal;\"><span style=\"font-size: 12pt;\">True</span></p>\n",
    "</td>\n",
    "</tr>\n",
    "</tbody>\n",
    "</table>"
   ]
  },
  {
   "cell_type": "code",
   "execution_count": 14,
   "metadata": {},
   "outputs": [
    {
     "data": {
      "text/plain": [
       "True"
      ]
     },
     "execution_count": 14,
     "metadata": {},
     "output_type": "execute_result"
    }
   ],
   "source": [
    "17 < 2043"
   ]
  },
  {
   "cell_type": "code",
   "execution_count": 15,
   "metadata": {},
   "outputs": [
    {
     "data": {
      "text/plain": [
       "False"
      ]
     },
     "execution_count": 15,
     "metadata": {},
     "output_type": "execute_result"
    }
   ],
   "source": [
    "17 > 2043"
   ]
  },
  {
   "cell_type": "code",
   "execution_count": 16,
   "metadata": {},
   "outputs": [
    {
     "data": {
      "text/plain": [
       "True"
      ]
     },
     "execution_count": 16,
     "metadata": {},
     "output_type": "execute_result"
    }
   ],
   "source": [
    "'Tuna' == 'Tuna'"
   ]
  },
  {
   "cell_type": "code",
   "execution_count": 17,
   "metadata": {},
   "outputs": [
    {
     "data": {
      "text/plain": [
       "False"
      ]
     },
     "execution_count": 17,
     "metadata": {},
     "output_type": "execute_result"
    }
   ],
   "source": [
    "'Ahmet' == 'Tuna'"
   ]
  },
  {
   "cell_type": "markdown",
   "metadata": {},
   "source": [
    "bool veri tipi karşılaştırma operatöründen sonra ortaya çıkan sonuç değeridir. Karşılaştırma operatörlüleri sonucun yanlış çıktığı durumda False, doğru çıktığı durumda True değerini döner. bool veri tipi ileride göreceğimiz koşullu durumlar ve döngüler konularında kullanılır."
   ]
  },
  {
   "cell_type": "markdown",
   "metadata": {},
   "source": [
    "## Mantıksal Operatörler"
   ]
  },
  {
   "cell_type": "markdown",
   "metadata": {},
   "source": [
    "Mantıksal operatörler genellikle birden fazla karşılaştırmanın bulunduğu durumlarda kullanılır.\n",
    "Örneğin; Bir sayının 10'dan büyük 20'den küçük olduğu mantıksal operatörler yardımıyla yapılır."
   ]
  },
  {
   "cell_type": "code",
   "execution_count": 18,
   "metadata": {},
   "outputs": [
    {
     "data": {
      "text/plain": [
       "True"
      ]
     },
     "execution_count": 18,
     "metadata": {},
     "output_type": "execute_result"
    }
   ],
   "source": [
    "sayı = 12\n",
    "sayı > 10 and sayı < 15"
   ]
  },
  {
   "cell_type": "markdown",
   "metadata": {},
   "source": [
    "### VE (AND) Operatörü"
   ]
  },
  {
   "cell_type": "markdown",
   "metadata": {},
   "source": [
    "VE operatörü için çarpım işlemi yapıyor gibi düşünülebilir."
   ]
  },
  {
   "cell_type": "markdown",
   "metadata": {},
   "source": [
    "<table style=\"border-collapse: collapse; border: none;\">\n",
    "<tbody>\n",
    "<tr>\n",
    "<td style=\"width: 2.0cm; border: solid #75BDA7 1.0pt; border-right: none; background: #75BDA7; padding: 0cm 5.4pt 0cm 5.4pt;\" width=\"76\">\n",
    "<p style=\"text-align: center; line-height: normal;\"><strong><span style=\"color: white;\">A</span></strong></p>\n",
    "</td>\n",
    "<td style=\"width: 2.0cm; border-top: solid #75BDA7 1.0pt; border-left: none; border-bottom: solid #75BDA7 1.0pt; border-right: none; background: #75BDA7; padding: 0cm 5.4pt 0cm 5.4pt;\" width=\"76\">\n",
    "<p style=\"text-align: center; line-height: normal;\"><strong><span style=\"color: white;\">B</span></strong></p>\n",
    "</td>\n",
    "<td style=\"width: 2.0cm; border: solid #75BDA7 1.0pt; border-left: none; background: #75BDA7; padding: 0cm 5.4pt 0cm 5.4pt;\" width=\"76\">\n",
    "<p style=\"text-align: center; line-height: normal;\"><strong><span style=\"color: white;\">A and B</span></strong></p>\n",
    "</td>\n",
    "</tr>\n",
    "<tr>\n",
    "<td style=\"width: 2.0cm; border: solid #ACD7CA 1.0pt; border-top: none; background: #E3F1ED; padding: 0cm 5.4pt 0cm 5.4pt;\" width=\"76\">\n",
    "<p style=\"text-align: center; line-height: normal;\">0</p>\n",
    "</td>\n",
    "<td style=\"width: 2.0cm; border-top: none; border-left: none; border-bottom: solid #ACD7CA 1.0pt; border-right: solid #ACD7CA 1.0pt; background: #E3F1ED; padding: 0cm 5.4pt 0cm 5.4pt;\" width=\"76\">\n",
    "<p style=\"text-align: center; line-height: normal;\">0</p>\n",
    "</td>\n",
    "<td style=\"width: 2.0cm; border-top: none; border-left: none; border-bottom: solid #ACD7CA 1.0pt; border-right: solid #ACD7CA 1.0pt; background: #E3F1ED; padding: 0cm 5.4pt 0cm 5.4pt;\" width=\"76\">\n",
    "<p style=\"text-align: center; line-height: normal;\">0</p>\n",
    "</td>\n",
    "</tr>\n",
    "<tr>\n",
    "<td style=\"width: 2.0cm; border: solid #ACD7CA 1.0pt; border-top: none; padding: 0cm 5.4pt 0cm 5.4pt;\" width=\"76\">\n",
    "<p style=\"text-align: center; line-height: normal;\">0</p>\n",
    "</td>\n",
    "<td style=\"width: 2.0cm; border-top: none; border-left: none; border-bottom: solid #ACD7CA 1.0pt; border-right: solid #ACD7CA 1.0pt; padding: 0cm 5.4pt 0cm 5.4pt;\" width=\"76\">\n",
    "<p style=\"text-align: center; line-height: normal;\">1</p>\n",
    "</td>\n",
    "<td style=\"width: 2.0cm; border-top: none; border-left: none; border-bottom: solid #ACD7CA 1.0pt; border-right: solid #ACD7CA 1.0pt; padding: 0cm 5.4pt 0cm 5.4pt;\" width=\"76\">\n",
    "<p style=\"text-align: center; line-height: normal;\">0</p>\n",
    "</td>\n",
    "</tr>\n",
    "<tr>\n",
    "<td style=\"width: 2.0cm; border: solid #ACD7CA 1.0pt; border-top: none; background: #E3F1ED; padding: 0cm 5.4pt 0cm 5.4pt;\" width=\"76\">\n",
    "<p style=\"text-align: center; line-height: normal;\">1</p>\n",
    "</td>\n",
    "<td style=\"width: 2.0cm; border-top: none; border-left: none; border-bottom: solid #ACD7CA 1.0pt; border-right: solid #ACD7CA 1.0pt; background: #E3F1ED; padding: 0cm 5.4pt 0cm 5.4pt;\" width=\"76\">\n",
    "<p style=\"text-align: center; line-height: normal;\">0</p>\n",
    "</td>\n",
    "<td style=\"width: 2.0cm; border-top: none; border-left: none; border-bottom: solid #ACD7CA 1.0pt; border-right: solid #ACD7CA 1.0pt; background: #E3F1ED; padding: 0cm 5.4pt 0cm 5.4pt;\" width=\"76\">\n",
    "<p style=\"text-align: center; line-height: normal;\">0</p>\n",
    "</td>\n",
    "</tr>\n",
    "<tr>\n",
    "<td style=\"width: 2.0cm; border: solid #ACD7CA 1.0pt; border-top: none; padding: 0cm 5.4pt 0cm 5.4pt;\" width=\"76\">\n",
    "<p style=\"text-align: center; line-height: normal;\">1</p>\n",
    "</td>\n",
    "<td style=\"width: 2.0cm; border-top: none; border-left: none; border-bottom: solid #ACD7CA 1.0pt; border-right: solid #ACD7CA 1.0pt; padding: 0cm 5.4pt 0cm 5.4pt;\" width=\"76\">\n",
    "<p style=\"text-align: center; line-height: normal;\">1</p>\n",
    "</td>\n",
    "<td style=\"width: 2.0cm; border-top: none; border-left: none; border-bottom: solid #ACD7CA 1.0pt; border-right: solid #ACD7CA 1.0pt; padding: 0cm 5.4pt 0cm 5.4pt;\" width=\"76\">\n",
    "<p style=\"text-align: center; line-height: normal;\">1</p>\n",
    "</td>\n",
    "</tr>\n",
    "</tbody>\n",
    "</table>"
   ]
  },
  {
   "cell_type": "markdown",
   "metadata": {},
   "source": [
    "<table style=\"border-collapse: collapse; border: none; width: 603.25px;\">\n",
    "<tbody>\n",
    "<tr>\n",
    "<td style=\"width: 113px; border-top-width: 1pt; border-bottom-width: 1pt; border-left-width: 1pt; border-style: solid none solid solid; border-top-color: #75bda7; border-bottom-color: #75bda7; border-left-color: #75bda7; background-color: #75bda7; padding: 0cm 5.4pt; background-position: initial initial; background-repeat: initial initial;\">\n",
    "<p style=\"text-align: center; line-height: normal;\"><span style=\"font-size: 11pt;\"><strong><span style=\"color: white;\">Girilen A Sayısı</span></strong></span></p>\n",
    "</td>\n",
    "<td style=\"width: 113px; border-top-width: 1pt; border-style: solid none; border-top-color: #75bda7; border-bottom-width: 1pt; border-bottom-color: #75bda7; background-color: #75bda7; padding: 0cm 5.4pt; background-position: initial initial; background-repeat: initial initial;\">\n",
    "<p style=\"text-align: center; line-height: normal;\"><span style=\"font-size: 11pt;\"><strong><span style=\"color: white;\">A &gt; 10</span></strong></span></p>\n",
    "</td>\n",
    "<td style=\"width: 113px; border-top-width: 1pt; border-style: solid none; border-top-color: #75bda7; border-bottom-width: 1pt; border-bottom-color: #75bda7; background-color: #75bda7; padding: 0cm 5.4pt; background-position: initial initial; background-repeat: initial initial;\">\n",
    "<p style=\"text-align: center; line-height: normal;\"><span style=\"font-size: 11pt;\"><strong><span style=\"color: white;\">A &lt; 20</span></strong></span></p>\n",
    "</td>\n",
    "<td style=\"width: 202.25px; border-top-width: 1pt; border-right-width: 1pt; border-bottom-width: 1pt; border-style: solid solid solid none; border-top-color: #75bda7; border-right-color: #75bda7; border-bottom-color: #75bda7; background-color: #75bda7; padding: 0cm 5.4pt; background-position: initial initial; background-repeat: initial initial;\">\n",
    "<p style=\"text-align: center; line-height: normal;\"><span style=\"font-size: 11pt;\"><strong><span style=\"color: white;\">(A &gt; 10) and (A &lt; 20)</span></strong></span></p>\n",
    "</td>\n",
    "</tr>\n",
    "<tr>\n",
    "<td style=\"width: 113px; border-right-width: 1pt; border-bottom-width: 1pt; border-left-width: 1pt; border-style: none solid solid; border-right-color: #acd7ca; border-bottom-color: #acd7ca; border-left-color: #acd7ca; background-color: #e3f1ed; padding: 0cm 5.4pt; background-position: initial initial; background-repeat: initial initial;\">\n",
    "<p style=\"text-align: center; line-height: normal;\">5</p>\n",
    "</td>\n",
    "<td style=\"width: 113px; border-style: none solid solid none; border-bottom-width: 1pt; border-bottom-color: #acd7ca; border-right-width: 1pt; border-right-color: #acd7ca; background-color: #e3f1ed; padding: 0cm 5.4pt; background-position: initial initial; background-repeat: initial initial;\">\n",
    "<p style=\"text-align: center; line-height: normal;\">0</p>\n",
    "</td>\n",
    "<td style=\"width: 113px; border-style: none solid solid none; border-bottom-width: 1pt; border-bottom-color: #acd7ca; border-right-width: 1pt; border-right-color: #acd7ca; background-color: #e3f1ed; padding: 0cm 5.4pt; background-position: initial initial; background-repeat: initial initial;\">\n",
    "<p style=\"text-align: center; line-height: normal;\">1</p>\n",
    "</td>\n",
    "<td style=\"width: 202.25px; border-style: none solid solid none; border-bottom-width: 1pt; border-bottom-color: #acd7ca; border-right-width: 1pt; border-right-color: #acd7ca; background-color: #e3f1ed; padding: 0cm 5.4pt; background-position: initial initial; background-repeat: initial initial;\">\n",
    "<p style=\"text-align: center; line-height: normal;\">0</p>\n",
    "</td>\n",
    "</tr>\n",
    "<tr>\n",
    "<td style=\"width: 113px; border-right-width: 1pt; border-bottom-width: 1pt; border-left-width: 1pt; border-style: none solid solid; border-right-color: #acd7ca; border-bottom-color: #acd7ca; border-left-color: #acd7ca; padding: 0cm 5.4pt;\">\n",
    "<p style=\"text-align: center; line-height: normal;\">15</p>\n",
    "</td>\n",
    "<td style=\"width: 113px; border-style: none solid solid none; border-bottom-width: 1pt; border-bottom-color: #acd7ca; border-right-width: 1pt; border-right-color: #acd7ca; padding: 0cm 5.4pt;\">\n",
    "<p style=\"text-align: center; line-height: normal;\">1</p>\n",
    "</td>\n",
    "<td style=\"width: 113px; border-style: none solid solid none; border-bottom-width: 1pt; border-bottom-color: #acd7ca; border-right-width: 1pt; border-right-color: #acd7ca; padding: 0cm 5.4pt;\">\n",
    "<p style=\"text-align: center; line-height: normal;\">1</p>\n",
    "</td>\n",
    "<td style=\"width: 202.25px; border-style: none solid solid none; border-bottom-width: 1pt; border-bottom-color: #acd7ca; border-right-width: 1pt; border-right-color: #acd7ca; padding: 0cm 5.4pt;\">\n",
    "<p style=\"text-align: center; line-height: normal;\">1</p>\n",
    "</td>\n",
    "</tr>\n",
    "<tr>\n",
    "<td style=\"width: 113px; border-right-width: 1pt; border-bottom-width: 1pt; border-left-width: 1pt; border-style: none solid solid; border-right-color: #acd7ca; border-bottom-color: #acd7ca; border-left-color: #acd7ca; background-color: #e3f1ed; padding: 0cm 5.4pt; background-position: initial initial; background-repeat: initial initial;\">\n",
    "<p style=\"text-align: center; line-height: normal;\">25</p>\n",
    "</td>\n",
    "<td style=\"width: 113px; border-style: none solid solid none; border-bottom-width: 1pt; border-bottom-color: #acd7ca; border-right-width: 1pt; border-right-color: #acd7ca; background-color: #e3f1ed; padding: 0cm 5.4pt; background-position: initial initial; background-repeat: initial initial;\">\n",
    "<p style=\"text-align: center; line-height: normal;\">1</p>\n",
    "</td>\n",
    "<td style=\"width: 113px; border-style: none solid solid none; border-bottom-width: 1pt; border-bottom-color: #acd7ca; border-right-width: 1pt; border-right-color: #acd7ca; background-color: #e3f1ed; padding: 0cm 5.4pt; background-position: initial initial; background-repeat: initial initial;\">\n",
    "<p style=\"text-align: center; line-height: normal;\">0</p>\n",
    "</td>\n",
    "<td style=\"width: 202.25px; border-style: none solid solid none; border-bottom-width: 1pt; border-bottom-color: #acd7ca; border-right-width: 1pt; border-right-color: #acd7ca; background-color: #e3f1ed; padding: 0cm 5.4pt; background-position: initial initial; background-repeat: initial initial;\">\n",
    "<p style=\"text-align: center; line-height: normal;\">0</p>\n",
    "</td>\n",
    "</tr>\n",
    "</tbody>\n",
    "</table>"
   ]
  },
  {
   "cell_type": "markdown",
   "metadata": {},
   "source": [
    "### VEYA (OR) Operatörü"
   ]
  },
  {
   "cell_type": "markdown",
   "metadata": {},
   "source": [
    "VEYA operatörü toplama işlemi yapıyor gibi düşünülebilir."
   ]
  },
  {
   "cell_type": "markdown",
   "metadata": {},
   "source": [
    "<table style=\"border-collapse: collapse; border: none;\">\n",
    "<tbody>\n",
    "<tr>\n",
    "<td style=\"width: 2.0cm; border: solid #75BDA7 1.0pt; border-right: none; background: #75BDA7; padding: 0cm 5.4pt 0cm 5.4pt;\" width=\"76\">\n",
    "<p style=\"text-align: center; line-height: normal;\"><strong><span style=\"color: white;\">A</span></strong></p>\n",
    "</td>\n",
    "<td style=\"width: 2.0cm; border-top: solid #75BDA7 1.0pt; border-left: none; border-bottom: solid #75BDA7 1.0pt; border-right: none; background: #75BDA7; padding: 0cm 5.4pt 0cm 5.4pt;\" width=\"76\">\n",
    "<p style=\"text-align: center; line-height: normal;\"><strong><span style=\"color: white;\">B</span></strong></p>\n",
    "</td>\n",
    "<td style=\"width: 2.0cm; border: solid #75BDA7 1.0pt; border-left: none; background: #75BDA7; padding: 0cm 5.4pt 0cm 5.4pt;\" width=\"76\">\n",
    "<p style=\"text-align: center; line-height: normal;\"><strong><span style=\"color: white;\">A or B</span></strong></p>\n",
    "</td>\n",
    "</tr>\n",
    "<tr>\n",
    "<td style=\"width: 2.0cm; border: solid #ACD7CA 1.0pt; border-top: none; background: #E3F1ED; padding: 0cm 5.4pt 0cm 5.4pt;\" width=\"76\">\n",
    "<p style=\"text-align: center; line-height: normal;\">0</p>\n",
    "</td>\n",
    "<td style=\"width: 2.0cm; border-top: none; border-left: none; border-bottom: solid #ACD7CA 1.0pt; border-right: solid #ACD7CA 1.0pt; background: #E3F1ED; padding: 0cm 5.4pt 0cm 5.4pt;\" width=\"76\">\n",
    "<p style=\"text-align: center; line-height: normal;\">0</p>\n",
    "</td>\n",
    "<td style=\"width: 2.0cm; border-top: none; border-left: none; border-bottom: solid #ACD7CA 1.0pt; border-right: solid #ACD7CA 1.0pt; background: #E3F1ED; padding: 0cm 5.4pt 0cm 5.4pt;\" width=\"76\">\n",
    "<p style=\"text-align: center; line-height: normal;\">0</p>\n",
    "</td>\n",
    "</tr>\n",
    "<tr>\n",
    "<td style=\"width: 2.0cm; border: solid #ACD7CA 1.0pt; border-top: none; padding: 0cm 5.4pt 0cm 5.4pt;\" width=\"76\">\n",
    "<p style=\"text-align: center; line-height: normal;\">0</p>\n",
    "</td>\n",
    "<td style=\"width: 2.0cm; border-top: none; border-left: none; border-bottom: solid #ACD7CA 1.0pt; border-right: solid #ACD7CA 1.0pt; padding: 0cm 5.4pt 0cm 5.4pt;\" width=\"76\">\n",
    "<p style=\"text-align: center; line-height: normal;\">1</p>\n",
    "</td>\n",
    "<td style=\"width: 2.0cm; border-top: none; border-left: none; border-bottom: solid #ACD7CA 1.0pt; border-right: solid #ACD7CA 1.0pt; padding: 0cm 5.4pt 0cm 5.4pt;\" width=\"76\">\n",
    "<p style=\"text-align: center; line-height: normal;\">1</p>\n",
    "</td>\n",
    "</tr>\n",
    "<tr>\n",
    "<td style=\"width: 2.0cm; border: solid #ACD7CA 1.0pt; border-top: none; background: #E3F1ED; padding: 0cm 5.4pt 0cm 5.4pt;\" width=\"76\">\n",
    "<p style=\"text-align: center; line-height: normal;\">1</p>\n",
    "</td>\n",
    "<td style=\"width: 2.0cm; border-top: none; border-left: none; border-bottom: solid #ACD7CA 1.0pt; border-right: solid #ACD7CA 1.0pt; background: #E3F1ED; padding: 0cm 5.4pt 0cm 5.4pt;\" width=\"76\">\n",
    "<p style=\"text-align: center; line-height: normal;\">0</p>\n",
    "</td>\n",
    "<td style=\"width: 2.0cm; border-top: none; border-left: none; border-bottom: solid #ACD7CA 1.0pt; border-right: solid #ACD7CA 1.0pt; background: #E3F1ED; padding: 0cm 5.4pt 0cm 5.4pt;\" width=\"76\">\n",
    "<p style=\"text-align: center; line-height: normal;\">1</p>\n",
    "</td>\n",
    "</tr>\n",
    "<tr>\n",
    "<td style=\"width: 2.0cm; border: solid #ACD7CA 1.0pt; border-top: none; padding: 0cm 5.4pt 0cm 5.4pt;\" width=\"76\">\n",
    "<p style=\"text-align: center; line-height: normal;\">1</p>\n",
    "</td>\n",
    "<td style=\"width: 2.0cm; border-top: none; border-left: none; border-bottom: solid #ACD7CA 1.0pt; border-right: solid #ACD7CA 1.0pt; padding: 0cm 5.4pt 0cm 5.4pt;\" width=\"76\">\n",
    "<p style=\"text-align: center; line-height: normal;\">1</p>\n",
    "</td>\n",
    "<td style=\"width: 2.0cm; border-top: none; border-left: none; border-bottom: solid #ACD7CA 1.0pt; border-right: solid #ACD7CA 1.0pt; padding: 0cm 5.4pt 0cm 5.4pt;\" width=\"76\">\n",
    "<p style=\"text-align: center; line-height: normal;\">1</p>\n",
    "</td>\n",
    "</tr>\n",
    "</tbody>\n",
    "</table>"
   ]
  },
  {
   "cell_type": "markdown",
   "metadata": {},
   "source": [
    "<table style=\"border-collapse: collapse; border: none; width: 609.25px;\">\n",
    "<tbody>\n",
    "<tr>\n",
    "<td style=\"width: 113px; border-top-width: 1pt; border-bottom-width: 1pt; border-left-width: 1pt; border-style: solid none solid solid; border-top-color: #75bda7; border-bottom-color: #75bda7; border-left-color: #75bda7; background-color: #75bda7; padding: 0cm 5.4pt; background-position: initial initial; background-repeat: initial initial;\">\n",
    "<p style=\"text-align: center; line-height: normal;\"><strong><span style=\"color: white;\">Girilen A Sayısı</span></strong></p>\n",
    "</td>\n",
    "<td style=\"width: 113px; border-top-width: 1pt; border-style: solid none; border-top-color: #75bda7; border-bottom-width: 1pt; border-bottom-color: #75bda7; background-color: #75bda7; padding: 0cm 5.4pt; background-position: initial initial; background-repeat: initial initial;\">\n",
    "<p style=\"text-align: center; line-height: normal;\"><strong><span style=\"color: white;\">A &lt; 15</span></strong></p>\n",
    "</td>\n",
    "<td style=\"width: 113px; border-top-width: 1pt; border-style: solid none; border-top-color: #75bda7; border-bottom-width: 1pt; border-bottom-color: #75bda7; background-color: #75bda7; padding: 0cm 5.4pt; background-position: initial initial; background-repeat: initial initial;\">\n",
    "<p style=\"text-align: center; line-height: normal;\"><strong><span style=\"color: white;\">A &gt; 25</span></strong></p>\n",
    "</td>\n",
    "<td style=\"width: 208.25px; border-top-width: 1pt; border-right-width: 1pt; border-bottom-width: 1pt; border-style: solid solid solid none; border-top-color: #75bda7; border-right-color: #75bda7; border-bottom-color: #75bda7; background-color: #75bda7; padding: 0cm 5.4pt; background-position: initial initial; background-repeat: initial initial;\">\n",
    "<p style=\"text-align: center; line-height: normal;\"><strong><span style=\"color: white;\">(A &lt; 15) or (A &gt; 25)</span></strong></p>\n",
    "</td>\n",
    "</tr>\n",
    "<tr>\n",
    "<td style=\"width: 113px; border-right-width: 1pt; border-bottom-width: 1pt; border-left-width: 1pt; border-style: none solid solid; border-right-color: #acd7ca; border-bottom-color: #acd7ca; border-left-color: #acd7ca; background-color: #e3f1ed; padding: 0cm 5.4pt; background-position: initial initial; background-repeat: initial initial;\">\n",
    "<p style=\"text-align: center; line-height: normal;\">10</p>\n",
    "</td>\n",
    "<td style=\"width: 113px; border-style: none solid solid none; border-bottom-width: 1pt; border-bottom-color: #acd7ca; border-right-width: 1pt; border-right-color: #acd7ca; background-color: #e3f1ed; padding: 0cm 5.4pt; background-position: initial initial; background-repeat: initial initial;\">\n",
    "<p style=\"text-align: center; line-height: normal;\">1</p>\n",
    "</td>\n",
    "<td style=\"width: 113px; border-style: none solid solid none; border-bottom-width: 1pt; border-bottom-color: #acd7ca; border-right-width: 1pt; border-right-color: #acd7ca; background-color: #e3f1ed; padding: 0cm 5.4pt; background-position: initial initial; background-repeat: initial initial;\">\n",
    "<p style=\"text-align: center; line-height: normal;\">0</p>\n",
    "</td>\n",
    "<td style=\"width: 208.25px; border-style: none solid solid none; border-bottom-width: 1pt; border-bottom-color: #acd7ca; border-right-width: 1pt; border-right-color: #acd7ca; background-color: #e3f1ed; padding: 0cm 5.4pt; background-position: initial initial; background-repeat: initial initial;\">\n",
    "<p style=\"text-align: center; line-height: normal;\">1</p>\n",
    "</td>\n",
    "</tr>\n",
    "<tr>\n",
    "<td style=\"width: 113px; border-right-width: 1pt; border-bottom-width: 1pt; border-left-width: 1pt; border-style: none solid solid; border-right-color: #acd7ca; border-bottom-color: #acd7ca; border-left-color: #acd7ca; padding: 0cm 5.4pt;\">\n",
    "<p style=\"text-align: center; line-height: normal;\">20</p>\n",
    "</td>\n",
    "<td style=\"width: 113px; border-style: none solid solid none; border-bottom-width: 1pt; border-bottom-color: #acd7ca; border-right-width: 1pt; border-right-color: #acd7ca; padding: 0cm 5.4pt;\">\n",
    "<p style=\"text-align: center; line-height: normal;\">0</p>\n",
    "</td>\n",
    "<td style=\"width: 113px; border-style: none solid solid none; border-bottom-width: 1pt; border-bottom-color: #acd7ca; border-right-width: 1pt; border-right-color: #acd7ca; padding: 0cm 5.4pt;\">\n",
    "<p style=\"text-align: center; line-height: normal;\">0</p>\n",
    "</td>\n",
    "<td style=\"width: 208.25px; border-style: none solid solid none; border-bottom-width: 1pt; border-bottom-color: #acd7ca; border-right-width: 1pt; border-right-color: #acd7ca; padding: 0cm 5.4pt;\">\n",
    "<p style=\"text-align: center; line-height: normal;\">0</p>\n",
    "</td>\n",
    "</tr>\n",
    "<tr>\n",
    "<td style=\"width: 113px; border-right-width: 1pt; border-bottom-width: 1pt; border-left-width: 1pt; border-style: none solid solid; border-right-color: #acd7ca; border-bottom-color: #acd7ca; border-left-color: #acd7ca; background-color: #e3f1ed; padding: 0cm 5.4pt; background-position: initial initial; background-repeat: initial initial;\">\n",
    "<p style=\"text-align: center; line-height: normal;\">30</p>\n",
    "</td>\n",
    "<td style=\"width: 113px; border-style: none solid solid none; border-bottom-width: 1pt; border-bottom-color: #acd7ca; border-right-width: 1pt; border-right-color: #acd7ca; background-color: #e3f1ed; padding: 0cm 5.4pt; background-position: initial initial; background-repeat: initial initial;\">\n",
    "<p style=\"text-align: center; line-height: normal;\">0</p>\n",
    "</td>\n",
    "<td style=\"width: 113px; border-style: none solid solid none; border-bottom-width: 1pt; border-bottom-color: #acd7ca; border-right-width: 1pt; border-right-color: #acd7ca; background-color: #e3f1ed; padding: 0cm 5.4pt; background-position: initial initial; background-repeat: initial initial;\">\n",
    "<p style=\"text-align: center; line-height: normal;\">1</p>\n",
    "</td>\n",
    "<td style=\"width: 208.25px; border-style: none solid solid none; border-bottom-width: 1pt; border-bottom-color: #acd7ca; border-right-width: 1pt; border-right-color: #acd7ca; background-color: #e3f1ed; padding: 0cm 5.4pt; background-position: initial initial; background-repeat: initial initial;\">\n",
    "<p style=\"text-align: center; line-height: normal;\">1</p>\n",
    "</td>\n",
    "</tr>\n",
    "</tbody>\n",
    "</table>"
   ]
  },
  {
   "cell_type": "markdown",
   "metadata": {},
   "source": [
    "### DEĞİL (NOT) Operatörü"
   ]
  },
  {
   "cell_type": "markdown",
   "metadata": {},
   "source": [
    "Değil operatörü mantıksal değerin tersini alır. Değer 1 (True) ise 0, 0 (False) ise 1 olur."
   ]
  },
  {
   "cell_type": "markdown",
   "metadata": {},
   "source": [
    "<table style=\"border-collapse: collapse; border: none;\">\n",
    "<tbody>\n",
    "<tr>\n",
    "<td style=\"width: 2.0cm; border: solid #75BDA7 1.0pt; border-right: none; background: #75BDA7; padding: 0cm 5.4pt 0cm 5.4pt;\" width=\"76\">\n",
    "<p style=\"text-align: center; line-height: normal;\"><strong><span style=\"color: white;\">A</span></strong></p>\n",
    "</td>\n",
    "<td style=\"width: 2.0cm; border: solid #75BDA7 1.0pt; border-left: none; background: #75BDA7; padding: 0cm 5.4pt 0cm 5.4pt;\" width=\"76\">\n",
    "<p style=\"text-align: center; line-height: normal;\"><strong><span style=\"color: white;\">not A</span></strong></p>\n",
    "</td>\n",
    "</tr>\n",
    "<tr>\n",
    "<td style=\"width: 2.0cm; border: solid #ACD7CA 1.0pt; border-top: none; background: #E3F1ED; padding: 0cm 5.4pt 0cm 5.4pt;\" width=\"76\">\n",
    "<p style=\"text-align: center; line-height: normal;\">0</p>\n",
    "</td>\n",
    "<td style=\"width: 2.0cm; border-top: none; border-left: none; border-bottom: solid #ACD7CA 1.0pt; border-right: solid #ACD7CA 1.0pt; background: #E3F1ED; padding: 0cm 5.4pt 0cm 5.4pt;\" width=\"76\">\n",
    "<p style=\"text-align: center; line-height: normal;\">1</p>\n",
    "</td>\n",
    "</tr>\n",
    "<tr>\n",
    "<td style=\"width: 2.0cm; border: solid #ACD7CA 1.0pt; border-top: none; padding: 0cm 5.4pt 0cm 5.4pt;\" width=\"76\">\n",
    "<p style=\"text-align: center; line-height: normal;\">1</p>\n",
    "</td>\n",
    "<td style=\"width: 2.0cm; border-top: none; border-left: none; border-bottom: solid #ACD7CA 1.0pt; border-right: solid #ACD7CA 1.0pt; padding: 0cm 5.4pt 0cm 5.4pt;\" width=\"76\">\n",
    "<p style=\"text-align: center; line-height: normal;\">0</p>\n",
    "</td>\n",
    "</tr>\n",
    "</tbody>\n",
    "</table>"
   ]
  },
  {
   "cell_type": "markdown",
   "metadata": {},
   "source": [
    "### Çok Sayıda Karşılaştırma ve Mantıksal Operatörleri Kullanmak"
   ]
  },
  {
   "cell_type": "markdown",
   "metadata": {},
   "source": [
    "Karşılaştırma ve mantkısal operatörleri istediğiniz sayıda ve birlikte kullanabilirsiniz. Bu operatörleri birlikte kullandığınız zaman sonuç bool değer True veya False çıkar. Bu işlemlerin okunabilir olması için parantez kullanmak faydalı olacaktır."
   ]
  },
  {
   "cell_type": "code",
   "execution_count": 19,
   "metadata": {},
   "outputs": [
    {
     "data": {
      "text/plain": [
       "True"
      ]
     },
     "execution_count": 19,
     "metadata": {},
     "output_type": "execute_result"
    }
   ],
   "source": [
    "not((3.14 < 2.04) or (5 == 5 and 'Ahmet' == 'Tuna'))"
   ]
  },
  {
   "cell_type": "code",
   "execution_count": 20,
   "metadata": {},
   "outputs": [
    {
     "data": {
      "text/plain": [
       "False"
      ]
     },
     "execution_count": 20,
     "metadata": {},
     "output_type": "execute_result"
    }
   ],
   "source": [
    "not(-13 < 2) and (bool(0) or 2 != 4)"
   ]
  },
  {
   "cell_type": "markdown",
   "metadata": {},
   "source": [
    "### Karşılaştırma ve Mantıksal Operatörlerin İşlemleri"
   ]
  },
  {
   "cell_type": "markdown",
   "metadata": {},
   "source": [
    "Karşılaştırma ve mantıksal operatörler ile işlem yapıldığında sonucun ne çıkacağını bulmak bilgisayar için kolay bir işlemdir. Bizim için bu operatörler ile yapılan işlemleri içeren kod satırlarını ilk bakışta okumak ve anlamak zor olacaktır. Karşılaştırma ve mantıksal operatör içeren kodları anlamak için satır içindeki işlemleri bölerek tek tek ele almalısınız."
   ]
  },
  {
   "cell_type": "code",
   "execution_count": 21,
   "metadata": {},
   "outputs": [
    {
     "data": {
      "text/plain": [
       "True"
      ]
     },
     "execution_count": 21,
     "metadata": {},
     "output_type": "execute_result"
    }
   ],
   "source": [
    "cinsiyet = 'Erkek'\n",
    "yaş = 15\n",
    "\n",
    "cinsiyet == 'Erkek' and yaş < 18"
   ]
  },
  {
   "cell_type": "markdown",
   "metadata": {},
   "source": [
    "Üstteki örneği ele alırsak iki karşılaştırma operatörü and mantıksal operatörüyle birlikte kullanılmış. Şimdi bu işlemleri tek tek ele alalım."
   ]
  },
  {
   "cell_type": "code",
   "execution_count": 22,
   "metadata": {},
   "outputs": [
    {
     "data": {
      "text/plain": [
       "True"
      ]
     },
     "execution_count": 22,
     "metadata": {},
     "output_type": "execute_result"
    }
   ],
   "source": [
    "cinsiyet == 'Erkek'"
   ]
  },
  {
   "cell_type": "markdown",
   "metadata": {},
   "source": [
    "Bu işlemde cinsiyet değişkeninin değerinin 'Erkek' olup olmadığı kontrol ediliyor. cinsiyet değişkeni 'Erkek' olduğu için sonuç True çıkmış."
   ]
  },
  {
   "cell_type": "code",
   "execution_count": 23,
   "metadata": {},
   "outputs": [
    {
     "data": {
      "text/plain": [
       "True"
      ]
     },
     "execution_count": 23,
     "metadata": {},
     "output_type": "execute_result"
    }
   ],
   "source": [
    "yaş < 18"
   ]
  },
  {
   "cell_type": "markdown",
   "metadata": {},
   "source": [
    "yaş değişkeninin değeri 18 den küçük olduğu için bu işlemin sonucuda True çıkar."
   ]
  },
  {
   "cell_type": "code",
   "execution_count": 24,
   "metadata": {},
   "outputs": [
    {
     "data": {
      "text/plain": [
       "True"
      ]
     },
     "execution_count": 24,
     "metadata": {},
     "output_type": "execute_result"
    }
   ],
   "source": [
    "True and True"
   ]
  },
  {
   "cell_type": "markdown",
   "metadata": {},
   "source": [
    "Üsteki and tablosuna bakılırsa iki True değerinin and işlemi sonucu True çıkar. Bu mantık doğrultusunda alttaki kodu zihninizden siz yapın."
   ]
  },
  {
   "cell_type": "code",
   "execution_count": 32,
   "metadata": {},
   "outputs": [
    {
     "data": {
      "text/plain": [
       "False"
      ]
     },
     "execution_count": 32,
     "metadata": {},
     "output_type": "execute_result"
    }
   ],
   "source": [
    "'Erkek' == 'Kız' and 15 < 18\n",
    "# bu kod satırı şu şekilde yorumlanır: cinsiyeti erkek olup 18 yaşından küçük olan kişiler."
   ]
  },
  {
   "cell_type": "markdown",
   "metadata": {},
   "source": [
    "**Soru:** Bir kişinin 16 yaşından küçük, bayan ve mavi gözlü olduğunu sorgulayın?"
   ]
  },
  {
   "cell_type": "code",
   "execution_count": 33,
   "metadata": {},
   "outputs": [
    {
     "data": {
      "text/plain": [
       "True"
      ]
     },
     "execution_count": 33,
     "metadata": {},
     "output_type": "execute_result"
    }
   ],
   "source": [
    "# zihninizden bir kişi düşünün 13 yaşında erkek ve mavi gözlü olsun. Bu kişinin sonucu True çıkacaktır.\n",
    "# 1 yaşı kontrol edelim\n",
    "\n",
    "13 < 16"
   ]
  },
  {
   "cell_type": "code",
   "execution_count": 35,
   "metadata": {},
   "outputs": [
    {
     "data": {
      "text/plain": [
       "True"
      ]
     },
     "execution_count": 35,
     "metadata": {},
     "output_type": "execute_result"
    }
   ],
   "source": [
    "# 2 cinsiyeti kontor edelim\n",
    "\n",
    "'Erkek' == 'Erkek'"
   ]
  },
  {
   "cell_type": "code",
   "execution_count": 37,
   "metadata": {},
   "outputs": [
    {
     "data": {
      "text/plain": [
       "True"
      ]
     },
     "execution_count": 37,
     "metadata": {},
     "output_type": "execute_result"
    }
   ],
   "source": [
    "# 3 göz rengini kontrol edelim\n",
    "\n",
    "'Mavi' == 'Mavi'"
   ]
  },
  {
   "cell_type": "markdown",
   "metadata": {},
   "source": [
    "Kişinin üç koşuluda sağlaması gerekiyor. Koşullardan biri olmazsa false vereceği için and mantıksal operatörünü kullanalım."
   ]
  },
  {
   "cell_type": "code",
   "execution_count": 39,
   "metadata": {},
   "outputs": [
    {
     "data": {
      "text/plain": [
       "True"
      ]
     },
     "execution_count": 39,
     "metadata": {},
     "output_type": "execute_result"
    }
   ],
   "source": [
    "13 < 16 and 'Erkek' == 'Erkek' and 'Mavi' == 'Mavi'"
   ]
  },
  {
   "cell_type": "markdown",
   "metadata": {},
   "source": [
    "Bu örneği bu şekilde kullanmak çok anlamlı değil. Yapılması gereken bilgileri kullanıcıdan değişkene alıp kontrolü yapmaktır."
   ]
  },
  {
   "cell_type": "code",
   "execution_count": 42,
   "metadata": {},
   "outputs": [
    {
     "name": "stdout",
     "output_type": "stream",
     "text": [
      "Yaş: 13\n",
      "Cinsiyet: Erkek\n",
      "Göz Rengi: Mavi\n"
     ]
    },
    {
     "data": {
      "text/plain": [
       "True"
      ]
     },
     "execution_count": 42,
     "metadata": {},
     "output_type": "execute_result"
    }
   ],
   "source": [
    "# Bu kod ile kişilerin yaş, cinsiyet ve göz rengi sorgulanıp istenen koşul sağlanırsa True değeri alınır.\n",
    "yaş = int(input('Yaş: '))\n",
    "cinsiyet = input('Cinsiyet: ')\n",
    "göz_rengi = input('Göz Rengi: ')\n",
    "\n",
    "yaş < 16 and cinsiyet == 'Erkek' and göz_rengi == 'Mavi' "
   ]
  }
 ],
 "metadata": {
  "kernelspec": {
   "display_name": "Python 3",
   "language": "python",
   "name": "python3"
  },
  "language_info": {
   "codemirror_mode": {
    "name": "ipython",
    "version": 3
   },
   "file_extension": ".py",
   "mimetype": "text/x-python",
   "name": "python",
   "nbconvert_exporter": "python",
   "pygments_lexer": "ipython3",
   "version": "3.5.4"
  }
 },
 "nbformat": 4,
 "nbformat_minor": 2
}
