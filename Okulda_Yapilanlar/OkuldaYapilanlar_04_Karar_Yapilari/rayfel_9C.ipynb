{
 "cells": [
  {
   "cell_type": "code",
   "execution_count": 5,
   "metadata": {},
   "outputs": [
    {
     "data": {
      "text/plain": [
       "True"
      ]
     },
     "execution_count": 5,
     "metadata": {},
     "output_type": "execute_result"
    }
   ],
   "source": [
    "# Liseliler 14,15,16,17,18 yaşlarındadır.\n",
    "\n",
    "yaş = 17\n",
    "\n",
    "yaş >= 14 and yaş <= 18"
   ]
  },
  {
   "cell_type": "code",
   "execution_count": 14,
   "metadata": {},
   "outputs": [
    {
     "name": "stdout",
     "output_type": "stream",
     "text": [
      "Liseli\n"
     ]
    }
   ],
   "source": [
    "yaş = 16\n",
    "\n",
    "if yaş >= 14 and yaş <= 18 :\n",
    "    print(\"Liseli\")\n",
    "else :\n",
    "    print(\"Liseli Değil\")\n"
   ]
  },
  {
   "cell_type": "code",
   "execution_count": 17,
   "metadata": {},
   "outputs": [
    {
     "name": "stdout",
     "output_type": "stream",
     "text": [
      "Mezun\n"
     ]
    }
   ],
   "source": [
    "yaş = 30\n",
    "\n",
    "if yaş < 14 :\n",
    "    print(\"Bebe\")\n",
    "elif yaş >= 14 and yaş <= 18 :\n",
    "    print(\"Liseli\")\n",
    "else :\n",
    "    print(\"Mezun\")\n"
   ]
  },
  {
   "cell_type": "code",
   "execution_count": 8,
   "metadata": {},
   "outputs": [
    {
     "name": "stdout",
     "output_type": "stream",
     "text": [
      "Liseli\n"
     ]
    },
    {
     "data": {
      "image/jpeg": "[encoded data removed]",
      "text/plain": [
       "<IPython.core.display.Image object>"
      ]
     },
     "metadata": {},
     "output_type": "display_data"
    }
   ],
   "source": [
    "from IPython.display import Image\n",
    "\n",
    "yaş = 15\n",
    "\n",
    "if yaş < 14 :\n",
    "    print(\"Bebe\")\n",
    "    display(Image(filename = 'bebe.jpg'))\n",
    "elif yaş >= 14 and yaş <= 18 :\n",
    "    print(\"Liseli\")\n",
    "    display(Image(filename = 'liseli.jpg'))\n",
    "else:\n",
    "    print(\"Mezun\")\n",
    "    display(Image(filename = 'mezun.jpg'))"
   ]
  },
  {
   "cell_type": "code",
   "execution_count": 24,
   "metadata": {},
   "outputs": [
    {
     "name": "stdout",
     "output_type": "stream",
     "text": [
      "Dönem Sonu Not Ortalamanızı Giriniz: 95.62\n",
      "\n",
      "Doğru Değer Girişi Yaptınız\n",
      "Takdir\n",
      "\n",
      "Program Sonlandı\n"
     ]
    }
   ],
   "source": [
    "notOrt = float(input(\"Dönem Sonu Not Ortalamanızı Giriniz: \"))\n",
    "\n",
    "if notOrt > 0 and notOrt <= 100 :\n",
    "    print(\"\\nDoğru Değer Girişi Yaptınız\")\n",
    "    \n",
    "    if notOrt < 50 :\n",
    "        print(\"Kaldınız\")\n",
    "    elif notOrt < 70 :\n",
    "        print(\"Geçtiniz\")\n",
    "    elif notOrt < 85 :\n",
    "        print(\"Teşekkür\")\n",
    "    else :\n",
    "        print(\"Takdir\")\n",
    "    \n",
    "else:\n",
    "    print(\"\\nHatalı Değer Girişi Yaptınız Lütfen 0 - 100 arasında değer giriniz.\")\n",
    "\n",
    "print(\"\\nProgram Sonlandı\")"
   ]
  },
  {
   "cell_type": "code",
   "execution_count": null,
   "metadata": {},
   "outputs": [],
   "source": []
  }
 ],
 "metadata": {
  "kernelspec": {
   "display_name": "Python 3",
   "language": "python",
   "name": "python3"
  },
  "language_info": {
   "codemirror_mode": {
    "name": "ipython",
    "version": 3
   },
   "file_extension": ".py",
   "mimetype": "text/x-python",
   "name": "python",
   "nbconvert_exporter": "python",
   "pygments_lexer": "ipython3",
   "version": "3.5.4"
  }
 },
 "nbformat": 4,
 "nbformat_minor": 2
}
