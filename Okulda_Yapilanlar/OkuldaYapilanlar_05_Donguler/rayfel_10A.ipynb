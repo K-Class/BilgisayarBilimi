{
 "cells": [
  {
   "cell_type": "code",
   "execution_count": 14,
   "metadata": {},
   "outputs": [
    {
     "name": "stdout",
     "output_type": "stream",
     "text": [
      "1.Adım\n",
      "2.Adım\n",
      "3.Adım\n",
      "4.Adım\n",
      "5.Adım\n",
      "6.Adım\n",
      "7.Adım\n",
      "8.Adım\n",
      "9.Adım\n",
      "10.Adım\n",
      "Program Sonlandırıldı\n"
     ]
    }
   ],
   "source": [
    "sayaç = 0\n",
    "\n",
    "while sayaç < 10 :\n",
    "    sayaç += 1\n",
    "    print('{}.Adım'.format(sayaç))\n",
    "\n",
    "print('Program Sonlandırıldı')"
   ]
  },
  {
   "cell_type": "code",
   "execution_count": 16,
   "metadata": {},
   "outputs": [
    {
     "name": "stdout",
     "output_type": "stream",
     "text": [
      "0.Adım\n",
      "0.Adım\n",
      "0.Adım\n",
      "0.Adım\n",
      "0.Adım\n",
      "0.Adım\n",
      "0.Adım\n",
      "0.Adım\n"
     ]
    },
    {
     "ename": "KeyboardInterrupt",
     "evalue": "",
     "output_type": "error",
     "traceback": [
      "\u001b[1;31m---------------------------------------------------------------------------\u001b[0m",
      "\u001b[1;31mKeyboardInterrupt\u001b[0m                         Traceback (most recent call last)",
      "\u001b[1;32m<ipython-input-16-7dc78bc24495>\u001b[0m in \u001b[0;36m<module>\u001b[1;34m()\u001b[0m\n\u001b[0;32m      4\u001b[0m \u001b[1;33m\u001b[0m\u001b[0m\n\u001b[0;32m      5\u001b[0m \u001b[1;32mwhile\u001b[0m \u001b[0msayaç\u001b[0m \u001b[1;33m<\u001b[0m \u001b[1;36m10\u001b[0m \u001b[1;33m:\u001b[0m\u001b[1;33m\u001b[0m\u001b[0m\n\u001b[1;32m----> 6\u001b[1;33m     \u001b[0mtime\u001b[0m\u001b[1;33m.\u001b[0m\u001b[0msleep\u001b[0m\u001b[1;33m(\u001b[0m\u001b[1;36m1\u001b[0m\u001b[1;33m)\u001b[0m\u001b[1;33m\u001b[0m\u001b[0m\n\u001b[0m\u001b[0;32m      7\u001b[0m     \u001b[1;31m#sayaç += 1\u001b[0m\u001b[1;33m\u001b[0m\u001b[1;33m\u001b[0m\u001b[0m\n\u001b[0;32m      8\u001b[0m     \u001b[0mprint\u001b[0m\u001b[1;33m(\u001b[0m\u001b[1;34m'{}.Adım'\u001b[0m\u001b[1;33m.\u001b[0m\u001b[0mformat\u001b[0m\u001b[1;33m(\u001b[0m\u001b[0msayaç\u001b[0m\u001b[1;33m)\u001b[0m\u001b[1;33m)\u001b[0m\u001b[1;33m\u001b[0m\u001b[0m\n",
      "\u001b[1;31mKeyboardInterrupt\u001b[0m: "
     ]
    }
   ],
   "source": [
    "# time(zaman) modülünü kodumuza ekliyoruz bu konu ileride görülecek\n",
    "import time\n",
    "sayaç = 0\n",
    "\n",
    "while sayaç < 10 :\n",
    "    time.sleep(1)\n",
    "    #sayaç += 1\n",
    "    print('{}.Adım'.format(sayaç))\n",
    "\n",
    "print('Program Sonlandırıldı')"
   ]
  },
  {
   "cell_type": "code",
   "execution_count": 15,
   "metadata": {},
   "outputs": [
    {
     "name": "stdout",
     "output_type": "stream",
     "text": [
      "Döngü\n",
      "Döngü\n",
      "Döngü\n",
      "Döngü\n",
      "Döngü\n",
      "Döngü\n",
      "Döngü\n",
      "Döngü\n",
      "Döngü\n",
      "Döngü\n",
      "Döngü\n",
      "Döngü\n"
     ]
    },
    {
     "ename": "KeyboardInterrupt",
     "evalue": "",
     "output_type": "error",
     "traceback": [
      "\u001b[1;31m---------------------------------------------------------------------------\u001b[0m",
      "\u001b[1;31mKeyboardInterrupt\u001b[0m                         Traceback (most recent call last)",
      "\u001b[1;32m<ipython-input-15-67743735c541>\u001b[0m in \u001b[0;36m<module>\u001b[1;34m()\u001b[0m\n\u001b[0;32m      4\u001b[0m \u001b[1;32mwhile\u001b[0m \u001b[1;32mTrue\u001b[0m \u001b[1;33m:\u001b[0m\u001b[1;33m\u001b[0m\u001b[0m\n\u001b[0;32m      5\u001b[0m     \u001b[1;31m# her 1 saniyede bir döngü olması sağlanıyor\u001b[0m\u001b[1;33m\u001b[0m\u001b[1;33m\u001b[0m\u001b[0m\n\u001b[1;32m----> 6\u001b[1;33m     \u001b[0mtime\u001b[0m\u001b[1;33m.\u001b[0m\u001b[0msleep\u001b[0m\u001b[1;33m(\u001b[0m\u001b[1;36m1\u001b[0m\u001b[1;33m)\u001b[0m\u001b[1;33m\u001b[0m\u001b[0m\n\u001b[0m\u001b[0;32m      7\u001b[0m     \u001b[0mprint\u001b[0m\u001b[1;33m(\u001b[0m\u001b[1;34m'Döngü'\u001b[0m\u001b[1;33m)\u001b[0m\u001b[1;33m\u001b[0m\u001b[0m\n",
      "\u001b[1;31mKeyboardInterrupt\u001b[0m: "
     ]
    }
   ],
   "source": [
    "# time(zaman) modülünü kodumuza ekliyoruz bu konu ileride görülecek\n",
    "import time\n",
    "\n",
    "while True :\n",
    "    # her 1 saniyede bir döngü olması sağlanıyor\n",
    "    time.sleep(1)\n",
    "    print('Döngü')"
   ]
  },
  {
   "cell_type": "code",
   "execution_count": 1,
   "metadata": {},
   "outputs": [],
   "source": [
    "# sürekli devam eden program, girelen sayıların toplamı"
   ]
  },
  {
   "cell_type": "code",
   "execution_count": 4,
   "metadata": {},
   "outputs": [
    {
     "name": "stdout",
     "output_type": "stream",
     "text": [
      "Çıkmak İstiyorsanız \"ç\" girin:f\n",
      "Çıkmak İstiyorsanız \"ç\" girin:e\n",
      "Çıkmak İstiyorsanız \"ç\" girin:r\n",
      "Çıkmak İstiyorsanız \"ç\" girin:ş\n",
      "Çıkmak İstiyorsanız \"ç\" girin:ç\n",
      "\n",
      "Program Sonlandırıldı\n"
     ]
    }
   ],
   "source": [
    "durum = ''\n",
    "\n",
    "while durum != 'ç' :\n",
    "    \n",
    "    durum = input('Çıkmak İstiyorsanız \"ç\" girin:')\n",
    "\n",
    "print('\\nProgram Sonlandırıldı')  "
   ]
  },
  {
   "cell_type": "code",
   "execution_count": 5,
   "metadata": {},
   "outputs": [
    {
     "name": "stdout",
     "output_type": "stream",
     "text": [
      "Tam Sayı Değer Girin: 3\n",
      "Çıkmak İstiyorsanız \"ç\" girin:h\n",
      "Tam Sayı Değer Girin: 5\n",
      "Çıkmak İstiyorsanız \"ç\" girin:h\n",
      "Tam Sayı Değer Girin: 10\n",
      "Çıkmak İstiyorsanız \"ç\" girin:ç\n",
      "Toplam Değer: 18\n",
      "\n",
      "Program Sonlandırıldı\n"
     ]
    }
   ],
   "source": [
    "durum = ''\n",
    "toplam = 0\n",
    "\n",
    "while durum != 'ç' :\n",
    "    \n",
    "    kullanıcı_değer = int(input('Tam Sayı Değer Girin: '))\n",
    "    toplam = kullanıcı_değer + toplam\n",
    "    \n",
    "    durum = input('Çıkmak İstiyorsanız \"ç\" girin:')\n",
    "\n",
    "print('Toplam Değer:',toplam)\n",
    "print('\\nProgram Sonlandırıldı')  "
   ]
  },
  {
   "cell_type": "code",
   "execution_count": 3,
   "metadata": {},
   "outputs": [],
   "source": [
    "# 1 - 100 arası sayıların toplamı"
   ]
  }
 ],
 "metadata": {
  "kernelspec": {
   "display_name": "Python 3",
   "language": "python",
   "name": "python3"
  },
  "language_info": {
   "codemirror_mode": {
    "name": "ipython",
    "version": 3
   },
   "file_extension": ".py",
   "mimetype": "text/x-python",
   "name": "python",
   "nbconvert_exporter": "python",
   "pygments_lexer": "ipython3",
   "version": "3.5.4"
  }
 },
 "nbformat": 4,
 "nbformat_minor": 2
}
