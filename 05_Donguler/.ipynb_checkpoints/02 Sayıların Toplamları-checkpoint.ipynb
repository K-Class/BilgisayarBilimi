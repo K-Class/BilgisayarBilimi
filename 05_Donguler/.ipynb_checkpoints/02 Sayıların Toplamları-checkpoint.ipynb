{
 "cells": [
  {
   "cell_type": "markdown",
   "metadata": {},
   "source": [
    "# Döngülerle Basit Sayısal Hesaplamalar"
   ]
  },
  {
   "cell_type": "markdown",
   "metadata": {},
   "source": [
    "## 1'den 100' e kadar sayıların toplamı.\n",
    "Gauss sağolsun biz insanlara çocuk yaşında armağan ettiğ **n(n + 1)/2** formülüyle toplamı 100*101/2 = 5050 olarak kolaylaca buluyoruz. Fakat ne yazıki ki bilgisayar mekanikleri gereği 1'den 100' e kadar olan sayıları formül kullansanız dahi tek tek toplayarak bulur. Döngüler yardımıyla 1'den 100'e kadar olan sayıların toplamını sayıları tek tek toplayarak bulalım."
   ]
  },
  {
   "cell_type": "code",
   "execution_count": 14,
   "metadata": {},
   "outputs": [
    {
     "name": "stdout",
     "output_type": "stream",
     "text": [
      "1'den 100'e Kadar Sayıların Toplamı =  5050\n"
     ]
    }
   ],
   "source": [
    "toplam = 0\n",
    "i = 0\n",
    "\n",
    "while i < 100 :\n",
    "    i += 1\n",
    "    toplam = toplam + i\n",
    "\n",
    "print(\"1'den 100'e Kadar Sayıların Toplamı = \",toplam)"
   ]
  },
  {
   "cell_type": "markdown",
   "metadata": {},
   "source": [
    "while döngüsünü anlamak için her adımda ne olduğunu gösteren bir kod ekleyelim"
   ]
  },
  {
   "cell_type": "code",
   "execution_count": 21,
   "metadata": {},
   "outputs": [
    {
     "name": "stdout",
     "output_type": "stream",
     "text": [
      " 1.Adım:  1 +  0 =  1\n",
      " 2.Adım:  2 +  1 =  3\n",
      " 3.Adım:  3 +  3 =  6\n",
      " 4.Adım:  4 +  6 = 10\n",
      " 5.Adım:  5 + 10 = 15\n",
      " 6.Adım:  6 + 15 = 21\n",
      " 7.Adım:  7 + 21 = 28\n",
      " 8.Adım:  8 + 28 = 36\n",
      " 9.Adım:  9 + 36 = 45\n",
      "10.Adım: 10 + 45 = 55\n",
      "\n",
      "1'den 100'e Kadar Sayıların Toplamı =  55\n"
     ]
    }
   ],
   "source": [
    "toplam = 0\n",
    "i = 0\n",
    "\n",
    "while i < 10 :\n",
    "    i += 1\n",
    "    print('{:2}.Adım: {:2} + {:2} = {:2}'.format(i,i,toplam,toplam + i))\n",
    "    toplam = toplam + i\n",
    "    \n",
    "\n",
    "print(\"\\n1'den 100'e Kadar Sayıların Toplamı = \",toplam)"
   ]
  },
  {
   "cell_type": "markdown",
   "metadata": {},
   "source": [
    "## Program Sonlandırılana Kadar Girilen Sayıların Toplamını Bulma"
   ]
  },
  {
   "cell_type": "code",
   "execution_count": 34,
   "metadata": {},
   "outputs": [
    {
     "name": "stdout",
     "output_type": "stream",
     "text": [
      "Çıkış için 'ç' girin\n",
      "\n",
      "Toplanacak Sayıyı Giriniz: 3\n",
      "Toplanacak Sayıyı Giriniz: 5\n",
      "Toplanacak Sayıyı Giriniz: 8\n",
      "Toplanacak Sayıyı Giriniz: 16\n",
      "Toplanacak Sayıyı Giriniz: ç\n",
      "\n",
      "Girilen Sayıların Toplamı : 32\n",
      "\n",
      "Program Sonlandırıldı\n"
     ]
    }
   ],
   "source": [
    "print(\"Çıkış için 'ç' girin\\n\")\n",
    "\n",
    "toplam = 0\n",
    "sayı = str()\n",
    "\n",
    "while sayı != 'ç' :\n",
    "    \n",
    "    sayı = input('Toplanacak Sayıyı Giriniz: ')\n",
    "    \n",
    "    if sayı == 'ç' :\n",
    "        print('\\nGirilen Sayıların Toplamı :',toplam)\n",
    "    else :\n",
    "        toplam = toplam + int(sayı)\n",
    "\n",
    "print('\\nProgram Sonlandırıldı')"
   ]
  }
 ],
 "metadata": {
  "kernelspec": {
   "display_name": "Python 3",
   "language": "python",
   "name": "python3"
  },
  "language_info": {
   "codemirror_mode": {
    "name": "ipython",
    "version": 3
   },
   "file_extension": ".py",
   "mimetype": "text/x-python",
   "name": "python",
   "nbconvert_exporter": "python",
   "pygments_lexer": "ipython3",
   "version": "3.5.4"
  }
 },
 "nbformat": 4,
 "nbformat_minor": 2
}
