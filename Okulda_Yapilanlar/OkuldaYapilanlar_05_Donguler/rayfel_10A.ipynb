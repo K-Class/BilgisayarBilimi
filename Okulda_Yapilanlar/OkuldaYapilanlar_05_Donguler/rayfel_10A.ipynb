{
 "cells": [
  {
   "cell_type": "code",
   "execution_count": null,
   "metadata": {},
   "outputs": [],
   "source": [
    "sayaç = 0\n",
    "\n",
    "while sayaç < 10 :\n",
    "    sayaç += 1\n",
    "    print('{}.Adım'.format(sayaç))\n",
    "\n",
    "print('Program Sonlandırıldı')"
   ]
  },
  {
   "cell_type": "code",
   "execution_count": null,
   "metadata": {},
   "outputs": [],
   "source": [
    "# time(zaman) modülünü kodumuza ekliyoruz bu konu ileride görülecek\n",
    "import time\n",
    "sayaç = 0\n",
    "\n",
    "while sayaç < 10 :\n",
    "    time.sleep(1)\n",
    "    #sayaç += 1\n",
    "    print('{}.Adım'.format(sayaç))\n",
    "\n",
    "print('Program Sonlandırıldı')"
   ]
  },
  {
   "cell_type": "code",
   "execution_count": null,
   "metadata": {},
   "outputs": [],
   "source": [
    "# time(zaman) modülünü kodumuza ekliyoruz bu konu ileride görülecek\n",
    "import time\n",
    "\n",
    "while True :\n",
    "    # her 1 saniyede bir döngü olması sağlanıyor\n",
    "    time.sleep(1)\n",
    "    print('Döngü')"
   ]
  },
  {
   "cell_type": "code",
   "execution_count": null,
   "metadata": {},
   "outputs": [],
   "source": [
    "# sürekli devam eden program, girelen sayıların toplamı"
   ]
  },
  {
   "cell_type": "code",
   "execution_count": null,
   "metadata": {},
   "outputs": [],
   "source": [
    "durum = ''\n",
    "\n",
    "while durum != 'ç' :\n",
    "    \n",
    "    durum = input('Çıkmak İstiyorsanız \"ç\" girin:')\n",
    "\n",
    "print('\\nProgram Sonlandırıldı')  "
   ]
  },
  {
   "cell_type": "code",
   "execution_count": null,
   "metadata": {},
   "outputs": [],
   "source": [
    "durum = ''\n",
    "toplam = 0\n",
    "\n",
    "while durum != 'ç' :\n",
    "    \n",
    "    kullanıcı_değer = int(input('Tam Sayı Değer Girin: '))\n",
    "    toplam = kullanıcı_değer + toplam\n",
    "    \n",
    "    durum = input('Çıkmak İstiyorsanız \"ç\" girin:')\n",
    "\n",
    "print('Toplam Değer:',toplam)\n",
    "print('\\nProgram Sonlandırıldı')  "
   ]
  },
  {
   "cell_type": "code",
   "execution_count": null,
   "metadata": {},
   "outputs": [],
   "source": [
    "print('Çıkmak İçin \"ç\" Girin')\n",
    "sayı = input('Toplanacak Tam Sayı Girin:')\n",
    "toplam = 0\n",
    "sayaç = 0\n",
    "\n",
    "while sayı != 'ç' :\n",
    "    sayaç += 1\n",
    "    toplam += int(sayı) # toplam = int(sayı) + toplam ile aynı\n",
    "    sayı = input('Toplanacak Tam Sayı Girin:')\n",
    "\n",
    "print('{} Adet Girilen Sayının Toplamı = {}'.format(sayaç,toplam))\n",
    "# print('Girilen ' + str(sayaç) + ' Adet Sayının Toplamı = ' + str(toplam))"
   ]
  },
  {
   "cell_type": "code",
   "execution_count": null,
   "metadata": {},
   "outputs": [],
   "source": [
    "\"{:.2f} {:.3f} {:.4f}\".format(3.14159,2.7182818,1.145793)"
   ]
  },
  {
   "cell_type": "code",
   "execution_count": null,
   "metadata": {},
   "outputs": [],
   "source": [
    "# 0 1 1 2 3 5 8 13 21 34 55 89\n",
    "\n",
    "sy1 = 0\n",
    "sy2 = 1\n",
    "\n",
    "while sy1< 100 :\n",
    "    print(sy1,end=\" \")\n",
    "    takas = sy1\n",
    "    sy1 = sy2\n",
    "    sy2 = takas + sy1"
   ]
  },
  {
   "cell_type": "code",
   "execution_count": null,
   "metadata": {},
   "outputs": [],
   "source": [
    "# 0 1 1 2 3 5 8 13 21 34 55 89\n",
    "\n",
    "sy1 = 0\n",
    "sy2 = 1\n",
    "\n",
    "while sy1< 100 :\n",
    "    print(sy1,end=\" \")\n",
    "    sy1 , sy2 = sy2 , sy1 + sy2"
   ]
  },
  {
   "cell_type": "code",
   "execution_count": null,
   "metadata": {},
   "outputs": [],
   "source": [
    "i = 0\n",
    "j = 0\n",
    "\n",
    "while i < 10 :\n",
    "    i+=1\n",
    "    while j < 10 :\n",
    "        j+=1\n",
    "        print(\"{} x {} = {}\".format(i,j,i*j))\n",
    "    j = 0\n",
    "    print(\"*****************\")"
   ]
  },
  {
   "cell_type": "code",
   "execution_count": null,
   "metadata": {},
   "outputs": [],
   "source": [
    "veriler = [3,5,1.44,-7,-3.14,\"Tuna\",\"Emel\",[3,5,7],9]"
   ]
  },
  {
   "cell_type": "code",
   "execution_count": null,
   "metadata": {},
   "outputs": [],
   "source": [
    "print(veriler)"
   ]
  },
  {
   "cell_type": "code",
   "execution_count": null,
   "metadata": {},
   "outputs": [],
   "source": [
    "veriler[5]"
   ]
  },
  {
   "cell_type": "code",
   "execution_count": null,
   "metadata": {},
   "outputs": [],
   "source": [
    "len(veriler)"
   ]
  },
  {
   "cell_type": "code",
   "execution_count": null,
   "metadata": {},
   "outputs": [],
   "source": [
    "veriler = [1,2,3,4,5]"
   ]
  },
  {
   "cell_type": "code",
   "execution_count": null,
   "metadata": {},
   "outputs": [],
   "source": [
    "len(veriler)"
   ]
  },
  {
   "cell_type": "code",
   "execution_count": null,
   "metadata": {},
   "outputs": [],
   "source": [
    "veriler[2]"
   ]
  },
  {
   "cell_type": "code",
   "execution_count": null,
   "metadata": {},
   "outputs": [],
   "source": [
    "veriler = [1,3,5,7,9,11,13]\n",
    "\n",
    "i = 0 \n",
    "\n",
    "while i < len(veriler):\n",
    "    print(\"{} Eleman Değeri = {}\".format(i,veriler[i]))\n",
    "    i += 1\n",
    "\n",
    "print(\"\\nProgram Sonlandı\")"
   ]
  },
  {
   "cell_type": "code",
   "execution_count": null,
   "metadata": {},
   "outputs": [],
   "source": [
    "veriler = [1,3,5,7,9,11,13]\n",
    "\n",
    "for i in veriler:\n",
    "    print(\"Liste Verisi = {}\".format(i))\n",
    "\n",
    "print(\"\\nProgram Sonlandı\")"
   ]
  },
  {
   "cell_type": "code",
   "execution_count": null,
   "metadata": {},
   "outputs": [],
   "source": [
    "3 in veriler"
   ]
  },
  {
   "cell_type": "code",
   "execution_count": null,
   "metadata": {},
   "outputs": [],
   "source": [
    "4 in veriler"
   ]
  },
  {
   "cell_type": "code",
   "execution_count": null,
   "metadata": {},
   "outputs": [],
   "source": [
    "veriler = [1,3,5,7,9,11,13]\n",
    "\n",
    "a = 0\n",
    "\n",
    "for i in veriler:\n",
    "    print(\"{} Eleman Değeri = {}\".format(a,i))\n",
    "    a+=1\n",
    "\n",
    "print(\"\\nProgram Sonlandı\")"
   ]
  },
  {
   "cell_type": "code",
   "execution_count": null,
   "metadata": {},
   "outputs": [],
   "source": []
  },
  {
   "cell_type": "code",
   "execution_count": null,
   "metadata": {},
   "outputs": [],
   "source": [
    "veriler = [1,3,5,7,9,11,13,15,17,19]\n",
    "\n",
    "for i in veriler:\n",
    "    print(\"{} Sayısının Karesi : {}\".format(i,i**2))\n",
    "\n",
    "print(\"\\nProgram Sonlandı\")"
   ]
  },
  {
   "cell_type": "code",
   "execution_count": null,
   "metadata": {},
   "outputs": [],
   "source": [
    "for i in range(1,20,2):\n",
    "    print(\"{} Sayısının Karesi : {}\".format(i,i**2))\n",
    "\n",
    "print(\"\\nProgram Sonlandı\")"
   ]
  },
  {
   "cell_type": "code",
   "execution_count": null,
   "metadata": {},
   "outputs": [],
   "source": [
    "list(range(1,20,2))"
   ]
  },
  {
   "cell_type": "code",
   "execution_count": null,
   "metadata": {},
   "outputs": [],
   "source": [
    "list(range(10))"
   ]
  },
  {
   "cell_type": "code",
   "execution_count": null,
   "metadata": {},
   "outputs": [],
   "source": [
    "list(range(3,10))"
   ]
  },
  {
   "cell_type": "code",
   "execution_count": null,
   "metadata": {},
   "outputs": [],
   "source": [
    "list(range(3,32,3))"
   ]
  },
  {
   "cell_type": "code",
   "execution_count": null,
   "metadata": {},
   "outputs": [],
   "source": [
    "list(range(20,0,-1))"
   ]
  },
  {
   "cell_type": "code",
   "execution_count": null,
   "metadata": {},
   "outputs": [],
   "source": [
    "deger = input(\"Değer Girişi Yapın: \")\n"
   ]
  },
  {
   "cell_type": "code",
   "execution_count": null,
   "metadata": {},
   "outputs": [],
   "source": [
    "veriler = [1,3,5,7,9,11,13,15,17,19]"
   ]
  },
  {
   "cell_type": "code",
   "execution_count": null,
   "metadata": {},
   "outputs": [],
   "source": [
    "veriler[5]"
   ]
  },
  {
   "cell_type": "code",
   "execution_count": null,
   "metadata": {},
   "outputs": [],
   "source": [
    "veriler[2:7]"
   ]
  },
  {
   "cell_type": "code",
   "execution_count": null,
   "metadata": {},
   "outputs": [],
   "source": [
    "veriler[2:7:2]"
   ]
  },
  {
   "cell_type": "code",
   "execution_count": null,
   "metadata": {},
   "outputs": [],
   "source": [
    "veriler[:7]"
   ]
  },
  {
   "cell_type": "code",
   "execution_count": null,
   "metadata": {},
   "outputs": [],
   "source": [
    "veriler[::2]"
   ]
  },
  {
   "cell_type": "code",
   "execution_count": null,
   "metadata": {},
   "outputs": [],
   "source": [
    "veriler[::-1]"
   ]
  },
  {
   "cell_type": "code",
   "execution_count": null,
   "metadata": {},
   "outputs": [],
   "source": [
    "isim = \"Ahmet Tuna POTUR\"\n"
   ]
  },
  {
   "cell_type": "code",
   "execution_count": null,
   "metadata": {},
   "outputs": [],
   "source": [
    "isim[::-1]"
   ]
  },
  {
   "cell_type": "code",
   "execution_count": null,
   "metadata": {},
   "outputs": [],
   "source": [
    "deger = input(\"Değer Girişi Yapın:\")\n",
    "\n",
    "ters = deger[::-1]\n",
    "\n",
    "if deger == ters:\n",
    "    print(\"Palindorimik\")\n",
    "else:\n",
    "    print(\"Değil\")"
   ]
  },
  {
   "cell_type": "code",
   "execution_count": null,
   "metadata": {},
   "outputs": [],
   "source": []
  },
  {
   "cell_type": "code",
   "execution_count": null,
   "metadata": {},
   "outputs": [],
   "source": []
  }
 ],
 "metadata": {
  "kernelspec": {
   "display_name": "Python 3",
   "language": "python",
   "name": "python3"
  },
  "language_info": {
   "codemirror_mode": {
    "name": "ipython",
    "version": 3
   },
   "file_extension": ".py",
   "mimetype": "text/x-python",
   "name": "python",
   "nbconvert_exporter": "python",
   "pygments_lexer": "ipython3",
   "version": "3.5.4"
  }
 },
 "nbformat": 4,
 "nbformat_minor": 2
}
