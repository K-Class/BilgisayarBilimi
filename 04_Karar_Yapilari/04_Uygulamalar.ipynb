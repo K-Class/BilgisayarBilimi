{
 "cells": [
  {
   "cell_type": "markdown",
   "metadata": {},
   "source": [
    "# Uygulamalar"
   ]
  },
  {
   "cell_type": "markdown",
   "metadata": {},
   "source": [
    "## 1 Dönem Sonu Notuna Göre Belge Tespiti"
   ]
  },
  {
   "cell_type": "markdown",
   "metadata": {},
   "source": [
    "**Dönem sonu not ortalamasına göre durumunuzu hesaplayan kodu yazın.**\n",
    "* Dönem sonu notu kullanıcıdan alınsın.\n",
    "* Kodunuz mümkün olduğunca okunaklı olsun.\n",
    "* Girilen not değeri 1 - 100(1 ve 100 dahil) olmalı.\n",
    "* Hatalı not girişi yapılırsı kullanıya uyarı verilsin.\n",
    "* Kullanıcının girdiği değer virgülden sonra iki haneli olacak şekilde yuvartılsın."
   ]
  },
  {
   "cell_type": "code",
   "execution_count": 19,
   "metadata": {},
   "outputs": [
    {
     "name": "stdout",
     "output_type": "stream",
     "text": [
      "Dönem Sonu Not Ortalamanızı Giriniz: 92.56987\n",
      "92.57 ile TAKDİR Alarak Geçtiniz\n",
      "\n",
      "Program Sonlandı\n"
     ]
    }
   ],
   "source": [
    "notOrt = float(input(\"Dönem Sonu Not Ortalamanızı Giriniz: \"))\n",
    "\n",
    "# 1-100 haricindeki sayıların kontrolü\n",
    "if notOrt < 1 or notOrt > 100 :\n",
    "    print('Hatalı Değer Girişi Yaptınız')\n",
    "else :\n",
    "    # not ortalaması virgülden sonra 2 haneli olarak yuvarlanıyor\n",
    "    notOrt = round(notOrt,2)\n",
    "    \n",
    "    # Kalınıp kalınmadığı ve hangi belge ile geçildiğinin kontrolü\n",
    "    if notOrt < 45 :\n",
    "        print(\"{} ile KALDINIZ\".format(notOrt))\n",
    "    elif notOrt < 70 : # notOrt >= 45 and notOrt < 70 ile yapılabilir\n",
    "        print(\"{} ile GEÇTİNİZ\".format(notOrt))\n",
    "    elif notOrt < 85 : # notOrt >= 70 and notOrt < 85 ile yapılabilir\n",
    "        print(\"{} ile TEŞEKKÜR Alarak Geçtiniz\".format(notOrt))\n",
    "    else :\n",
    "        print(\"{} ile TAKDİR Alarak Geçtiniz\".format(notOrt))\n",
    "\n",
    "print('\\nProgram Sonlandı')"
   ]
  },
  {
   "cell_type": "markdown",
   "metadata": {},
   "source": [
    "## 2 Alfebetik Not Sistemi"
   ]
  },
  {
   "cell_type": "markdown",
   "metadata": {},
   "source": [
    "Girdiğiniz notu alfebetik not sistemine göre ve 4 üzerinden sayısal not sistemine göre hesaplatan kodu yazın.\n",
    "* Not aralıklarını alttaki tabloya göre yapın"
   ]
  },
  {
   "cell_type": "code",
   "execution_count": 3,
   "metadata": {},
   "outputs": [
    {
     "data": {
      "image/png": "[encoded data removed]",
      "text/plain": [
       "<IPython.core.display.Image object>"
      ]
     },
     "execution_count": 3,
     "metadata": {},
     "output_type": "execute_result"
    }
   ],
   "source": [
    "from IPython.display import Image\n",
    "Image(filename = 'kaynak/harf_not_ort.png')"
   ]
  },
  {
   "cell_type": "code",
   "execution_count": 23,
   "metadata": {},
   "outputs": [
    {
     "name": "stdout",
     "output_type": "stream",
     "text": [
      "Ders Notunuzu Giriniz: 76.2398\n",
      "Ders Notunuz : 76.24 =  CB  -  2.5\n"
     ]
    }
   ],
   "source": [
    "dersNotu = float(input(\"Ders Notunuzu Giriniz: \"))\n",
    "\n",
    "# harf ve 4 üzeri notlar için değişkenler boş olarak oluşturuluyor\n",
    "notHarf = str()\n",
    "notSayi = float()\n",
    "\n",
    "# 1-100 haricindeki sayıların kontrolü\n",
    "if dersNotu < 1 or dersNotu > 100 :\n",
    "    print('Hatalı Değer Girişi Yaptınız')\n",
    "else :\n",
    "    if dersNotu >= 90:\n",
    "        notHarf,notSayi = \"AA\",4.0\n",
    "    elif dersNotu >= 85:\n",
    "        notHarf,notSayi = \"BA\",3.5\n",
    "    elif dersNotu >= 80:\n",
    "        notHarf,notSayi = \"BB\",3.0\n",
    "    elif dersNotu >= 75:\n",
    "        notHarf,notSayi = \"CB\",2.5\n",
    "    elif dersNotu >= 70:\n",
    "        notHarf,notSayi = \"CC\",2.0\n",
    "    elif dersNotu >= 65:\n",
    "        notHarf,notSayi = \"DC\",1.5\n",
    "    elif dersNotu >= 60:\n",
    "        notHarf,notSayi = \"DD\",1.0\n",
    "    elif dersNotu >= 50:\n",
    "        notHarf,notSayi = \"FD\",0.5\n",
    "    else:\n",
    "        notHarf,notSayi = \"FF\",0.0\n",
    "\n",
    "print(\"Ders Notunuz : {:.2f} = \".format(dersNotu),notHarf,\" - \",notSayi)"
   ]
  },
  {
   "cell_type": "markdown",
   "metadata": {},
   "source": [
    "## 3 Alfabetik Not Sisteminde Yapılan Mantık Hatası"
   ]
  },
  {
   "cell_type": "markdown",
   "metadata": {},
   "source": [
    "Alttaki kod hatalı bir kod örneğidir. Bu hatanın neden kaynaklandığını düşünün ve üstteki kodun ne gibi bir avantaşı olduğunu düşünün."
   ]
  },
  {
   "cell_type": "markdown",
   "metadata": {},
   "source": [
    "**Alttaki kod üzerinde ders notu 93 gibi bir değer olduğunda tüm şartlar sağlanacağı için if satırı bulunan her satırda işlem yapılır.**\n",
    "\n",
    "**Üstteki kodda sadece koşulu sağlayan kod çalışır.**\n",
    "**Üstteki kodda koşul sağlandığında diğer koşul cümleleri işletilmeyecektir. Bu da gereksiz işlem yapılmadığından kodun daha performanslı çalışmasını sağlar.**"
   ]
  },
  {
   "cell_type": "markdown",
   "metadata": {},
   "source": [
    "#### Not : \n",
    "Koşul kodlarında koşulu sağlayan kod çalıştırıldıktan sonra kod koşulun dışına çıkar. Bu şekilde yapılması gereksiz kontrollerin önüne geçmek için yapılır. Böylelikle kod daha performanslı çalışır. "
   ]
  },
  {
   "cell_type": "code",
   "execution_count": 47,
   "metadata": {},
   "outputs": [
    {
     "name": "stdout",
     "output_type": "stream",
     "text": [
      "AA  -  4.0\n",
      "BA  -  3.5\n",
      "BB  -  3.0\n",
      "CB  -  2.5\n",
      "CC  -  2.0\n",
      "DC  -  1.5\n",
      "DD  -  1.0\n",
      "FD  -  0.5\n"
     ]
    }
   ],
   "source": [
    "#dersNotu = float(input(\"Ders Notunuzu Giriniz: \"))\n",
    "dersNotu = 93\n",
    "# harf ve 4 üzeri notlar için değişkenler boş olarak oluşturuluyor\n",
    "notHarf = str()\n",
    "notSayi = float()\n",
    "\n",
    "# 1-100 haricindeki sayıların kontrolü\n",
    "if dersNotu < 1 or dersNotu > 100 :\n",
    "    print('Hatalı Değer Girişi Yaptınız')\n",
    "else :\n",
    "    if dersNotu >= 90:\n",
    "        notHarf,notSayi = \"AA\",4.0\n",
    "        print(notHarf,\" - \",notSayi)\n",
    "    if dersNotu >= 85:\n",
    "        notHarf,notSayi = \"BA\",3.5\n",
    "        print(notHarf,\" - \",notSayi)\n",
    "    if dersNotu >= 80:\n",
    "        notHarf,notSayi = \"BB\",3.0\n",
    "        print(notHarf,\" - \",notSayi)\n",
    "    if dersNotu >= 75:\n",
    "        notHarf,notSayi = \"CB\",2.5\n",
    "        print(notHarf,\" - \",notSayi)\n",
    "    if dersNotu >= 70:\n",
    "        notHarf,notSayi = \"CC\",2.0\n",
    "        print(notHarf,\" - \",notSayi)\n",
    "    if dersNotu >= 65:\n",
    "        notHarf,notSayi = \"DC\",1.5\n",
    "        print(notHarf,\" - \",notSayi)\n",
    "    if dersNotu >= 60:\n",
    "        notHarf,notSayi = \"DD\",1.0\n",
    "        print(notHarf,\" - \",notSayi)\n",
    "    if dersNotu >= 50:\n",
    "        notHarf,notSayi = \"FD\",0.5\n",
    "        print(notHarf,\" - \",notSayi)\n",
    "    if dersNotu <= 49:\n",
    "        notHarf,notSayi = \"FF\",0.0\n",
    "        print(notHarf,\" - \",notSayi)"
   ]
  },
  {
   "cell_type": "markdown",
   "metadata": {},
   "source": [
    "## 4 Kullanıcı Adı ve Şifresi"
   ]
  },
  {
   "cell_type": "markdown",
   "metadata": {},
   "source": [
    "Web sitelerine giriş için kullanıcı adı ve şifresi kullunalır. Sizde değişkenlere atadığınız kullanıcı adı ve şifresi için kullanıcıdan kullanıcı adı ve şifresi bilgilerini alıp doğru giriş yapıldıysa kullanıcıyı bilgilendiren uygulamayı yapın."
   ]
  },
  {
   "cell_type": "code",
   "execution_count": 38,
   "metadata": {},
   "outputs": [
    {
     "name": "stdout",
     "output_type": "stream",
     "text": [
      "__Kullanıcı Adınızı ve Şifrenizi Giriniz__\n",
      "\n",
      "Kullanıcı Adınızı Giriniz : admin\n",
      "Şirenizini Giriniz :admin1234\n",
      "\n",
      "Kullanıcı Adınız ve Şifreniz Doğru Giriş Yapılıyor\n"
     ]
    }
   ],
   "source": [
    "sys_kullaniciAdi = \"admin\"\n",
    "sys_sifre = \"admin1234\"\n",
    "\n",
    "print(\"__Kullanıcı Adınızı ve Şifrenizi Giriniz__\\n\")\n",
    "\n",
    "kAdi = input(\"Kullanıcı Adınızı Giriniz : \")\n",
    "\n",
    "if kAdi == sys_kullaniciAdi :\n",
    "    kSifre = input(\"Şirenizini Giriniz :\")\n",
    "    if kSifre == sys_sifre :\n",
    "        print(\"\\nKullanıcı Adınız ve Şifreniz Doğru Giriş Yapılıyor\")\n",
    "    else :\n",
    "        print(\"\\nHatalı Şifre!\")\n",
    "else :\n",
    "    print(\"\\nHatalı Kullanıcı Adı!\")"
   ]
  },
  {
   "cell_type": "markdown",
   "metadata": {},
   "source": [
    "## 5 Kişilerin Yaşları"
   ]
  },
  {
   "cell_type": "markdown",
   "metadata": {},
   "source": [
    "Kişilerin yaşlarını hesaplamak için bir program yazın. Eğer hesap yılı doğum yılından küçük girilirse hatalı giriş yapıldığına dair kullanıcı uyarılsın. Yaş değişkenini hesaplamak için koşullu atama kullanın.\n",
    "\n",
    "**Örnek:** Doğul Yılı : 1981 olan biri için kullanıcı yanlışlıkla 1881 girerse hata mesajı çıksın."
   ]
  },
  {
   "cell_type": "code",
   "execution_count": 15,
   "metadata": {},
   "outputs": [
    {
     "name": "stdout",
     "output_type": "stream",
     "text": [
      "Belli Bir Yıla Göre Kişinin Yaşını Hesaplama\n",
      "\n",
      "Doğum Yılını Girin: 1981\n",
      "Hesaplama Yılını Girin: 1881\n",
      "\n",
      "Hesap Yılı Doğum Yılından Küçük Olamaz\n"
     ]
    }
   ],
   "source": [
    "print(\"Belli Bir Yıla Göre Kişinin Yaşını Hesaplama\\n\")\n",
    "\n",
    "doğumYılı = int(input(\"Doğum Yılını Girin: \"))\n",
    "hesapYılı = int(input(\"Hesaplama Yılını Girin: \"))\n",
    "\n",
    "# Koşullu atama ile hesap Yılı doğum yılından büyükse yaş hesaplanıyor\n",
    "yaş = hesapYılı - doğumYılı if hesapYılı >= doğumYılı else -1\n",
    "\n",
    "if yaş >= 0 :\n",
    "    print(\"\\n{} yaşında\".format(yaş))\n",
    "else :\n",
    "    print('\\nHesap Yılı Doğum Yılından Küçük Olamaz')"
   ]
  },
  {
   "cell_type": "markdown",
   "metadata": {},
   "source": [
    "## 6 Vücut Kitle Endeksi(BMI) Hesaplama"
   ]
  },
  {
   "cell_type": "markdown",
   "metadata": {},
   "source": [
    "Altta yazan formül ile vücut kitle endeksi hesabını yapın ve kişinin kilo durumunu alttaki tabloya göre hesaplayın."
   ]
  },
  {
   "cell_type": "markdown",
   "metadata": {},
   "source": [
    "Vücut Kitle Endeksi(BMI) = kilo / boy(m)^2 \n",
    "\n",
    "örnek değerler boy: 1.72, Kilo: 69, BMI: 23,3 \n",
    "* 0    - 18,4 : Zayıf\n",
    "* 18,5 - 24,9 : Normal\n",
    "* 25,0 - 29,9 : Fazla Kilolu\n",
    "* 30,0 - 34,9 : Şişman (Obez) - I. Sınıf\n",
    "* 35,0 - 44,9 : Şişman (Obez) - II. Sınıf\n",
    "* 45,0 ve üstü: Aşırı Şişman (Aşırı Obez) - III. Sınıf"
   ]
  },
  {
   "cell_type": "code",
   "execution_count": 5,
   "metadata": {},
   "outputs": [
    {
     "name": "stdout",
     "output_type": "stream",
     "text": [
      "Vücut Kitle Endeksi(BMI) Hesaplama\n",
      "\n",
      "Boyunuzu Metre Cinsinden Giriniz(1.85 gibi):1.85\n",
      "Kilonuzu Tam Sayı Olarak Giriniz(85 gibi):85\n",
      "\n",
      "Vücut Kitle Endeksiniz (BMI): 24.84\n",
      "Vücut Kitle Durumunuz: Normal\n"
     ]
    }
   ],
   "source": [
    "# Vücut Kitle Endeksi(BMI) Hesaplama\n",
    "print(\"Vücut Kitle Endeksi(BMI) Hesaplama\")\n",
    "boy = float(input(\"\\nBoyunuzu Metre Cinsinden Giriniz(1.85 gibi):\"))\n",
    "kilo = int(input(\"Kilonuzu Tam Sayı Olarak Giriniz(85 gibi):\"))\n",
    "\n",
    "# Vücut Kitle Endeksi hesabı\n",
    "vucutKitleEndeksi = round(kilo/(boy**2),2)\n",
    "\n",
    "#durum değişkeni koşul ifadelerine girmeden önce oluşturuluyor.\n",
    "durum = str()\n",
    "\n",
    "if vucutKitleEndeksi >= 0.0 and vucutKitleEndeksi <= 18.4 :\n",
    "    durum = 'Zayıf'\n",
    "elif vucutKitleEndeksi >= 18.5 and vucutKitleEndeksi <= 24.9 :\n",
    "    durum = 'Normal'\n",
    "elif vucutKitleEndeksi >= 25.0 and vucutKitleEndeksi <= 29.9 :\n",
    "    durum = 'Fazla Kilolu'\n",
    "elif vucutKitleEndeksi >= 30.0 and vucutKitleEndeksi <= 34.9 :\n",
    "    durum = 'Şişman (Obez) - I. Sınıf'\n",
    "elif vucutKitleEndeksi >= 35.0 and vucutKitleEndeksi <= 44.9 :\n",
    "    durum = 'Şişman (Obez) - II. Sınıf'\n",
    "else :\n",
    "    durum = 'Aşırı Şişman (Aşırı Obez) - III. Sınıf'\n",
    "\n",
    "print(\"\\nVücut Kitle Endeksiniz (BMI):\",vucutKitleEndeksi)\n",
    "print(\"Vücut Kitle Durumunuz:\",durum)"
   ]
  },
  {
   "cell_type": "markdown",
   "metadata": {},
   "source": [
    "# Udemy Ornekleri\n",
    "\n",
    "\n",
    "## Problem 2\n",
    "Kullanıcıdan 3 tane sayı alın ve en büyük sayıyı ekrana yazdırın.\n",
    "\n",
    "## Problem 3\n",
    "Kullanıcının girdiği vize1,vize2,final notlarına notlarına göre harf notunu hesaplayın.\n",
    "\n",
    "    Vize1 toplam notun %30'una etki edecek.\n",
    "\n",
    "    Vize2 toplam notun %30'una etki edecek.\n",
    "\n",
    "    Final toplam notun %40'ına etki edecek.\n",
    "\n",
    "\n",
    "    Toplam Not >=  90 -----> AA\n",
    "\n",
    "    Toplam Not >=  85 -----> BA\n",
    "\n",
    "    Toplam Not >=  80 -----> BB\n",
    "\n",
    "    Toplam Not >=  75 -----> CB\n",
    "\n",
    "    Toplam Not >=  70 -----> CC\n",
    "\n",
    "    Toplam Not >=  65 -----> DC\n",
    "\n",
    "    Toplam Not >=  60 -----> DD\n",
    "\n",
    "    Toplam Not >=  55 -----> FD\n",
    "\n",
    "    Toplam Not <  55 -----> FF\n",
    "\n",
    "## Problem 4\n",
    "Şimdi de geometrik şekil hesaplama işlemi yapalım. İlk olarak kullanıcıdan üçgenin mi dörtgenin mi tipini bulmak istediğini sorun.\n",
    "\n",
    "Eğer kullanıcı \"Dörtgen\" cevabını verirse , 4 tane kenar isteyip bu dörtgenin kare mi , dikdörtgen mi yoksa sıradan bir dörtgen mi olduğunu bulmaya çalışın.\n",
    "\n",
    "Eğer kullanıcı \"Üçgen\" cevabını verirse , 3 tane kenar isteyip bu üçgenin ikizkenar mı , eşkenar mı yoksa sıradan bir üçgen mi olduğunu bulmaya çalışın. Eğer verilen kenarlar bir üçgen belirtmiyorsa, ekrana \"Üçgen belirtmiyor\" şeklinde bir yazı yazın.o\n",
    "\n",
    "Üçgen belirtme şartını bilmiyorsunuz internetten bakabilirsiniz.\n",
    "\n",
    "Ayrıca , bu problemde mutlak değer bulmaya ihtiyacınız olacak. Bunun için, Pythonda hazır bir fonksiyon olan abs() fonksiyonunu kullanabilirsiniz. Kullanımı şu şekildedir ;\n",
    "\n",
    "In [1]:\n",
    "abs(-4)\n",
    "Out[1]:\n",
    "4\n",
    "In [2]:\n",
    "abs(5)\n",
    "Out[2]:\n",
    "5\n",
    "Not: Bu problem sizin algoritma kurma becerinizi bir hayli geliştirecektir.\n",
    "\n"
   ]
  },
  {
   "cell_type": "code",
   "execution_count": null,
   "metadata": {
    "collapsed": true
   },
   "outputs": [],
   "source": []
  }
 ],
 "metadata": {
  "kernelspec": {
   "display_name": "Python 3",
   "language": "python",
   "name": "python3"
  },
  "language_info": {
   "codemirror_mode": {
    "name": "ipython",
    "version": 3
   },
   "file_extension": ".py",
   "mimetype": "text/x-python",
   "name": "python",
   "nbconvert_exporter": "python",
   "pygments_lexer": "ipython3",
   "version": "3.5.4"
  }
 },
 "nbformat": 4,
 "nbformat_minor": 2
}
