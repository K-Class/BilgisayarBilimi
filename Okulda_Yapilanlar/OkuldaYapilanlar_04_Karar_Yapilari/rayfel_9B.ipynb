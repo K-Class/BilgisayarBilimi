{
 "cells": [
  {
   "cell_type": "code",
   "execution_count": null,
   "metadata": {},
   "outputs": [],
   "source": [
    "# Liseli Bulan Program. Liseliler 14,15,16,17,18 yaşlarındadır.\n",
    "\n",
    "yaş = 16\n",
    "\n",
    "yaş >= 14 and yaş <= 18\n",
    "\n"
   ]
  },
  {
   "cell_type": "code",
   "execution_count": null,
   "metadata": {},
   "outputs": [],
   "source": [
    "yaş = 21\n",
    "\n",
    "if yaş >= 14 and yaş <= 18 :\n",
    "    print(\"Liseli\")\n",
    "else :\n",
    "    print(\"Liseli Değil\")\n",
    "  \n"
   ]
  },
  {
   "cell_type": "code",
   "execution_count": null,
   "metadata": {},
   "outputs": [],
   "source": [
    "yaş = 15\n",
    "\n",
    "if yaş < 14:\n",
    "    print(\"Bebe\")\n",
    "elif yaş >= 14 and yaş <= 18 :\n",
    "    print(\"Liseli\")\n",
    "else :\n",
    "    print(\"Mezun\")"
   ]
  },
  {
   "cell_type": "code",
   "execution_count": null,
   "metadata": {},
   "outputs": [],
   "source": [
    "from IPython.display import Image\n",
    "\n",
    "yaş = 16\n",
    "\n",
    "if yaş < 14 :\n",
    "    print(\"Bebe\")\n",
    "    display(Image(filename = 'bebe.jpg'))\n",
    "elif yaş >= 14 and yaş <= 18 :\n",
    "    print(\"Liseli\")\n",
    "    display(Image(filename = 'liseli.jpg'))\n",
    "else:\n",
    "    print(\"Mezun\")\n",
    "    display(Image(filename = 'mezun.jpg'))"
   ]
  },
  {
   "cell_type": "code",
   "execution_count": 5,
   "metadata": {},
   "outputs": [
    {
     "name": "stdout",
     "output_type": "stream",
     "text": [
      "Dönem Sonu Not Ortalamanızı Giriniz: 85\n",
      "\n",
      "Girilen Değer Doğru\n",
      "Takdir Aldınız\n",
      "\n",
      "\n",
      "Program Sonlandı\n"
     ]
    }
   ],
   "source": [
    "notOrt = float(input(\"Dönem Sonu Not Ortalamanızı Giriniz: \"))\n",
    "\n",
    "if notOrt > 0 and notOrt <= 100 :\n",
    "    print(\"\\nGirilen Değer Doğru\")\n",
    "    \n",
    "    if notOrt < 50 :\n",
    "        print(\"Kaldınız\")\n",
    "    elif notOrt < 70 :\n",
    "        print(\"Geçtiniz\")\n",
    "    elif notOrt < 85 :\n",
    "        print(\"Teşekkür Aldınız\")\n",
    "    else:\n",
    "        print(\"Takdir Aldınız\")\n",
    "            \n",
    "else:\n",
    "    print(\"\\nHatalı Değer Girdiniz Lütfen 1 - 100 aralığında değer giriniz.\")\n",
    "\n",
    "print(\"\\n\\nProgram Sonlandı\")"
   ]
  },
  {
   "cell_type": "code",
   "execution_count": null,
   "metadata": {},
   "outputs": [],
   "source": []
  }
 ],
 "metadata": {
  "kernelspec": {
   "display_name": "Python 3",
   "language": "python",
   "name": "python3"
  },
  "language_info": {
   "codemirror_mode": {
    "name": "ipython",
    "version": 3
   },
   "file_extension": ".py",
   "mimetype": "text/x-python",
   "name": "python",
   "nbconvert_exporter": "python",
   "pygments_lexer": "ipython3",
   "version": "3.5.4"
  }
 },
 "nbformat": 4,
 "nbformat_minor": 2
}
