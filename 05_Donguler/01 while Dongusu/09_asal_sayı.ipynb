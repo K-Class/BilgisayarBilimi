{
 "cells": [
  {
   "cell_type": "code",
   "execution_count": 3,
   "metadata": {},
   "outputs": [
    {
     "name": "stdout",
     "output_type": "stream",
     "text": [
      "Asal\n"
     ]
    }
   ],
   "source": [
    "# 2, 3, 5, 7, 11, 13, 17, 19, 23, 29, 31, 37, 41, 43, 47 asal sayı örnekleri\n",
    "sayı = 41\n",
    "\n",
    "i = 2\n",
    "\n",
    "# sayı_tipi değeri eğer sayı 1 ise False, 1 Değilse \"True olur\n",
    "sayı_tipi = False if sayı == 1 else True\n",
    "\n",
    "\"\"\" sayı_tipi değişkenine 1 dışındaki tüm değerler için True değeri atanır.\n",
    "sayı 2 veya 1 ise döngüye girilmez, sayı 2'den büyük değerler için döngüye girilir.\n",
    "Döngü içinde 2'den sayı değişkeni içindeki değere kadar ki tüm sayılar tek tek bölünür.\n",
    "Döngü içindeki bölüm işlemlerinden bir tanesi tam bölünüyorsa sayı_tipi False olur,\n",
    "tam bölüm yoksa sayı_tipi True olur.\"\"\"\n",
    "while i < sayı :\n",
    "    if sayı % i == 0 :\n",
    "        sayı_tipi = False\n",
    "    i += 1\n",
    "    \n",
    "# sayı_tipi True ise \"Asal\" yazdır\n",
    "if sayı_tipi :\n",
    "    print(\"Asal\")\n",
    "else :\n",
    "    print(\"Asal Değil\")"
   ]
  },
  {
   "cell_type": "code",
   "execution_count": 6,
   "metadata": {},
   "outputs": [
    {
     "name": "stdout",
     "output_type": "stream",
     "text": [
      "2 3 5 7 11 13 17 19 23 29 31 37 41 43 47 "
     ]
    }
   ],
   "source": [
    "sayı = 50\n",
    "i = 0\n",
    "\n",
    "while i < sayı :\n",
    "    i+=1\n",
    "    \n",
    "    j = 2\n",
    "    sayı_tipi = False if i == 1 else True\n",
    "\n",
    "    while j < i :\n",
    "        if i % j == 0 :\n",
    "            sayı_tipi = False\n",
    "        j += 1\n",
    "    \n",
    "    if sayı_tipi :\n",
    "        print(i,end=\" \")"
   ]
  },
  {
   "cell_type": "code",
   "execution_count": null,
   "metadata": {},
   "outputs": [],
   "source": []
  }
 ],
 "metadata": {
  "kernelspec": {
   "display_name": "Python 3",
   "language": "python",
   "name": "python3"
  },
  "language_info": {
   "codemirror_mode": {
    "name": "ipython",
    "version": 3
   },
   "file_extension": ".py",
   "mimetype": "text/x-python",
   "name": "python",
   "nbconvert_exporter": "python",
   "pygments_lexer": "ipython3",
   "version": "3.5.4"
  }
 },
 "nbformat": 4,
 "nbformat_minor": 2
}
